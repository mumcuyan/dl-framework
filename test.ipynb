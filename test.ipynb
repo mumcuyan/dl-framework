{
 "cells": [
  {
   "cell_type": "code",
   "execution_count": 17,
   "metadata": {},
   "outputs": [],
   "source": [
    "%matplotlib inline\n",
    "import matplotlib.pyplot as plt\n",
    "from modules.linear import Linear\n",
    "from modules.activations import ReLU, Sigmoid, Tanh\n",
    "from modules.losses import LossMSE, LossSoftmaxCrossEntropy\n",
    "from modules.optimizers import SGD\n",
    "from modules.sequential import Sequential\n",
    "from generate_data import generate_data\n",
    "from utils import transform_classification_labels, one_hot_label\n",
    "\n",
    "def default_net_1(input, target, num_of_neurons=(2, 25, 25, 25, 2), lr=0.1, momentum_coef=0.0, num_of_epochs=100):\n",
    "    lin1 = Linear(num_of_neurons[0], num_of_neurons[1])\n",
    "    relu1 = ReLU()\n",
    "    lin2 = Linear(num_of_neurons[1], num_of_neurons[2])\n",
    "    relu2 = ReLU()\n",
    "    lin3 = Linear(num_of_neurons[2], num_of_neurons[3])\n",
    "    relu3 = ReLU()\n",
    "    lin4 = Linear(num_of_neurons[3], num_of_neurons[4])\n",
    "    mse = LossMSE(target)\n",
    "\n",
    "    seq = Sequential()\n",
    "    seq.add_module(lin1, name=\"Lin1\")\n",
    "    seq.add_module(relu1, name=\"ReLU1\")\n",
    "    seq.add_module(lin2, name=\"Lin2\")\n",
    "    seq.add_module(relu2, name=\"ReLU2\")\n",
    "    seq.add_module(lin3, name=\"Lin3\")\n",
    "    seq.add_module(relu3, name=\"ReLU3\")\n",
    "    seq.add_module(lin4, name=\"Lin4\")\n",
    "    seq.add_module(mse, name=\"MSE\")\n",
    "\n",
    "    sgd = SGD(lr, momentum_coef)\n",
    "    print(type(input), \" -- \", type(seq))\n",
    "\n",
    "    sgd.train(input, seq, num_of_epochs)\n",
    "\n",
    "    return seq, mse.loss_logging\n",
    "\n",
    "\n",
    "def default_net_2(input, target, num_of_neurons=(2, 25, 2), lr=0.1, momentum_coef=0.0, num_of_epochs=100):\n",
    "    lin1 = Linear(num_of_neurons[0], num_of_neurons[1])\n",
    "    relu1 = ReLU()\n",
    "    lin2 = Linear(num_of_neurons[1], num_of_neurons[2])\n",
    "    mse = LossMSE(target)\n",
    "\n",
    "    seq = Sequential()\n",
    "    seq.add_module(lin1, name=\"Lin1\")\n",
    "    seq.add_module(relu1, name=\"ReLU1\")\n",
    "    seq.add_module(lin2, name=\"Lin2\")\n",
    "    seq.add_module(mse, name=\"MSE\")\n",
    "\n",
    "    sgd = SGD(lr, momentum_coef)\n",
    "\n",
    "    sgd.train(input, seq, num_of_epochs)\n",
    "\n",
    "    return seq, mse.loss_logging\n"
   ]
  },
  {
   "cell_type": "code",
   "execution_count": 20,
   "metadata": {},
   "outputs": [
    {
     "name": "stdout",
     "output_type": "stream",
     "text": [
      "<class 'torch.FloatTensor'>  --  <class 'modules.sequential.Sequential'>\n"
     ]
    }
   ],
   "source": [
    "points, labels = generate_data(is_torch=True, num_of_points=1000)\n",
    "\n",
    "seq1, loss1 = default_net_1(points, transform_classification_labels(one_hot_label(labels)), num_of_neurons=(2,25,25,25,2), lr=0.1, momentum_coef=0.0, num_of_epochs=1000)"
   ]
  },
  {
   "cell_type": "code",
   "execution_count": 22,
   "metadata": {},
   "outputs": [
    {
     "data": {
      "image/png": "[encoded data removed]",
      "text/plain": [
       "<matplotlib.figure.Figure at 0x11cdd0198>"
      ]
     },
     "metadata": {},
     "output_type": "display_data"
    }
   ],
   "source": [
    "plt.plot(loss1.numpy(), label=\"Default\");"
   ]
  },
  {
   "cell_type": "code",
   "execution_count": null,
   "metadata": {
    "collapsed": true
   },
   "outputs": [],
   "source": []
  }
 ],
 "metadata": {
  "kernelspec": {
   "display_name": "Python 3",
   "language": "python",
   "name": "python3"
  },
  "language_info": {
   "codemirror_mode": {
    "name": "ipython",
    "version": 3
   },
   "file_extension": ".py",
   "mimetype": "text/x-python",
   "name": "python",
   "nbconvert_exporter": "python",
   "pygments_lexer": "ipython3",
   "version": "3.6.1"
  }
 },
 "nbformat": 4,
 "nbformat_minor": 1
}
