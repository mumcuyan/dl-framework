{
 "cells": [
  {
   "cell_type": "code",
   "execution_count": 59,
   "metadata": {},
   "outputs": [],
   "source": [
    "import torch\n",
    "from torchvision import datasets"
   ]
  },
  {
   "cell_type": "code",
   "execution_count": 60,
   "metadata": {},
   "outputs": [],
   "source": [
    "import matplotlib.pyplot as plt\n",
    "import torch\n",
    "import numpy as np\n",
    "from utils import label2one_hot\n",
    "from generate_data import generate_data, generate_grid_data\n",
    "from modules import Dropout\n",
    "from modules import Linear, Sequential\n",
    "import modules\n",
    "from modules.losses import LossMSE, LossCrossEntropy\n",
    "from optimizers import SGD\n"
   ]
  },
  {
   "cell_type": "code",
   "execution_count": 61,
   "metadata": {},
   "outputs": [],
   "source": [
    "def convert_to_one_hot_labels(input, target, val=0):\n",
    "    tmp = input.new(target.size(0), target.max() + 1).fill_(-1)\n",
    "    tmp.scatter_(1, target.view(-1, 1), 1.0)\n",
    "    if val == 0:      \n",
    "        ret = (tmp+1)/2\n",
    "    if val == -1:\n",
    "        ret = tmp\n",
    "    return ret\n",
    "\n",
    "def load_data(one_hot_labels = False, normalize = False, flatten = True, data_dir = None, cifar = False, full = True, tiny = False, val = 0):\n",
    "\n",
    "    if data_dir is None:\n",
    "        \"\"\"\n",
    "        data_dir = os.environ.get('PYTORCH_DATA_DIR')\n",
    "        if data_dir is None:\n",
    "            data_dir = './data'\n",
    "        \"\"\"\n",
    "        data_dir = './data'\n",
    "        \n",
    "    if cifar is not None and cifar:\n",
    "        print('* Using CIFAR')\n",
    "        cifar_train_set = datasets.CIFAR10(data_dir + '/cifar10/', train = True, download = True)\n",
    "        cifar_test_set = datasets.CIFAR10(data_dir + '/cifar10/', train = False, download = True)\n",
    "\n",
    "        train_input = torch.from_numpy(cifar_train_set.train_data)\n",
    "        # Dirty hack to handle the change between torchvision 1.0.6 and 1.0.8\n",
    "        if train_input.size(3) == 3:\n",
    "            train_input = train_input.transpose(3, 1).transpose(2, 3).float()\n",
    "        else:\n",
    "            train_input = train_input.float()\n",
    "        train_target = torch.LongTensor(cifar_train_set.train_labels)\n",
    "\n",
    "        test_input = torch.from_numpy(cifar_test_set.test_data).float()\n",
    "        # Dirty hack to handle the change between torchvision 1.0.6 and 1.0.8\n",
    "        if test_input.size(3) == 3:\n",
    "            test_input = test_input.transpose(3, 1).transpose(2, 3).float()\n",
    "        else:\n",
    "            test_input = test_input.float()\n",
    "        test_target = torch.LongTensor(cifar_test_set.test_labels)\n",
    "\n",
    "    else:\n",
    "        print('* Using MNIST')\n",
    "        mnist_train_set = datasets.MNIST(data_dir + '/mnist/', train = True, download = True)\n",
    "        mnist_test_set = datasets.MNIST(data_dir + '/mnist/', train = False, download = True)\n",
    "\n",
    "        train_input = mnist_train_set.train_data.view(-1, 1, 28, 28).float()\n",
    "        train_target = mnist_train_set.train_labels\n",
    "        test_input = mnist_test_set.test_data.view(-1, 1, 28, 28).float()\n",
    "        test_target = mnist_test_set.test_labels\n",
    "\n",
    "    if flatten:\n",
    "        train_input = train_input.clone().view(train_input.size(0), -1)\n",
    "        test_input = test_input.clone().view(test_input.size(0), -1)\n",
    "\n",
    "    if full:\n",
    "        if tiny:\n",
    "            raise ValueError('Cannot have both --full and --tiny')\n",
    "    else:\n",
    "        if tiny:\n",
    "            print('** Reduce the data-set to the tiny setup')\n",
    "            train_input = train_input.narrow(0, 0, 500)\n",
    "            train_target = train_target.narrow(0, 0, 500)\n",
    "            test_input = test_input.narrow(0, 0, 100)\n",
    "            test_target = test_target.narrow(0, 0, 100)\n",
    "        else:\n",
    "            print('** Reduce the data-set (use --full for the full thing)')\n",
    "            train_input = train_input.narrow(0, 0, 1000)\n",
    "            train_target = train_target.narrow(0, 0, 1000)\n",
    "            test_input = test_input.narrow(0, 0, 1000)\n",
    "            test_target = test_target.narrow(0, 0, 1000)\n",
    "\n",
    "    print('** Use {:d} train and {:d} test samples'.format(train_input.size(0), test_input.size(0)))\n",
    "\n",
    "    if one_hot_labels:\n",
    "        train_target = convert_to_one_hot_labels(train_input, train_target, val=val)\n",
    "        test_target = convert_to_one_hot_labels(test_input, test_target, val=val)\n",
    "\n",
    "    if normalize:\n",
    "        mu, std = train_input.mean(), train_input.std()\n",
    "        train_input.sub_(mu).div_(std)\n",
    "        test_input.sub_(mu).div_(std)\n",
    "\n",
    "    return train_input, train_target, test_input, test_target\n"
   ]
  },
  {
   "cell_type": "code",
   "execution_count": 62,
   "metadata": {},
   "outputs": [
    {
     "name": "stdout",
     "output_type": "stream",
     "text": [
      "* Using MNIST\n",
      "** Use 60000 train and 10000 test samples\n",
      "* Using MNIST\n",
      "** Use 60000 train and 10000 test samples\n"
     ]
    }
   ],
   "source": [
    "train_input, train_target, test_input, test_target = load_data(one_hot_labels = True, normalize = True, flatten = True, data_dir = None, cifar = False, full = True, tiny = False, val=0)\n",
    "train_input_mse, train_target_mse, test_input_mse, test_target_mse = load_data(one_hot_labels = True, normalize = True, flatten = True, data_dir = None, cifar = False, full = True, tiny = False, val=-1)"
   ]
  },
  {
   "cell_type": "code",
   "execution_count": 63,
   "metadata": {},
   "outputs": [
    {
     "data": {
      "text/plain": [
       "torch.Size([60000, 784])"
      ]
     },
     "execution_count": 63,
     "metadata": {},
     "output_type": "execute_result"
    }
   ],
   "source": [
    "train_input.size()"
   ]
  },
  {
   "cell_type": "code",
   "execution_count": 64,
   "metadata": {},
   "outputs": [
    {
     "data": {
      "image/png": "[encoded data removed]",
      "text/plain": [
       "<matplotlib.figure.Figure at 0x1dba77305f8>"
      ]
     },
     "metadata": {},
     "output_type": "display_data"
    },
    {
     "data": {
      "image/png": "[encoded data removed]",
      "text/plain": [
       "<matplotlib.figure.Figure at 0x1dbaab535f8>"
      ]
     },
     "metadata": {},
     "output_type": "display_data"
    }
   ],
   "source": [
    "fig = plt.figure()\n",
    "plt.imshow(train_input[9000,:].view(28,28))\n",
    "plt.show()"
   ]
  },
  {
   "cell_type": "code",
   "execution_count": 65,
   "metadata": {},
   "outputs": [
    {
     "data": {
      "text/plain": [
       "tensor([[ 0.,  0.,  0.,  ...,  0.,  0.,  0.],\n",
       "        [ 1.,  0.,  0.,  ...,  0.,  0.,  0.],\n",
       "        [ 0.,  0.,  0.,  ...,  0.,  0.,  0.],\n",
       "        ...,\n",
       "        [ 0.,  0.,  0.,  ...,  0.,  0.,  0.],\n",
       "        [ 0.,  0.,  0.,  ...,  0.,  0.,  0.],\n",
       "        [ 0.,  0.,  0.,  ...,  0.,  1.,  0.]])"
      ]
     },
     "execution_count": 65,
     "metadata": {},
     "output_type": "execute_result"
    }
   ],
   "source": [
    "train_target"
   ]
  },
  {
   "cell_type": "code",
   "execution_count": 66,
   "metadata": {},
   "outputs": [
    {
     "data": {
      "text/plain": [
       "tensor([[-1., -1., -1.,  ..., -1., -1., -1.],\n",
       "        [ 1., -1., -1.,  ..., -1., -1., -1.],\n",
       "        [-1., -1., -1.,  ..., -1., -1., -1.],\n",
       "        ...,\n",
       "        [-1., -1., -1.,  ..., -1., -1., -1.],\n",
       "        [-1., -1., -1.,  ..., -1., -1., -1.],\n",
       "        [-1., -1., -1.,  ..., -1.,  1., -1.]])"
      ]
     },
     "execution_count": 66,
     "metadata": {},
     "output_type": "execute_result"
    }
   ],
   "source": [
    "train_target_mse"
   ]
  },
  {
   "cell_type": "code",
   "execution_count": 40,
   "metadata": {},
   "outputs": [],
   "source": [
    "def default_net_1(x_all, y_all, num_of_neurons=(2, 25, 2), activation='relu', lr=0.1, momentum_coef=0.0, weight_decay=0.0, p_dropout=0.0, num_of_epochs=100, val_split=0.2, verbose=0):\n",
    "    ce = LossCrossEntropy()\n",
    "\n",
    "    model = Sequential()\n",
    "    model.add(Linear(out=num_of_neurons[1], input_size=num_of_neurons[0], activation=activation))\n",
    "    model.add(Dropout(prob=p_dropout))\n",
    "\n",
    "    model.add(Linear(out=num_of_neurons[2], activation='softmax'))\n",
    "\n",
    "    model.loss = ce\n",
    "    sgd = SGD(lr, momentum_coef, weight_decay=weight_decay)\n",
    "\n",
    "    report = sgd.train(model, x_all, y_all, num_of_epochs, val_split=val_split, verbose=verbose)\n",
    "\n",
    "    return model, report\n",
    "\n",
    "def default_net_2(x_all, y_all, num_of_neurons=(2, 25, 25, 2), activation='relu', lr=0.1, momentum_coef=0.0, weight_decay=0.0, p_dropout=0.0, num_of_epochs=100, val_split=0.2, verbose=0):\n",
    "    ce = LossCrossEntropy()\n",
    "\n",
    "    model = Sequential()\n",
    "    model.add(Linear(out=num_of_neurons[1], input_size=num_of_neurons[0], activation=activation))\n",
    "    model.add(Dropout(prob=p_dropout))\n",
    "    model.add(Linear(out=num_of_neurons[2], activation=activation))\n",
    "    model.add(Dropout(prob=p_dropout))\n",
    "\n",
    "    model.add(Linear(out=num_of_neurons[3], activation='softmax'))\n",
    "\n",
    "    model.loss = ce\n",
    "    sgd = SGD(lr, momentum_coef, weight_decay=weight_decay)\n",
    "\n",
    "    report = sgd.train(model, x_all, y_all, num_of_epochs, val_split=val_split, verbose=verbose)\n",
    "\n",
    "    return model, report\n",
    "\n",
    "\n",
    "def default_net_3(x_all, y_all, num_of_neurons=(2, 25, 25, 25, 2), activation='relu', lr=0.1, momentum_coef=0.0, weight_decay=0.0, p_dropout=0.0, num_of_epochs=100, val_split=0.2, verbose=0):\n",
    "    ce = LossCrossEntropy()\n",
    "\n",
    "    model = Sequential()\n",
    "    model.add(Linear(out=num_of_neurons[1], input_size=num_of_neurons[0], activation=activation))\n",
    "    model.add(Dropout(prob=p_dropout))\n",
    "    model.add(Linear(out=num_of_neurons[2], activation=activation))\n",
    "    model.add(Dropout(prob=p_dropout))\n",
    "    model.add(Linear(out=num_of_neurons[3], activation=activation))\n",
    "    model.add(Dropout(prob=p_dropout))\n",
    "    \n",
    "    model.add(Linear(out=num_of_neurons[4], activation='softmax'))\n",
    "\n",
    "    model.loss = ce\n",
    "    sgd = SGD(lr, momentum_coef, weight_decay=weight_decay)\n",
    "\n",
    "    report = sgd.train(model, x_all, y_all, num_of_epochs, val_split=val_split, verbose=verbose)\n",
    "\n",
    "    return model, report\n",
    "\n",
    "def default_net_4(x_all, y_all, num_of_neurons=(2, 25, 25, 25, 2), activation='relu', lr=0.001, momentum_coef=0.0, weight_decay=0.0, p_dropout=0.0, num_of_epochs=100, val_split=0.2, verbose=0):\n",
    "    mse = LossMSE()\n",
    "    \n",
    "    model = modules.Sequential()\n",
    "    model.add(Linear(out=num_of_neurons[1], input_size=num_of_neurons[0], activation='relu'))\n",
    "    model.add(Dropout(prob=p_dropout))\n",
    "    model.add(Linear(out=num_of_neurons[2], activation='relu'))\n",
    "    model.add(Dropout(prob=p_dropout))\n",
    "    model.add(Linear(out=num_of_neurons[3], activation='relu'))\n",
    "    model.add(Dropout(prob=p_dropout))\n",
    "    model.add(Linear(out=num_of_neurons[4], activation='relu'))\n",
    "\n",
    "    model.loss = mse\n",
    "    sgd = SGD(lr, momentum_coef, weight_decay=0.0)\n",
    "\n",
    "    report = sgd.train(model, x_all, y_all, num_of_epochs, val_split=val_split, verbose=0)\n",
    "\n",
    "    return model, report"
   ]
  },
  {
   "cell_type": "code",
   "execution_count": 41,
   "metadata": {},
   "outputs": [],
   "source": [
    "def prepare_standardplot(title, xlabel):\n",
    "    fig, (ax1, ax2) = plt.subplots(1, 2, figsize=(10,6))\n",
    "    fig.suptitle(title)\n",
    "    ax1.set_ylabel('categorical cross entropy')\n",
    "    ax1.set_xlabel(xlabel)\n",
    "    ax1.set_yscale('log')\n",
    "    ax2.set_ylabel('accuracy [% correct]')\n",
    "    ax2.set_xlabel(xlabel)\n",
    "    return fig, ax1, ax2\n",
    "\n",
    "def finalize_standardplot(fig, ax1, ax2):\n",
    "    ax1handles, ax1labels = ax1.get_legend_handles_labels()\n",
    "    if len(ax1labels) > 0:\n",
    "        ax1.legend(ax1handles, ax1labels)\n",
    "    ax2handles, ax2labels = ax2.get_legend_handles_labels()\n",
    "    if len(ax2labels) > 0:\n",
    "        ax2.legend(ax2handles, ax2labels)\n",
    "    fig.tight_layout()\n",
    "    plt.subplots_adjust(top=0.9)\n",
    "\n",
    "def plot(costs, accs, title):\n",
    "    fig, ax1, ax2 = prepare_standardplot(title, 'epoch')\n",
    "    ax1.plot(costs, label = \"test\")\n",
    "    ax1.plot(history.history['val_loss'], label = \"validation\")\n",
    "    ax2.plot(accs, label = \"test\")\n",
    "    ax2.plot(history.history['val_acc'], label = \"validation\")\n",
    "    finalize_standardplot(fig, ax1, ax2)\n",
    "    return fig\n",
    "\n",
    "def plot_v2(train_report, title=\"\"):\n",
    "    fig, ax1, ax2 = prepare_standardplot(title, 'epoch')\n",
    "    ax1.plot(train_report[\"train_loss\"], label = \"train\")\n",
    "    ax1.plot(train_report[\"val_loss\"], label = \"validation\")\n",
    "    ax2.plot(train_report[\"train_acc\"], label = \"train\")\n",
    "    ax2.plot(train_report[\"val_acc\"], label = \"validation\")\n",
    "    finalize_standardplot(fig, ax1, ax2)\n",
    "    return fig"
   ]
  },
  {
   "cell_type": "code",
   "execution_count": 53,
   "metadata": {},
   "outputs": [
    {
     "name": "stdout",
     "output_type": "stream",
     "text": [
      "torch.Size([60000, 784])  --  torch.Size([60000, 10])\n"
     ]
    }
   ],
   "source": [
    "print(train_input.shape, \" -- \", train_target.shape)"
   ]
  },
  {
   "cell_type": "code",
   "execution_count": 42,
   "metadata": {
    "scrolled": true
   },
   "outputs": [
    {
     "name": "stdout",
     "output_type": "stream",
     "text": [
      "torch.Size([60000, 784])  --  torch.Size([60000, 10])\n",
      "Added Module Name: 0_Linear \n",
      "Added Module Name: 1_ReLU \n",
      "Added Module Name: 2_Dropout \n",
      "Added Module Name: 3_Linear \n",
      "Added Module Name: 4_Softmax \n",
      "x_train.shape: torch.Size([30000, 784]) -- y_train.shape: torch.Size([30000, 10])\n",
      "x_val.shape: torch.Size([30000, 784]) -- y_val.shape: torch.Size([30000, 10])\n"
     ]
    },
    {
     "name": "stderr",
     "output_type": "stream",
     "text": [
      "\r",
      "  0%|                                                                                          | 0/100 [00:00<?, ?it/s]"
     ]
    },
    {
     "name": "stdout",
     "output_type": "stream",
     "text": [
      "row_sum: (30000,) -- row_sum_sum: 30000\n",
      "torch.Size([30000, 10])  --  torch.Size([30000, 10])\n",
      "torch.Size([30000, 10])  --  torch.Size([30000, 10])\n",
      "torch.Size([30000, 10])  --  torch.Size([30000, 10])\n",
      "key: train_loss -- value: 1.8459798097610474\n",
      "key: train_acc -- value: 0.5518333315849304\n",
      "key: val_loss -- value: 1.847193956375122\n",
      "key: val_acc -- value: 0.5493999719619751\n"
     ]
    },
    {
     "name": "stderr",
     "output_type": "stream",
     "text": [
      "\r",
      "  1%|▊                                                                                 | 1/100 [00:01<03:10,  1.93s/it]"
     ]
    },
    {
     "name": "stdout",
     "output_type": "stream",
     "text": [
      "row_sum: (30000,) -- row_sum_sum: 30000\n",
      "torch.Size([30000, 10])  --  torch.Size([30000, 10])\n",
      "torch.Size([30000, 10])  --  torch.Size([30000, 10])\n",
      "torch.Size([30000, 10])  --  torch.Size([30000, 10])\n",
      "key: train_loss -- value: 1.3053184747695923\n",
      "key: train_acc -- value: 0.6920333504676819\n",
      "key: val_loss -- value: 1.3082276582717896\n",
      "key: val_acc -- value: 0.6959333419799805\n"
     ]
    },
    {
     "name": "stderr",
     "output_type": "stream",
     "text": [
      "\r",
      "  2%|█▋                                                                                | 2/100 [00:03<03:10,  1.95s/it]"
     ]
    },
    {
     "name": "stdout",
     "output_type": "stream",
     "text": [
      "row_sum: (30000,) -- row_sum_sum: 30000\n",
      "torch.Size([30000, 10])  --  torch.Size([30000, 10])\n",
      "torch.Size([30000, 10])  --  torch.Size([30000, 10])\n",
      "torch.Size([30000, 10])  --  torch.Size([30000, 10])\n",
      "key: train_loss -- value: 0.8658832311630249\n",
      "key: train_acc -- value: 0.7905333042144775\n",
      "key: val_loss -- value: 0.8667533993721008\n",
      "key: val_acc -- value: 0.7936999797821045\n"
     ]
    },
    {
     "name": "stderr",
     "output_type": "stream",
     "text": [
      "\r",
      "  3%|██▍                                                                               | 3/100 [00:05<03:11,  1.97s/it]"
     ]
    },
    {
     "name": "stdout",
     "output_type": "stream",
     "text": [
      "row_sum: (30000,) -- row_sum_sum: 30000\n",
      "torch.Size([30000, 10])  --  torch.Size([30000, 10])\n",
      "torch.Size([30000, 10])  --  torch.Size([30000, 10])\n",
      "torch.Size([30000, 10])  --  torch.Size([30000, 10])\n",
      "key: train_loss -- value: 0.660820722579956\n",
      "key: train_acc -- value: 0.819100022315979\n",
      "key: val_loss -- value: 0.6587761044502258\n",
      "key: val_acc -- value: 0.8215333223342896\n"
     ]
    },
    {
     "name": "stderr",
     "output_type": "stream",
     "text": [
      "\r",
      "  4%|███▎                                                                              | 4/100 [00:07<03:09,  1.97s/it]"
     ]
    },
    {
     "name": "stdout",
     "output_type": "stream",
     "text": [
      "row_sum: (30000,) -- row_sum_sum: 30000\n",
      "torch.Size([30000, 10])  --  torch.Size([30000, 10])\n",
      "torch.Size([30000, 10])  --  torch.Size([30000, 10])\n",
      "torch.Size([30000, 10])  --  torch.Size([30000, 10])\n",
      "key: train_loss -- value: 0.5417323708534241\n",
      "key: train_acc -- value: 0.8388333320617676\n",
      "key: val_loss -- value: 0.537997305393219\n",
      "key: val_acc -- value: 0.8404666781425476\n"
     ]
    },
    {
     "name": "stderr",
     "output_type": "stream",
     "text": [
      "\r",
      "  5%|████                                                                              | 5/100 [00:09<03:06,  1.96s/it]"
     ]
    },
    {
     "name": "stdout",
     "output_type": "stream",
     "text": [
      "row_sum: (30000,) -- row_sum_sum: 30000\n",
      "torch.Size([30000, 10])  --  torch.Size([30000, 10])\n",
      "torch.Size([30000, 10])  --  torch.Size([30000, 10])\n",
      "torch.Size([30000, 10])  --  torch.Size([30000, 10])\n",
      "key: train_loss -- value: 0.49889862537384033\n",
      "key: train_acc -- value: 0.8403333425521851\n",
      "key: val_loss -- value: 0.49355489015579224\n",
      "key: val_acc -- value: 0.8451333045959473\n"
     ]
    },
    {
     "name": "stderr",
     "output_type": "stream",
     "text": [
      "\r",
      "  6%|████▉                                                                             | 6/100 [00:11<03:03,  1.95s/it]"
     ]
    },
    {
     "name": "stdout",
     "output_type": "stream",
     "text": [
      "row_sum: (30000,) -- row_sum_sum: 30000\n",
      "torch.Size([30000, 10])  --  torch.Size([30000, 10])\n",
      "torch.Size([30000, 10])  --  torch.Size([30000, 10])\n",
      "torch.Size([30000, 10])  --  torch.Size([30000, 10])\n",
      "key: train_loss -- value: 0.46182939410209656\n",
      "key: train_acc -- value: 0.8597333431243896\n",
      "key: val_loss -- value: 0.45501288771629333\n",
      "key: val_acc -- value: 0.8628666400909424\n"
     ]
    },
    {
     "name": "stderr",
     "output_type": "stream",
     "text": [
      "\r",
      "  7%|█████▋                                                                            | 7/100 [00:13<03:00,  1.94s/it]"
     ]
    },
    {
     "name": "stdout",
     "output_type": "stream",
     "text": [
      "row_sum: (30000,) -- row_sum_sum: 30000\n",
      "torch.Size([30000, 10])  --  torch.Size([30000, 10])\n",
      "torch.Size([30000, 10])  --  torch.Size([30000, 10])\n",
      "torch.Size([30000, 10])  --  torch.Size([30000, 10])\n",
      "key: train_loss -- value: 0.4578413963317871\n",
      "key: train_acc -- value: 0.8691666722297668\n",
      "key: val_loss -- value: 0.45193400979042053\n",
      "key: val_acc -- value: 0.8712999820709229\n"
     ]
    },
    {
     "name": "stderr",
     "output_type": "stream",
     "text": [
      "\r",
      "  8%|██████▌                                                                           | 8/100 [00:15<02:57,  1.93s/it]"
     ]
    },
    {
     "name": "stdout",
     "output_type": "stream",
     "text": [
      "row_sum: (30000,) -- row_sum_sum: 30000\n",
      "torch.Size([30000, 10])  --  torch.Size([30000, 10])\n",
      "torch.Size([30000, 10])  --  torch.Size([30000, 10])\n",
      "torch.Size([30000, 10])  --  torch.Size([30000, 10])\n",
      "key: train_loss -- value: 0.4434974491596222\n",
      "key: train_acc -- value: 0.8756666779518127\n",
      "key: val_loss -- value: 0.43848881125450134\n",
      "key: val_acc -- value: 0.8783666491508484\n"
     ]
    },
    {
     "name": "stderr",
     "output_type": "stream",
     "text": [
      "\r",
      "  9%|███████▍                                                                          | 9/100 [00:17<02:54,  1.92s/it]"
     ]
    },
    {
     "name": "stdout",
     "output_type": "stream",
     "text": [
      "row_sum: (30000,) -- row_sum_sum: 30000\n",
      "torch.Size([30000, 10])  --  torch.Size([30000, 10])\n",
      "torch.Size([30000, 10])  --  torch.Size([30000, 10])\n",
      "torch.Size([30000, 10])  --  torch.Size([30000, 10])\n",
      "key: train_loss -- value: 0.43488115072250366\n",
      "key: train_acc -- value: 0.8798666596412659\n",
      "key: val_loss -- value: 0.4316897392272949\n",
      "key: val_acc -- value: 0.8813333511352539\n"
     ]
    },
    {
     "name": "stderr",
     "output_type": "stream",
     "text": [
      "\r",
      " 10%|████████                                                                         | 10/100 [00:19<02:52,  1.92s/it]"
     ]
    },
    {
     "name": "stdout",
     "output_type": "stream",
     "text": [
      "row_sum: (30000,) -- row_sum_sum: 30000\n",
      "torch.Size([30000, 10])  --  torch.Size([30000, 10])\n",
      "torch.Size([30000, 10])  --  torch.Size([30000, 10])\n",
      "torch.Size([30000, 10])  --  torch.Size([30000, 10])\n",
      "key: train_loss -- value: 0.4308067560195923\n",
      "key: train_acc -- value: 0.8841000199317932\n",
      "key: val_loss -- value: 0.43081846833229065\n",
      "key: val_acc -- value: 0.8846666812896729\n"
     ]
    },
    {
     "name": "stderr",
     "output_type": "stream",
     "text": [
      "\r",
      " 11%|████████▉                                                                        | 11/100 [00:21<02:50,  1.92s/it]"
     ]
    },
    {
     "name": "stdout",
     "output_type": "stream",
     "text": [
      "row_sum: (30000,) -- row_sum_sum: 30000\n",
      "torch.Size([30000, 10])  --  torch.Size([30000, 10])\n",
      "torch.Size([30000, 10])  --  torch.Size([30000, 10])\n",
      "torch.Size([30000, 10])  --  torch.Size([30000, 10])\n",
      "key: train_loss -- value: 0.42383870482444763\n",
      "key: train_acc -- value: 0.8893333077430725\n",
      "key: val_loss -- value: 0.4277980923652649\n",
      "key: val_acc -- value: 0.8887333273887634\n"
     ]
    },
    {
     "name": "stderr",
     "output_type": "stream",
     "text": [
      "\r",
      " 12%|█████████▋                                                                       | 12/100 [00:23<02:49,  1.92s/it]"
     ]
    },
    {
     "name": "stdout",
     "output_type": "stream",
     "text": [
      "row_sum: (30000,) -- row_sum_sum: 30000\n",
      "torch.Size([30000, 10])  --  torch.Size([30000, 10])\n",
      "torch.Size([30000, 10])  --  torch.Size([30000, 10])\n",
      "torch.Size([30000, 10])  --  torch.Size([30000, 10])\n",
      "key: train_loss -- value: 0.418027400970459\n",
      "key: train_acc -- value: 0.8914999961853027\n",
      "key: val_loss -- value: 0.42450061440467834\n",
      "key: val_acc -- value: 0.8899000287055969\n"
     ]
    },
    {
     "name": "stderr",
     "output_type": "stream",
     "text": [
      "\r",
      " 13%|██████████▌                                                                      | 13/100 [00:24<02:46,  1.92s/it]"
     ]
    },
    {
     "name": "stdout",
     "output_type": "stream",
     "text": [
      "row_sum: (30000,) -- row_sum_sum: 30000\n",
      "torch.Size([30000, 10])  --  torch.Size([30000, 10])\n",
      "torch.Size([30000, 10])  --  torch.Size([30000, 10])\n",
      "torch.Size([30000, 10])  --  torch.Size([30000, 10])\n",
      "key: train_loss -- value: 0.3985465168952942\n",
      "key: train_acc -- value: 0.8974000215530396\n",
      "key: val_loss -- value: 0.4056898355484009\n",
      "key: val_acc -- value: 0.8945000171661377\n"
     ]
    },
    {
     "name": "stderr",
     "output_type": "stream",
     "text": [
      "\r",
      " 14%|███████████▎                                                                     | 14/100 [00:26<02:45,  1.92s/it]"
     ]
    },
    {
     "name": "stdout",
     "output_type": "stream",
     "text": [
      "row_sum: (30000,) -- row_sum_sum: 30000\n",
      "torch.Size([30000, 10])  --  torch.Size([30000, 10])\n",
      "torch.Size([30000, 10])  --  torch.Size([30000, 10])\n",
      "torch.Size([30000, 10])  --  torch.Size([30000, 10])\n",
      "key: train_loss -- value: 0.3919314444065094\n",
      "key: train_acc -- value: 0.8985999822616577\n",
      "key: val_loss -- value: 0.40038493275642395\n",
      "key: val_acc -- value: 0.8957666754722595\n"
     ]
    },
    {
     "name": "stderr",
     "output_type": "stream",
     "text": [
      "\r",
      " 15%|████████████▏                                                                    | 15/100 [00:28<02:42,  1.92s/it]"
     ]
    },
    {
     "name": "stdout",
     "output_type": "stream",
     "text": [
      "row_sum: (30000,) -- row_sum_sum: 30000\n",
      "torch.Size([30000, 10])  --  torch.Size([30000, 10])\n",
      "torch.Size([30000, 10])  --  torch.Size([30000, 10])\n",
      "torch.Size([30000, 10])  --  torch.Size([30000, 10])\n",
      "key: train_loss -- value: 0.37408584356307983\n",
      "key: train_acc -- value: 0.9032333493232727\n",
      "key: val_loss -- value: 0.38529857993125916\n",
      "key: val_acc -- value: 0.9002333283424377\n"
     ]
    },
    {
     "name": "stderr",
     "output_type": "stream",
     "text": [
      "\r",
      " 16%|████████████▉                                                                    | 16/100 [00:30<02:41,  1.93s/it]"
     ]
    },
    {
     "name": "stdout",
     "output_type": "stream",
     "text": [
      "row_sum: (30000,) -- row_sum_sum: 30000\n",
      "torch.Size([30000, 10])  --  torch.Size([30000, 10])\n",
      "torch.Size([30000, 10])  --  torch.Size([30000, 10])\n",
      "torch.Size([30000, 10])  --  torch.Size([30000, 10])\n",
      "key: train_loss -- value: 0.36201366782188416\n",
      "key: train_acc -- value: 0.9053999781608582\n",
      "key: val_loss -- value: 0.37674909830093384\n",
      "key: val_acc -- value: 0.9014666676521301\n"
     ]
    },
    {
     "name": "stderr",
     "output_type": "stream",
     "text": [
      "\r",
      " 17%|█████████████▊                                                                   | 17/100 [00:32<02:39,  1.92s/it]"
     ]
    },
    {
     "name": "stdout",
     "output_type": "stream",
     "text": [
      "row_sum: (30000,) -- row_sum_sum: 30000\n",
      "torch.Size([30000, 10])  --  torch.Size([30000, 10])\n",
      "torch.Size([30000, 10])  --  torch.Size([30000, 10])\n",
      "torch.Size([30000, 10])  --  torch.Size([30000, 10])\n",
      "key: train_loss -- value: 0.3445375859737396\n",
      "key: train_acc -- value: 0.9090666770935059\n",
      "key: val_loss -- value: 0.3621565103530884\n",
      "key: val_acc -- value: 0.904366672039032\n"
     ]
    },
    {
     "name": "stderr",
     "output_type": "stream",
     "text": [
      "\r",
      " 18%|██████████████▌                                                                  | 18/100 [00:34<02:37,  1.92s/it]"
     ]
    },
    {
     "name": "stdout",
     "output_type": "stream",
     "text": [
      "row_sum: (30000,) -- row_sum_sum: 30000\n",
      "torch.Size([30000, 10])  --  torch.Size([30000, 10])\n",
      "torch.Size([30000, 10])  --  torch.Size([30000, 10])\n",
      "torch.Size([30000, 10])  --  torch.Size([30000, 10])\n",
      "key: train_loss -- value: 0.3306010067462921\n",
      "key: train_acc -- value: 0.9118000268936157\n",
      "key: val_loss -- value: 0.3508502244949341\n",
      "key: val_acc -- value: 0.9072333574295044\n"
     ]
    },
    {
     "name": "stderr",
     "output_type": "stream",
     "text": [
      "\r",
      " 19%|███████████████▍                                                                 | 19/100 [00:36<02:36,  1.93s/it]"
     ]
    },
    {
     "name": "stdout",
     "output_type": "stream",
     "text": [
      "row_sum: (30000,) -- row_sum_sum: 30000\n",
      "torch.Size([30000, 10])  --  torch.Size([30000, 10])\n",
      "torch.Size([30000, 10])  --  torch.Size([30000, 10])\n",
      "torch.Size([30000, 10])  --  torch.Size([30000, 10])\n",
      "key: train_loss -- value: 0.3181406855583191\n",
      "key: train_acc -- value: 0.9126666784286499\n",
      "key: val_loss -- value: 0.341025173664093\n",
      "key: val_acc -- value: 0.9083666801452637\n"
     ]
    },
    {
     "name": "stderr",
     "output_type": "stream",
     "text": [
      "\r",
      " 20%|████████████████▏                                                                | 20/100 [00:38<02:35,  1.94s/it]"
     ]
    },
    {
     "name": "stdout",
     "output_type": "stream",
     "text": [
      "row_sum: (30000,) -- row_sum_sum: 30000\n",
      "torch.Size([30000, 10])  --  torch.Size([30000, 10])\n",
      "torch.Size([30000, 10])  --  torch.Size([30000, 10])\n",
      "torch.Size([30000, 10])  --  torch.Size([30000, 10])\n",
      "key: train_loss -- value: 0.3029564321041107\n",
      "key: train_acc -- value: 0.9154666662216187\n",
      "key: val_loss -- value: 0.32801398634910583\n",
      "key: val_acc -- value: 0.9097999930381775\n"
     ]
    },
    {
     "name": "stderr",
     "output_type": "stream",
     "text": [
      "\r",
      " 21%|█████████████████                                                                | 21/100 [00:40<02:34,  1.95s/it]"
     ]
    },
    {
     "name": "stdout",
     "output_type": "stream",
     "text": [
      "row_sum: (30000,) -- row_sum_sum: 30000\n",
      "torch.Size([30000, 10])  --  torch.Size([30000, 10])\n",
      "torch.Size([30000, 10])  --  torch.Size([30000, 10])\n",
      "torch.Size([30000, 10])  --  torch.Size([30000, 10])\n",
      "key: train_loss -- value: 0.2929084002971649\n",
      "key: train_acc -- value: 0.9179333448410034\n",
      "key: val_loss -- value: 0.3195166289806366\n",
      "key: val_acc -- value: 0.9109333157539368\n"
     ]
    },
    {
     "name": "stderr",
     "output_type": "stream",
     "text": [
      "\r",
      " 22%|█████████████████▊                                                               | 22/100 [00:43<02:32,  1.96s/it]"
     ]
    },
    {
     "name": "stdout",
     "output_type": "stream",
     "text": [
      "row_sum: (30000,) -- row_sum_sum: 30000\n",
      "torch.Size([30000, 10])  --  torch.Size([30000, 10])\n",
      "torch.Size([30000, 10])  --  torch.Size([30000, 10])\n",
      "torch.Size([30000, 10])  --  torch.Size([30000, 10])\n",
      "key: train_loss -- value: 0.2780650854110718\n",
      "key: train_acc -- value: 0.9215333461761475\n",
      "key: val_loss -- value: 0.30594995617866516\n",
      "key: val_acc -- value: 0.9137333035469055\n"
     ]
    },
    {
     "name": "stderr",
     "output_type": "stream",
     "text": [
      "\r",
      " 23%|██████████████████▋                                                              | 23/100 [00:45<02:31,  1.97s/it]"
     ]
    },
    {
     "name": "stdout",
     "output_type": "stream",
     "text": [
      "row_sum: (30000,) -- row_sum_sum: 30000\n",
      "torch.Size([30000, 10])  --  torch.Size([30000, 10])\n",
      "torch.Size([30000, 10])  --  torch.Size([30000, 10])\n",
      "torch.Size([30000, 10])  --  torch.Size([30000, 10])\n",
      "key: train_loss -- value: 0.2707369327545166\n",
      "key: train_acc -- value: 0.923633337020874\n",
      "key: val_loss -- value: 0.3001905083656311\n",
      "key: val_acc -- value: 0.9159333109855652\n"
     ]
    },
    {
     "name": "stderr",
     "output_type": "stream",
     "text": [
      "\r",
      " 24%|███████████████████▍                                                             | 24/100 [00:47<02:29,  1.97s/it]"
     ]
    },
    {
     "name": "stdout",
     "output_type": "stream",
     "text": [
      "row_sum: (30000,) -- row_sum_sum: 30000\n",
      "torch.Size([30000, 10])  --  torch.Size([30000, 10])\n",
      "torch.Size([30000, 10])  --  torch.Size([30000, 10])\n",
      "torch.Size([30000, 10])  --  torch.Size([30000, 10])\n",
      "key: train_loss -- value: 0.2589842975139618\n",
      "key: train_acc -- value: 0.9258666634559631\n",
      "key: val_loss -- value: 0.28949007391929626\n",
      "key: val_acc -- value: 0.9178333282470703\n"
     ]
    },
    {
     "name": "stderr",
     "output_type": "stream",
     "text": [
      "\r",
      " 25%|████████████████████▎                                                            | 25/100 [00:49<02:28,  1.98s/it]"
     ]
    },
    {
     "name": "stdout",
     "output_type": "stream",
     "text": [
      "row_sum: (30000,) -- row_sum_sum: 30000\n",
      "torch.Size([30000, 10])  --  torch.Size([30000, 10])\n",
      "torch.Size([30000, 10])  --  torch.Size([30000, 10])\n",
      "torch.Size([30000, 10])  --  torch.Size([30000, 10])\n",
      "key: train_loss -- value: 0.25119754672050476\n",
      "key: train_acc -- value: 0.9272333383560181\n",
      "key: val_loss -- value: 0.28243887424468994\n",
      "key: val_acc -- value: 0.9196666479110718\n"
     ]
    },
    {
     "name": "stderr",
     "output_type": "stream",
     "text": [
      "\r",
      " 26%|█████████████████████                                                            | 26/100 [00:51<02:26,  1.98s/it]"
     ]
    },
    {
     "name": "stdout",
     "output_type": "stream",
     "text": [
      "row_sum: (30000,) -- row_sum_sum: 30000\n",
      "torch.Size([30000, 10])  --  torch.Size([30000, 10])\n",
      "torch.Size([30000, 10])  --  torch.Size([30000, 10])\n",
      "torch.Size([30000, 10])  --  torch.Size([30000, 10])\n",
      "key: train_loss -- value: 0.24170233309268951\n",
      "key: train_acc -- value: 0.930233359336853\n",
      "key: val_loss -- value: 0.2736952602863312\n",
      "key: val_acc -- value: 0.9215333461761475\n"
     ]
    },
    {
     "name": "stderr",
     "output_type": "stream",
     "text": [
      "\r",
      " 27%|█████████████████████▊                                                           | 27/100 [00:53<02:25,  1.99s/it]"
     ]
    },
    {
     "name": "stdout",
     "output_type": "stream",
     "text": [
      "row_sum: (30000,) -- row_sum_sum: 30000\n",
      "torch.Size([30000, 10])  --  torch.Size([30000, 10])\n",
      "torch.Size([30000, 10])  --  torch.Size([30000, 10])\n",
      "torch.Size([30000, 10])  --  torch.Size([30000, 10])\n",
      "key: train_loss -- value: 0.23540061712265015\n",
      "key: train_acc -- value: 0.9321333169937134\n",
      "key: val_loss -- value: 0.2680753469467163\n",
      "key: val_acc -- value: 0.9225333333015442\n"
     ]
    },
    {
     "name": "stderr",
     "output_type": "stream",
     "text": [
      "\r",
      " 28%|██████████████████████▋                                                          | 28/100 [00:55<02:23,  1.99s/it]"
     ]
    },
    {
     "name": "stdout",
     "output_type": "stream",
     "text": [
      "row_sum: (30000,) -- row_sum_sum: 30000\n",
      "torch.Size([30000, 10])  --  torch.Size([30000, 10])\n",
      "torch.Size([30000, 10])  --  torch.Size([30000, 10])\n",
      "torch.Size([30000, 10])  --  torch.Size([30000, 10])\n",
      "key: train_loss -- value: 0.22761064767837524\n",
      "key: train_acc -- value: 0.9337666630744934\n",
      "key: val_loss -- value: 0.2601814568042755\n",
      "key: val_acc -- value: 0.9243666529655457\n"
     ]
    },
    {
     "name": "stderr",
     "output_type": "stream",
     "text": [
      "\r",
      " 29%|███████████████████████▍                                                         | 29/100 [00:58<02:22,  2.00s/it]"
     ]
    },
    {
     "name": "stdout",
     "output_type": "stream",
     "text": [
      "row_sum: (30000,) -- row_sum_sum: 30000\n",
      "torch.Size([30000, 10])  --  torch.Size([30000, 10])\n",
      "torch.Size([30000, 10])  --  torch.Size([30000, 10])\n",
      "torch.Size([30000, 10])  --  torch.Size([30000, 10])\n",
      "key: train_loss -- value: 0.2213517278432846\n",
      "key: train_acc -- value: 0.9360666871070862\n",
      "key: val_loss -- value: 0.2532408833503723\n",
      "key: val_acc -- value: 0.9267333149909973\n"
     ]
    },
    {
     "name": "stderr",
     "output_type": "stream",
     "text": [
      "\r",
      " 30%|████████████████████████▎                                                        | 30/100 [01:00<02:20,  2.01s/it]"
     ]
    },
    {
     "name": "stdout",
     "output_type": "stream",
     "text": [
      "row_sum: (30000,) -- row_sum_sum: 30000\n",
      "torch.Size([30000, 10])  --  torch.Size([30000, 10])\n",
      "torch.Size([30000, 10])  --  torch.Size([30000, 10])\n",
      "torch.Size([30000, 10])  --  torch.Size([30000, 10])\n",
      "key: train_loss -- value: 0.21611618995666504\n",
      "key: train_acc -- value: 0.9377999901771545\n",
      "key: val_loss -- value: 0.2473486065864563\n",
      "key: val_acc -- value: 0.9290000200271606\n"
     ]
    },
    {
     "name": "stderr",
     "output_type": "stream",
     "text": [
      "\r",
      " 31%|█████████████████████████                                                        | 31/100 [01:02<02:18,  2.01s/it]"
     ]
    },
    {
     "name": "stdout",
     "output_type": "stream",
     "text": [
      "row_sum: (30000,) -- row_sum_sum: 30000\n",
      "torch.Size([30000, 10])  --  torch.Size([30000, 10])\n",
      "torch.Size([30000, 10])  --  torch.Size([30000, 10])\n",
      "torch.Size([30000, 10])  --  torch.Size([30000, 10])\n",
      "key: train_loss -- value: 0.21013012528419495\n",
      "key: train_acc -- value: 0.9390000104904175\n",
      "key: val_loss -- value: 0.24117666482925415\n",
      "key: val_acc -- value: 0.9306333065032959\n"
     ]
    },
    {
     "name": "stderr",
     "output_type": "stream",
     "text": [
      "\r",
      " 32%|█████████████████████████▉                                                       | 32/100 [01:04<02:16,  2.01s/it]"
     ]
    },
    {
     "name": "stdout",
     "output_type": "stream",
     "text": [
      "row_sum: (30000,) -- row_sum_sum: 30000\n",
      "torch.Size([30000, 10])  --  torch.Size([30000, 10])\n",
      "torch.Size([30000, 10])  --  torch.Size([30000, 10])\n",
      "torch.Size([30000, 10])  --  torch.Size([30000, 10])\n",
      "key: train_loss -- value: 0.2058980017900467\n",
      "key: train_acc -- value: 0.9402333498001099\n",
      "key: val_loss -- value: 0.2373291403055191\n",
      "key: val_acc -- value: 0.9318000078201294\n"
     ]
    },
    {
     "name": "stderr",
     "output_type": "stream",
     "text": [
      "\r",
      " 33%|██████████████████████████▋                                                      | 33/100 [01:06<02:14,  2.01s/it]"
     ]
    },
    {
     "name": "stdout",
     "output_type": "stream",
     "text": [
      "row_sum: (30000,) -- row_sum_sum: 30000\n",
      "torch.Size([30000, 10])  --  torch.Size([30000, 10])\n",
      "torch.Size([30000, 10])  --  torch.Size([30000, 10])\n",
      "torch.Size([30000, 10])  --  torch.Size([30000, 10])\n",
      "key: train_loss -- value: 0.20056039094924927\n",
      "key: train_acc -- value: 0.9416999816894531\n",
      "key: val_loss -- value: 0.23246151208877563\n",
      "key: val_acc -- value: 0.9329333305358887\n"
     ]
    },
    {
     "name": "stderr",
     "output_type": "stream",
     "text": [
      "\r",
      " 34%|███████████████████████████▌                                                     | 34/100 [01:08<02:13,  2.02s/it]"
     ]
    },
    {
     "name": "stdout",
     "output_type": "stream",
     "text": [
      "row_sum: (30000,) -- row_sum_sum: 30000\n",
      "torch.Size([30000, 10])  --  torch.Size([30000, 10])\n",
      "torch.Size([30000, 10])  --  torch.Size([30000, 10])\n",
      "torch.Size([30000, 10])  --  torch.Size([30000, 10])\n",
      "key: train_loss -- value: 0.1965884417295456\n",
      "key: train_acc -- value: 0.9434000253677368\n",
      "key: val_loss -- value: 0.2284780740737915\n",
      "key: val_acc -- value: 0.9338666796684265\n"
     ]
    },
    {
     "name": "stderr",
     "output_type": "stream",
     "text": [
      "\r",
      " 35%|████████████████████████████▎                                                    | 35/100 [01:10<02:11,  2.02s/it]"
     ]
    },
    {
     "name": "stdout",
     "output_type": "stream",
     "text": [
      "row_sum: (30000,) -- row_sum_sum: 30000\n",
      "torch.Size([30000, 10])  --  torch.Size([30000, 10])\n",
      "torch.Size([30000, 10])  --  torch.Size([30000, 10])\n",
      "torch.Size([30000, 10])  --  torch.Size([30000, 10])\n",
      "key: train_loss -- value: 0.19156941771507263\n",
      "key: train_acc -- value: 0.9451000094413757\n",
      "key: val_loss -- value: 0.2227018177509308\n",
      "key: val_acc -- value: 0.9356666803359985\n"
     ]
    },
    {
     "name": "stderr",
     "output_type": "stream",
     "text": [
      "\r",
      " 36%|█████████████████████████████▏                                                   | 36/100 [01:12<02:09,  2.02s/it]"
     ]
    },
    {
     "name": "stdout",
     "output_type": "stream",
     "text": [
      "row_sum: (30000,) -- row_sum_sum: 30000\n",
      "torch.Size([30000, 10])  --  torch.Size([30000, 10])\n",
      "torch.Size([30000, 10])  --  torch.Size([30000, 10])\n",
      "torch.Size([30000, 10])  --  torch.Size([30000, 10])\n",
      "key: train_loss -- value: 0.187851682305336\n",
      "key: train_acc -- value: 0.946233332157135\n",
      "key: val_loss -- value: 0.21836380660533905\n",
      "key: val_acc -- value: 0.9372333288192749\n"
     ]
    },
    {
     "name": "stderr",
     "output_type": "stream",
     "text": [
      "\r",
      " 37%|█████████████████████████████▉                                                   | 37/100 [01:14<02:07,  2.02s/it]"
     ]
    },
    {
     "name": "stdout",
     "output_type": "stream",
     "text": [
      "row_sum: (30000,) -- row_sum_sum: 30000\n",
      "torch.Size([30000, 10])  --  torch.Size([30000, 10])\n",
      "torch.Size([30000, 10])  --  torch.Size([30000, 10])\n",
      "torch.Size([30000, 10])  --  torch.Size([30000, 10])\n",
      "key: train_loss -- value: 0.1834181845188141\n",
      "key: train_acc -- value: 0.9476000070571899\n",
      "key: val_loss -- value: 0.21416085958480835\n",
      "key: val_acc -- value: 0.9381333589553833\n"
     ]
    },
    {
     "name": "stderr",
     "output_type": "stream",
     "text": [
      "\r",
      " 38%|██████████████████████████████▊                                                  | 38/100 [01:17<02:05,  2.03s/it]"
     ]
    },
    {
     "name": "stdout",
     "output_type": "stream",
     "text": [
      "row_sum: (30000,) -- row_sum_sum: 30000\n",
      "torch.Size([30000, 10])  --  torch.Size([30000, 10])\n",
      "torch.Size([30000, 10])  --  torch.Size([30000, 10])\n",
      "torch.Size([30000, 10])  --  torch.Size([30000, 10])\n",
      "key: train_loss -- value: 0.17924430966377258\n",
      "key: train_acc -- value: 0.9484999775886536\n",
      "key: val_loss -- value: 0.21080054342746735\n",
      "key: val_acc -- value: 0.9387000203132629\n"
     ]
    },
    {
     "name": "stderr",
     "output_type": "stream",
     "text": [
      "\r",
      " 39%|███████████████████████████████▌                                                 | 39/100 [01:19<02:04,  2.03s/it]"
     ]
    },
    {
     "name": "stdout",
     "output_type": "stream",
     "text": [
      "row_sum: (30000,) -- row_sum_sum: 30000\n",
      "torch.Size([30000, 10])  --  torch.Size([30000, 10])\n",
      "torch.Size([30000, 10])  --  torch.Size([30000, 10])\n",
      "torch.Size([30000, 10])  --  torch.Size([30000, 10])\n",
      "key: train_loss -- value: 0.1758001446723938\n",
      "key: train_acc -- value: 0.9492999911308289\n",
      "key: val_loss -- value: 0.20795337855815887\n",
      "key: val_acc -- value: 0.9394999742507935\n"
     ]
    },
    {
     "name": "stderr",
     "output_type": "stream",
     "text": [
      "\r",
      " 40%|████████████████████████████████▍                                                | 40/100 [01:21<02:02,  2.04s/it]"
     ]
    },
    {
     "name": "stdout",
     "output_type": "stream",
     "text": [
      "row_sum: (30000,) -- row_sum_sum: 30000\n",
      "torch.Size([30000, 10])  --  torch.Size([30000, 10])\n",
      "torch.Size([30000, 10])  --  torch.Size([30000, 10])\n",
      "torch.Size([30000, 10])  --  torch.Size([30000, 10])\n",
      "key: train_loss -- value: 0.17191100120544434\n",
      "key: train_acc -- value: 0.9501333236694336\n",
      "key: val_loss -- value: 0.2040790468454361\n",
      "key: val_acc -- value: 0.941433310508728\n"
     ]
    },
    {
     "name": "stderr",
     "output_type": "stream",
     "text": [
      "\r",
      " 41%|█████████████████████████████████▏                                               | 41/100 [01:23<02:00,  2.04s/it]"
     ]
    },
    {
     "name": "stdout",
     "output_type": "stream",
     "text": [
      "row_sum: (30000,) -- row_sum_sum: 30000\n",
      "torch.Size([30000, 10])  --  torch.Size([30000, 10])\n",
      "torch.Size([30000, 10])  --  torch.Size([30000, 10])\n",
      "torch.Size([30000, 10])  --  torch.Size([30000, 10])\n",
      "key: train_loss -- value: 0.16865065693855286\n",
      "key: train_acc -- value: 0.9512333273887634\n",
      "key: val_loss -- value: 0.20067082345485687\n",
      "key: val_acc -- value: 0.9423333406448364\n"
     ]
    },
    {
     "name": "stderr",
     "output_type": "stream",
     "text": [
      "\r",
      " 42%|██████████████████████████████████                                               | 42/100 [01:25<01:58,  2.04s/it]"
     ]
    },
    {
     "name": "stdout",
     "output_type": "stream",
     "text": [
      "row_sum: (30000,) -- row_sum_sum: 30000\n",
      "torch.Size([30000, 10])  --  torch.Size([30000, 10])\n",
      "torch.Size([30000, 10])  --  torch.Size([30000, 10])\n",
      "torch.Size([30000, 10])  --  torch.Size([30000, 10])\n",
      "key: train_loss -- value: 0.16530418395996094\n",
      "key: train_acc -- value: 0.9520999789237976\n",
      "key: val_loss -- value: 0.19740049540996552\n",
      "key: val_acc -- value: 0.9434000253677368\n"
     ]
    },
    {
     "name": "stderr",
     "output_type": "stream",
     "text": [
      "\r",
      " 43%|██████████████████████████████████▊                                              | 43/100 [01:28<01:56,  2.05s/it]"
     ]
    },
    {
     "name": "stdout",
     "output_type": "stream",
     "text": [
      "row_sum: (30000,) -- row_sum_sum: 30000\n",
      "torch.Size([30000, 10])  --  torch.Size([30000, 10])\n",
      "torch.Size([30000, 10])  --  torch.Size([30000, 10])\n",
      "torch.Size([30000, 10])  --  torch.Size([30000, 10])\n",
      "key: train_loss -- value: 0.16216443479061127\n",
      "key: train_acc -- value: 0.9531999826431274\n",
      "key: val_loss -- value: 0.19453991949558258\n",
      "key: val_acc -- value: 0.9440666437149048\n"
     ]
    },
    {
     "name": "stderr",
     "output_type": "stream",
     "text": [
      "\r",
      " 44%|███████████████████████████████████▋                                             | 44/100 [01:30<01:54,  2.05s/it]"
     ]
    },
    {
     "name": "stdout",
     "output_type": "stream",
     "text": [
      "row_sum: (30000,) -- row_sum_sum: 30000\n",
      "torch.Size([30000, 10])  --  torch.Size([30000, 10])\n",
      "torch.Size([30000, 10])  --  torch.Size([30000, 10])\n",
      "torch.Size([30000, 10])  --  torch.Size([30000, 10])\n",
      "key: train_loss -- value: 0.15936025977134705\n",
      "key: train_acc -- value: 0.9541333317756653\n",
      "key: val_loss -- value: 0.19213376939296722\n",
      "key: val_acc -- value: 0.9442999958992004\n"
     ]
    },
    {
     "name": "stderr",
     "output_type": "stream",
     "text": [
      "\r",
      " 45%|████████████████████████████████████▍                                            | 45/100 [01:32<01:53,  2.06s/it]"
     ]
    },
    {
     "name": "stdout",
     "output_type": "stream",
     "text": [
      "row_sum: (30000,) -- row_sum_sum: 30000\n",
      "torch.Size([30000, 10])  --  torch.Size([30000, 10])\n",
      "torch.Size([30000, 10])  --  torch.Size([30000, 10])\n",
      "torch.Size([30000, 10])  --  torch.Size([30000, 10])\n",
      "key: train_loss -- value: 0.1563200056552887\n",
      "key: train_acc -- value: 0.9552333354949951\n",
      "key: val_loss -- value: 0.18955211341381073\n",
      "key: val_acc -- value: 0.9453666806221008\n"
     ]
    },
    {
     "name": "stderr",
     "output_type": "stream",
     "text": [
      "\r",
      " 46%|█████████████████████████████████████▎                                           | 46/100 [01:34<01:51,  2.06s/it]"
     ]
    },
    {
     "name": "stdout",
     "output_type": "stream",
     "text": [
      "row_sum: (30000,) -- row_sum_sum: 30000\n",
      "torch.Size([30000, 10])  --  torch.Size([30000, 10])\n",
      "torch.Size([30000, 10])  --  torch.Size([30000, 10])\n",
      "torch.Size([30000, 10])  --  torch.Size([30000, 10])\n",
      "key: train_loss -- value: 0.15365706384181976\n",
      "key: train_acc -- value: 0.9563666582107544\n",
      "key: val_loss -- value: 0.18738900125026703\n",
      "key: val_acc -- value: 0.9460333585739136\n"
     ]
    },
    {
     "name": "stderr",
     "output_type": "stream",
     "text": [
      "\r",
      " 47%|██████████████████████████████████████                                           | 47/100 [01:36<01:49,  2.06s/it]"
     ]
    },
    {
     "name": "stdout",
     "output_type": "stream",
     "text": [
      "row_sum: (30000,) -- row_sum_sum: 30000\n",
      "torch.Size([30000, 10])  --  torch.Size([30000, 10])\n",
      "torch.Size([30000, 10])  --  torch.Size([30000, 10])\n",
      "torch.Size([30000, 10])  --  torch.Size([30000, 10])\n",
      "key: train_loss -- value: 0.151036337018013\n",
      "key: train_acc -- value: 0.9571333527565002\n",
      "key: val_loss -- value: 0.1851990818977356\n",
      "key: val_acc -- value: 0.9466999769210815\n"
     ]
    },
    {
     "name": "stderr",
     "output_type": "stream",
     "text": [
      "\r",
      " 48%|██████████████████████████████████████▉                                          | 48/100 [01:38<01:47,  2.06s/it]"
     ]
    },
    {
     "name": "stdout",
     "output_type": "stream",
     "text": [
      "row_sum: (30000,) -- row_sum_sum: 30000\n",
      "torch.Size([30000, 10])  --  torch.Size([30000, 10])\n",
      "torch.Size([30000, 10])  --  torch.Size([30000, 10])\n",
      "torch.Size([30000, 10])  --  torch.Size([30000, 10])\n",
      "key: train_loss -- value: 0.14840224385261536\n",
      "key: train_acc -- value: 0.9571999907493591\n",
      "key: val_loss -- value: 0.18288250267505646\n",
      "key: val_acc -- value: 0.9476000070571899\n"
     ]
    },
    {
     "name": "stderr",
     "output_type": "stream",
     "text": [
      "\r",
      " 49%|███████████████████████████████████████▋                                         | 49/100 [01:40<01:45,  2.06s/it]"
     ]
    },
    {
     "name": "stdout",
     "output_type": "stream",
     "text": [
      "row_sum: (30000,) -- row_sum_sum: 30000\n",
      "torch.Size([30000, 10])  --  torch.Size([30000, 10])\n",
      "torch.Size([30000, 10])  --  torch.Size([30000, 10])\n",
      "torch.Size([30000, 10])  --  torch.Size([30000, 10])\n",
      "key: train_loss -- value: 0.14610494673252106\n",
      "key: train_acc -- value: 0.9581000208854675\n",
      "key: val_loss -- value: 0.18090376257896423\n",
      "key: val_acc -- value: 0.9480999708175659\n"
     ]
    },
    {
     "name": "stderr",
     "output_type": "stream",
     "text": [
      "\r",
      " 50%|████████████████████████████████████████▌                                        | 50/100 [01:43<01:43,  2.06s/it]"
     ]
    },
    {
     "name": "stdout",
     "output_type": "stream",
     "text": [
      "row_sum: (30000,) -- row_sum_sum: 30000\n",
      "torch.Size([30000, 10])  --  torch.Size([30000, 10])\n",
      "torch.Size([30000, 10])  --  torch.Size([30000, 10])\n",
      "torch.Size([30000, 10])  --  torch.Size([30000, 10])\n",
      "key: train_loss -- value: 0.1436253935098648\n",
      "key: train_acc -- value: 0.9589666724205017\n",
      "key: val_loss -- value: 0.17883266508579254\n",
      "key: val_acc -- value: 0.9487666487693787\n"
     ]
    },
    {
     "name": "stderr",
     "output_type": "stream",
     "text": [
      "\r",
      " 51%|█████████████████████████████████████████▎                                       | 51/100 [01:45<01:41,  2.07s/it]"
     ]
    },
    {
     "name": "stdout",
     "output_type": "stream",
     "text": [
      "row_sum: (30000,) -- row_sum_sum: 30000\n",
      "torch.Size([30000, 10])  --  torch.Size([30000, 10])\n",
      "torch.Size([30000, 10])  --  torch.Size([30000, 10])\n",
      "torch.Size([30000, 10])  --  torch.Size([30000, 10])\n",
      "key: train_loss -- value: 0.14132149517536163\n",
      "key: train_acc -- value: 0.9598666429519653\n",
      "key: val_loss -- value: 0.17704316973686218\n",
      "key: val_acc -- value: 0.94923335313797\n"
     ]
    },
    {
     "name": "stderr",
     "output_type": "stream",
     "text": [
      "\r",
      " 52%|██████████████████████████████████████████                                       | 52/100 [01:47<01:39,  2.07s/it]"
     ]
    },
    {
     "name": "stdout",
     "output_type": "stream",
     "text": [
      "row_sum: (30000,) -- row_sum_sum: 30000\n",
      "torch.Size([30000, 10])  --  torch.Size([30000, 10])\n",
      "torch.Size([30000, 10])  --  torch.Size([30000, 10])\n",
      "torch.Size([30000, 10])  --  torch.Size([30000, 10])\n",
      "key: train_loss -- value: 0.13919615745544434\n",
      "key: train_acc -- value: 0.9603999853134155\n",
      "key: val_loss -- value: 0.1754501760005951\n",
      "key: val_acc -- value: 0.9498000144958496\n"
     ]
    },
    {
     "name": "stderr",
     "output_type": "stream",
     "text": [
      "\r",
      " 53%|██████████████████████████████████████████▉                                      | 53/100 [01:49<01:37,  2.07s/it]"
     ]
    },
    {
     "name": "stdout",
     "output_type": "stream",
     "text": [
      "row_sum: (30000,) -- row_sum_sum: 30000\n",
      "torch.Size([30000, 10])  --  torch.Size([30000, 10])\n",
      "torch.Size([30000, 10])  --  torch.Size([30000, 10])\n",
      "torch.Size([30000, 10])  --  torch.Size([30000, 10])\n",
      "key: train_loss -- value: 0.1369735300540924\n",
      "key: train_acc -- value: 0.9609666466712952\n",
      "key: val_loss -- value: 0.17371217906475067\n",
      "key: val_acc -- value: 0.9499333500862122\n"
     ]
    },
    {
     "name": "stderr",
     "output_type": "stream",
     "text": [
      "\r",
      " 54%|███████████████████████████████████████████▋                                     | 54/100 [01:51<01:35,  2.07s/it]"
     ]
    },
    {
     "name": "stdout",
     "output_type": "stream",
     "text": [
      "row_sum: (30000,) -- row_sum_sum: 30000\n",
      "torch.Size([30000, 10])  --  torch.Size([30000, 10])\n",
      "torch.Size([30000, 10])  --  torch.Size([30000, 10])\n",
      "torch.Size([30000, 10])  --  torch.Size([30000, 10])\n",
      "key: train_loss -- value: 0.13490809500217438\n",
      "key: train_acc -- value: 0.9614999890327454\n",
      "key: val_loss -- value: 0.17208944261074066\n",
      "key: val_acc -- value: 0.9502333402633667\n"
     ]
    },
    {
     "name": "stderr",
     "output_type": "stream",
     "text": [
      "\r",
      " 55%|████████████████████████████████████████████▌                                    | 55/100 [01:53<01:33,  2.07s/it]"
     ]
    },
    {
     "name": "stdout",
     "output_type": "stream",
     "text": [
      "row_sum: (30000,) -- row_sum_sum: 30000\n",
      "torch.Size([30000, 10])  --  torch.Size([30000, 10])\n",
      "torch.Size([30000, 10])  --  torch.Size([30000, 10])\n",
      "torch.Size([30000, 10])  --  torch.Size([30000, 10])\n",
      "key: train_loss -- value: 0.13287703692913055\n",
      "key: train_acc -- value: 0.962066650390625\n",
      "key: val_loss -- value: 0.1704503297805786\n",
      "key: val_acc -- value: 0.9507333040237427\n"
     ]
    },
    {
     "name": "stderr",
     "output_type": "stream",
     "text": [
      "\r",
      " 56%|█████████████████████████████████████████████▎                                   | 56/100 [01:56<01:31,  2.07s/it]"
     ]
    },
    {
     "name": "stdout",
     "output_type": "stream",
     "text": [
      "row_sum: (30000,) -- row_sum_sum: 30000\n",
      "torch.Size([30000, 10])  --  torch.Size([30000, 10])\n",
      "torch.Size([30000, 10])  --  torch.Size([30000, 10])\n",
      "torch.Size([30000, 10])  --  torch.Size([30000, 10])\n",
      "key: train_loss -- value: 0.13088488578796387\n",
      "key: train_acc -- value: 0.9630333185195923\n",
      "key: val_loss -- value: 0.16879428923130035\n",
      "key: val_acc -- value: 0.951033353805542\n"
     ]
    },
    {
     "name": "stderr",
     "output_type": "stream",
     "text": [
      "\r",
      " 57%|██████████████████████████████████████████████▏                                  | 57/100 [01:58<01:29,  2.07s/it]"
     ]
    },
    {
     "name": "stdout",
     "output_type": "stream",
     "text": [
      "row_sum: (30000,) -- row_sum_sum: 30000\n",
      "torch.Size([30000, 10])  --  torch.Size([30000, 10])\n",
      "torch.Size([30000, 10])  --  torch.Size([30000, 10])\n",
      "torch.Size([30000, 10])  --  torch.Size([30000, 10])\n",
      "key: train_loss -- value: 0.12901952862739563\n",
      "key: train_acc -- value: 0.9632333517074585\n",
      "key: val_loss -- value: 0.1672506183385849\n",
      "key: val_acc -- value: 0.9514999985694885\n"
     ]
    },
    {
     "name": "stderr",
     "output_type": "stream",
     "text": [
      "\r",
      " 58%|██████████████████████████████████████████████▉                                  | 58/100 [02:00<01:27,  2.07s/it]"
     ]
    },
    {
     "name": "stdout",
     "output_type": "stream",
     "text": [
      "row_sum: (30000,) -- row_sum_sum: 30000\n",
      "torch.Size([30000, 10])  --  torch.Size([30000, 10])\n",
      "torch.Size([30000, 10])  --  torch.Size([30000, 10])\n",
      "torch.Size([30000, 10])  --  torch.Size([30000, 10])\n",
      "key: train_loss -- value: 0.1271263211965561\n",
      "key: train_acc -- value: 0.9638000130653381\n",
      "key: val_loss -- value: 0.16569428145885468\n",
      "key: val_acc -- value: 0.9521333575248718\n"
     ]
    },
    {
     "name": "stderr",
     "output_type": "stream",
     "text": [
      "\r",
      " 59%|███████████████████████████████████████████████▊                                 | 59/100 [02:02<01:24,  2.07s/it]"
     ]
    },
    {
     "name": "stdout",
     "output_type": "stream",
     "text": [
      "row_sum: (30000,) -- row_sum_sum: 30000\n",
      "torch.Size([30000, 10])  --  torch.Size([30000, 10])\n",
      "torch.Size([30000, 10])  --  torch.Size([30000, 10])\n",
      "torch.Size([30000, 10])  --  torch.Size([30000, 10])\n",
      "key: train_loss -- value: 0.12529748678207397\n",
      "key: train_acc -- value: 0.9645666480064392\n",
      "key: val_loss -- value: 0.16422098875045776\n",
      "key: val_acc -- value: 0.9522333145141602\n"
     ]
    },
    {
     "name": "stderr",
     "output_type": "stream",
     "text": [
      "\r",
      " 60%|████████████████████████████████████████████████▌                                | 60/100 [02:04<01:22,  2.07s/it]"
     ]
    },
    {
     "name": "stdout",
     "output_type": "stream",
     "text": [
      "row_sum: (30000,) -- row_sum_sum: 30000\n",
      "torch.Size([30000, 10])  --  torch.Size([30000, 10])\n",
      "torch.Size([30000, 10])  --  torch.Size([30000, 10])\n",
      "torch.Size([30000, 10])  --  torch.Size([30000, 10])\n",
      "key: train_loss -- value: 0.1235877051949501\n",
      "key: train_acc -- value: 0.9649666547775269\n",
      "key: val_loss -- value: 0.16282527148723602\n",
      "key: val_acc -- value: 0.9524999856948853\n"
     ]
    },
    {
     "name": "stderr",
     "output_type": "stream",
     "text": [
      "\r",
      " 61%|█████████████████████████████████████████████████▍                               | 61/100 [02:06<01:20,  2.07s/it]"
     ]
    },
    {
     "name": "stdout",
     "output_type": "stream",
     "text": [
      "row_sum: (30000,) -- row_sum_sum: 30000\n",
      "torch.Size([30000, 10])  --  torch.Size([30000, 10])\n",
      "torch.Size([30000, 10])  --  torch.Size([30000, 10])\n",
      "torch.Size([30000, 10])  --  torch.Size([30000, 10])\n",
      "key: train_loss -- value: 0.12186428904533386\n",
      "key: train_acc -- value: 0.9652000069618225\n",
      "key: val_loss -- value: 0.16132918000221252\n",
      "key: val_acc -- value: 0.9528666734695435\n"
     ]
    },
    {
     "name": "stderr",
     "output_type": "stream",
     "text": [
      "\r",
      " 62%|██████████████████████████████████████████████████▏                              | 62/100 [02:08<01:18,  2.07s/it]"
     ]
    },
    {
     "name": "stdout",
     "output_type": "stream",
     "text": [
      "row_sum: (30000,) -- row_sum_sum: 30000\n",
      "torch.Size([30000, 10])  --  torch.Size([30000, 10])\n",
      "torch.Size([30000, 10])  --  torch.Size([30000, 10])\n",
      "torch.Size([30000, 10])  --  torch.Size([30000, 10])\n",
      "key: train_loss -- value: 0.12019571661949158\n",
      "key: train_acc -- value: 0.9657999873161316\n",
      "key: val_loss -- value: 0.15983887016773224\n",
      "key: val_acc -- value: 0.9533666372299194\n"
     ]
    },
    {
     "name": "stderr",
     "output_type": "stream",
     "text": [
      "\r",
      " 63%|███████████████████████████████████████████████████                              | 63/100 [02:10<01:16,  2.07s/it]"
     ]
    },
    {
     "name": "stdout",
     "output_type": "stream",
     "text": [
      "row_sum: (30000,) -- row_sum_sum: 30000\n",
      "torch.Size([30000, 10])  --  torch.Size([30000, 10])\n",
      "torch.Size([30000, 10])  --  torch.Size([30000, 10])\n",
      "torch.Size([30000, 10])  --  torch.Size([30000, 10])\n",
      "key: train_loss -- value: 0.11860204488039017\n",
      "key: train_acc -- value: 0.9660999774932861\n",
      "key: val_loss -- value: 0.15845626592636108\n",
      "key: val_acc -- value: 0.9539666771888733\n"
     ]
    },
    {
     "name": "stderr",
     "output_type": "stream",
     "text": [
      "\r",
      " 64%|███████████████████████████████████████████████████▊                             | 64/100 [02:12<01:14,  2.07s/it]"
     ]
    },
    {
     "name": "stdout",
     "output_type": "stream",
     "text": [
      "row_sum: (30000,) -- row_sum_sum: 30000\n",
      "torch.Size([30000, 10])  --  torch.Size([30000, 10])\n",
      "torch.Size([30000, 10])  --  torch.Size([30000, 10])\n",
      "torch.Size([30000, 10])  --  torch.Size([30000, 10])\n",
      "key: train_loss -- value: 0.11701688170433044\n",
      "key: train_acc -- value: 0.9666333198547363\n",
      "key: val_loss -- value: 0.15716204047203064\n",
      "key: val_acc -- value: 0.9542333483695984\n"
     ]
    },
    {
     "name": "stderr",
     "output_type": "stream",
     "text": [
      "\r",
      " 65%|████████████████████████████████████████████████████▋                            | 65/100 [02:14<01:12,  2.07s/it]"
     ]
    },
    {
     "name": "stdout",
     "output_type": "stream",
     "text": [
      "row_sum: (30000,) -- row_sum_sum: 30000\n",
      "torch.Size([30000, 10])  --  torch.Size([30000, 10])\n",
      "torch.Size([30000, 10])  --  torch.Size([30000, 10])\n",
      "torch.Size([30000, 10])  --  torch.Size([30000, 10])\n",
      "key: train_loss -- value: 0.11548005044460297\n",
      "key: train_acc -- value: 0.9670666456222534\n",
      "key: val_loss -- value: 0.15596599876880646\n",
      "key: val_acc -- value: 0.9545666575431824\n"
     ]
    },
    {
     "name": "stderr",
     "output_type": "stream",
     "text": [
      "\r",
      " 66%|█████████████████████████████████████████████████████▍                           | 66/100 [02:16<01:10,  2.07s/it]"
     ]
    },
    {
     "name": "stdout",
     "output_type": "stream",
     "text": [
      "row_sum: (30000,) -- row_sum_sum: 30000\n",
      "torch.Size([30000, 10])  --  torch.Size([30000, 10])\n",
      "torch.Size([30000, 10])  --  torch.Size([30000, 10])\n",
      "torch.Size([30000, 10])  --  torch.Size([30000, 10])\n",
      "key: train_loss -- value: 0.11398330330848694\n",
      "key: train_acc -- value: 0.9677333235740662\n",
      "key: val_loss -- value: 0.15477485954761505\n",
      "key: val_acc -- value: 0.9548666477203369\n"
     ]
    },
    {
     "name": "stderr",
     "output_type": "stream",
     "text": [
      "\r",
      " 67%|██████████████████████████████████████████████████████▎                          | 67/100 [02:18<01:08,  2.07s/it]"
     ]
    },
    {
     "name": "stdout",
     "output_type": "stream",
     "text": [
      "row_sum: (30000,) -- row_sum_sum: 30000\n",
      "torch.Size([30000, 10])  --  torch.Size([30000, 10])\n",
      "torch.Size([30000, 10])  --  torch.Size([30000, 10])\n",
      "torch.Size([30000, 10])  --  torch.Size([30000, 10])\n",
      "key: train_loss -- value: 0.11249377578496933\n",
      "key: train_acc -- value: 0.9681333303451538\n",
      "key: val_loss -- value: 0.153513103723526\n",
      "key: val_acc -- value: 0.9552333354949951\n"
     ]
    },
    {
     "name": "stderr",
     "output_type": "stream",
     "text": [
      "\r",
      " 68%|███████████████████████████████████████████████████████                          | 68/100 [02:20<01:06,  2.07s/it]"
     ]
    },
    {
     "name": "stdout",
     "output_type": "stream",
     "text": [
      "row_sum: (30000,) -- row_sum_sum: 30000\n",
      "torch.Size([30000, 10])  --  torch.Size([30000, 10])\n",
      "torch.Size([30000, 10])  --  torch.Size([30000, 10])\n",
      "torch.Size([30000, 10])  --  torch.Size([30000, 10])\n",
      "key: train_loss -- value: 0.11105155944824219\n",
      "key: train_acc -- value: 0.9686999917030334\n",
      "key: val_loss -- value: 0.1522604525089264\n",
      "key: val_acc -- value: 0.9553999900817871\n"
     ]
    },
    {
     "name": "stderr",
     "output_type": "stream",
     "text": [
      "\r",
      " 69%|███████████████████████████████████████████████████████▉                         | 69/100 [02:22<01:04,  2.07s/it]"
     ]
    },
    {
     "name": "stdout",
     "output_type": "stream",
     "text": [
      "row_sum: (30000,) -- row_sum_sum: 30000\n",
      "torch.Size([30000, 10])  --  torch.Size([30000, 10])\n",
      "torch.Size([30000, 10])  --  torch.Size([30000, 10])\n",
      "torch.Size([30000, 10])  --  torch.Size([30000, 10])\n",
      "key: train_loss -- value: 0.10964782536029816\n",
      "key: train_acc -- value: 0.9692000150680542\n",
      "key: val_loss -- value: 0.15107637643814087\n",
      "key: val_acc -- value: 0.9558333158493042\n"
     ]
    },
    {
     "name": "stderr",
     "output_type": "stream",
     "text": [
      "\r",
      " 70%|████████████████████████████████████████████████████████▋                        | 70/100 [02:25<01:02,  2.07s/it]"
     ]
    },
    {
     "name": "stdout",
     "output_type": "stream",
     "text": [
      "row_sum: (30000,) -- row_sum_sum: 30000\n",
      "torch.Size([30000, 10])  --  torch.Size([30000, 10])\n",
      "torch.Size([30000, 10])  --  torch.Size([30000, 10])\n",
      "torch.Size([30000, 10])  --  torch.Size([30000, 10])\n",
      "key: train_loss -- value: 0.10825490206480026\n",
      "key: train_acc -- value: 0.9694333076477051\n",
      "key: val_loss -- value: 0.149969220161438\n",
      "key: val_acc -- value: 0.9560999870300293\n"
     ]
    },
    {
     "name": "stderr",
     "output_type": "stream",
     "text": [
      "\r",
      " 71%|█████████████████████████████████████████████████████████▌                       | 71/100 [02:27<01:00,  2.08s/it]"
     ]
    },
    {
     "name": "stdout",
     "output_type": "stream",
     "text": [
      "row_sum: (30000,) -- row_sum_sum: 30000\n",
      "torch.Size([30000, 10])  --  torch.Size([30000, 10])\n",
      "torch.Size([30000, 10])  --  torch.Size([30000, 10])\n",
      "torch.Size([30000, 10])  --  torch.Size([30000, 10])\n",
      "key: train_loss -- value: 0.10690709948539734\n",
      "key: train_acc -- value: 0.9700333476066589\n",
      "key: val_loss -- value: 0.14895077049732208\n",
      "key: val_acc -- value: 0.956333339214325\n"
     ]
    },
    {
     "name": "stderr",
     "output_type": "stream",
     "text": [
      "\r",
      " 72%|██████████████████████████████████████████████████████████▎                      | 72/100 [02:29<00:58,  2.08s/it]"
     ]
    },
    {
     "name": "stdout",
     "output_type": "stream",
     "text": [
      "row_sum: (30000,) -- row_sum_sum: 30000\n",
      "torch.Size([30000, 10])  --  torch.Size([30000, 10])\n",
      "torch.Size([30000, 10])  --  torch.Size([30000, 10])\n",
      "torch.Size([30000, 10])  --  torch.Size([30000, 10])\n",
      "key: train_loss -- value: 0.10559209436178207\n",
      "key: train_acc -- value: 0.970466673374176\n",
      "key: val_loss -- value: 0.14795321226119995\n",
      "key: val_acc -- value: 0.9565666913986206\n"
     ]
    },
    {
     "name": "stderr",
     "output_type": "stream",
     "text": [
      "\r",
      " 73%|███████████████████████████████████████████████████████████▏                     | 73/100 [02:31<00:56,  2.08s/it]"
     ]
    },
    {
     "name": "stdout",
     "output_type": "stream",
     "text": [
      "row_sum: (30000,) -- row_sum_sum: 30000\n",
      "torch.Size([30000, 10])  --  torch.Size([30000, 10])\n",
      "torch.Size([30000, 10])  --  torch.Size([30000, 10])\n",
      "torch.Size([30000, 10])  --  torch.Size([30000, 10])\n",
      "key: train_loss -- value: 0.10428863018751144\n",
      "key: train_acc -- value: 0.970966637134552\n",
      "key: val_loss -- value: 0.14692845940589905\n",
      "key: val_acc -- value: 0.9571333527565002\n"
     ]
    },
    {
     "name": "stderr",
     "output_type": "stream",
     "text": [
      "\r",
      " 74%|███████████████████████████████████████████████████████████▉                     | 74/100 [02:34<00:54,  2.08s/it]"
     ]
    },
    {
     "name": "stdout",
     "output_type": "stream",
     "text": [
      "row_sum: (30000,) -- row_sum_sum: 30000\n",
      "torch.Size([30000, 10])  --  torch.Size([30000, 10])\n",
      "torch.Size([30000, 10])  --  torch.Size([30000, 10])\n",
      "torch.Size([30000, 10])  --  torch.Size([30000, 10])\n",
      "key: train_loss -- value: 0.10302410274744034\n",
      "key: train_acc -- value: 0.970966637134552\n",
      "key: val_loss -- value: 0.14591361582279205\n",
      "key: val_acc -- value: 0.9573333263397217\n"
     ]
    },
    {
     "name": "stderr",
     "output_type": "stream",
     "text": [
      "\r",
      " 75%|████████████████████████████████████████████████████████████▊                    | 75/100 [02:36<00:52,  2.08s/it]"
     ]
    },
    {
     "name": "stdout",
     "output_type": "stream",
     "text": [
      "row_sum: (30000,) -- row_sum_sum: 30000\n",
      "torch.Size([30000, 10])  --  torch.Size([30000, 10])\n",
      "torch.Size([30000, 10])  --  torch.Size([30000, 10])\n",
      "torch.Size([30000, 10])  --  torch.Size([30000, 10])\n",
      "key: train_loss -- value: 0.1017833799123764\n",
      "key: train_acc -- value: 0.9713333249092102\n",
      "key: val_loss -- value: 0.14492642879486084\n",
      "key: val_acc -- value: 0.9575666785240173\n"
     ]
    },
    {
     "name": "stderr",
     "output_type": "stream",
     "text": [
      "\r",
      " 76%|█████████████████████████████████████████████████████████████▌                   | 76/100 [02:38<00:50,  2.08s/it]"
     ]
    },
    {
     "name": "stdout",
     "output_type": "stream",
     "text": [
      "row_sum: (30000,) -- row_sum_sum: 30000\n",
      "torch.Size([30000, 10])  --  torch.Size([30000, 10])\n",
      "torch.Size([30000, 10])  --  torch.Size([30000, 10])\n",
      "torch.Size([30000, 10])  --  torch.Size([30000, 10])\n",
      "key: train_loss -- value: 0.10055685043334961\n",
      "key: train_acc -- value: 0.9718000292778015\n",
      "key: val_loss -- value: 0.1439691036939621\n",
      "key: val_acc -- value: 0.9578666687011719\n"
     ]
    },
    {
     "name": "stderr",
     "output_type": "stream",
     "text": [
      "\r",
      " 77%|██████████████████████████████████████████████████████████████▎                  | 77/100 [02:40<00:47,  2.08s/it]"
     ]
    },
    {
     "name": "stdout",
     "output_type": "stream",
     "text": [
      "row_sum: (30000,) -- row_sum_sum: 30000\n",
      "torch.Size([30000, 10])  --  torch.Size([30000, 10])\n",
      "torch.Size([30000, 10])  --  torch.Size([30000, 10])\n",
      "torch.Size([30000, 10])  --  torch.Size([30000, 10])\n",
      "key: train_loss -- value: 0.09936413913965225\n",
      "key: train_acc -- value: 0.972266674041748\n",
      "key: val_loss -- value: 0.14305131137371063\n",
      "key: val_acc -- value: 0.9580666422843933\n"
     ]
    },
    {
     "name": "stderr",
     "output_type": "stream",
     "text": [
      "\r",
      " 78%|███████████████████████████████████████████████████████████████▏                 | 78/100 [02:42<00:45,  2.09s/it]"
     ]
    },
    {
     "name": "stdout",
     "output_type": "stream",
     "text": [
      "row_sum: (30000,) -- row_sum_sum: 30000\n",
      "torch.Size([30000, 10])  --  torch.Size([30000, 10])\n",
      "torch.Size([30000, 10])  --  torch.Size([30000, 10])\n",
      "torch.Size([30000, 10])  --  torch.Size([30000, 10])\n",
      "key: train_loss -- value: 0.09819348901510239\n",
      "key: train_acc -- value: 0.972599983215332\n",
      "key: val_loss -- value: 0.14214099943637848\n",
      "key: val_acc -- value: 0.9581666588783264\n"
     ]
    },
    {
     "name": "stderr",
     "output_type": "stream",
     "text": [
      "\r",
      " 79%|███████████████████████████████████████████████████████████████▉                 | 79/100 [02:44<00:43,  2.09s/it]"
     ]
    },
    {
     "name": "stdout",
     "output_type": "stream",
     "text": [
      "row_sum: (30000,) -- row_sum_sum: 30000\n",
      "torch.Size([30000, 10])  --  torch.Size([30000, 10])\n",
      "torch.Size([30000, 10])  --  torch.Size([30000, 10])\n",
      "torch.Size([30000, 10])  --  torch.Size([30000, 10])\n",
      "key: train_loss -- value: 0.09703951328992844\n",
      "key: train_acc -- value: 0.972766637802124\n",
      "key: val_loss -- value: 0.1412360519170761\n",
      "key: val_acc -- value: 0.9583333134651184\n"
     ]
    },
    {
     "name": "stderr",
     "output_type": "stream",
     "text": [
      "\r",
      " 80%|████████████████████████████████████████████████████████████████▊                | 80/100 [02:46<00:41,  2.09s/it]"
     ]
    },
    {
     "name": "stdout",
     "output_type": "stream",
     "text": [
      "row_sum: (30000,) -- row_sum_sum: 30000\n",
      "torch.Size([30000, 10])  --  torch.Size([30000, 10])\n",
      "torch.Size([30000, 10])  --  torch.Size([30000, 10])\n",
      "torch.Size([30000, 10])  --  torch.Size([30000, 10])\n",
      "key: train_loss -- value: 0.095912866294384\n",
      "key: train_acc -- value: 0.9732000231742859\n",
      "key: val_loss -- value: 0.14036715030670166\n",
      "key: val_acc -- value: 0.9586666822433472\n"
     ]
    },
    {
     "name": "stderr",
     "output_type": "stream",
     "text": [
      "\r",
      " 81%|█████████████████████████████████████████████████████████████████▌               | 81/100 [02:49<00:39,  2.09s/it]"
     ]
    },
    {
     "name": "stdout",
     "output_type": "stream",
     "text": [
      "row_sum: (30000,) -- row_sum_sum: 30000\n",
      "torch.Size([30000, 10])  --  torch.Size([30000, 10])\n",
      "torch.Size([30000, 10])  --  torch.Size([30000, 10])\n",
      "torch.Size([30000, 10])  --  torch.Size([30000, 10])\n",
      "key: train_loss -- value: 0.09480767697095871\n",
      "key: train_acc -- value: 0.9733333587646484\n",
      "key: val_loss -- value: 0.13954371213912964\n",
      "key: val_acc -- value: 0.9589333534240723\n"
     ]
    },
    {
     "name": "stderr",
     "output_type": "stream",
     "text": [
      "\r",
      " 82%|██████████████████████████████████████████████████████████████████▍              | 82/100 [02:51<00:37,  2.09s/it]"
     ]
    },
    {
     "name": "stdout",
     "output_type": "stream",
     "text": [
      "row_sum: (30000,) -- row_sum_sum: 30000\n",
      "torch.Size([30000, 10])  --  torch.Size([30000, 10])\n",
      "torch.Size([30000, 10])  --  torch.Size([30000, 10])\n",
      "torch.Size([30000, 10])  --  torch.Size([30000, 10])\n",
      "key: train_loss -- value: 0.09371905028820038\n",
      "key: train_acc -- value: 0.9736999869346619\n",
      "key: val_loss -- value: 0.13875341415405273\n",
      "key: val_acc -- value: 0.9592000246047974\n"
     ]
    },
    {
     "name": "stderr",
     "output_type": "stream",
     "text": [
      "\r",
      " 83%|███████████████████████████████████████████████████████████████████▏             | 83/100 [02:53<00:35,  2.09s/it]"
     ]
    },
    {
     "name": "stdout",
     "output_type": "stream",
     "text": [
      "row_sum: (30000,) -- row_sum_sum: 30000\n",
      "torch.Size([30000, 10])  --  torch.Size([30000, 10])\n",
      "torch.Size([30000, 10])  --  torch.Size([30000, 10])\n",
      "torch.Size([30000, 10])  --  torch.Size([30000, 10])\n",
      "key: train_loss -- value: 0.09265347570180893\n",
      "key: train_acc -- value: 0.9742666482925415\n",
      "key: val_loss -- value: 0.13797621428966522\n",
      "key: val_acc -- value: 0.9593666791915894\n"
     ]
    },
    {
     "name": "stderr",
     "output_type": "stream",
     "text": [
      "\r",
      " 84%|████████████████████████████████████████████████████████████████████             | 84/100 [02:55<00:33,  2.09s/it]"
     ]
    },
    {
     "name": "stdout",
     "output_type": "stream",
     "text": [
      "row_sum: (30000,) -- row_sum_sum: 30000\n",
      "torch.Size([30000, 10])  --  torch.Size([30000, 10])\n",
      "torch.Size([30000, 10])  --  torch.Size([30000, 10])\n",
      "torch.Size([30000, 10])  --  torch.Size([30000, 10])\n",
      "key: train_loss -- value: 0.091607965528965\n",
      "key: train_acc -- value: 0.9746333360671997\n",
      "key: val_loss -- value: 0.1371934413909912\n",
      "key: val_acc -- value: 0.9595999717712402\n"
     ]
    },
    {
     "name": "stderr",
     "output_type": "stream",
     "text": [
      "\r",
      " 85%|████████████████████████████████████████████████████████████████████▊            | 85/100 [02:57<00:31,  2.09s/it]"
     ]
    },
    {
     "name": "stdout",
     "output_type": "stream",
     "text": [
      "row_sum: (30000,) -- row_sum_sum: 30000\n",
      "torch.Size([30000, 10])  --  torch.Size([30000, 10])\n",
      "torch.Size([30000, 10])  --  torch.Size([30000, 10])\n",
      "torch.Size([30000, 10])  --  torch.Size([30000, 10])\n",
      "key: train_loss -- value: 0.0905778780579567\n",
      "key: train_acc -- value: 0.9749666452407837\n",
      "key: val_loss -- value: 0.13640591502189636\n",
      "key: val_acc -- value: 0.9599000215530396\n"
     ]
    },
    {
     "name": "stderr",
     "output_type": "stream",
     "text": [
      "\r",
      " 86%|█████████████████████████████████████████████████████████████████████▋           | 86/100 [02:59<00:29,  2.09s/it]"
     ]
    },
    {
     "name": "stdout",
     "output_type": "stream",
     "text": [
      "row_sum: (30000,) -- row_sum_sum: 30000\n",
      "torch.Size([30000, 10])  --  torch.Size([30000, 10])\n",
      "torch.Size([30000, 10])  --  torch.Size([30000, 10])\n",
      "torch.Size([30000, 10])  --  torch.Size([30000, 10])\n",
      "key: train_loss -- value: 0.08956676721572876\n",
      "key: train_acc -- value: 0.9753333330154419\n",
      "key: val_loss -- value: 0.13563968241214752\n",
      "key: val_acc -- value: 0.9599999785423279\n"
     ]
    },
    {
     "name": "stderr",
     "output_type": "stream",
     "text": [
      "\r",
      " 87%|██████████████████████████████████████████████████████████████████████▍          | 87/100 [03:01<00:27,  2.09s/it]"
     ]
    },
    {
     "name": "stdout",
     "output_type": "stream",
     "text": [
      "row_sum: (30000,) -- row_sum_sum: 30000\n",
      "torch.Size([30000, 10])  --  torch.Size([30000, 10])\n",
      "torch.Size([30000, 10])  --  torch.Size([30000, 10])\n",
      "torch.Size([30000, 10])  --  torch.Size([30000, 10])\n",
      "key: train_loss -- value: 0.08857446908950806\n",
      "key: train_acc -- value: 0.9756666421890259\n",
      "key: val_loss -- value: 0.13490718603134155\n",
      "key: val_acc -- value: 0.9603666663169861\n"
     ]
    },
    {
     "name": "stderr",
     "output_type": "stream",
     "text": [
      "\r",
      " 88%|███████████████████████████████████████████████████████████████████████▎         | 88/100 [03:03<00:25,  2.09s/it]"
     ]
    },
    {
     "name": "stdout",
     "output_type": "stream",
     "text": [
      "row_sum: (30000,) -- row_sum_sum: 30000\n",
      "torch.Size([30000, 10])  --  torch.Size([30000, 10])\n",
      "torch.Size([30000, 10])  --  torch.Size([30000, 10])\n",
      "torch.Size([30000, 10])  --  torch.Size([30000, 10])\n",
      "key: train_loss -- value: 0.08759620785713196\n",
      "key: train_acc -- value: 0.9761333465576172\n",
      "key: val_loss -- value: 0.13420313596725464\n",
      "key: val_acc -- value: 0.9606666564941406\n"
     ]
    },
    {
     "name": "stderr",
     "output_type": "stream",
     "text": [
      "\r",
      " 89%|████████████████████████████████████████████████████████████████████████         | 89/100 [03:06<00:23,  2.09s/it]"
     ]
    },
    {
     "name": "stdout",
     "output_type": "stream",
     "text": [
      "row_sum: (30000,) -- row_sum_sum: 30000\n",
      "torch.Size([30000, 10])  --  torch.Size([30000, 10])\n",
      "torch.Size([30000, 10])  --  torch.Size([30000, 10])\n",
      "torch.Size([30000, 10])  --  torch.Size([30000, 10])\n",
      "key: train_loss -- value: 0.08663418143987656\n",
      "key: train_acc -- value: 0.9762333035469055\n",
      "key: val_loss -- value: 0.13351711630821228\n",
      "key: val_acc -- value: 0.9606999754905701\n"
     ]
    },
    {
     "name": "stderr",
     "output_type": "stream",
     "text": [
      "\r",
      " 90%|████████████████████████████████████████████████████████████████████████▉        | 90/100 [03:08<00:20,  2.09s/it]"
     ]
    },
    {
     "name": "stdout",
     "output_type": "stream",
     "text": [
      "row_sum: (30000,) -- row_sum_sum: 30000\n",
      "torch.Size([30000, 10])  --  torch.Size([30000, 10])\n",
      "torch.Size([30000, 10])  --  torch.Size([30000, 10])\n",
      "torch.Size([30000, 10])  --  torch.Size([30000, 10])\n",
      "key: train_loss -- value: 0.08568938076496124\n",
      "key: train_acc -- value: 0.9764999747276306\n",
      "key: val_loss -- value: 0.13284333050251007\n",
      "key: val_acc -- value: 0.9607333540916443\n"
     ]
    },
    {
     "name": "stderr",
     "output_type": "stream",
     "text": [
      "\r",
      " 91%|█████████████████████████████████████████████████████████████████████████▋       | 91/100 [03:10<00:18,  2.09s/it]"
     ]
    },
    {
     "name": "stdout",
     "output_type": "stream",
     "text": [
      "row_sum: (30000,) -- row_sum_sum: 30000\n",
      "torch.Size([30000, 10])  --  torch.Size([30000, 10])\n",
      "torch.Size([30000, 10])  --  torch.Size([30000, 10])\n",
      "torch.Size([30000, 10])  --  torch.Size([30000, 10])\n",
      "key: train_loss -- value: 0.08475853502750397\n",
      "key: train_acc -- value: 0.9767000079154968\n",
      "key: val_loss -- value: 0.13217909634113312\n",
      "key: val_acc -- value: 0.9609000086784363\n"
     ]
    },
    {
     "name": "stderr",
     "output_type": "stream",
     "text": [
      "\r",
      " 92%|██████████████████████████████████████████████████████████████████████████▌      | 92/100 [03:12<00:16,  2.09s/it]"
     ]
    },
    {
     "name": "stdout",
     "output_type": "stream",
     "text": [
      "row_sum: (30000,) -- row_sum_sum: 30000\n",
      "torch.Size([30000, 10])  --  torch.Size([30000, 10])\n",
      "torch.Size([30000, 10])  --  torch.Size([30000, 10])\n",
      "torch.Size([30000, 10])  --  torch.Size([30000, 10])\n",
      "key: train_loss -- value: 0.08384271711111069\n",
      "key: train_acc -- value: 0.9769666790962219\n",
      "key: val_loss -- value: 0.13152863085269928\n",
      "key: val_acc -- value: 0.9611666798591614\n"
     ]
    },
    {
     "name": "stderr",
     "output_type": "stream",
     "text": [
      "\r",
      " 93%|███████████████████████████████████████████████████████████████████████████▎     | 93/100 [03:14<00:14,  2.09s/it]"
     ]
    },
    {
     "name": "stdout",
     "output_type": "stream",
     "text": [
      "row_sum: (30000,) -- row_sum_sum: 30000\n",
      "torch.Size([30000, 10])  --  torch.Size([30000, 10])\n",
      "torch.Size([30000, 10])  --  torch.Size([30000, 10])\n",
      "torch.Size([30000, 10])  --  torch.Size([30000, 10])\n",
      "key: train_loss -- value: 0.08294165879487991\n",
      "key: train_acc -- value: 0.9771000146865845\n",
      "key: val_loss -- value: 0.13088855147361755\n",
      "key: val_acc -- value: 0.9614333510398865\n"
     ]
    },
    {
     "name": "stderr",
     "output_type": "stream",
     "text": [
      "\r",
      " 94%|████████████████████████████████████████████████████████████████████████████▏    | 94/100 [03:16<00:12,  2.09s/it]"
     ]
    },
    {
     "name": "stdout",
     "output_type": "stream",
     "text": [
      "row_sum: (30000,) -- row_sum_sum: 30000\n",
      "torch.Size([30000, 10])  --  torch.Size([30000, 10])\n",
      "torch.Size([30000, 10])  --  torch.Size([30000, 10])\n",
      "torch.Size([30000, 10])  --  torch.Size([30000, 10])\n",
      "key: train_loss -- value: 0.08205458521842957\n",
      "key: train_acc -- value: 0.9773666858673096\n",
      "key: val_loss -- value: 0.1302545666694641\n",
      "key: val_acc -- value: 0.9617999792098999\n"
     ]
    },
    {
     "name": "stderr",
     "output_type": "stream",
     "text": [
      "\r",
      " 95%|████████████████████████████████████████████████████████████████████████████▉    | 95/100 [03:18<00:10,  2.09s/it]"
     ]
    },
    {
     "name": "stdout",
     "output_type": "stream",
     "text": [
      "row_sum: (30000,) -- row_sum_sum: 30000\n",
      "torch.Size([30000, 10])  --  torch.Size([30000, 10])\n",
      "torch.Size([30000, 10])  --  torch.Size([30000, 10])\n",
      "torch.Size([30000, 10])  --  torch.Size([30000, 10])\n",
      "key: train_loss -- value: 0.08118137717247009\n",
      "key: train_acc -- value: 0.9776333570480347\n",
      "key: val_loss -- value: 0.1296270340681076\n",
      "key: val_acc -- value: 0.9619666934013367\n"
     ]
    },
    {
     "name": "stderr",
     "output_type": "stream",
     "text": [
      "\r",
      " 96%|█████████████████████████████████████████████████████████████████████████████▊   | 96/100 [03:20<00:08,  2.09s/it]"
     ]
    },
    {
     "name": "stdout",
     "output_type": "stream",
     "text": [
      "row_sum: (30000,) -- row_sum_sum: 30000\n",
      "torch.Size([30000, 10])  --  torch.Size([30000, 10])\n",
      "torch.Size([30000, 10])  --  torch.Size([30000, 10])\n",
      "torch.Size([30000, 10])  --  torch.Size([30000, 10])\n",
      "key: train_loss -- value: 0.08032336086034775\n",
      "key: train_acc -- value: 0.9780666828155518\n",
      "key: val_loss -- value: 0.12901204824447632\n",
      "key: val_acc -- value: 0.962066650390625\n"
     ]
    },
    {
     "name": "stderr",
     "output_type": "stream",
     "text": [
      "\r",
      " 97%|██████████████████████████████████████████████████████████████████████████████▌  | 97/100 [03:23<00:06,  2.09s/it]"
     ]
    },
    {
     "name": "stdout",
     "output_type": "stream",
     "text": [
      "row_sum: (30000,) -- row_sum_sum: 30000\n",
      "torch.Size([30000, 10])  --  torch.Size([30000, 10])\n",
      "torch.Size([30000, 10])  --  torch.Size([30000, 10])\n",
      "torch.Size([30000, 10])  --  torch.Size([30000, 10])\n",
      "key: train_loss -- value: 0.07947777956724167\n",
      "key: train_acc -- value: 0.9782000184059143\n",
      "key: val_loss -- value: 0.12841449677944183\n",
      "key: val_acc -- value: 0.962233304977417\n"
     ]
    },
    {
     "name": "stderr",
     "output_type": "stream",
     "text": [
      "\r",
      " 98%|███████████████████████████████████████████████████████████████████████████████▍ | 98/100 [03:25<00:04,  2.10s/it]"
     ]
    },
    {
     "name": "stdout",
     "output_type": "stream",
     "text": [
      "row_sum: (30000,) -- row_sum_sum: 30000\n",
      "torch.Size([30000, 10])  --  torch.Size([30000, 10])\n",
      "torch.Size([30000, 10])  --  torch.Size([30000, 10])\n",
      "torch.Size([30000, 10])  --  torch.Size([30000, 10])\n",
      "key: train_loss -- value: 0.0786447525024414\n",
      "key: train_acc -- value: 0.9783333539962769\n",
      "key: val_loss -- value: 0.12783664464950562\n",
      "key: val_acc -- value: 0.9624333381652832\n"
     ]
    },
    {
     "name": "stderr",
     "output_type": "stream",
     "text": [
      "\r",
      " 99%|████████████████████████████████████████████████████████████████████████████████▏| 99/100 [03:27<00:02,  2.09s/it]"
     ]
    },
    {
     "name": "stdout",
     "output_type": "stream",
     "text": [
      "row_sum: (30000,) -- row_sum_sum: 30000\n",
      "torch.Size([30000, 10])  --  torch.Size([30000, 10])\n",
      "torch.Size([30000, 10])  --  torch.Size([30000, 10])\n",
      "torch.Size([30000, 10])  --  torch.Size([30000, 10])\n",
      "key: train_loss -- value: 0.0778244361281395\n",
      "key: train_acc -- value: 0.9786333441734314\n",
      "key: val_loss -- value: 0.12727366387844086\n",
      "key: val_acc -- value: 0.9624666571617126\n"
     ]
    },
    {
     "name": "stderr",
     "output_type": "stream",
     "text": [
      "100%|████████████████████████████████████████████████████████████████████████████████| 100/100 [03:29<00:00,  2.09s/it]\n"
     ]
    },
    {
     "name": "stdout",
     "output_type": "stream",
     "text": [
      "torch.Size([10000, 10])  --  torch.Size([10000, 10])\n"
     ]
    }
   ],
   "source": [
    "model1, train1 = default_net_1(train_input, train_target, num_of_neurons=(784, 500, 10), activation='relu', lr=0.1, momentum_coef=0.9, weight_decay=0.2, p_dropout=0.0, num_of_epochs=100, val_split=0.5, verbose=0)\n",
    "test1 = model1.evaluate(test_input, test_target, return_pred=True)"
   ]
  },
  {
   "cell_type": "code",
   "execution_count": 43,
   "metadata": {},
   "outputs": [
    {
     "data": {
      "image/png": "[encoded data removed]",
      "text/plain": [
       "<matplotlib.figure.Figure at 0x1dba5fa4240>"
      ]
     },
     "execution_count": 43,
     "metadata": {},
     "output_type": "execute_result"
    }
   ],
   "source": [
    "plot_v2(train1, title=\"Model 1\")"
   ]
  },
  {
   "cell_type": "code",
   "execution_count": 45,
   "metadata": {},
   "outputs": [
    {
     "data": {
      "text/plain": [
       "(tensor(0.9645), 0.11656615883111954, tensor([ 7,  2,  1,  ...,  4,  5,  6]))"
      ]
     },
     "execution_count": 45,
     "metadata": {},
     "output_type": "execute_result"
    }
   ],
   "source": [
    "test1"
   ]
  },
  {
   "cell_type": "code",
   "execution_count": 46,
   "metadata": {},
   "outputs": [
    {
     "name": "stdout",
     "output_type": "stream",
     "text": [
      "Added Module Name: 0_Linear \n",
      "Added Module Name: 1_ReLU \n",
      "Added Module Name: 2_Dropout \n",
      "Added Module Name: 3_Linear \n",
      "Added Module Name: 4_ReLU \n",
      "Added Module Name: 5_Dropout \n",
      "Added Module Name: 6_Linear \n",
      "Added Module Name: 7_Softmax \n",
      "x_train.shape: torch.Size([30000, 784]) -- y_train.shape: torch.Size([30000, 10])\n",
      "x_val.shape: torch.Size([30000, 784]) -- y_val.shape: torch.Size([30000, 10])\n"
     ]
    },
    {
     "name": "stderr",
     "output_type": "stream",
     "text": [
      "\r",
      "  0%|                                                                                          | 0/100 [00:00<?, ?it/s]"
     ]
    },
    {
     "name": "stdout",
     "output_type": "stream",
     "text": [
      "row_sum: (30000,) -- row_sum_sum: 30000\n",
      "torch.Size([30000, 10])  --  torch.Size([30000, 10])\n",
      "torch.Size([30000, 10])  --  torch.Size([30000, 10])\n",
      "torch.Size([30000, 10])  --  torch.Size([30000, 10])\n",
      "key: train_loss -- value: 2.2313287258148193\n",
      "key: train_acc -- value: 0.1685333400964737\n",
      "key: val_loss -- value: 2.230912685394287\n",
      "key: val_acc -- value: 0.1674666702747345\n"
     ]
    },
    {
     "name": "stderr",
     "output_type": "stream",
     "text": [
      "\r",
      "  1%|▊                                                                                 | 1/100 [00:02<04:25,  2.68s/it]"
     ]
    },
    {
     "name": "stdout",
     "output_type": "stream",
     "text": [
      "row_sum: (30000,) -- row_sum_sum: 30000\n",
      "torch.Size([30000, 10])  --  torch.Size([30000, 10])\n",
      "torch.Size([30000, 10])  --  torch.Size([30000, 10])\n",
      "torch.Size([30000, 10])  --  torch.Size([30000, 10])\n",
      "key: train_loss -- value: 2.067253828048706\n",
      "key: train_acc -- value: 0.5042333602905273\n",
      "key: val_loss -- value: 2.065760850906372\n",
      "key: val_acc -- value: 0.5057666897773743\n"
     ]
    },
    {
     "name": "stderr",
     "output_type": "stream",
     "text": [
      "\r",
      "  2%|█▋                                                                                | 2/100 [00:05<04:17,  2.63s/it]"
     ]
    },
    {
     "name": "stdout",
     "output_type": "stream",
     "text": [
      "row_sum: (30000,) -- row_sum_sum: 30000\n",
      "torch.Size([30000, 10])  --  torch.Size([30000, 10])\n",
      "torch.Size([30000, 10])  --  torch.Size([30000, 10])\n",
      "torch.Size([30000, 10])  --  torch.Size([30000, 10])\n",
      "key: train_loss -- value: 1.86066472530365\n",
      "key: train_acc -- value: 0.61080002784729\n",
      "key: val_loss -- value: 1.8578664064407349\n",
      "key: val_acc -- value: 0.6120333075523376\n"
     ]
    },
    {
     "name": "stderr",
     "output_type": "stream",
     "text": [
      "\r",
      "  3%|██▍                                                                               | 3/100 [00:07<04:11,  2.59s/it]"
     ]
    },
    {
     "name": "stdout",
     "output_type": "stream",
     "text": [
      "row_sum: (30000,) -- row_sum_sum: 30000\n",
      "torch.Size([30000, 10])  --  torch.Size([30000, 10])\n",
      "torch.Size([30000, 10])  --  torch.Size([30000, 10])\n",
      "torch.Size([30000, 10])  --  torch.Size([30000, 10])\n",
      "key: train_loss -- value: 1.592950701713562\n",
      "key: train_acc -- value: 0.6687333583831787\n",
      "key: val_loss -- value: 1.5887540578842163\n",
      "key: val_acc -- value: 0.6699333190917969\n"
     ]
    },
    {
     "name": "stderr",
     "output_type": "stream",
     "text": [
      "\r",
      "  4%|███▎                                                                              | 4/100 [00:10<04:08,  2.59s/it]"
     ]
    },
    {
     "name": "stdout",
     "output_type": "stream",
     "text": [
      "row_sum: (30000,) -- row_sum_sum: 30000\n",
      "torch.Size([30000, 10])  --  torch.Size([30000, 10])\n",
      "torch.Size([30000, 10])  --  torch.Size([30000, 10])\n",
      "torch.Size([30000, 10])  --  torch.Size([30000, 10])\n",
      "key: train_loss -- value: 1.2700260877609253\n",
      "key: train_acc -- value: 0.7248666882514954\n",
      "key: val_loss -- value: 1.264357328414917\n",
      "key: val_acc -- value: 0.7263666391372681\n"
     ]
    },
    {
     "name": "stderr",
     "output_type": "stream",
     "text": [
      "\r",
      "  5%|████                                                                              | 5/100 [00:12<04:05,  2.59s/it]"
     ]
    },
    {
     "name": "stdout",
     "output_type": "stream",
     "text": [
      "row_sum: (30000,) -- row_sum_sum: 30000\n",
      "torch.Size([30000, 10])  --  torch.Size([30000, 10])\n",
      "torch.Size([30000, 10])  --  torch.Size([30000, 10])\n",
      "torch.Size([30000, 10])  --  torch.Size([30000, 10])\n",
      "key: train_loss -- value: 0.9638966917991638\n",
      "key: train_acc -- value: 0.7774333357810974\n",
      "key: val_loss -- value: 0.9561605453491211\n",
      "key: val_acc -- value: 0.7833666801452637\n"
     ]
    },
    {
     "name": "stderr",
     "output_type": "stream",
     "text": [
      "\r",
      "  6%|████▉                                                                             | 6/100 [00:15<04:02,  2.58s/it]"
     ]
    },
    {
     "name": "stdout",
     "output_type": "stream",
     "text": [
      "row_sum: (30000,) -- row_sum_sum: 30000\n",
      "torch.Size([30000, 10])  --  torch.Size([30000, 10])\n",
      "torch.Size([30000, 10])  --  torch.Size([30000, 10])\n",
      "torch.Size([30000, 10])  --  torch.Size([30000, 10])\n",
      "key: train_loss -- value: 0.7493395209312439\n",
      "key: train_acc -- value: 0.8077999949455261\n",
      "key: val_loss -- value: 0.740321934223175\n",
      "key: val_acc -- value: 0.8120999932289124\n"
     ]
    },
    {
     "name": "stderr",
     "output_type": "stream",
     "text": [
      "\r",
      "  7%|█████▋                                                                            | 7/100 [00:17<03:57,  2.56s/it]"
     ]
    },
    {
     "name": "stdout",
     "output_type": "stream",
     "text": [
      "row_sum: (30000,) -- row_sum_sum: 30000\n",
      "torch.Size([30000, 10])  --  torch.Size([30000, 10])\n",
      "torch.Size([30000, 10])  --  torch.Size([30000, 10])\n",
      "torch.Size([30000, 10])  --  torch.Size([30000, 10])\n",
      "key: train_loss -- value: 0.6226859092712402\n",
      "key: train_acc -- value: 0.8195000290870667\n",
      "key: val_loss -- value: 0.6131640672683716\n",
      "key: val_acc -- value: 0.8239333629608154\n"
     ]
    },
    {
     "name": "stderr",
     "output_type": "stream",
     "text": [
      "\r",
      "  8%|██████▌                                                                           | 8/100 [00:20<03:55,  2.56s/it]"
     ]
    },
    {
     "name": "stdout",
     "output_type": "stream",
     "text": [
      "row_sum: (30000,) -- row_sum_sum: 30000\n",
      "torch.Size([30000, 10])  --  torch.Size([30000, 10])\n",
      "torch.Size([30000, 10])  --  torch.Size([30000, 10])\n",
      "torch.Size([30000, 10])  --  torch.Size([30000, 10])\n",
      "key: train_loss -- value: 0.551338791847229\n",
      "key: train_acc -- value: 0.8232333064079285\n",
      "key: val_loss -- value: 0.5456318259239197\n",
      "key: val_acc -- value: 0.8282666802406311\n"
     ]
    },
    {
     "name": "stderr",
     "output_type": "stream",
     "text": [
      "\r",
      "  9%|███████▍                                                                          | 9/100 [00:23<03:53,  2.57s/it]"
     ]
    },
    {
     "name": "stdout",
     "output_type": "stream",
     "text": [
      "row_sum: (30000,) -- row_sum_sum: 30000\n",
      "torch.Size([30000, 10])  --  torch.Size([30000, 10])\n",
      "torch.Size([30000, 10])  --  torch.Size([30000, 10])\n",
      "torch.Size([30000, 10])  --  torch.Size([30000, 10])\n",
      "key: train_loss -- value: 0.5289865136146545\n",
      "key: train_acc -- value: 0.833133339881897\n",
      "key: val_loss -- value: 0.5217936038970947\n",
      "key: val_acc -- value: 0.8355000019073486\n"
     ]
    },
    {
     "name": "stderr",
     "output_type": "stream",
     "text": [
      "\r",
      " 10%|████████                                                                         | 10/100 [00:25<03:50,  2.56s/it]"
     ]
    },
    {
     "name": "stdout",
     "output_type": "stream",
     "text": [
      "row_sum: (30000,) -- row_sum_sum: 30000\n",
      "torch.Size([30000, 10])  --  torch.Size([30000, 10])\n",
      "torch.Size([30000, 10])  --  torch.Size([30000, 10])\n",
      "torch.Size([30000, 10])  --  torch.Size([30000, 10])\n",
      "key: train_loss -- value: 0.5737429857254028\n",
      "key: train_acc -- value: 0.8062666654586792\n",
      "key: val_loss -- value: 0.5659000873565674\n",
      "key: val_acc -- value: 0.8099333047866821\n"
     ]
    },
    {
     "name": "stderr",
     "output_type": "stream",
     "text": [
      "\r",
      " 11%|████████▉                                                                        | 11/100 [00:28<03:48,  2.56s/it]"
     ]
    },
    {
     "name": "stdout",
     "output_type": "stream",
     "text": [
      "row_sum: (30000,) -- row_sum_sum: 30000\n",
      "torch.Size([30000, 10])  --  torch.Size([30000, 10])\n",
      "torch.Size([30000, 10])  --  torch.Size([30000, 10])\n",
      "torch.Size([30000, 10])  --  torch.Size([30000, 10])\n",
      "key: train_loss -- value: 1.00543212890625\n",
      "key: train_acc -- value: 0.7851999998092651\n",
      "key: val_loss -- value: 0.9951137900352478\n",
      "key: val_acc -- value: 0.7872999906539917\n"
     ]
    },
    {
     "name": "stderr",
     "output_type": "stream",
     "text": [
      "\r",
      " 12%|█████████▋                                                                       | 12/100 [00:30<03:44,  2.55s/it]"
     ]
    },
    {
     "name": "stdout",
     "output_type": "stream",
     "text": [
      "row_sum: (30000,) -- row_sum_sum: 30000\n",
      "torch.Size([30000, 10])  --  torch.Size([30000, 10])\n",
      "torch.Size([30000, 10])  --  torch.Size([30000, 10])\n",
      "torch.Size([30000, 10])  --  torch.Size([30000, 10])\n",
      "key: train_loss -- value: 0.8943419456481934\n",
      "key: train_acc -- value: 0.791533350944519\n",
      "key: val_loss -- value: 0.8807002902030945\n",
      "key: val_acc -- value: 0.7918333411216736\n"
     ]
    },
    {
     "name": "stderr",
     "output_type": "stream",
     "text": [
      "\r",
      " 13%|██████████▌                                                                      | 13/100 [00:32<03:40,  2.54s/it]"
     ]
    },
    {
     "name": "stdout",
     "output_type": "stream",
     "text": [
      "row_sum: (30000,) -- row_sum_sum: 30000\n",
      "torch.Size([30000, 10])  --  torch.Size([30000, 10])\n",
      "torch.Size([30000, 10])  --  torch.Size([30000, 10])\n",
      "torch.Size([30000, 10])  --  torch.Size([30000, 10])\n",
      "key: train_loss -- value: 0.581473171710968\n",
      "key: train_acc -- value: 0.850433349609375\n",
      "key: val_loss -- value: 0.5742735862731934\n",
      "key: val_acc -- value: 0.8531333208084106\n"
     ]
    },
    {
     "name": "stderr",
     "output_type": "stream",
     "text": [
      "\r",
      " 14%|███████████▎                                                                     | 14/100 [00:35<03:37,  2.53s/it]"
     ]
    },
    {
     "name": "stdout",
     "output_type": "stream",
     "text": [
      "row_sum: (30000,) -- row_sum_sum: 30000\n",
      "torch.Size([30000, 10])  --  torch.Size([30000, 10])\n",
      "torch.Size([30000, 10])  --  torch.Size([30000, 10])\n",
      "torch.Size([30000, 10])  --  torch.Size([30000, 10])\n",
      "key: train_loss -- value: 0.8186296224594116\n",
      "key: train_acc -- value: 0.7842333316802979\n",
      "key: val_loss -- value: 0.822333812713623\n",
      "key: val_acc -- value: 0.7846333384513855\n"
     ]
    },
    {
     "name": "stderr",
     "output_type": "stream",
     "text": [
      "\r",
      " 15%|████████████▏                                                                    | 15/100 [00:38<03:35,  2.54s/it]"
     ]
    },
    {
     "name": "stdout",
     "output_type": "stream",
     "text": [
      "row_sum: (30000,) -- row_sum_sum: 30000\n",
      "torch.Size([30000, 10])  --  torch.Size([30000, 10])\n",
      "torch.Size([30000, 10])  --  torch.Size([30000, 10])\n",
      "torch.Size([30000, 10])  --  torch.Size([30000, 10])\n",
      "key: train_loss -- value: 0.9881188869476318\n",
      "key: train_acc -- value: 0.7573666572570801\n",
      "key: val_loss -- value: 0.994802713394165\n",
      "key: val_acc -- value: 0.7565000057220459\n"
     ]
    },
    {
     "name": "stderr",
     "output_type": "stream",
     "text": [
      "\r",
      " 16%|████████████▉                                                                    | 16/100 [00:40<03:33,  2.54s/it]"
     ]
    },
    {
     "name": "stdout",
     "output_type": "stream",
     "text": [
      "row_sum: (30000,) -- row_sum_sum: 30000\n",
      "torch.Size([30000, 10])  --  torch.Size([30000, 10])\n",
      "torch.Size([30000, 10])  --  torch.Size([30000, 10])\n",
      "torch.Size([30000, 10])  --  torch.Size([30000, 10])\n",
      "key: train_loss -- value: 0.7917078137397766\n",
      "key: train_acc -- value: 0.8037333488464355\n",
      "key: val_loss -- value: 0.7883415818214417\n",
      "key: val_acc -- value: 0.8045666813850403\n"
     ]
    },
    {
     "name": "stderr",
     "output_type": "stream",
     "text": [
      "\r",
      " 17%|█████████████▊                                                                   | 17/100 [00:43<03:30,  2.54s/it]"
     ]
    },
    {
     "name": "stdout",
     "output_type": "stream",
     "text": [
      "row_sum: (30000,) -- row_sum_sum: 30000\n",
      "torch.Size([30000, 10])  --  torch.Size([30000, 10])\n",
      "torch.Size([30000, 10])  --  torch.Size([30000, 10])\n",
      "torch.Size([30000, 10])  --  torch.Size([30000, 10])\n",
      "key: train_loss -- value: 0.606428325176239\n",
      "key: train_acc -- value: 0.8474000096321106\n",
      "key: val_loss -- value: 0.6120988130569458\n",
      "key: val_acc -- value: 0.8468999862670898\n"
     ]
    },
    {
     "name": "stderr",
     "output_type": "stream",
     "text": [
      "\r",
      " 18%|██████████████▌                                                                  | 18/100 [00:45<03:29,  2.55s/it]"
     ]
    },
    {
     "name": "stdout",
     "output_type": "stream",
     "text": [
      "row_sum: (30000,) -- row_sum_sum: 30000\n",
      "torch.Size([30000, 10])  --  torch.Size([30000, 10])\n",
      "torch.Size([30000, 10])  --  torch.Size([30000, 10])\n",
      "torch.Size([30000, 10])  --  torch.Size([30000, 10])\n",
      "key: train_loss -- value: 0.6517236828804016\n",
      "key: train_acc -- value: 0.8283666372299194\n",
      "key: val_loss -- value: 0.6590279340744019\n",
      "key: val_acc -- value: 0.8295000195503235\n"
     ]
    },
    {
     "name": "stderr",
     "output_type": "stream",
     "text": [
      "\r",
      " 19%|███████████████▍                                                                 | 19/100 [00:48<03:27,  2.57s/it]"
     ]
    },
    {
     "name": "stdout",
     "output_type": "stream",
     "text": [
      "row_sum: (30000,) -- row_sum_sum: 30000\n",
      "torch.Size([30000, 10])  --  torch.Size([30000, 10])\n",
      "torch.Size([30000, 10])  --  torch.Size([30000, 10])\n",
      "torch.Size([30000, 10])  --  torch.Size([30000, 10])\n",
      "key: train_loss -- value: 0.5074608325958252\n",
      "key: train_acc -- value: 0.8568000197410583\n",
      "key: val_loss -- value: 0.5192280411720276\n",
      "key: val_acc -- value: 0.8570666909217834\n"
     ]
    },
    {
     "name": "stderr",
     "output_type": "stream",
     "text": [
      "\r",
      " 20%|████████████████▏                                                                | 20/100 [00:51<03:26,  2.58s/it]"
     ]
    },
    {
     "name": "stdout",
     "output_type": "stream",
     "text": [
      "row_sum: (30000,) -- row_sum_sum: 30000\n",
      "torch.Size([30000, 10])  --  torch.Size([30000, 10])\n",
      "torch.Size([30000, 10])  --  torch.Size([30000, 10])\n",
      "torch.Size([30000, 10])  --  torch.Size([30000, 10])\n",
      "key: train_loss -- value: 0.40024521946907043\n",
      "key: train_acc -- value: 0.8770333528518677\n",
      "key: val_loss -- value: 0.40831318497657776\n",
      "key: val_acc -- value: 0.8772333264350891\n"
     ]
    },
    {
     "name": "stderr",
     "output_type": "stream",
     "text": [
      "\r",
      " 21%|█████████████████                                                                | 21/100 [00:54<03:24,  2.59s/it]"
     ]
    },
    {
     "name": "stdout",
     "output_type": "stream",
     "text": [
      "row_sum: (30000,) -- row_sum_sum: 30000\n",
      "torch.Size([30000, 10])  --  torch.Size([30000, 10])\n",
      "torch.Size([30000, 10])  --  torch.Size([30000, 10])\n",
      "torch.Size([30000, 10])  --  torch.Size([30000, 10])\n",
      "key: train_loss -- value: 0.3921004831790924\n",
      "key: train_acc -- value: 0.8759666681289673\n",
      "key: val_loss -- value: 0.39782994985580444\n",
      "key: val_acc -- value: 0.8784000277519226\n"
     ]
    },
    {
     "name": "stderr",
     "output_type": "stream",
     "text": [
      "\r",
      " 22%|█████████████████▊                                                               | 22/100 [00:57<03:22,  2.60s/it]"
     ]
    },
    {
     "name": "stdout",
     "output_type": "stream",
     "text": [
      "row_sum: (30000,) -- row_sum_sum: 30000\n",
      "torch.Size([30000, 10])  --  torch.Size([30000, 10])\n",
      "torch.Size([30000, 10])  --  torch.Size([30000, 10])\n",
      "torch.Size([30000, 10])  --  torch.Size([30000, 10])\n",
      "key: train_loss -- value: 0.4277815818786621\n",
      "key: train_acc -- value: 0.8683000206947327\n",
      "key: val_loss -- value: 0.43208011984825134\n",
      "key: val_acc -- value: 0.8687333464622498\n"
     ]
    },
    {
     "name": "stderr",
     "output_type": "stream",
     "text": [
      "\r",
      " 23%|██████████████████▋                                                              | 23/100 [01:00<03:20,  2.61s/it]"
     ]
    },
    {
     "name": "stdout",
     "output_type": "stream",
     "text": [
      "row_sum: (30000,) -- row_sum_sum: 30000\n",
      "torch.Size([30000, 10])  --  torch.Size([30000, 10])\n",
      "torch.Size([30000, 10])  --  torch.Size([30000, 10])\n",
      "torch.Size([30000, 10])  --  torch.Size([30000, 10])\n",
      "key: train_loss -- value: 0.4228748381137848\n",
      "key: train_acc -- value: 0.8734999895095825\n",
      "key: val_loss -- value: 0.42747190594673157\n",
      "key: val_acc -- value: 0.8730666637420654\n"
     ]
    },
    {
     "name": "stderr",
     "output_type": "stream",
     "text": [
      "\r",
      " 24%|███████████████████▍                                                             | 24/100 [01:02<03:19,  2.62s/it]"
     ]
    },
    {
     "name": "stdout",
     "output_type": "stream",
     "text": [
      "row_sum: (30000,) -- row_sum_sum: 30000\n",
      "torch.Size([30000, 10])  --  torch.Size([30000, 10])\n",
      "torch.Size([30000, 10])  --  torch.Size([30000, 10])\n",
      "torch.Size([30000, 10])  --  torch.Size([30000, 10])\n",
      "key: train_loss -- value: 0.38445693254470825\n",
      "key: train_acc -- value: 0.8936333060264587\n",
      "key: val_loss -- value: 0.3899141550064087\n",
      "key: val_acc -- value: 0.8911333084106445\n"
     ]
    },
    {
     "name": "stderr",
     "output_type": "stream",
     "text": [
      "\r",
      " 25%|████████████████████▎                                                            | 25/100 [01:05<03:16,  2.62s/it]"
     ]
    },
    {
     "name": "stdout",
     "output_type": "stream",
     "text": [
      "row_sum: (30000,) -- row_sum_sum: 30000\n",
      "torch.Size([30000, 10])  --  torch.Size([30000, 10])\n",
      "torch.Size([30000, 10])  --  torch.Size([30000, 10])\n",
      "torch.Size([30000, 10])  --  torch.Size([30000, 10])\n",
      "key: train_loss -- value: 0.3620007634162903\n",
      "key: train_acc -- value: 0.9019666910171509\n",
      "key: val_loss -- value: 0.36795443296432495\n",
      "key: val_acc -- value: 0.9012666940689087\n"
     ]
    },
    {
     "name": "stderr",
     "output_type": "stream",
     "text": [
      "\r",
      " 26%|█████████████████████                                                            | 26/100 [01:08<03:14,  2.63s/it]"
     ]
    },
    {
     "name": "stdout",
     "output_type": "stream",
     "text": [
      "row_sum: (30000,) -- row_sum_sum: 30000\n",
      "torch.Size([30000, 10])  --  torch.Size([30000, 10])\n",
      "torch.Size([30000, 10])  --  torch.Size([30000, 10])\n",
      "torch.Size([30000, 10])  --  torch.Size([30000, 10])\n",
      "key: train_loss -- value: 0.3539033532142639\n",
      "key: train_acc -- value: 0.9033666849136353\n",
      "key: val_loss -- value: 0.36077287793159485\n",
      "key: val_acc -- value: 0.9023333191871643\n"
     ]
    },
    {
     "name": "stderr",
     "output_type": "stream",
     "text": [
      "\r",
      " 27%|█████████████████████▊                                                           | 27/100 [01:11<03:12,  2.64s/it]"
     ]
    },
    {
     "name": "stdout",
     "output_type": "stream",
     "text": [
      "row_sum: (30000,) -- row_sum_sum: 30000\n",
      "torch.Size([30000, 10])  --  torch.Size([30000, 10])\n",
      "torch.Size([30000, 10])  --  torch.Size([30000, 10])\n",
      "torch.Size([30000, 10])  --  torch.Size([30000, 10])\n",
      "key: train_loss -- value: 0.3488885760307312\n",
      "key: train_acc -- value: 0.9020333290100098\n",
      "key: val_loss -- value: 0.35736820101737976\n",
      "key: val_acc -- value: 0.9005333185195923\n"
     ]
    },
    {
     "name": "stderr",
     "output_type": "stream",
     "text": [
      "\r",
      " 28%|██████████████████████▋                                                          | 28/100 [01:14<03:10,  2.65s/it]"
     ]
    },
    {
     "name": "stdout",
     "output_type": "stream",
     "text": [
      "row_sum: (30000,) -- row_sum_sum: 30000\n",
      "torch.Size([30000, 10])  --  torch.Size([30000, 10])\n",
      "torch.Size([30000, 10])  --  torch.Size([30000, 10])\n",
      "torch.Size([30000, 10])  --  torch.Size([30000, 10])\n",
      "key: train_loss -- value: 0.3380626440048218\n",
      "key: train_acc -- value: 0.9011333584785461\n",
      "key: val_loss -- value: 0.3484440743923187\n",
      "key: val_acc -- value: 0.8991333246231079\n"
     ]
    },
    {
     "name": "stderr",
     "output_type": "stream",
     "text": [
      "\r",
      " 29%|███████████████████████▍                                                         | 29/100 [01:16<03:08,  2.65s/it]"
     ]
    },
    {
     "name": "stdout",
     "output_type": "stream",
     "text": [
      "row_sum: (30000,) -- row_sum_sum: 30000\n",
      "torch.Size([30000, 10])  --  torch.Size([30000, 10])\n",
      "torch.Size([30000, 10])  --  torch.Size([30000, 10])\n",
      "torch.Size([30000, 10])  --  torch.Size([30000, 10])\n",
      "key: train_loss -- value: 0.32093462347984314\n",
      "key: train_acc -- value: 0.9032666683197021\n",
      "key: val_loss -- value: 0.3329574763774872\n",
      "key: val_acc -- value: 0.9001333117485046\n"
     ]
    },
    {
     "name": "stderr",
     "output_type": "stream",
     "text": [
      "\r",
      " 30%|████████████████████████▎                                                        | 30/100 [01:19<03:06,  2.66s/it]"
     ]
    },
    {
     "name": "stdout",
     "output_type": "stream",
     "text": [
      "row_sum: (30000,) -- row_sum_sum: 30000\n",
      "torch.Size([30000, 10])  --  torch.Size([30000, 10])\n",
      "torch.Size([30000, 10])  --  torch.Size([30000, 10])\n",
      "torch.Size([30000, 10])  --  torch.Size([30000, 10])\n",
      "key: train_loss -- value: 0.30124935507774353\n",
      "key: train_acc -- value: 0.9075000286102295\n",
      "key: val_loss -- value: 0.3143121302127838\n",
      "key: val_acc -- value: 0.9051333069801331\n"
     ]
    },
    {
     "name": "stderr",
     "output_type": "stream",
     "text": [
      "\r",
      " 31%|█████████████████████████                                                        | 31/100 [01:23<03:04,  2.68s/it]"
     ]
    },
    {
     "name": "stdout",
     "output_type": "stream",
     "text": [
      "row_sum: (30000,) -- row_sum_sum: 30000\n",
      "torch.Size([30000, 10])  --  torch.Size([30000, 10])\n",
      "torch.Size([30000, 10])  --  torch.Size([30000, 10])\n",
      "torch.Size([30000, 10])  --  torch.Size([30000, 10])\n",
      "key: train_loss -- value: 0.2801320254802704\n",
      "key: train_acc -- value: 0.9136333465576172\n",
      "key: val_loss -- value: 0.29387420415878296\n",
      "key: val_acc -- value: 0.9111999869346619\n"
     ]
    },
    {
     "name": "stderr",
     "output_type": "stream",
     "text": [
      "\r",
      " 32%|█████████████████████████▉                                                       | 32/100 [01:26<03:02,  2.69s/it]"
     ]
    },
    {
     "name": "stdout",
     "output_type": "stream",
     "text": [
      "row_sum: (30000,) -- row_sum_sum: 30000\n",
      "torch.Size([30000, 10])  --  torch.Size([30000, 10])\n",
      "torch.Size([30000, 10])  --  torch.Size([30000, 10])\n",
      "torch.Size([30000, 10])  --  torch.Size([30000, 10])\n",
      "key: train_loss -- value: 0.25942108035087585\n",
      "key: train_acc -- value: 0.920199990272522\n",
      "key: val_loss -- value: 0.27356281876564026\n",
      "key: val_acc -- value: 0.917900025844574\n"
     ]
    },
    {
     "name": "stderr",
     "output_type": "stream",
     "text": [
      "\r",
      " 33%|██████████████████████████▋                                                      | 33/100 [01:28<03:00,  2.70s/it]"
     ]
    },
    {
     "name": "stdout",
     "output_type": "stream",
     "text": [
      "row_sum: (30000,) -- row_sum_sum: 30000\n",
      "torch.Size([30000, 10])  --  torch.Size([30000, 10])\n",
      "torch.Size([30000, 10])  --  torch.Size([30000, 10])\n",
      "torch.Size([30000, 10])  --  torch.Size([30000, 10])\n",
      "key: train_loss -- value: 0.24537695944309235\n",
      "key: train_acc -- value: 0.9254999756813049\n",
      "key: val_loss -- value: 0.2595939338207245\n",
      "key: val_acc -- value: 0.9221000075340271\n"
     ]
    },
    {
     "name": "stderr",
     "output_type": "stream",
     "text": [
      "\r",
      " 34%|███████████████████████████▌                                                     | 34/100 [01:31<02:58,  2.70s/it]"
     ]
    },
    {
     "name": "stdout",
     "output_type": "stream",
     "text": [
      "row_sum: (30000,) -- row_sum_sum: 30000\n",
      "torch.Size([30000, 10])  --  torch.Size([30000, 10])\n",
      "torch.Size([30000, 10])  --  torch.Size([30000, 10])\n",
      "torch.Size([30000, 10])  --  torch.Size([30000, 10])\n",
      "key: train_loss -- value: 0.24358661472797394\n",
      "key: train_acc -- value: 0.9271000027656555\n",
      "key: val_loss -- value: 0.25777333974838257\n",
      "key: val_acc -- value: 0.9222333431243896\n"
     ]
    },
    {
     "name": "stderr",
     "output_type": "stream",
     "text": [
      "\r",
      " 35%|████████████████████████████▎                                                    | 35/100 [01:34<02:55,  2.70s/it]"
     ]
    },
    {
     "name": "stdout",
     "output_type": "stream",
     "text": [
      "row_sum: (30000,) -- row_sum_sum: 30000\n",
      "torch.Size([30000, 10])  --  torch.Size([30000, 10])\n",
      "torch.Size([30000, 10])  --  torch.Size([30000, 10])\n",
      "torch.Size([30000, 10])  --  torch.Size([30000, 10])\n",
      "key: train_loss -- value: 0.24879507720470428\n",
      "key: train_acc -- value: 0.9257333278656006\n",
      "key: val_loss -- value: 0.2632703483104706\n",
      "key: val_acc -- value: 0.9217000007629395\n"
     ]
    },
    {
     "name": "stderr",
     "output_type": "stream",
     "text": [
      "\r",
      " 36%|█████████████████████████████▏                                                   | 36/100 [01:37<02:53,  2.70s/it]"
     ]
    },
    {
     "name": "stdout",
     "output_type": "stream",
     "text": [
      "row_sum: (30000,) -- row_sum_sum: 30000\n",
      "torch.Size([30000, 10])  --  torch.Size([30000, 10])\n",
      "torch.Size([30000, 10])  --  torch.Size([30000, 10])\n",
      "torch.Size([30000, 10])  --  torch.Size([30000, 10])\n",
      "key: train_loss -- value: 0.2484935224056244\n",
      "key: train_acc -- value: 0.925433337688446\n",
      "key: val_loss -- value: 0.2636619508266449\n",
      "key: val_acc -- value: 0.9217666387557983\n"
     ]
    },
    {
     "name": "stderr",
     "output_type": "stream",
     "text": [
      "\r",
      " 37%|█████████████████████████████▉                                                   | 37/100 [01:40<02:50,  2.71s/it]"
     ]
    },
    {
     "name": "stdout",
     "output_type": "stream",
     "text": [
      "row_sum: (30000,) -- row_sum_sum: 30000\n",
      "torch.Size([30000, 10])  --  torch.Size([30000, 10])\n",
      "torch.Size([30000, 10])  --  torch.Size([30000, 10])\n",
      "torch.Size([30000, 10])  --  torch.Size([30000, 10])\n",
      "key: train_loss -- value: 0.23794656991958618\n",
      "key: train_acc -- value: 0.9279999732971191\n",
      "key: val_loss -- value: 0.25417304039001465\n",
      "key: val_acc -- value: 0.9245666861534119\n"
     ]
    },
    {
     "name": "stderr",
     "output_type": "stream",
     "text": [
      "\r",
      " 38%|██████████████████████████████▊                                                  | 38/100 [01:43<02:48,  2.71s/it]"
     ]
    },
    {
     "name": "stdout",
     "output_type": "stream",
     "text": [
      "row_sum: (30000,) -- row_sum_sum: 30000\n",
      "torch.Size([30000, 10])  --  torch.Size([30000, 10])\n",
      "torch.Size([30000, 10])  --  torch.Size([30000, 10])\n",
      "torch.Size([30000, 10])  --  torch.Size([30000, 10])\n",
      "key: train_loss -- value: 0.22480887174606323\n",
      "key: train_acc -- value: 0.9322333335876465\n",
      "key: val_loss -- value: 0.2424018234014511\n",
      "key: val_acc -- value: 0.9272333383560181\n"
     ]
    },
    {
     "name": "stderr",
     "output_type": "stream",
     "text": [
      "\r",
      " 39%|███████████████████████████████▌                                                 | 39/100 [01:45<02:45,  2.72s/it]"
     ]
    },
    {
     "name": "stdout",
     "output_type": "stream",
     "text": [
      "row_sum: (30000,) -- row_sum_sum: 30000\n",
      "torch.Size([30000, 10])  --  torch.Size([30000, 10])\n",
      "torch.Size([30000, 10])  --  torch.Size([30000, 10])\n",
      "torch.Size([30000, 10])  --  torch.Size([30000, 10])\n",
      "key: train_loss -- value: 0.21667498350143433\n",
      "key: train_acc -- value: 0.9332333207130432\n",
      "key: val_loss -- value: 0.23574429750442505\n",
      "key: val_acc -- value: 0.9288333058357239\n"
     ]
    },
    {
     "name": "stderr",
     "output_type": "stream",
     "text": [
      "\r",
      " 40%|████████████████████████████████▍                                                | 40/100 [01:48<02:43,  2.72s/it]"
     ]
    },
    {
     "name": "stdout",
     "output_type": "stream",
     "text": [
      "row_sum: (30000,) -- row_sum_sum: 30000\n",
      "torch.Size([30000, 10])  --  torch.Size([30000, 10])\n",
      "torch.Size([30000, 10])  --  torch.Size([30000, 10])\n",
      "torch.Size([30000, 10])  --  torch.Size([30000, 10])\n",
      "key: train_loss -- value: 0.2129306197166443\n",
      "key: train_acc -- value: 0.9337000250816345\n",
      "key: val_loss -- value: 0.2332790195941925\n",
      "key: val_acc -- value: 0.9300333261489868\n"
     ]
    },
    {
     "name": "stderr",
     "output_type": "stream",
     "text": [
      "\r",
      " 41%|█████████████████████████████████▏                                               | 41/100 [01:51<02:40,  2.72s/it]"
     ]
    },
    {
     "name": "stdout",
     "output_type": "stream",
     "text": [
      "row_sum: (30000,) -- row_sum_sum: 30000\n",
      "torch.Size([30000, 10])  --  torch.Size([30000, 10])\n",
      "torch.Size([30000, 10])  --  torch.Size([30000, 10])\n",
      "torch.Size([30000, 10])  --  torch.Size([30000, 10])\n",
      "key: train_loss -- value: 0.20959588885307312\n",
      "key: train_acc -- value: 0.9348666667938232\n",
      "key: val_loss -- value: 0.23081865906715393\n",
      "key: val_acc -- value: 0.9300666451454163\n"
     ]
    },
    {
     "name": "stderr",
     "output_type": "stream",
     "text": [
      "\r",
      " 42%|██████████████████████████████████                                               | 42/100 [01:54<02:37,  2.72s/it]"
     ]
    },
    {
     "name": "stdout",
     "output_type": "stream",
     "text": [
      "row_sum: (30000,) -- row_sum_sum: 30000\n",
      "torch.Size([30000, 10])  --  torch.Size([30000, 10])\n",
      "torch.Size([30000, 10])  --  torch.Size([30000, 10])\n",
      "torch.Size([30000, 10])  --  torch.Size([30000, 10])\n",
      "key: train_loss -- value: 0.20595067739486694\n",
      "key: train_acc -- value: 0.9361000061035156\n",
      "key: val_loss -- value: 0.22750891745090485\n",
      "key: val_acc -- value: 0.9316333532333374\n"
     ]
    },
    {
     "name": "stderr",
     "output_type": "stream",
     "text": [
      "\r",
      " 43%|██████████████████████████████████▊                                              | 43/100 [01:56<02:35,  2.72s/it]"
     ]
    },
    {
     "name": "stdout",
     "output_type": "stream",
     "text": [
      "row_sum: (30000,) -- row_sum_sum: 30000\n",
      "torch.Size([30000, 10])  --  torch.Size([30000, 10])\n",
      "torch.Size([30000, 10])  --  torch.Size([30000, 10])\n",
      "torch.Size([30000, 10])  --  torch.Size([30000, 10])\n",
      "key: train_loss -- value: 0.2026202529668808\n",
      "key: train_acc -- value: 0.9377666711807251\n",
      "key: val_loss -- value: 0.22406229376792908\n",
      "key: val_acc -- value: 0.9330000281333923\n"
     ]
    },
    {
     "name": "stderr",
     "output_type": "stream",
     "text": [
      "\r",
      " 44%|███████████████████████████████████▋                                             | 44/100 [01:59<02:32,  2.72s/it]"
     ]
    },
    {
     "name": "stdout",
     "output_type": "stream",
     "text": [
      "row_sum: (30000,) -- row_sum_sum: 30000\n",
      "torch.Size([30000, 10])  --  torch.Size([30000, 10])\n",
      "torch.Size([30000, 10])  --  torch.Size([30000, 10])\n",
      "torch.Size([30000, 10])  --  torch.Size([30000, 10])\n",
      "key: train_loss -- value: 0.19852720201015472\n",
      "key: train_acc -- value: 0.9391000270843506\n",
      "key: val_loss -- value: 0.2196265161037445\n",
      "key: val_acc -- value: 0.934333324432373\n"
     ]
    },
    {
     "name": "stderr",
     "output_type": "stream",
     "text": [
      "\r",
      " 45%|████████████████████████████████████▍                                            | 45/100 [02:02<02:29,  2.72s/it]"
     ]
    },
    {
     "name": "stdout",
     "output_type": "stream",
     "text": [
      "row_sum: (30000,) -- row_sum_sum: 30000\n",
      "torch.Size([30000, 10])  --  torch.Size([30000, 10])\n",
      "torch.Size([30000, 10])  --  torch.Size([30000, 10])\n",
      "torch.Size([30000, 10])  --  torch.Size([30000, 10])\n",
      "key: train_loss -- value: 0.19259971380233765\n",
      "key: train_acc -- value: 0.941433310508728\n",
      "key: val_loss -- value: 0.21338804066181183\n",
      "key: val_acc -- value: 0.9359333515167236\n"
     ]
    },
    {
     "name": "stderr",
     "output_type": "stream",
     "text": [
      "\r",
      " 46%|█████████████████████████████████████▎                                           | 46/100 [02:05<02:26,  2.72s/it]"
     ]
    },
    {
     "name": "stdout",
     "output_type": "stream",
     "text": [
      "row_sum: (30000,) -- row_sum_sum: 30000\n",
      "torch.Size([30000, 10])  --  torch.Size([30000, 10])\n",
      "torch.Size([30000, 10])  --  torch.Size([30000, 10])\n",
      "torch.Size([30000, 10])  --  torch.Size([30000, 10])\n",
      "key: train_loss -- value: 0.18584531545639038\n",
      "key: train_acc -- value: 0.9435333609580994\n",
      "key: val_loss -- value: 0.2065194845199585\n",
      "key: val_acc -- value: 0.9379000067710876\n"
     ]
    },
    {
     "name": "stderr",
     "output_type": "stream",
     "text": [
      "\r",
      " 47%|██████████████████████████████████████                                           | 47/100 [02:07<02:24,  2.72s/it]"
     ]
    },
    {
     "name": "stdout",
     "output_type": "stream",
     "text": [
      "row_sum: (30000,) -- row_sum_sum: 30000\n",
      "torch.Size([30000, 10])  --  torch.Size([30000, 10])\n",
      "torch.Size([30000, 10])  --  torch.Size([30000, 10])\n",
      "torch.Size([30000, 10])  --  torch.Size([30000, 10])\n",
      "key: train_loss -- value: 0.18014590442180634\n",
      "key: train_acc -- value: 0.9450666904449463\n",
      "key: val_loss -- value: 0.20098289847373962\n",
      "key: val_acc -- value: 0.9390000104904175\n"
     ]
    },
    {
     "name": "stderr",
     "output_type": "stream",
     "text": [
      "\r",
      " 48%|██████████████████████████████████████▉                                          | 48/100 [02:10<02:21,  2.72s/it]"
     ]
    },
    {
     "name": "stdout",
     "output_type": "stream",
     "text": [
      "row_sum: (30000,) -- row_sum_sum: 30000\n",
      "torch.Size([30000, 10])  --  torch.Size([30000, 10])\n",
      "torch.Size([30000, 10])  --  torch.Size([30000, 10])\n",
      "torch.Size([30000, 10])  --  torch.Size([30000, 10])\n",
      "key: train_loss -- value: 0.17636246979236603\n",
      "key: train_acc -- value: 0.9465333223342896\n",
      "key: val_loss -- value: 0.19756029546260834\n",
      "key: val_acc -- value: 0.9394000172615051\n"
     ]
    },
    {
     "name": "stderr",
     "output_type": "stream",
     "text": [
      "\r",
      " 49%|███████████████████████████████████████▋                                         | 49/100 [02:13<02:18,  2.72s/it]"
     ]
    },
    {
     "name": "stdout",
     "output_type": "stream",
     "text": [
      "row_sum: (30000,) -- row_sum_sum: 30000\n",
      "torch.Size([30000, 10])  --  torch.Size([30000, 10])\n",
      "torch.Size([30000, 10])  --  torch.Size([30000, 10])\n",
      "torch.Size([30000, 10])  --  torch.Size([30000, 10])\n",
      "key: train_loss -- value: 0.17403537034988403\n",
      "key: train_acc -- value: 0.9470666646957397\n",
      "key: val_loss -- value: 0.19568189978599548\n",
      "key: val_acc -- value: 0.9405666589736938\n"
     ]
    },
    {
     "name": "stderr",
     "output_type": "stream",
     "text": [
      "\r",
      " 50%|████████████████████████████████████████▌                                        | 50/100 [02:16<02:16,  2.73s/it]"
     ]
    },
    {
     "name": "stdout",
     "output_type": "stream",
     "text": [
      "row_sum: (30000,) -- row_sum_sum: 30000\n",
      "torch.Size([30000, 10])  --  torch.Size([30000, 10])\n",
      "torch.Size([30000, 10])  --  torch.Size([30000, 10])\n",
      "torch.Size([30000, 10])  --  torch.Size([30000, 10])\n",
      "key: train_loss -- value: 0.17215923964977264\n",
      "key: train_acc -- value: 0.9474999904632568\n",
      "key: val_loss -- value: 0.19422408938407898\n",
      "key: val_acc -- value: 0.940666675567627\n"
     ]
    },
    {
     "name": "stderr",
     "output_type": "stream",
     "text": [
      "\r",
      " 51%|█████████████████████████████████████████▎                                       | 51/100 [02:19<02:13,  2.73s/it]"
     ]
    },
    {
     "name": "stdout",
     "output_type": "stream",
     "text": [
      "row_sum: (30000,) -- row_sum_sum: 30000\n",
      "torch.Size([30000, 10])  --  torch.Size([30000, 10])\n",
      "torch.Size([30000, 10])  --  torch.Size([30000, 10])\n",
      "torch.Size([30000, 10])  --  torch.Size([30000, 10])\n",
      "key: train_loss -- value: 0.16973476111888885\n",
      "key: train_acc -- value: 0.9482333064079285\n",
      "key: val_loss -- value: 0.19211715459823608\n",
      "key: val_acc -- value: 0.9414666891098022\n"
     ]
    },
    {
     "name": "stderr",
     "output_type": "stream",
     "text": [
      "\r",
      " 52%|██████████████████████████████████████████                                       | 52/100 [02:21<02:10,  2.73s/it]"
     ]
    },
    {
     "name": "stdout",
     "output_type": "stream",
     "text": [
      "row_sum: (30000,) -- row_sum_sum: 30000\n",
      "torch.Size([30000, 10])  --  torch.Size([30000, 10])\n",
      "torch.Size([30000, 10])  --  torch.Size([30000, 10])\n",
      "torch.Size([30000, 10])  --  torch.Size([30000, 10])\n",
      "key: train_loss -- value: 0.16635443270206451\n",
      "key: train_acc -- value: 0.9495333433151245\n",
      "key: val_loss -- value: 0.18894696235656738\n",
      "key: val_acc -- value: 0.9423333406448364\n"
     ]
    },
    {
     "name": "stderr",
     "output_type": "stream",
     "text": [
      "\r",
      " 53%|██████████████████████████████████████████▉                                      | 53/100 [02:24<02:08,  2.73s/it]"
     ]
    },
    {
     "name": "stdout",
     "output_type": "stream",
     "text": [
      "row_sum: (30000,) -- row_sum_sum: 30000\n",
      "torch.Size([30000, 10])  --  torch.Size([30000, 10])\n",
      "torch.Size([30000, 10])  --  torch.Size([30000, 10])\n",
      "torch.Size([30000, 10])  --  torch.Size([30000, 10])\n",
      "key: train_loss -- value: 0.16245624423027039\n",
      "key: train_acc -- value: 0.9508333206176758\n",
      "key: val_loss -- value: 0.1851835399866104\n",
      "key: val_acc -- value: 0.9441666603088379\n"
     ]
    },
    {
     "name": "stderr",
     "output_type": "stream",
     "text": [
      "\r",
      " 54%|███████████████████████████████████████████▋                                     | 54/100 [02:27<02:05,  2.73s/it]"
     ]
    },
    {
     "name": "stdout",
     "output_type": "stream",
     "text": [
      "row_sum: (30000,) -- row_sum_sum: 30000\n",
      "torch.Size([30000, 10])  --  torch.Size([30000, 10])\n",
      "torch.Size([30000, 10])  --  torch.Size([30000, 10])\n",
      "torch.Size([30000, 10])  --  torch.Size([30000, 10])\n",
      "key: train_loss -- value: 0.15879373252391815\n",
      "key: train_acc -- value: 0.9523333311080933\n",
      "key: val_loss -- value: 0.18165190517902374\n",
      "key: val_acc -- value: 0.9448999762535095\n"
     ]
    },
    {
     "name": "stderr",
     "output_type": "stream",
     "text": [
      "\r",
      " 55%|████████████████████████████████████████████▌                                    | 55/100 [02:30<02:02,  2.73s/it]"
     ]
    },
    {
     "name": "stdout",
     "output_type": "stream",
     "text": [
      "row_sum: (30000,) -- row_sum_sum: 30000\n",
      "torch.Size([30000, 10])  --  torch.Size([30000, 10])\n",
      "torch.Size([30000, 10])  --  torch.Size([30000, 10])\n",
      "torch.Size([30000, 10])  --  torch.Size([30000, 10])\n",
      "key: train_loss -- value: 0.1557791382074356\n",
      "key: train_acc -- value: 0.9529666900634766\n",
      "key: val_loss -- value: 0.17888204753398895\n",
      "key: val_acc -- value: 0.9455333352088928\n"
     ]
    },
    {
     "name": "stderr",
     "output_type": "stream",
     "text": [
      "\r",
      " 56%|█████████████████████████████████████████████▎                                   | 56/100 [02:32<02:00,  2.73s/it]"
     ]
    },
    {
     "name": "stdout",
     "output_type": "stream",
     "text": [
      "row_sum: (30000,) -- row_sum_sum: 30000\n",
      "torch.Size([30000, 10])  --  torch.Size([30000, 10])\n",
      "torch.Size([30000, 10])  --  torch.Size([30000, 10])\n",
      "torch.Size([30000, 10])  --  torch.Size([30000, 10])\n",
      "key: train_loss -- value: 0.1534176468849182\n",
      "key: train_acc -- value: 0.9536666870117188\n",
      "key: val_loss -- value: 0.1769353151321411\n",
      "key: val_acc -- value: 0.9465000033378601\n"
     ]
    },
    {
     "name": "stderr",
     "output_type": "stream",
     "text": [
      "\r",
      " 57%|██████████████████████████████████████████████▏                                  | 57/100 [02:35<01:57,  2.73s/it]"
     ]
    },
    {
     "name": "stdout",
     "output_type": "stream",
     "text": [
      "row_sum: (30000,) -- row_sum_sum: 30000\n",
      "torch.Size([30000, 10])  --  torch.Size([30000, 10])\n",
      "torch.Size([30000, 10])  --  torch.Size([30000, 10])\n",
      "torch.Size([30000, 10])  --  torch.Size([30000, 10])\n",
      "key: train_loss -- value: 0.1514473706483841\n",
      "key: train_acc -- value: 0.9534666538238525\n",
      "key: val_loss -- value: 0.175528883934021\n",
      "key: val_acc -- value: 0.9468666911125183\n"
     ]
    },
    {
     "name": "stderr",
     "output_type": "stream",
     "text": [
      "\r",
      " 58%|██████████████████████████████████████████████▉                                  | 58/100 [02:38<01:54,  2.73s/it]"
     ]
    },
    {
     "name": "stdout",
     "output_type": "stream",
     "text": [
      "row_sum: (30000,) -- row_sum_sum: 30000\n",
      "torch.Size([30000, 10])  --  torch.Size([30000, 10])\n",
      "torch.Size([30000, 10])  --  torch.Size([30000, 10])\n",
      "torch.Size([30000, 10])  --  torch.Size([30000, 10])\n",
      "key: train_loss -- value: 0.14949782192707062\n",
      "key: train_acc -- value: 0.9541000127792358\n",
      "key: val_loss -- value: 0.1742367297410965\n",
      "key: val_acc -- value: 0.9478333592414856\n"
     ]
    },
    {
     "name": "stderr",
     "output_type": "stream",
     "text": [
      "\r",
      " 59%|███████████████████████████████████████████████▊                                 | 59/100 [02:41<01:52,  2.73s/it]"
     ]
    },
    {
     "name": "stdout",
     "output_type": "stream",
     "text": [
      "row_sum: (30000,) -- row_sum_sum: 30000\n",
      "torch.Size([30000, 10])  --  torch.Size([30000, 10])\n",
      "torch.Size([30000, 10])  --  torch.Size([30000, 10])\n",
      "torch.Size([30000, 10])  --  torch.Size([30000, 10])\n",
      "key: train_loss -- value: 0.1472325474023819\n",
      "key: train_acc -- value: 0.9547333121299744\n",
      "key: val_loss -- value: 0.17264506220817566\n",
      "key: val_acc -- value: 0.947866678237915\n"
     ]
    },
    {
     "name": "stderr",
     "output_type": "stream",
     "text": [
      "\r",
      " 60%|████████████████████████████████████████████████▌                                | 60/100 [02:43<01:49,  2.73s/it]"
     ]
    },
    {
     "name": "stdout",
     "output_type": "stream",
     "text": [
      "row_sum: (30000,) -- row_sum_sum: 30000\n",
      "torch.Size([30000, 10])  --  torch.Size([30000, 10])\n",
      "torch.Size([30000, 10])  --  torch.Size([30000, 10])\n",
      "torch.Size([30000, 10])  --  torch.Size([30000, 10])\n",
      "key: train_loss -- value: 0.1445729285478592\n",
      "key: train_acc -- value: 0.9553999900817871\n",
      "key: val_loss -- value: 0.17061010003089905\n",
      "key: val_acc -- value: 0.9482666850090027\n"
     ]
    },
    {
     "name": "stderr",
     "output_type": "stream",
     "text": [
      "\r",
      " 61%|█████████████████████████████████████████████████▍                               | 61/100 [02:46<01:46,  2.73s/it]"
     ]
    },
    {
     "name": "stdout",
     "output_type": "stream",
     "text": [
      "row_sum: (30000,) -- row_sum_sum: 30000\n",
      "torch.Size([30000, 10])  --  torch.Size([30000, 10])\n",
      "torch.Size([30000, 10])  --  torch.Size([30000, 10])\n",
      "torch.Size([30000, 10])  --  torch.Size([30000, 10])\n",
      "key: train_loss -- value: 0.14179278910160065\n",
      "key: train_acc -- value: 0.9564999938011169\n",
      "key: val_loss -- value: 0.16837178170681\n",
      "key: val_acc -- value: 0.9491000175476074\n"
     ]
    },
    {
     "name": "stderr",
     "output_type": "stream",
     "text": [
      "\r",
      " 62%|██████████████████████████████████████████████████▏                              | 62/100 [02:49<01:43,  2.73s/it]"
     ]
    },
    {
     "name": "stdout",
     "output_type": "stream",
     "text": [
      "row_sum: (30000,) -- row_sum_sum: 30000\n",
      "torch.Size([30000, 10])  --  torch.Size([30000, 10])\n",
      "torch.Size([30000, 10])  --  torch.Size([30000, 10])\n",
      "torch.Size([30000, 10])  --  torch.Size([30000, 10])\n",
      "key: train_loss -- value: 0.13927054405212402\n",
      "key: train_acc -- value: 0.9572666883468628\n",
      "key: val_loss -- value: 0.1663166880607605\n",
      "key: val_acc -- value: 0.9499333500862122\n"
     ]
    },
    {
     "name": "stderr",
     "output_type": "stream",
     "text": [
      "\r",
      " 63%|███████████████████████████████████████████████████                              | 63/100 [02:52<01:41,  2.73s/it]"
     ]
    },
    {
     "name": "stdout",
     "output_type": "stream",
     "text": [
      "row_sum: (30000,) -- row_sum_sum: 30000\n",
      "torch.Size([30000, 10])  --  torch.Size([30000, 10])\n",
      "torch.Size([30000, 10])  --  torch.Size([30000, 10])\n",
      "torch.Size([30000, 10])  --  torch.Size([30000, 10])\n",
      "key: train_loss -- value: 0.13712242245674133\n",
      "key: train_acc -- value: 0.9581999778747559\n",
      "key: val_loss -- value: 0.16459067165851593\n",
      "key: val_acc -- value: 0.9507666826248169\n"
     ]
    },
    {
     "name": "stderr",
     "output_type": "stream",
     "text": [
      "\r",
      " 64%|███████████████████████████████████████████████████▊                             | 64/100 [02:55<01:38,  2.74s/it]"
     ]
    },
    {
     "name": "stdout",
     "output_type": "stream",
     "text": [
      "row_sum: (30000,) -- row_sum_sum: 30000\n",
      "torch.Size([30000, 10])  --  torch.Size([30000, 10])\n",
      "torch.Size([30000, 10])  --  torch.Size([30000, 10])\n",
      "torch.Size([30000, 10])  --  torch.Size([30000, 10])\n",
      "key: train_loss -- value: 0.13518516719341278\n",
      "key: train_acc -- value: 0.9588666558265686\n",
      "key: val_loss -- value: 0.16308066248893738\n",
      "key: val_acc -- value: 0.9513000249862671\n"
     ]
    },
    {
     "name": "stderr",
     "output_type": "stream",
     "text": [
      "\r",
      " 65%|████████████████████████████████████████████████████▋                            | 65/100 [02:57<01:35,  2.74s/it]"
     ]
    },
    {
     "name": "stdout",
     "output_type": "stream",
     "text": [
      "row_sum: (30000,) -- row_sum_sum: 30000\n",
      "torch.Size([30000, 10])  --  torch.Size([30000, 10])\n",
      "torch.Size([30000, 10])  --  torch.Size([30000, 10])\n",
      "torch.Size([30000, 10])  --  torch.Size([30000, 10])\n",
      "key: train_loss -- value: 0.1333106905221939\n",
      "key: train_acc -- value: 0.9595000147819519\n",
      "key: val_loss -- value: 0.16167086362838745\n",
      "key: val_acc -- value: 0.9519333243370056\n"
     ]
    },
    {
     "name": "stderr",
     "output_type": "stream",
     "text": [
      "\r",
      " 66%|█████████████████████████████████████████████████████▍                           | 66/100 [03:00<01:33,  2.74s/it]"
     ]
    },
    {
     "name": "stdout",
     "output_type": "stream",
     "text": [
      "row_sum: (30000,) -- row_sum_sum: 30000\n",
      "torch.Size([30000, 10])  --  torch.Size([30000, 10])\n",
      "torch.Size([30000, 10])  --  torch.Size([30000, 10])\n",
      "torch.Size([30000, 10])  --  torch.Size([30000, 10])\n",
      "key: train_loss -- value: 0.13147395849227905\n",
      "key: train_acc -- value: 0.9599999785423279\n",
      "key: val_loss -- value: 0.16034850478172302\n",
      "key: val_acc -- value: 0.9523333311080933\n"
     ]
    },
    {
     "name": "stderr",
     "output_type": "stream",
     "text": [
      "\r",
      " 67%|██████████████████████████████████████████████████████▎                          | 67/100 [03:03<01:30,  2.74s/it]"
     ]
    },
    {
     "name": "stdout",
     "output_type": "stream",
     "text": [
      "row_sum: (30000,) -- row_sum_sum: 30000\n",
      "torch.Size([30000, 10])  --  torch.Size([30000, 10])\n",
      "torch.Size([30000, 10])  --  torch.Size([30000, 10])\n",
      "torch.Size([30000, 10])  --  torch.Size([30000, 10])\n",
      "key: train_loss -- value: 0.12965479493141174\n",
      "key: train_acc -- value: 0.9605333209037781\n",
      "key: val_loss -- value: 0.15909594297409058\n",
      "key: val_acc -- value: 0.9524999856948853\n"
     ]
    },
    {
     "name": "stderr",
     "output_type": "stream",
     "text": [
      "\r",
      " 68%|███████████████████████████████████████████████████████                          | 68/100 [03:06<01:27,  2.74s/it]"
     ]
    },
    {
     "name": "stdout",
     "output_type": "stream",
     "text": [
      "row_sum: (30000,) -- row_sum_sum: 30000\n",
      "torch.Size([30000, 10])  --  torch.Size([30000, 10])\n",
      "torch.Size([30000, 10])  --  torch.Size([30000, 10])\n",
      "torch.Size([30000, 10])  --  torch.Size([30000, 10])\n",
      "key: train_loss -- value: 0.12778793275356293\n",
      "key: train_acc -- value: 0.9613333344459534\n",
      "key: val_loss -- value: 0.15783381462097168\n",
      "key: val_acc -- value: 0.9528666734695435\n"
     ]
    },
    {
     "name": "stderr",
     "output_type": "stream",
     "text": [
      "\r",
      " 69%|███████████████████████████████████████████████████████▉                         | 69/100 [03:08<01:24,  2.74s/it]"
     ]
    },
    {
     "name": "stdout",
     "output_type": "stream",
     "text": [
      "row_sum: (30000,) -- row_sum_sum: 30000\n",
      "torch.Size([30000, 10])  --  torch.Size([30000, 10])\n",
      "torch.Size([30000, 10])  --  torch.Size([30000, 10])\n",
      "torch.Size([30000, 10])  --  torch.Size([30000, 10])\n",
      "key: train_loss -- value: 0.1258610188961029\n",
      "key: train_acc -- value: 0.961899995803833\n",
      "key: val_loss -- value: 0.15652620792388916\n",
      "key: val_acc -- value: 0.9531999826431274\n"
     ]
    },
    {
     "name": "stderr",
     "output_type": "stream",
     "text": [
      "\r",
      " 70%|████████████████████████████████████████████████████████▋                        | 70/100 [03:11<01:22,  2.74s/it]"
     ]
    },
    {
     "name": "stdout",
     "output_type": "stream",
     "text": [
      "row_sum: (30000,) -- row_sum_sum: 30000\n",
      "torch.Size([30000, 10])  --  torch.Size([30000, 10])\n",
      "torch.Size([30000, 10])  --  torch.Size([30000, 10])\n",
      "torch.Size([30000, 10])  --  torch.Size([30000, 10])\n",
      "key: train_loss -- value: 0.12396956235170364\n",
      "key: train_acc -- value: 0.9626666903495789\n",
      "key: val_loss -- value: 0.15524420142173767\n",
      "key: val_acc -- value: 0.9533666372299194\n"
     ]
    },
    {
     "name": "stderr",
     "output_type": "stream",
     "text": [
      "\r",
      " 71%|█████████████████████████████████████████████████████████▌                       | 71/100 [03:14<01:19,  2.74s/it]"
     ]
    },
    {
     "name": "stdout",
     "output_type": "stream",
     "text": [
      "row_sum: (30000,) -- row_sum_sum: 30000\n",
      "torch.Size([30000, 10])  --  torch.Size([30000, 10])\n",
      "torch.Size([30000, 10])  --  torch.Size([30000, 10])\n",
      "torch.Size([30000, 10])  --  torch.Size([30000, 10])\n",
      "key: train_loss -- value: 0.1222100481390953\n",
      "key: train_acc -- value: 0.9631666541099548\n",
      "key: val_loss -- value: 0.1540709286928177\n",
      "key: val_acc -- value: 0.9537000060081482\n"
     ]
    },
    {
     "name": "stderr",
     "output_type": "stream",
     "text": [
      "\r",
      " 72%|██████████████████████████████████████████████████████████▎                      | 72/100 [03:17<01:16,  2.74s/it]"
     ]
    },
    {
     "name": "stdout",
     "output_type": "stream",
     "text": [
      "row_sum: (30000,) -- row_sum_sum: 30000\n",
      "torch.Size([30000, 10])  --  torch.Size([30000, 10])\n",
      "torch.Size([30000, 10])  --  torch.Size([30000, 10])\n",
      "torch.Size([30000, 10])  --  torch.Size([30000, 10])\n",
      "key: train_loss -- value: 0.12060873955488205\n",
      "key: train_acc -- value: 0.9635666608810425\n",
      "key: val_loss -- value: 0.15302178263664246\n",
      "key: val_acc -- value: 0.9541000127792358\n"
     ]
    },
    {
     "name": "stderr",
     "output_type": "stream",
     "text": [
      "\r",
      " 73%|███████████████████████████████████████████████████████████▏                     | 73/100 [03:20<01:13,  2.74s/it]"
     ]
    },
    {
     "name": "stdout",
     "output_type": "stream",
     "text": [
      "row_sum: (30000,) -- row_sum_sum: 30000\n",
      "torch.Size([30000, 10])  --  torch.Size([30000, 10])\n",
      "torch.Size([30000, 10])  --  torch.Size([30000, 10])\n",
      "torch.Size([30000, 10])  --  torch.Size([30000, 10])\n",
      "key: train_loss -- value: 0.11910561472177505\n",
      "key: train_acc -- value: 0.9641333222389221\n",
      "key: val_loss -- value: 0.15203216671943665\n",
      "key: val_acc -- value: 0.9543333053588867\n"
     ]
    },
    {
     "name": "stderr",
     "output_type": "stream",
     "text": [
      "\r",
      " 74%|███████████████████████████████████████████████████████████▉                     | 74/100 [03:22<01:11,  2.74s/it]"
     ]
    },
    {
     "name": "stdout",
     "output_type": "stream",
     "text": [
      "row_sum: (30000,) -- row_sum_sum: 30000\n",
      "torch.Size([30000, 10])  --  torch.Size([30000, 10])\n",
      "torch.Size([30000, 10])  --  torch.Size([30000, 10])\n",
      "torch.Size([30000, 10])  --  torch.Size([30000, 10])\n",
      "key: train_loss -- value: 0.11760889738798141\n",
      "key: train_acc -- value: 0.9648666381835938\n",
      "key: val_loss -- value: 0.15100827813148499\n",
      "key: val_acc -- value: 0.9545666575431824\n"
     ]
    },
    {
     "name": "stderr",
     "output_type": "stream",
     "text": [
      "\r",
      " 75%|████████████████████████████████████████████████████████████▊                    | 75/100 [03:25<01:08,  2.74s/it]"
     ]
    },
    {
     "name": "stdout",
     "output_type": "stream",
     "text": [
      "row_sum: (30000,) -- row_sum_sum: 30000\n",
      "torch.Size([30000, 10])  --  torch.Size([30000, 10])\n",
      "torch.Size([30000, 10])  --  torch.Size([30000, 10])\n",
      "torch.Size([30000, 10])  --  torch.Size([30000, 10])\n",
      "key: train_loss -- value: 0.11605674028396606\n",
      "key: train_acc -- value: 0.9654666781425476\n",
      "key: val_loss -- value: 0.14989614486694336\n",
      "key: val_acc -- value: 0.954633355140686\n"
     ]
    },
    {
     "name": "stderr",
     "output_type": "stream",
     "text": [
      "\r",
      " 76%|█████████████████████████████████████████████████████████████▌                   | 76/100 [03:28<01:05,  2.74s/it]"
     ]
    },
    {
     "name": "stdout",
     "output_type": "stream",
     "text": [
      "row_sum: (30000,) -- row_sum_sum: 30000\n",
      "torch.Size([30000, 10])  --  torch.Size([30000, 10])\n",
      "torch.Size([30000, 10])  --  torch.Size([30000, 10])\n",
      "torch.Size([30000, 10])  --  torch.Size([30000, 10])\n",
      "key: train_loss -- value: 0.11446194350719452\n",
      "key: train_acc -- value: 0.9660333395004272\n",
      "key: val_loss -- value: 0.1487208604812622\n",
      "key: val_acc -- value: 0.9552000164985657\n"
     ]
    },
    {
     "name": "stderr",
     "output_type": "stream",
     "text": [
      "\r",
      " 77%|██████████████████████████████████████████████████████████████▎                  | 77/100 [03:31<01:03,  2.74s/it]"
     ]
    },
    {
     "name": "stdout",
     "output_type": "stream",
     "text": [
      "row_sum: (30000,) -- row_sum_sum: 30000\n",
      "torch.Size([30000, 10])  --  torch.Size([30000, 10])\n",
      "torch.Size([30000, 10])  --  torch.Size([30000, 10])\n",
      "torch.Size([30000, 10])  --  torch.Size([30000, 10])\n",
      "key: train_loss -- value: 0.11289408057928085\n",
      "key: train_acc -- value: 0.9664666652679443\n",
      "key: val_loss -- value: 0.14755618572235107\n",
      "key: val_acc -- value: 0.9557333588600159\n"
     ]
    },
    {
     "name": "stderr",
     "output_type": "stream",
     "text": [
      "\r",
      " 78%|███████████████████████████████████████████████████████████████▏                 | 78/100 [03:33<01:00,  2.74s/it]"
     ]
    },
    {
     "name": "stdout",
     "output_type": "stream",
     "text": [
      "row_sum: (30000,) -- row_sum_sum: 30000\n",
      "torch.Size([30000, 10])  --  torch.Size([30000, 10])\n",
      "torch.Size([30000, 10])  --  torch.Size([30000, 10])\n",
      "torch.Size([30000, 10])  --  torch.Size([30000, 10])\n",
      "key: train_loss -- value: 0.11141392588615417\n",
      "key: train_acc -- value: 0.9669666886329651\n",
      "key: val_loss -- value: 0.14646701514720917\n",
      "key: val_acc -- value: 0.9561333060264587\n"
     ]
    },
    {
     "name": "stderr",
     "output_type": "stream",
     "text": [
      "\r",
      " 79%|███████████████████████████████████████████████████████████████▉                 | 79/100 [03:36<00:57,  2.74s/it]"
     ]
    },
    {
     "name": "stdout",
     "output_type": "stream",
     "text": [
      "row_sum: (30000,) -- row_sum_sum: 30000\n",
      "torch.Size([30000, 10])  --  torch.Size([30000, 10])\n",
      "torch.Size([30000, 10])  --  torch.Size([30000, 10])\n",
      "torch.Size([30000, 10])  --  torch.Size([30000, 10])\n",
      "key: train_loss -- value: 0.11001832038164139\n",
      "key: train_acc -- value: 0.9672666788101196\n",
      "key: val_loss -- value: 0.1454514116048813\n",
      "key: val_acc -- value: 0.956333339214325\n"
     ]
    },
    {
     "name": "stderr",
     "output_type": "stream",
     "text": [
      "\r",
      " 80%|████████████████████████████████████████████████████████████████▊                | 80/100 [03:39<00:54,  2.74s/it]"
     ]
    },
    {
     "name": "stdout",
     "output_type": "stream",
     "text": [
      "row_sum: (30000,) -- row_sum_sum: 30000\n",
      "torch.Size([30000, 10])  --  torch.Size([30000, 10])\n",
      "torch.Size([30000, 10])  --  torch.Size([30000, 10])\n",
      "torch.Size([30000, 10])  --  torch.Size([30000, 10])\n",
      "key: train_loss -- value: 0.10866586863994598\n",
      "key: train_acc -- value: 0.9678333401679993\n",
      "key: val_loss -- value: 0.14447131752967834\n",
      "key: val_acc -- value: 0.9570000171661377\n"
     ]
    },
    {
     "name": "stderr",
     "output_type": "stream",
     "text": [
      "\r",
      " 81%|█████████████████████████████████████████████████████████████████▌               | 81/100 [03:42<00:52,  2.74s/it]"
     ]
    },
    {
     "name": "stdout",
     "output_type": "stream",
     "text": [
      "row_sum: (30000,) -- row_sum_sum: 30000\n",
      "torch.Size([30000, 10])  --  torch.Size([30000, 10])\n",
      "torch.Size([30000, 10])  --  torch.Size([30000, 10])\n",
      "torch.Size([30000, 10])  --  torch.Size([30000, 10])\n",
      "key: train_loss -- value: 0.10733526945114136\n",
      "key: train_acc -- value: 0.9683666825294495\n",
      "key: val_loss -- value: 0.14350396394729614\n",
      "key: val_acc -- value: 0.9572666883468628\n"
     ]
    },
    {
     "name": "stderr",
     "output_type": "stream",
     "text": [
      "\r",
      " 82%|██████████████████████████████████████████████████████████████████▍              | 82/100 [03:44<00:49,  2.74s/it]"
     ]
    },
    {
     "name": "stdout",
     "output_type": "stream",
     "text": [
      "row_sum: (30000,) -- row_sum_sum: 30000\n",
      "torch.Size([30000, 10])  --  torch.Size([30000, 10])\n",
      "torch.Size([30000, 10])  --  torch.Size([30000, 10])\n",
      "torch.Size([30000, 10])  --  torch.Size([30000, 10])\n",
      "key: train_loss -- value: 0.10602223873138428\n",
      "key: train_acc -- value: 0.9692999720573425\n",
      "key: val_loss -- value: 0.1425495147705078\n",
      "key: val_acc -- value: 0.9576666951179504\n"
     ]
    },
    {
     "name": "stderr",
     "output_type": "stream",
     "text": [
      "\r",
      " 83%|███████████████████████████████████████████████████████████████████▏             | 83/100 [03:47<00:46,  2.74s/it]"
     ]
    },
    {
     "name": "stdout",
     "output_type": "stream",
     "text": [
      "row_sum: (30000,) -- row_sum_sum: 30000\n",
      "torch.Size([30000, 10])  --  torch.Size([30000, 10])\n",
      "torch.Size([30000, 10])  --  torch.Size([30000, 10])\n",
      "torch.Size([30000, 10])  --  torch.Size([30000, 10])\n",
      "key: train_loss -- value: 0.10472249984741211\n",
      "key: train_acc -- value: 0.9696333408355713\n",
      "key: val_loss -- value: 0.14160846173763275\n",
      "key: val_acc -- value: 0.957966685295105\n"
     ]
    },
    {
     "name": "stderr",
     "output_type": "stream",
     "text": [
      "\r",
      " 84%|████████████████████████████████████████████████████████████████████             | 84/100 [03:50<00:43,  2.74s/it]"
     ]
    },
    {
     "name": "stdout",
     "output_type": "stream",
     "text": [
      "row_sum: (30000,) -- row_sum_sum: 30000\n",
      "torch.Size([30000, 10])  --  torch.Size([30000, 10])\n",
      "torch.Size([30000, 10])  --  torch.Size([30000, 10])\n",
      "torch.Size([30000, 10])  --  torch.Size([30000, 10])\n",
      "key: train_loss -- value: 0.10342131555080414\n",
      "key: train_acc -- value: 0.9700000286102295\n",
      "key: val_loss -- value: 0.1406741440296173\n",
      "key: val_acc -- value: 0.9580000042915344\n"
     ]
    },
    {
     "name": "stderr",
     "output_type": "stream",
     "text": [
      "\r",
      " 85%|████████████████████████████████████████████████████████████████████▊            | 85/100 [03:53<00:41,  2.74s/it]"
     ]
    },
    {
     "name": "stdout",
     "output_type": "stream",
     "text": [
      "row_sum: (30000,) -- row_sum_sum: 30000\n",
      "torch.Size([30000, 10])  --  torch.Size([30000, 10])\n",
      "torch.Size([30000, 10])  --  torch.Size([30000, 10])\n",
      "torch.Size([30000, 10])  --  torch.Size([30000, 10])\n",
      "key: train_loss -- value: 0.10212326794862747\n",
      "key: train_acc -- value: 0.9705666899681091\n",
      "key: val_loss -- value: 0.13975487649440765\n",
      "key: val_acc -- value: 0.9583666920661926\n"
     ]
    },
    {
     "name": "stderr",
     "output_type": "stream",
     "text": [
      "\r",
      " 86%|█████████████████████████████████████████████████████████████████████▋           | 86/100 [03:56<00:38,  2.74s/it]"
     ]
    },
    {
     "name": "stdout",
     "output_type": "stream",
     "text": [
      "row_sum: (30000,) -- row_sum_sum: 30000\n",
      "torch.Size([30000, 10])  --  torch.Size([30000, 10])\n",
      "torch.Size([30000, 10])  --  torch.Size([30000, 10])\n",
      "torch.Size([30000, 10])  --  torch.Size([30000, 10])\n",
      "key: train_loss -- value: 0.10085903108119965\n",
      "key: train_acc -- value: 0.9710333347320557\n",
      "key: val_loss -- value: 0.1388835608959198\n",
      "key: val_acc -- value: 0.9585333466529846\n"
     ]
    },
    {
     "name": "stderr",
     "output_type": "stream",
     "text": [
      "\r",
      " 87%|██████████████████████████████████████████████████████████████████████▍          | 87/100 [03:58<00:35,  2.74s/it]"
     ]
    },
    {
     "name": "stdout",
     "output_type": "stream",
     "text": [
      "row_sum: (30000,) -- row_sum_sum: 30000\n",
      "torch.Size([30000, 10])  --  torch.Size([30000, 10])\n",
      "torch.Size([30000, 10])  --  torch.Size([30000, 10])\n",
      "torch.Size([30000, 10])  --  torch.Size([30000, 10])\n",
      "key: train_loss -- value: 0.09964698553085327\n",
      "key: train_acc -- value: 0.9714666604995728\n",
      "key: val_loss -- value: 0.13807207345962524\n",
      "key: val_acc -- value: 0.9588333368301392\n"
     ]
    },
    {
     "name": "stderr",
     "output_type": "stream",
     "text": [
      "\r",
      " 88%|███████████████████████████████████████████████████████████████████████▎         | 88/100 [04:01<00:32,  2.74s/it]"
     ]
    },
    {
     "name": "stdout",
     "output_type": "stream",
     "text": [
      "row_sum: (30000,) -- row_sum_sum: 30000\n",
      "torch.Size([30000, 10])  --  torch.Size([30000, 10])\n",
      "torch.Size([30000, 10])  --  torch.Size([30000, 10])\n",
      "torch.Size([30000, 10])  --  torch.Size([30000, 10])\n",
      "key: train_loss -- value: 0.09847500175237656\n",
      "key: train_acc -- value: 0.9720666408538818\n",
      "key: val_loss -- value: 0.13730183243751526\n",
      "key: val_acc -- value: 0.9590333104133606\n"
     ]
    },
    {
     "name": "stderr",
     "output_type": "stream",
     "text": [
      "\r",
      " 89%|████████████████████████████████████████████████████████████████████████         | 89/100 [04:04<00:30,  2.74s/it]"
     ]
    },
    {
     "name": "stdout",
     "output_type": "stream",
     "text": [
      "row_sum: (30000,) -- row_sum_sum: 30000\n",
      "torch.Size([30000, 10])  --  torch.Size([30000, 10])\n",
      "torch.Size([30000, 10])  --  torch.Size([30000, 10])\n",
      "torch.Size([30000, 10])  --  torch.Size([30000, 10])\n",
      "key: train_loss -- value: 0.09732262045145035\n",
      "key: train_acc -- value: 0.972266674041748\n",
      "key: val_loss -- value: 0.13653624057769775\n",
      "key: val_acc -- value: 0.9591333270072937\n"
     ]
    },
    {
     "name": "stderr",
     "output_type": "stream",
     "text": [
      "\r",
      " 90%|████████████████████████████████████████████████████████████████████████▉        | 90/100 [04:07<00:27,  2.74s/it]"
     ]
    },
    {
     "name": "stdout",
     "output_type": "stream",
     "text": [
      "row_sum: (30000,) -- row_sum_sum: 30000\n",
      "torch.Size([30000, 10])  --  torch.Size([30000, 10])\n",
      "torch.Size([30000, 10])  --  torch.Size([30000, 10])\n",
      "torch.Size([30000, 10])  --  torch.Size([30000, 10])\n",
      "key: train_loss -- value: 0.09617394953966141\n",
      "key: train_acc -- value: 0.9727333188056946\n",
      "key: val_loss -- value: 0.1357574164867401\n",
      "key: val_acc -- value: 0.9592666625976562\n"
     ]
    },
    {
     "name": "stderr",
     "output_type": "stream",
     "text": [
      "\r",
      " 91%|█████████████████████████████████████████████████████████████████████████▋       | 91/100 [04:09<00:24,  2.74s/it]"
     ]
    },
    {
     "name": "stdout",
     "output_type": "stream",
     "text": [
      "row_sum: (30000,) -- row_sum_sum: 30000\n",
      "torch.Size([30000, 10])  --  torch.Size([30000, 10])\n",
      "torch.Size([30000, 10])  --  torch.Size([30000, 10])\n",
      "torch.Size([30000, 10])  --  torch.Size([30000, 10])\n",
      "key: train_loss -- value: 0.0950329452753067\n",
      "key: train_acc -- value: 0.9730666875839233\n",
      "key: val_loss -- value: 0.13496850430965424\n",
      "key: val_acc -- value: 0.9595666527748108\n"
     ]
    },
    {
     "name": "stderr",
     "output_type": "stream",
     "text": [
      "\r",
      " 92%|██████████████████████████████████████████████████████████████████████████▌      | 92/100 [04:12<00:21,  2.74s/it]"
     ]
    },
    {
     "name": "stdout",
     "output_type": "stream",
     "text": [
      "row_sum: (30000,) -- row_sum_sum: 30000\n",
      "torch.Size([30000, 10])  --  torch.Size([30000, 10])\n",
      "torch.Size([30000, 10])  --  torch.Size([30000, 10])\n",
      "torch.Size([30000, 10])  --  torch.Size([30000, 10])\n",
      "key: train_loss -- value: 0.09390448033809662\n",
      "key: train_acc -- value: 0.9733999967575073\n",
      "key: val_loss -- value: 0.1341853141784668\n",
      "key: val_acc -- value: 0.9596999883651733\n"
     ]
    },
    {
     "name": "stderr",
     "output_type": "stream",
     "text": [
      "\r",
      " 93%|███████████████████████████████████████████████████████████████████████████▎     | 93/100 [04:15<00:19,  2.75s/it]"
     ]
    },
    {
     "name": "stdout",
     "output_type": "stream",
     "text": [
      "row_sum: (30000,) -- row_sum_sum: 30000\n",
      "torch.Size([30000, 10])  --  torch.Size([30000, 10])\n",
      "torch.Size([30000, 10])  --  torch.Size([30000, 10])\n",
      "torch.Size([30000, 10])  --  torch.Size([30000, 10])\n",
      "key: train_loss -- value: 0.09279688447713852\n",
      "key: train_acc -- value: 0.9735999703407288\n",
      "key: val_loss -- value: 0.13342317938804626\n",
      "key: val_acc -- value: 0.9598333239555359\n"
     ]
    },
    {
     "name": "stderr",
     "output_type": "stream",
     "text": [
      "\r",
      " 94%|████████████████████████████████████████████████████████████████████████████▏    | 94/100 [04:18<00:16,  2.75s/it]"
     ]
    },
    {
     "name": "stdout",
     "output_type": "stream",
     "text": [
      "row_sum: (30000,) -- row_sum_sum: 30000\n",
      "torch.Size([30000, 10])  --  torch.Size([30000, 10])\n",
      "torch.Size([30000, 10])  --  torch.Size([30000, 10])\n",
      "torch.Size([30000, 10])  --  torch.Size([30000, 10])\n",
      "key: train_loss -- value: 0.09171450883150101\n",
      "key: train_acc -- value: 0.9737666845321655\n",
      "key: val_loss -- value: 0.13269482553005219\n",
      "key: val_acc -- value: 0.9602000117301941\n"
     ]
    },
    {
     "name": "stderr",
     "output_type": "stream",
     "text": [
      "\r",
      " 95%|████████████████████████████████████████████████████████████████████████████▉    | 95/100 [04:20<00:13,  2.75s/it]"
     ]
    },
    {
     "name": "stdout",
     "output_type": "stream",
     "text": [
      "row_sum: (30000,) -- row_sum_sum: 30000\n",
      "torch.Size([30000, 10])  --  torch.Size([30000, 10])\n",
      "torch.Size([30000, 10])  --  torch.Size([30000, 10])\n",
      "torch.Size([30000, 10])  --  torch.Size([30000, 10])\n",
      "key: train_loss -- value: 0.09065604954957962\n",
      "key: train_acc -- value: 0.9740333557128906\n",
      "key: val_loss -- value: 0.13200214505195618\n",
      "key: val_acc -- value: 0.960433304309845\n"
     ]
    },
    {
     "name": "stderr",
     "output_type": "stream",
     "text": [
      "\r",
      " 96%|█████████████████████████████████████████████████████████████████████████████▊   | 96/100 [04:23<00:10,  2.75s/it]"
     ]
    },
    {
     "name": "stdout",
     "output_type": "stream",
     "text": [
      "row_sum: (30000,) -- row_sum_sum: 30000\n",
      "torch.Size([30000, 10])  --  torch.Size([30000, 10])\n",
      "torch.Size([30000, 10])  --  torch.Size([30000, 10])\n",
      "torch.Size([30000, 10])  --  torch.Size([30000, 10])\n",
      "key: train_loss -- value: 0.08961489051580429\n",
      "key: train_acc -- value: 0.9743666648864746\n",
      "key: val_loss -- value: 0.13134096562862396\n",
      "key: val_acc -- value: 0.9608333110809326\n"
     ]
    },
    {
     "name": "stderr",
     "output_type": "stream",
     "text": [
      "\r",
      " 97%|██████████████████████████████████████████████████████████████████████████████▌  | 97/100 [04:26<00:08,  2.75s/it]"
     ]
    },
    {
     "name": "stdout",
     "output_type": "stream",
     "text": [
      "row_sum: (30000,) -- row_sum_sum: 30000\n",
      "torch.Size([30000, 10])  --  torch.Size([30000, 10])\n",
      "torch.Size([30000, 10])  --  torch.Size([30000, 10])\n",
      "torch.Size([30000, 10])  --  torch.Size([30000, 10])\n",
      "key: train_loss -- value: 0.08858808130025864\n",
      "key: train_acc -- value: 0.9747999906539917\n",
      "key: val_loss -- value: 0.13070227205753326\n",
      "key: val_acc -- value: 0.9609000086784363\n"
     ]
    },
    {
     "name": "stderr",
     "output_type": "stream",
     "text": [
      "\r",
      " 98%|███████████████████████████████████████████████████████████████████████████████▍ | 98/100 [04:29<00:05,  2.75s/it]"
     ]
    },
    {
     "name": "stdout",
     "output_type": "stream",
     "text": [
      "row_sum: (30000,) -- row_sum_sum: 30000\n",
      "torch.Size([30000, 10])  --  torch.Size([30000, 10])\n",
      "torch.Size([30000, 10])  --  torch.Size([30000, 10])\n",
      "torch.Size([30000, 10])  --  torch.Size([30000, 10])\n",
      "key: train_loss -- value: 0.08757408708333969\n",
      "key: train_acc -- value: 0.9750000238418579\n",
      "key: val_loss -- value: 0.13007426261901855\n",
      "key: val_acc -- value: 0.9610000252723694\n"
     ]
    },
    {
     "name": "stderr",
     "output_type": "stream",
     "text": [
      "\r",
      " 99%|████████████████████████████████████████████████████████████████████████████████▏| 99/100 [04:31<00:02,  2.75s/it]"
     ]
    },
    {
     "name": "stdout",
     "output_type": "stream",
     "text": [
      "row_sum: (30000,) -- row_sum_sum: 30000\n",
      "torch.Size([30000, 10])  --  torch.Size([30000, 10])\n",
      "torch.Size([30000, 10])  --  torch.Size([30000, 10])\n",
      "torch.Size([30000, 10])  --  torch.Size([30000, 10])\n",
      "key: train_loss -- value: 0.08656973391771317\n",
      "key: train_acc -- value: 0.9754666686058044\n",
      "key: val_loss -- value: 0.12944871187210083\n",
      "key: val_acc -- value: 0.9611999988555908\n"
     ]
    },
    {
     "name": "stderr",
     "output_type": "stream",
     "text": [
      "100%|████████████████████████████████████████████████████████████████████████████████| 100/100 [04:34<00:00,  2.75s/it]\n"
     ]
    },
    {
     "name": "stdout",
     "output_type": "stream",
     "text": [
      "torch.Size([10000, 10])  --  torch.Size([10000, 10])\n"
     ]
    }
   ],
   "source": [
    "model2, train2 = default_net_2(train_input, train_target, num_of_neurons=(784, 500, 200, 10), activation='relu', lr=0.1, momentum_coef=0.9, weight_decay=0.2, p_dropout=0.0, num_of_epochs=100, val_split=0.5, verbose=0)\n",
    "test2 = model2.evaluate(test_input, test_target, return_pred=True)"
   ]
  },
  {
   "cell_type": "code",
   "execution_count": 52,
   "metadata": {},
   "outputs": [
    {
     "data": {
      "image/png": "[encoded data removed]",
      "text/plain": [
       "<matplotlib.figure.Figure at 0x1dba77305f8>"
      ]
     },
     "execution_count": 52,
     "metadata": {},
     "output_type": "execute_result"
    }
   ],
   "source": [
    "plot_v2(train2, title=\"Model 2\")"
   ]
  },
  {
   "cell_type": "code",
   "execution_count": 48,
   "metadata": {},
   "outputs": [
    {
     "data": {
      "text/plain": [
       "(tensor(0.9632), 0.117069311439991, tensor([ 7,  2,  1,  ...,  4,  5,  6]))"
      ]
     },
     "execution_count": 48,
     "metadata": {},
     "output_type": "execute_result"
    }
   ],
   "source": [
    "test2"
   ]
  },
  {
   "cell_type": "code",
   "execution_count": null,
   "metadata": {},
   "outputs": [],
   "source": [
    "model3, train3 = default_net_3(train_input, train_target, num_of_neurons=(784, 500, 200, 100, 10), activation='relu', lr=0.1, momentum_coef=0.9, weight_decay=0.2, p_dropout=0.0, num_of_epochs=100, val_split=0.5, verbose=0)\n",
    "test3 = model3.evaluate(test_input, test_target, return_pred=True)"
   ]
  },
  {
   "cell_type": "code",
   "execution_count": null,
   "metadata": {},
   "outputs": [],
   "source": [
    "plot_v2(train3, title=\"Model 3\")"
   ]
  },
  {
   "cell_type": "code",
   "execution_count": null,
   "metadata": {},
   "outputs": [],
   "source": [
    "test3"
   ]
  },
  {
   "cell_type": "code",
   "execution_count": 58,
   "metadata": {
    "scrolled": false
   },
   "outputs": [
    {
     "name": "stdout",
     "output_type": "stream",
     "text": [
      "Added Module Name: 0_Linear \n",
      "Added Module Name: 1_ReLU \n",
      "Added Module Name: 2_Dropout \n",
      "Added Module Name: 3_Linear \n",
      "Added Module Name: 4_ReLU \n",
      "Added Module Name: 5_Dropout \n",
      "Added Module Name: 6_Linear \n",
      "Added Module Name: 7_ReLU \n",
      "Added Module Name: 8_Dropout \n",
      "Added Module Name: 9_Linear \n",
      "Added Module Name: 10_ReLU \n",
      "x_train.shape: torch.Size([30000, 784]) -- y_train.shape: torch.Size([30000, 10])\n",
      "x_val.shape: torch.Size([30000, 784]) -- y_val.shape: torch.Size([30000, 10])\n"
     ]
    },
    {
     "name": "stderr",
     "output_type": "stream",
     "text": [
      "\r",
      "  0%|                                                                                          | 0/100 [00:00<?, ?it/s]"
     ]
    },
    {
     "name": "stdout",
     "output_type": "stream",
     "text": [
      "key: train_loss -- value: 0.9169866442680359\n",
      "key: train_acc -- value: 0.2107333391904831\n",
      "key: val_loss -- value: 0.9184646606445312\n",
      "key: val_acc -- value: 0.20649999380111694\n"
     ]
    },
    {
     "name": "stderr",
     "output_type": "stream",
     "text": [
      "\r",
      "  1%|▊                                                                                 | 1/100 [00:02<04:51,  2.94s/it]"
     ]
    },
    {
     "name": "stdout",
     "output_type": "stream",
     "text": [
      "key: train_loss -- value: 0.8897601962089539\n",
      "key: train_acc -- value: 0.28726667165756226\n",
      "key: val_loss -- value: 0.8904201984405518\n",
      "key: val_acc -- value: 0.28566667437553406\n"
     ]
    },
    {
     "name": "stderr",
     "output_type": "stream",
     "text": [
      "\r",
      "  2%|█▋                                                                                | 2/100 [00:06<05:08,  3.15s/it]"
     ]
    },
    {
     "name": "stdout",
     "output_type": "stream",
     "text": [
      "key: train_loss -- value: 0.8358072638511658\n",
      "key: train_acc -- value: 0.3686999976634979\n",
      "key: val_loss -- value: 0.8373507261276245\n",
      "key: val_acc -- value: 0.3644999861717224\n"
     ]
    },
    {
     "name": "stderr",
     "output_type": "stream",
     "text": [
      "\r",
      "  3%|██▍                                                                               | 3/100 [00:09<05:00,  3.09s/it]"
     ]
    },
    {
     "name": "stdout",
     "output_type": "stream",
     "text": [
      "key: train_loss -- value: 0.7919632792472839\n",
      "key: train_acc -- value: 0.32473334670066833\n",
      "key: val_loss -- value: 0.7951929569244385\n",
      "key: val_acc -- value: 0.32249999046325684\n"
     ]
    },
    {
     "name": "stderr",
     "output_type": "stream",
     "text": [
      "\r",
      "  4%|███▎                                                                              | 4/100 [00:11<04:47,  3.00s/it]"
     ]
    },
    {
     "name": "stdout",
     "output_type": "stream",
     "text": [
      "key: train_loss -- value: 0.7568734884262085\n",
      "key: train_acc -- value: 0.41696667671203613\n",
      "key: val_loss -- value: 0.7603850364685059\n",
      "key: val_acc -- value: 0.4127666652202606\n"
     ]
    },
    {
     "name": "stderr",
     "output_type": "stream",
     "text": [
      "\r",
      "  5%|████                                                                              | 5/100 [00:14<04:39,  2.94s/it]"
     ]
    },
    {
     "name": "stdout",
     "output_type": "stream",
     "text": [
      "key: train_loss -- value: 0.712038516998291\n",
      "key: train_acc -- value: 0.4702666699886322\n",
      "key: val_loss -- value: 0.7149544358253479\n",
      "key: val_acc -- value: 0.46426665782928467\n"
     ]
    },
    {
     "name": "stderr",
     "output_type": "stream",
     "text": [
      "\r",
      "  6%|████▉                                                                             | 6/100 [00:17<04:33,  2.91s/it]"
     ]
    },
    {
     "name": "stdout",
     "output_type": "stream",
     "text": [
      "key: train_loss -- value: 0.688491702079773\n",
      "key: train_acc -- value: 0.4592333436012268\n",
      "key: val_loss -- value: 0.6913856863975525\n",
      "key: val_acc -- value: 0.4546999931335449\n"
     ]
    },
    {
     "name": "stderr",
     "output_type": "stream",
     "text": [
      "\r",
      "  7%|█████▋                                                                            | 7/100 [00:20<04:29,  2.90s/it]"
     ]
    },
    {
     "name": "stdout",
     "output_type": "stream",
     "text": [
      "key: train_loss -- value: 0.6522201299667358\n",
      "key: train_acc -- value: 0.5124666690826416\n",
      "key: val_loss -- value: 0.6556215882301331\n",
      "key: val_acc -- value: 0.5095000267028809\n"
     ]
    },
    {
     "name": "stderr",
     "output_type": "stream",
     "text": [
      "\r",
      "  8%|██████▌                                                                           | 8/100 [00:22<04:24,  2.87s/it]"
     ]
    },
    {
     "name": "stdout",
     "output_type": "stream",
     "text": [
      "key: train_loss -- value: 0.6154103875160217\n",
      "key: train_acc -- value: 0.5669666528701782\n",
      "key: val_loss -- value: 0.6188295483589172\n",
      "key: val_acc -- value: 0.5625333189964294\n"
     ]
    },
    {
     "name": "stderr",
     "output_type": "stream",
     "text": [
      "\r",
      "  9%|███████▍                                                                          | 9/100 [00:25<04:19,  2.85s/it]"
     ]
    },
    {
     "name": "stdout",
     "output_type": "stream",
     "text": [
      "key: train_loss -- value: 0.5783374309539795\n",
      "key: train_acc -- value: 0.5895000100135803\n",
      "key: val_loss -- value: 0.581625759601593\n",
      "key: val_acc -- value: 0.5860999822616577\n"
     ]
    },
    {
     "name": "stderr",
     "output_type": "stream",
     "text": [
      "\r",
      " 10%|████████                                                                         | 10/100 [00:28<04:16,  2.85s/it]"
     ]
    },
    {
     "name": "stdout",
     "output_type": "stream",
     "text": [
      "key: train_loss -- value: 0.5554010272026062\n",
      "key: train_acc -- value: 0.6015666723251343\n",
      "key: val_loss -- value: 0.5582982301712036\n",
      "key: val_acc -- value: 0.5999333262443542\n"
     ]
    },
    {
     "name": "stderr",
     "output_type": "stream",
     "text": [
      "\r",
      " 11%|████████▉                                                                        | 11/100 [00:31<04:11,  2.83s/it]"
     ]
    },
    {
     "name": "stdout",
     "output_type": "stream",
     "text": [
      "key: train_loss -- value: 0.5360352993011475\n",
      "key: train_acc -- value: 0.6136333346366882\n",
      "key: val_loss -- value: 0.538908064365387\n",
      "key: val_acc -- value: 0.6121666431427002\n"
     ]
    },
    {
     "name": "stderr",
     "output_type": "stream",
     "text": [
      "\r",
      " 12%|█████████▋                                                                       | 12/100 [00:33<04:08,  2.82s/it]"
     ]
    },
    {
     "name": "stdout",
     "output_type": "stream",
     "text": [
      "key: train_loss -- value: 0.5273652076721191\n",
      "key: train_acc -- value: 0.6347333192825317\n",
      "key: val_loss -- value: 0.5313496589660645\n",
      "key: val_acc -- value: 0.6281333565711975\n"
     ]
    },
    {
     "name": "stderr",
     "output_type": "stream",
     "text": [
      "\r",
      " 13%|██████████▌                                                                      | 13/100 [00:36<04:04,  2.81s/it]"
     ]
    },
    {
     "name": "stdout",
     "output_type": "stream",
     "text": [
      "key: train_loss -- value: 0.515566349029541\n",
      "key: train_acc -- value: 0.6268333196640015\n",
      "key: val_loss -- value: 0.5192739367485046\n",
      "key: val_acc -- value: 0.6223000288009644\n"
     ]
    },
    {
     "name": "stderr",
     "output_type": "stream",
     "text": [
      "\r",
      " 14%|███████████▎                                                                     | 14/100 [00:39<04:00,  2.80s/it]"
     ]
    },
    {
     "name": "stdout",
     "output_type": "stream",
     "text": [
      "key: train_loss -- value: 0.5110431909561157\n",
      "key: train_acc -- value: 0.6528333425521851\n",
      "key: val_loss -- value: 0.5146853923797607\n",
      "key: val_acc -- value: 0.6480000019073486\n"
     ]
    },
    {
     "name": "stderr",
     "output_type": "stream",
     "text": [
      "\r",
      " 15%|████████████▏                                                                    | 15/100 [00:42<03:59,  2.82s/it]"
     ]
    },
    {
     "name": "stdout",
     "output_type": "stream",
     "text": [
      "key: train_loss -- value: 0.4869355261325836\n",
      "key: train_acc -- value: 0.669700026512146\n",
      "key: val_loss -- value: 0.49242621660232544\n",
      "key: val_acc -- value: 0.6642666459083557\n"
     ]
    },
    {
     "name": "stderr",
     "output_type": "stream",
     "text": [
      "\r",
      " 16%|████████████▉                                                                    | 16/100 [00:45<03:58,  2.84s/it]"
     ]
    },
    {
     "name": "stdout",
     "output_type": "stream",
     "text": [
      "key: train_loss -- value: 0.4748590588569641\n",
      "key: train_acc -- value: 0.6903333067893982\n",
      "key: val_loss -- value: 0.48052719235420227\n",
      "key: val_acc -- value: 0.6844666600227356\n"
     ]
    },
    {
     "name": "stderr",
     "output_type": "stream",
     "text": [
      "\r",
      " 17%|█████████████▊                                                                   | 17/100 [00:48<03:56,  2.85s/it]"
     ]
    },
    {
     "name": "stdout",
     "output_type": "stream",
     "text": [
      "key: train_loss -- value: 0.4991564154624939\n",
      "key: train_acc -- value: 0.6557000279426575\n",
      "key: val_loss -- value: 0.5028627514839172\n",
      "key: val_acc -- value: 0.6527000069618225\n"
     ]
    },
    {
     "name": "stderr",
     "output_type": "stream",
     "text": [
      "\r",
      " 18%|██████████████▌                                                                  | 18/100 [00:51<03:55,  2.87s/it]"
     ]
    },
    {
     "name": "stdout",
     "output_type": "stream",
     "text": [
      "key: train_loss -- value: 0.46555066108703613\n",
      "key: train_acc -- value: 0.6797000169754028\n",
      "key: val_loss -- value: 0.47070029377937317\n",
      "key: val_acc -- value: 0.6741999983787537\n"
     ]
    },
    {
     "name": "stderr",
     "output_type": "stream",
     "text": [
      "\r",
      " 19%|███████████████▍                                                                 | 19/100 [00:54<03:52,  2.87s/it]"
     ]
    },
    {
     "name": "stdout",
     "output_type": "stream",
     "text": [
      "key: train_loss -- value: 0.46926143765449524\n",
      "key: train_acc -- value: 0.6756666898727417\n",
      "key: val_loss -- value: 0.4753201901912689\n",
      "key: val_acc -- value: 0.6693000197410583\n"
     ]
    },
    {
     "name": "stderr",
     "output_type": "stream",
     "text": [
      "\r",
      " 20%|████████████████▏                                                                | 20/100 [00:57<03:50,  2.88s/it]"
     ]
    },
    {
     "name": "stdout",
     "output_type": "stream",
     "text": [
      "key: train_loss -- value: 0.4712070822715759\n",
      "key: train_acc -- value: 0.67330002784729\n",
      "key: val_loss -- value: 0.47616758942604065\n",
      "key: val_acc -- value: 0.6690666675567627\n"
     ]
    },
    {
     "name": "stderr",
     "output_type": "stream",
     "text": [
      "\r",
      " 21%|█████████████████                                                                | 21/100 [01:00<03:47,  2.89s/it]"
     ]
    },
    {
     "name": "stdout",
     "output_type": "stream",
     "text": [
      "key: train_loss -- value: 0.45899784564971924\n",
      "key: train_acc -- value: 0.6780333518981934\n",
      "key: val_loss -- value: 0.4638596773147583\n",
      "key: val_acc -- value: 0.6732666492462158\n"
     ]
    },
    {
     "name": "stderr",
     "output_type": "stream",
     "text": [
      "\r",
      " 22%|█████████████████▊                                                               | 22/100 [01:03<03:45,  2.89s/it]"
     ]
    },
    {
     "name": "stdout",
     "output_type": "stream",
     "text": [
      "key: train_loss -- value: 0.4672074019908905\n",
      "key: train_acc -- value: 0.6722666621208191\n",
      "key: val_loss -- value: 0.4736577272415161\n",
      "key: val_acc -- value: 0.6652666926383972\n"
     ]
    },
    {
     "name": "stderr",
     "output_type": "stream",
     "text": [
      "\r",
      " 23%|██████████████████▋                                                              | 23/100 [01:06<03:42,  2.89s/it]"
     ]
    },
    {
     "name": "stdout",
     "output_type": "stream",
     "text": [
      "key: train_loss -- value: 0.45944786071777344\n",
      "key: train_acc -- value: 0.6755666732788086\n",
      "key: val_loss -- value: 0.4660751223564148\n",
      "key: val_acc -- value: 0.6694999933242798\n"
     ]
    },
    {
     "name": "stderr",
     "output_type": "stream",
     "text": [
      "\r",
      " 24%|███████████████████▍                                                             | 24/100 [01:09<03:39,  2.89s/it]"
     ]
    },
    {
     "name": "stdout",
     "output_type": "stream",
     "text": [
      "key: train_loss -- value: 0.4514976143836975\n",
      "key: train_acc -- value: 0.6853333115577698\n",
      "key: val_loss -- value: 0.4575394093990326\n",
      "key: val_acc -- value: 0.6797000169754028\n"
     ]
    },
    {
     "name": "stderr",
     "output_type": "stream",
     "text": [
      "\r",
      " 25%|████████████████████▎                                                            | 25/100 [01:12<03:36,  2.89s/it]"
     ]
    },
    {
     "name": "stdout",
     "output_type": "stream",
     "text": [
      "key: train_loss -- value: 0.4519208073616028\n",
      "key: train_acc -- value: 0.6865333318710327\n",
      "key: val_loss -- value: 0.4581003487110138\n",
      "key: val_acc -- value: 0.6800666451454163\n"
     ]
    },
    {
     "name": "stderr",
     "output_type": "stream",
     "text": [
      "\r",
      " 26%|█████████████████████                                                            | 26/100 [01:15<03:34,  2.89s/it]"
     ]
    },
    {
     "name": "stdout",
     "output_type": "stream",
     "text": [
      "key: train_loss -- value: 0.4383235573768616\n",
      "key: train_acc -- value: 0.6905999779701233\n",
      "key: val_loss -- value: 0.445130854845047\n",
      "key: val_acc -- value: 0.6829666495323181\n"
     ]
    },
    {
     "name": "stderr",
     "output_type": "stream",
     "text": [
      "\r",
      " 27%|█████████████████████▊                                                           | 27/100 [01:18<03:31,  2.90s/it]"
     ]
    },
    {
     "name": "stdout",
     "output_type": "stream",
     "text": [
      "key: train_loss -- value: 0.44029271602630615\n",
      "key: train_acc -- value: 0.6888666749000549\n",
      "key: val_loss -- value: 0.44731128215789795\n",
      "key: val_acc -- value: 0.6830999851226807\n"
     ]
    },
    {
     "name": "stderr",
     "output_type": "stream",
     "text": [
      "\r",
      " 28%|██████████████████████▋                                                          | 28/100 [01:21<03:29,  2.91s/it]"
     ]
    },
    {
     "name": "stdout",
     "output_type": "stream",
     "text": [
      "key: train_loss -- value: 0.43188124895095825\n",
      "key: train_acc -- value: 0.7009666562080383\n",
      "key: val_loss -- value: 0.4385172724723816\n",
      "key: val_acc -- value: 0.6945000290870667\n"
     ]
    },
    {
     "name": "stderr",
     "output_type": "stream",
     "text": [
      "\r",
      " 29%|███████████████████████▍                                                         | 29/100 [01:24<03:26,  2.91s/it]"
     ]
    },
    {
     "name": "stdout",
     "output_type": "stream",
     "text": [
      "key: train_loss -- value: 0.43230608105659485\n",
      "key: train_acc -- value: 0.7060666680335999\n",
      "key: val_loss -- value: 0.43899020552635193\n",
      "key: val_acc -- value: 0.6985666751861572\n"
     ]
    },
    {
     "name": "stderr",
     "output_type": "stream",
     "text": [
      "\r",
      " 30%|████████████████████████▎                                                        | 30/100 [01:27<03:23,  2.91s/it]"
     ]
    },
    {
     "name": "stdout",
     "output_type": "stream",
     "text": [
      "key: train_loss -- value: 0.42511823773384094\n",
      "key: train_acc -- value: 0.7100333571434021\n",
      "key: val_loss -- value: 0.43213793635368347\n",
      "key: val_acc -- value: 0.7027333378791809\n"
     ]
    },
    {
     "name": "stderr",
     "output_type": "stream",
     "text": [
      "\r",
      " 31%|█████████████████████████                                                        | 31/100 [01:30<03:20,  2.91s/it]"
     ]
    },
    {
     "name": "stdout",
     "output_type": "stream",
     "text": [
      "key: train_loss -- value: 0.4248417615890503\n",
      "key: train_acc -- value: 0.7063666582107544\n",
      "key: val_loss -- value: 0.4318693280220032\n",
      "key: val_acc -- value: 0.6985999941825867\n"
     ]
    },
    {
     "name": "stderr",
     "output_type": "stream",
     "text": [
      "\r",
      " 32%|█████████████████████████▉                                                       | 32/100 [01:33<03:17,  2.91s/it]"
     ]
    },
    {
     "name": "stdout",
     "output_type": "stream",
     "text": [
      "key: train_loss -- value: 0.4197193384170532\n",
      "key: train_acc -- value: 0.7102333307266235\n",
      "key: val_loss -- value: 0.4267737865447998\n",
      "key: val_acc -- value: 0.703499972820282\n"
     ]
    },
    {
     "name": "stderr",
     "output_type": "stream",
     "text": [
      "\r",
      " 33%|██████████████████████████▋                                                      | 33/100 [01:36<03:15,  2.91s/it]"
     ]
    },
    {
     "name": "stdout",
     "output_type": "stream",
     "text": [
      "key: train_loss -- value: 0.4181193709373474\n",
      "key: train_acc -- value: 0.71506667137146\n",
      "key: val_loss -- value: 0.4254811406135559\n",
      "key: val_acc -- value: 0.7078333497047424\n"
     ]
    },
    {
     "name": "stderr",
     "output_type": "stream",
     "text": [
      "\r",
      " 34%|███████████████████████████▌                                                     | 34/100 [01:39<03:12,  2.92s/it]"
     ]
    },
    {
     "name": "stdout",
     "output_type": "stream",
     "text": [
      "key: train_loss -- value: 0.415103018283844\n",
      "key: train_acc -- value: 0.7192000150680542\n",
      "key: val_loss -- value: 0.4227277636528015\n",
      "key: val_acc -- value: 0.7107999920845032\n"
     ]
    },
    {
     "name": "stderr",
     "output_type": "stream",
     "text": [
      "\r",
      " 35%|████████████████████████████▎                                                    | 35/100 [01:42<03:09,  2.92s/it]"
     ]
    },
    {
     "name": "stdout",
     "output_type": "stream",
     "text": [
      "key: train_loss -- value: 0.411936491727829\n",
      "key: train_acc -- value: 0.7174000144004822\n",
      "key: val_loss -- value: 0.4195380210876465\n",
      "key: val_acc -- value: 0.7107999920845032\n"
     ]
    },
    {
     "name": "stderr",
     "output_type": "stream",
     "text": [
      "\r",
      " 36%|█████████████████████████████▏                                                   | 36/100 [01:45<03:06,  2.92s/it]"
     ]
    },
    {
     "name": "stdout",
     "output_type": "stream",
     "text": [
      "key: train_loss -- value: 0.41072046756744385\n",
      "key: train_acc -- value: 0.7153000235557556\n",
      "key: val_loss -- value: 0.41826871037483215\n",
      "key: val_acc -- value: 0.7079333066940308\n"
     ]
    },
    {
     "name": "stderr",
     "output_type": "stream",
     "text": [
      "\r",
      " 37%|█████████████████████████████▉                                                   | 37/100 [01:48<03:04,  2.92s/it]"
     ]
    },
    {
     "name": "stdout",
     "output_type": "stream",
     "text": [
      "key: train_loss -- value: 0.406840980052948\n",
      "key: train_acc -- value: 0.7178333401679993\n",
      "key: val_loss -- value: 0.41464143991470337\n",
      "key: val_acc -- value: 0.7101333141326904\n"
     ]
    },
    {
     "name": "stderr",
     "output_type": "stream",
     "text": [
      "\r",
      " 38%|██████████████████████████████▊                                                  | 38/100 [01:51<03:01,  2.92s/it]"
     ]
    },
    {
     "name": "stdout",
     "output_type": "stream",
     "text": [
      "key: train_loss -- value: 0.40594011545181274\n",
      "key: train_acc -- value: 0.720633327960968\n",
      "key: val_loss -- value: 0.4140374958515167\n",
      "key: val_acc -- value: 0.7131666541099548\n"
     ]
    },
    {
     "name": "stderr",
     "output_type": "stream",
     "text": [
      "\r",
      " 39%|███████████████████████████████▌                                                 | 39/100 [01:53<02:58,  2.92s/it]"
     ]
    },
    {
     "name": "stdout",
     "output_type": "stream",
     "text": [
      "key: train_loss -- value: 0.4028891623020172\n",
      "key: train_acc -- value: 0.7224666476249695\n",
      "key: val_loss -- value: 0.4111001193523407\n",
      "key: val_acc -- value: 0.7139333486557007\n"
     ]
    },
    {
     "name": "stderr",
     "output_type": "stream",
     "text": [
      "\r",
      " 40%|████████████████████████████████▍                                                | 40/100 [01:56<02:55,  2.92s/it]"
     ]
    },
    {
     "name": "stdout",
     "output_type": "stream",
     "text": [
      "key: train_loss -- value: 0.40159958600997925\n",
      "key: train_acc -- value: 0.7193999886512756\n",
      "key: val_loss -- value: 0.4097661077976227\n",
      "key: val_acc -- value: 0.7113999724388123\n"
     ]
    },
    {
     "name": "stderr",
     "output_type": "stream",
     "text": [
      "\r",
      " 41%|█████████████████████████████████▏                                               | 41/100 [02:00<02:52,  2.93s/it]"
     ]
    },
    {
     "name": "stdout",
     "output_type": "stream",
     "text": [
      "key: train_loss -- value: 0.3992234468460083\n",
      "key: train_acc -- value: 0.7193666696548462\n",
      "key: val_loss -- value: 0.4074667692184448\n",
      "key: val_acc -- value: 0.7116333246231079\n"
     ]
    },
    {
     "name": "stderr",
     "output_type": "stream",
     "text": [
      "\r",
      " 42%|██████████████████████████████████                                               | 42/100 [02:03<02:50,  2.94s/it]"
     ]
    },
    {
     "name": "stdout",
     "output_type": "stream",
     "text": [
      "key: train_loss -- value: 0.3977815508842468\n",
      "key: train_acc -- value: 0.7215333580970764\n",
      "key: val_loss -- value: 0.4061671197414398\n",
      "key: val_acc -- value: 0.713533341884613\n"
     ]
    },
    {
     "name": "stderr",
     "output_type": "stream",
     "text": [
      "\r",
      " 43%|██████████████████████████████████▊                                              | 43/100 [02:06<02:47,  2.95s/it]"
     ]
    },
    {
     "name": "stdout",
     "output_type": "stream",
     "text": [
      "key: train_loss -- value: 0.3955840468406677\n",
      "key: train_acc -- value: 0.7236999869346619\n",
      "key: val_loss -- value: 0.4041343629360199\n",
      "key: val_acc -- value: 0.7157666683197021\n"
     ]
    },
    {
     "name": "stderr",
     "output_type": "stream",
     "text": [
      "\r",
      " 44%|███████████████████████████████████▋                                             | 44/100 [02:09<02:45,  2.95s/it]"
     ]
    },
    {
     "name": "stdout",
     "output_type": "stream",
     "text": [
      "key: train_loss -- value: 0.3941977918148041\n",
      "key: train_acc -- value: 0.724133312702179\n",
      "key: val_loss -- value: 0.4029400646686554\n",
      "key: val_acc -- value: 0.7159666419029236\n"
     ]
    },
    {
     "name": "stderr",
     "output_type": "stream",
     "text": [
      "\r",
      " 45%|████████████████████████████████████▍                                            | 45/100 [02:13<02:42,  2.96s/it]"
     ]
    },
    {
     "name": "stdout",
     "output_type": "stream",
     "text": [
      "key: train_loss -- value: 0.392381489276886\n",
      "key: train_acc -- value: 0.7247999906539917\n",
      "key: val_loss -- value: 0.40121692419052124\n",
      "key: val_acc -- value: 0.7164333462715149\n"
     ]
    },
    {
     "name": "stderr",
     "output_type": "stream",
     "text": [
      "\r",
      " 46%|█████████████████████████████████████▎                                           | 46/100 [02:16<02:39,  2.96s/it]"
     ]
    },
    {
     "name": "stdout",
     "output_type": "stream",
     "text": [
      "key: train_loss -- value: 0.3908149302005768\n",
      "key: train_acc -- value: 0.7262333035469055\n",
      "key: val_loss -- value: 0.39963382482528687\n",
      "key: val_acc -- value: 0.7175333499908447\n"
     ]
    },
    {
     "name": "stderr",
     "output_type": "stream",
     "text": [
      "\r",
      " 47%|██████████████████████████████████████                                           | 47/100 [02:20<02:38,  2.98s/it]"
     ]
    },
    {
     "name": "stdout",
     "output_type": "stream",
     "text": [
      "key: train_loss -- value: 0.38953346014022827\n",
      "key: train_acc -- value: 0.7278333306312561\n",
      "key: val_loss -- value: 0.39836516976356506\n",
      "key: val_acc -- value: 0.7194666862487793\n"
     ]
    },
    {
     "name": "stderr",
     "output_type": "stream",
     "text": [
      "\r",
      " 48%|██████████████████████████████████████▉                                          | 48/100 [02:23<02:34,  2.98s/it]"
     ]
    },
    {
     "name": "stdout",
     "output_type": "stream",
     "text": [
      "key: train_loss -- value: 0.387805312871933\n",
      "key: train_acc -- value: 0.7295666933059692\n",
      "key: val_loss -- value: 0.39687201380729675\n",
      "key: val_acc -- value: 0.7212666869163513\n"
     ]
    },
    {
     "name": "stderr",
     "output_type": "stream",
     "text": [
      "\r",
      " 49%|███████████████████████████████████████▋                                         | 49/100 [02:26<02:32,  2.99s/it]"
     ]
    },
    {
     "name": "stdout",
     "output_type": "stream",
     "text": [
      "key: train_loss -- value: 0.386702299118042\n",
      "key: train_acc -- value: 0.7311999797821045\n",
      "key: val_loss -- value: 0.39606690406799316\n",
      "key: val_acc -- value: 0.7228333353996277\n"
     ]
    },
    {
     "name": "stderr",
     "output_type": "stream",
     "text": [
      "\r",
      " 50%|████████████████████████████████████████▌                                        | 50/100 [02:29<02:29,  3.00s/it]"
     ]
    },
    {
     "name": "stdout",
     "output_type": "stream",
     "text": [
      "key: train_loss -- value: 0.38515505194664\n",
      "key: train_acc -- value: 0.7321666479110718\n",
      "key: val_loss -- value: 0.3945915400981903\n",
      "key: val_acc -- value: 0.7235666513442993\n"
     ]
    },
    {
     "name": "stderr",
     "output_type": "stream",
     "text": [
      "\r",
      " 51%|█████████████████████████████████████████▎                                       | 51/100 [02:32<02:26,  3.00s/it]"
     ]
    },
    {
     "name": "stdout",
     "output_type": "stream",
     "text": [
      "key: train_loss -- value: 0.3838981091976166\n",
      "key: train_acc -- value: 0.7321333289146423\n",
      "key: val_loss -- value: 0.3932591378688812\n",
      "key: val_acc -- value: 0.7245333194732666\n"
     ]
    },
    {
     "name": "stderr",
     "output_type": "stream",
     "text": [
      "\r",
      " 52%|██████████████████████████████████████████                                       | 52/100 [02:35<02:23,  3.00s/it]"
     ]
    },
    {
     "name": "stdout",
     "output_type": "stream",
     "text": [
      "key: train_loss -- value: 0.3827594816684723\n",
      "key: train_acc -- value: 0.7329000234603882\n",
      "key: val_loss -- value: 0.39220744371414185\n",
      "key: val_acc -- value: 0.7250666618347168\n"
     ]
    },
    {
     "name": "stderr",
     "output_type": "stream",
     "text": [
      "\r",
      " 53%|██████████████████████████████████████████▉                                      | 53/100 [02:38<02:20,  3.00s/it]"
     ]
    },
    {
     "name": "stdout",
     "output_type": "stream",
     "text": [
      "key: train_loss -- value: 0.38138696551322937\n",
      "key: train_acc -- value: 0.7347666621208191\n",
      "key: val_loss -- value: 0.39120274782180786\n",
      "key: val_acc -- value: 0.7261666655540466\n"
     ]
    },
    {
     "name": "stderr",
     "output_type": "stream",
     "text": [
      "\r",
      " 54%|███████████████████████████████████████████▋                                     | 54/100 [02:41<02:17,  2.99s/it]"
     ]
    },
    {
     "name": "stdout",
     "output_type": "stream",
     "text": [
      "key: train_loss -- value: 0.3805139660835266\n",
      "key: train_acc -- value: 0.73580002784729\n",
      "key: val_loss -- value: 0.39057835936546326\n",
      "key: val_acc -- value: 0.7273666858673096\n"
     ]
    },
    {
     "name": "stderr",
     "output_type": "stream",
     "text": [
      "\r",
      " 55%|████████████████████████████████████████████▌                                    | 55/100 [02:44<02:14,  2.99s/it]"
     ]
    },
    {
     "name": "stdout",
     "output_type": "stream",
     "text": [
      "key: train_loss -- value: 0.3791990280151367\n",
      "key: train_acc -- value: 0.7358333468437195\n",
      "key: val_loss -- value: 0.3892041742801666\n",
      "key: val_acc -- value: 0.7275333404541016\n"
     ]
    },
    {
     "name": "stderr",
     "output_type": "stream",
     "text": [
      "\r",
      " 56%|█████████████████████████████████████████████▎                                   | 56/100 [02:47<02:11,  2.99s/it]"
     ]
    },
    {
     "name": "stdout",
     "output_type": "stream",
     "text": [
      "key: train_loss -- value: 0.37832802534103394\n",
      "key: train_acc -- value: 0.735966682434082\n",
      "key: val_loss -- value: 0.388318806886673\n",
      "key: val_acc -- value: 0.727233350276947\n"
     ]
    },
    {
     "name": "stderr",
     "output_type": "stream",
     "text": [
      "\r",
      " 57%|██████████████████████████████████████████████▏                                  | 57/100 [02:50<02:08,  2.99s/it]"
     ]
    },
    {
     "name": "stdout",
     "output_type": "stream",
     "text": [
      "key: train_loss -- value: 0.37714001536369324\n",
      "key: train_acc -- value: 0.7372999787330627\n",
      "key: val_loss -- value: 0.387410968542099\n",
      "key: val_acc -- value: 0.728766679763794\n"
     ]
    },
    {
     "name": "stderr",
     "output_type": "stream",
     "text": [
      "\r",
      " 58%|██████████████████████████████████████████████▉                                  | 58/100 [02:53<02:05,  2.99s/it]"
     ]
    },
    {
     "name": "stdout",
     "output_type": "stream",
     "text": [
      "key: train_loss -- value: 0.3761928975582123\n",
      "key: train_acc -- value: 0.739300012588501\n",
      "key: val_loss -- value: 0.3867532014846802\n",
      "key: val_acc -- value: 0.7297000288963318\n"
     ]
    },
    {
     "name": "stderr",
     "output_type": "stream",
     "text": [
      "\r",
      " 59%|███████████████████████████████████████████████▊                                 | 59/100 [02:56<02:02,  2.99s/it]"
     ]
    },
    {
     "name": "stdout",
     "output_type": "stream",
     "text": [
      "key: train_loss -- value: 0.3751438558101654\n",
      "key: train_acc -- value: 0.7399666905403137\n",
      "key: val_loss -- value: 0.38573548197746277\n",
      "key: val_acc -- value: 0.7304666638374329\n"
     ]
    },
    {
     "name": "stderr",
     "output_type": "stream",
     "text": [
      "\r",
      " 60%|████████████████████████████████████████████████▌                                | 60/100 [02:59<01:59,  2.99s/it]"
     ]
    },
    {
     "name": "stdout",
     "output_type": "stream",
     "text": [
      "key: train_loss -- value: 0.3742101490497589\n",
      "key: train_acc -- value: 0.7402999997138977\n",
      "key: val_loss -- value: 0.38475289940834045\n",
      "key: val_acc -- value: 0.7310333251953125\n"
     ]
    },
    {
     "name": "stderr",
     "output_type": "stream",
     "text": [
      "\r",
      " 61%|█████████████████████████████████████████████████▍                               | 61/100 [03:02<01:56,  2.99s/it]"
     ]
    },
    {
     "name": "stdout",
     "output_type": "stream",
     "text": [
      "key: train_loss -- value: 0.37327903509140015\n",
      "key: train_acc -- value: 0.7419999837875366\n",
      "key: val_loss -- value: 0.3839717209339142\n",
      "key: val_acc -- value: 0.7320666909217834\n"
     ]
    },
    {
     "name": "stderr",
     "output_type": "stream",
     "text": [
      "\r",
      " 62%|██████████████████████████████████████████████████▏                              | 62/100 [03:05<01:53,  2.99s/it]"
     ]
    },
    {
     "name": "stdout",
     "output_type": "stream",
     "text": [
      "key: train_loss -- value: 0.3724014461040497\n",
      "key: train_acc -- value: 0.7432000041007996\n",
      "key: val_loss -- value: 0.38333532214164734\n",
      "key: val_acc -- value: 0.7330999970436096\n"
     ]
    },
    {
     "name": "stderr",
     "output_type": "stream",
     "text": [
      "\r",
      " 63%|███████████████████████████████████████████████████                              | 63/100 [03:08<01:50,  3.00s/it]"
     ]
    },
    {
     "name": "stdout",
     "output_type": "stream",
     "text": [
      "key: train_loss -- value: 0.37155580520629883\n",
      "key: train_acc -- value: 0.7440000176429749\n",
      "key: val_loss -- value: 0.3826049268245697\n",
      "key: val_acc -- value: 0.7336999773979187\n"
     ]
    },
    {
     "name": "stderr",
     "output_type": "stream",
     "text": [
      "\r",
      " 64%|███████████████████████████████████████████████████▊                             | 64/100 [03:11<01:47,  3.00s/it]"
     ]
    },
    {
     "name": "stdout",
     "output_type": "stream",
     "text": [
      "key: train_loss -- value: 0.37068599462509155\n",
      "key: train_acc -- value: 0.7445999979972839\n",
      "key: val_loss -- value: 0.38175278902053833\n",
      "key: val_acc -- value: 0.7340666651725769\n"
     ]
    },
    {
     "name": "stderr",
     "output_type": "stream",
     "text": [
      "\r",
      " 65%|████████████████████████████████████████████████████▋                            | 65/100 [03:15<01:45,  3.01s/it]"
     ]
    },
    {
     "name": "stdout",
     "output_type": "stream",
     "text": [
      "key: train_loss -- value: 0.3698970675468445\n",
      "key: train_acc -- value: 0.7452333569526672\n",
      "key: val_loss -- value: 0.38107749819755554\n",
      "key: val_acc -- value: 0.7350000143051147\n"
     ]
    },
    {
     "name": "stderr",
     "output_type": "stream",
     "text": [
      "\r",
      " 66%|█████████████████████████████████████████████████████▍                           | 66/100 [03:19<01:42,  3.02s/it]"
     ]
    },
    {
     "name": "stdout",
     "output_type": "stream",
     "text": [
      "key: train_loss -- value: 0.369037389755249\n",
      "key: train_acc -- value: 0.7461666464805603\n",
      "key: val_loss -- value: 0.38043731451034546\n",
      "key: val_acc -- value: 0.7357000112533569\n"
     ]
    },
    {
     "name": "stderr",
     "output_type": "stream",
     "text": [
      "\r",
      " 67%|██████████████████████████████████████████████████████▎                          | 67/100 [03:23<01:40,  3.03s/it]"
     ]
    },
    {
     "name": "stdout",
     "output_type": "stream",
     "text": [
      "key: train_loss -- value: 0.3682956397533417\n",
      "key: train_acc -- value: 0.7462999820709229\n",
      "key: val_loss -- value: 0.3798726201057434\n",
      "key: val_acc -- value: 0.7356666922569275\n"
     ]
    },
    {
     "name": "stderr",
     "output_type": "stream",
     "text": [
      "\r",
      " 68%|███████████████████████████████████████████████████████                          | 68/100 [03:26<01:37,  3.03s/it]"
     ]
    },
    {
     "name": "stdout",
     "output_type": "stream",
     "text": [
      "key: train_loss -- value: 0.3674947917461395\n",
      "key: train_acc -- value: 0.7470333576202393\n",
      "key: val_loss -- value: 0.3791627883911133\n",
      "key: val_acc -- value: 0.7362666726112366\n"
     ]
    },
    {
     "name": "stderr",
     "output_type": "stream",
     "text": [
      "\r",
      " 69%|███████████████████████████████████████████████████████▉                         | 69/100 [03:29<01:34,  3.04s/it]"
     ]
    },
    {
     "name": "stdout",
     "output_type": "stream",
     "text": [
      "key: train_loss -- value: 0.36676621437072754\n",
      "key: train_acc -- value: 0.7475666403770447\n",
      "key: val_loss -- value: 0.3785262703895569\n",
      "key: val_acc -- value: 0.7366333603858948\n"
     ]
    },
    {
     "name": "stderr",
     "output_type": "stream",
     "text": [
      "\r",
      " 70%|████████████████████████████████████████████████████████▋                        | 70/100 [03:33<01:31,  3.05s/it]"
     ]
    },
    {
     "name": "stdout",
     "output_type": "stream",
     "text": [
      "key: train_loss -- value: 0.3660491406917572\n",
      "key: train_acc -- value: 0.7480000257492065\n",
      "key: val_loss -- value: 0.37796157598495483\n",
      "key: val_acc -- value: 0.7371666431427002\n"
     ]
    },
    {
     "name": "stderr",
     "output_type": "stream",
     "text": [
      "\r",
      " 71%|█████████████████████████████████████████████████████████▌                       | 71/100 [03:36<01:28,  3.05s/it]"
     ]
    },
    {
     "name": "stdout",
     "output_type": "stream",
     "text": [
      "key: train_loss -- value: 0.36532512307167053\n",
      "key: train_acc -- value: 0.7482666373252869\n",
      "key: val_loss -- value: 0.37739914655685425\n",
      "key: val_acc -- value: 0.7375666499137878\n"
     ]
    },
    {
     "name": "stderr",
     "output_type": "stream",
     "text": [
      "\r",
      " 72%|██████████████████████████████████████████████████████████▎                      | 72/100 [03:39<01:25,  3.04s/it]"
     ]
    },
    {
     "name": "stdout",
     "output_type": "stream",
     "text": [
      "key: train_loss -- value: 0.36468032002449036\n",
      "key: train_acc -- value: 0.7487333416938782\n",
      "key: val_loss -- value: 0.3768775761127472\n",
      "key: val_acc -- value: 0.7378333210945129\n"
     ]
    },
    {
     "name": "stderr",
     "output_type": "stream",
     "text": [
      "\r",
      " 73%|███████████████████████████████████████████████████████████▏                     | 73/100 [03:42<01:22,  3.05s/it]"
     ]
    },
    {
     "name": "stdout",
     "output_type": "stream",
     "text": [
      "key: train_loss -- value: 0.36397331953048706\n",
      "key: train_acc -- value: 0.7495999932289124\n",
      "key: val_loss -- value: 0.37625715136528015\n",
      "key: val_acc -- value: 0.7383999824523926\n"
     ]
    },
    {
     "name": "stderr",
     "output_type": "stream",
     "text": [
      "\r",
      " 74%|███████████████████████████████████████████████████████████▉                     | 74/100 [03:46<01:19,  3.06s/it]"
     ]
    },
    {
     "name": "stdout",
     "output_type": "stream",
     "text": [
      "key: train_loss -- value: 0.36335888504981995\n",
      "key: train_acc -- value: 0.750166654586792\n",
      "key: val_loss -- value: 0.37573328614234924\n",
      "key: val_acc -- value: 0.7389666438102722\n"
     ]
    },
    {
     "name": "stderr",
     "output_type": "stream",
     "text": [
      "\r",
      " 75%|████████████████████████████████████████████████████████████▊                    | 75/100 [03:49<01:16,  3.06s/it]"
     ]
    },
    {
     "name": "stdout",
     "output_type": "stream",
     "text": [
      "key: train_loss -- value: 0.3626895546913147\n",
      "key: train_acc -- value: 0.7505999803543091\n",
      "key: val_loss -- value: 0.3752034306526184\n",
      "key: val_acc -- value: 0.739300012588501\n"
     ]
    },
    {
     "name": "stderr",
     "output_type": "stream",
     "text": [
      "\r",
      " 76%|█████████████████████████████████████████████████████████████▌                   | 76/100 [03:52<01:13,  3.06s/it]"
     ]
    },
    {
     "name": "stdout",
     "output_type": "stream",
     "text": [
      "key: train_loss -- value: 0.3620869219303131\n",
      "key: train_acc -- value: 0.7509999871253967\n",
      "key: val_loss -- value: 0.3747543394565582\n",
      "key: val_acc -- value: 0.7395666837692261\n"
     ]
    },
    {
     "name": "stderr",
     "output_type": "stream",
     "text": [
      "\r",
      " 77%|██████████████████████████████████████████████████████████████▎                  | 77/100 [03:55<01:10,  3.06s/it]"
     ]
    },
    {
     "name": "stdout",
     "output_type": "stream",
     "text": [
      "key: train_loss -- value: 0.36146336793899536\n",
      "key: train_acc -- value: 0.7518333196640015\n",
      "key: val_loss -- value: 0.3742268681526184\n",
      "key: val_acc -- value: 0.7398666739463806\n"
     ]
    },
    {
     "name": "stderr",
     "output_type": "stream",
     "text": [
      "\r",
      " 78%|███████████████████████████████████████████████████████████████▏                 | 78/100 [03:58<01:07,  3.06s/it]"
     ]
    },
    {
     "name": "stdout",
     "output_type": "stream",
     "text": [
      "key: train_loss -- value: 0.3608747124671936\n",
      "key: train_acc -- value: 0.752133309841156\n",
      "key: val_loss -- value: 0.3736930191516876\n",
      "key: val_acc -- value: 0.7402666807174683\n"
     ]
    },
    {
     "name": "stderr",
     "output_type": "stream",
     "text": [
      "\r",
      " 79%|███████████████████████████████████████████████████████████████▉                 | 79/100 [04:01<01:04,  3.06s/it]"
     ]
    },
    {
     "name": "stdout",
     "output_type": "stream",
     "text": [
      "key: train_loss -- value: 0.3602876663208008\n",
      "key: train_acc -- value: 0.7526666522026062\n",
      "key: val_loss -- value: 0.3732219338417053\n",
      "key: val_acc -- value: 0.7406666874885559\n"
     ]
    },
    {
     "name": "stderr",
     "output_type": "stream",
     "text": [
      "\r",
      " 80%|████████████████████████████████████████████████████████████████▊                | 80/100 [04:05<01:01,  3.06s/it]"
     ]
    },
    {
     "name": "stdout",
     "output_type": "stream",
     "text": [
      "key: train_loss -- value: 0.35971981287002563\n",
      "key: train_acc -- value: 0.7532333135604858\n",
      "key: val_loss -- value: 0.37282633781433105\n",
      "key: val_acc -- value: 0.741266667842865\n"
     ]
    },
    {
     "name": "stderr",
     "output_type": "stream",
     "text": [
      "\r",
      " 81%|█████████████████████████████████████████████████████████████████▌               | 81/100 [04:08<00:58,  3.07s/it]"
     ]
    },
    {
     "name": "stdout",
     "output_type": "stream",
     "text": [
      "key: train_loss -- value: 0.35916534066200256\n",
      "key: train_acc -- value: 0.7540000081062317\n",
      "key: val_loss -- value: 0.3723830282688141\n",
      "key: val_acc -- value: 0.7416666746139526\n"
     ]
    },
    {
     "name": "stderr",
     "output_type": "stream",
     "text": [
      "\r",
      " 82%|██████████████████████████████████████████████████████████████████▍              | 82/100 [04:11<00:55,  3.07s/it]"
     ]
    },
    {
     "name": "stdout",
     "output_type": "stream",
     "text": [
      "key: train_loss -- value: 0.3586110770702362\n",
      "key: train_acc -- value: 0.7541999816894531\n",
      "key: val_loss -- value: 0.37187132239341736\n",
      "key: val_acc -- value: 0.7421666383743286\n"
     ]
    },
    {
     "name": "stderr",
     "output_type": "stream",
     "text": [
      "\r",
      " 83%|███████████████████████████████████████████████████████████████████▏             | 83/100 [04:14<00:52,  3.07s/it]"
     ]
    },
    {
     "name": "stdout",
     "output_type": "stream",
     "text": [
      "key: train_loss -- value: 0.35808148980140686\n",
      "key: train_acc -- value: 0.7544666528701782\n",
      "key: val_loss -- value: 0.3714308738708496\n",
      "key: val_acc -- value: 0.7423999905586243\n"
     ]
    },
    {
     "name": "stderr",
     "output_type": "stream",
     "text": [
      "\r",
      " 84%|████████████████████████████████████████████████████████████████████             | 84/100 [04:17<00:49,  3.07s/it]"
     ]
    },
    {
     "name": "stdout",
     "output_type": "stream",
     "text": [
      "key: train_loss -- value: 0.3575453758239746\n",
      "key: train_acc -- value: 0.755133330821991\n",
      "key: val_loss -- value: 0.3710545301437378\n",
      "key: val_acc -- value: 0.7427666783332825\n"
     ]
    },
    {
     "name": "stderr",
     "output_type": "stream",
     "text": [
      "\r",
      " 85%|████████████████████████████████████████████████████████████████████▊            | 85/100 [04:21<00:46,  3.07s/it]"
     ]
    },
    {
     "name": "stdout",
     "output_type": "stream",
     "text": [
      "key: train_loss -- value: 0.3570382595062256\n",
      "key: train_acc -- value: 0.7555000185966492\n",
      "key: val_loss -- value: 0.3706730902194977\n",
      "key: val_acc -- value: 0.7429666519165039\n"
     ]
    },
    {
     "name": "stderr",
     "output_type": "stream",
     "text": [
      "\r",
      " 86%|█████████████████████████████████████████████████████████████████████▋           | 86/100 [04:24<00:43,  3.08s/it]"
     ]
    },
    {
     "name": "stdout",
     "output_type": "stream",
     "text": [
      "key: train_loss -- value: 0.3565198481082916\n",
      "key: train_acc -- value: 0.755466639995575\n",
      "key: val_loss -- value: 0.3702116310596466\n",
      "key: val_acc -- value: 0.7430999875068665\n"
     ]
    },
    {
     "name": "stderr",
     "output_type": "stream",
     "text": [
      "\r",
      " 87%|██████████████████████████████████████████████████████████████████████▍          | 87/100 [04:27<00:40,  3.08s/it]"
     ]
    },
    {
     "name": "stdout",
     "output_type": "stream",
     "text": [
      "key: train_loss -- value: 0.3560287654399872\n",
      "key: train_acc -- value: 0.7559333443641663\n",
      "key: val_loss -- value: 0.36980974674224854\n",
      "key: val_acc -- value: 0.7437000274658203\n"
     ]
    },
    {
     "name": "stderr",
     "output_type": "stream",
     "text": [
      "\r",
      " 88%|███████████████████████████████████████████████████████████████████████▎         | 88/100 [04:31<00:36,  3.08s/it]"
     ]
    },
    {
     "name": "stdout",
     "output_type": "stream",
     "text": [
      "key: train_loss -- value: 0.35553181171417236\n",
      "key: train_acc -- value: 0.7564333081245422\n",
      "key: val_loss -- value: 0.3694605231285095\n",
      "key: val_acc -- value: 0.7440999746322632\n"
     ]
    },
    {
     "name": "stderr",
     "output_type": "stream",
     "text": [
      "\r",
      " 89%|████████████████████████████████████████████████████████████████████████         | 89/100 [04:34<00:33,  3.08s/it]"
     ]
    },
    {
     "name": "stdout",
     "output_type": "stream",
     "text": [
      "key: train_loss -- value: 0.355055570602417\n",
      "key: train_acc -- value: 0.7567999958992004\n",
      "key: val_loss -- value: 0.36911895871162415\n",
      "key: val_acc -- value: 0.7443333268165588\n"
     ]
    },
    {
     "name": "stderr",
     "output_type": "stream",
     "text": [
      "\r",
      " 90%|████████████████████████████████████████████████████████████████████████▉        | 90/100 [04:37<00:30,  3.08s/it]"
     ]
    },
    {
     "name": "stdout",
     "output_type": "stream",
     "text": [
      "key: train_loss -- value: 0.35458052158355713\n",
      "key: train_acc -- value: 0.7569666504859924\n",
      "key: val_loss -- value: 0.3687369227409363\n",
      "key: val_acc -- value: 0.7444000244140625\n"
     ]
    },
    {
     "name": "stderr",
     "output_type": "stream",
     "text": [
      "\r",
      " 91%|█████████████████████████████████████████████████████████████████████████▋       | 91/100 [04:40<00:27,  3.08s/it]"
     ]
    },
    {
     "name": "stdout",
     "output_type": "stream",
     "text": [
      "key: train_loss -- value: 0.3541213870048523\n",
      "key: train_acc -- value: 0.7574999928474426\n",
      "key: val_loss -- value: 0.36837321519851685\n",
      "key: val_acc -- value: 0.7447666525840759\n"
     ]
    },
    {
     "name": "stderr",
     "output_type": "stream",
     "text": [
      "\r",
      " 92%|██████████████████████████████████████████████████████████████████████████▌      | 92/100 [04:43<00:24,  3.08s/it]"
     ]
    },
    {
     "name": "stdout",
     "output_type": "stream",
     "text": [
      "key: train_loss -- value: 0.353663831949234\n",
      "key: train_acc -- value: 0.7577999830245972\n",
      "key: val_loss -- value: 0.3680403530597687\n",
      "key: val_acc -- value: 0.7452333569526672\n"
     ]
    },
    {
     "name": "stderr",
     "output_type": "stream",
     "text": [
      "\r",
      " 93%|███████████████████████████████████████████████████████████████████████████▎     | 93/100 [04:45<00:21,  3.07s/it]"
     ]
    },
    {
     "name": "stdout",
     "output_type": "stream",
     "text": [
      "key: train_loss -- value: 0.3532186448574066\n",
      "key: train_acc -- value: 0.7580999732017517\n",
      "key: val_loss -- value: 0.3677126169204712\n",
      "key: val_acc -- value: 0.745199978351593\n"
     ]
    },
    {
     "name": "stderr",
     "output_type": "stream",
     "text": [
      "\r",
      " 94%|████████████████████████████████████████████████████████████████████████████▏    | 94/100 [04:49<00:18,  3.07s/it]"
     ]
    },
    {
     "name": "stdout",
     "output_type": "stream",
     "text": [
      "key: train_loss -- value: 0.35277819633483887\n",
      "key: train_acc -- value: 0.7583333253860474\n",
      "key: val_loss -- value: 0.3673900365829468\n",
      "key: val_acc -- value: 0.7454333305358887\n"
     ]
    },
    {
     "name": "stderr",
     "output_type": "stream",
     "text": [
      "\r",
      " 95%|████████████████████████████████████████████████████████████████████████████▉    | 95/100 [04:52<00:15,  3.08s/it]"
     ]
    },
    {
     "name": "stdout",
     "output_type": "stream",
     "text": [
      "key: train_loss -- value: 0.3523499369621277\n",
      "key: train_acc -- value: 0.7584333419799805\n",
      "key: val_loss -- value: 0.36706769466400146\n",
      "key: val_acc -- value: 0.7460333108901978\n"
     ]
    },
    {
     "name": "stderr",
     "output_type": "stream",
     "text": [
      "\r",
      " 96%|█████████████████████████████████████████████████████████████████████████████▊   | 96/100 [04:55<00:12,  3.08s/it]"
     ]
    },
    {
     "name": "stdout",
     "output_type": "stream",
     "text": [
      "key: train_loss -- value: 0.35192105174064636\n",
      "key: train_acc -- value: 0.7588333487510681\n",
      "key: val_loss -- value: 0.36674097180366516\n",
      "key: val_acc -- value: 0.7463333606719971\n"
     ]
    },
    {
     "name": "stderr",
     "output_type": "stream",
     "text": [
      "\r",
      " 97%|██████████████████████████████████████████████████████████████████████████████▌  | 97/100 [04:58<00:09,  3.08s/it]"
     ]
    },
    {
     "name": "stdout",
     "output_type": "stream",
     "text": [
      "key: train_loss -- value: 0.3515070974826813\n",
      "key: train_acc -- value: 0.7590333223342896\n",
      "key: val_loss -- value: 0.3664349913597107\n",
      "key: val_acc -- value: 0.7464333176612854\n"
     ]
    },
    {
     "name": "stderr",
     "output_type": "stream",
     "text": [
      "\r",
      " 98%|███████████████████████████████████████████████████████████████████████████████▍ | 98/100 [05:01<00:06,  3.08s/it]"
     ]
    },
    {
     "name": "stdout",
     "output_type": "stream",
     "text": [
      "key: train_loss -- value: 0.3510928153991699\n",
      "key: train_acc -- value: 0.7592666745185852\n",
      "key: val_loss -- value: 0.3661397099494934\n",
      "key: val_acc -- value: 0.7467333078384399\n"
     ]
    },
    {
     "name": "stderr",
     "output_type": "stream",
     "text": [
      "\r",
      " 99%|████████████████████████████████████████████████████████████████████████████████▏| 99/100 [05:04<00:03,  3.08s/it]"
     ]
    },
    {
     "name": "stdout",
     "output_type": "stream",
     "text": [
      "key: train_loss -- value: 0.35069021582603455\n",
      "key: train_acc -- value: 0.7596333622932434\n",
      "key: val_loss -- value: 0.3658483624458313\n",
      "key: val_acc -- value: 0.746999979019165\n"
     ]
    },
    {
     "name": "stderr",
     "output_type": "stream",
     "text": [
      "100%|████████████████████████████████████████████████████████████████████████████████| 100/100 [05:07<00:00,  3.08s/it]\n"
     ]
    }
   ],
   "source": [
    "model4, train4 = default_net_4(train_input, train_target, num_of_neurons=(784, 500, 200, 100, 10), activation='relu', lr=0.1, momentum_coef=0.9, weight_decay=0.2, p_dropout=0.0, num_of_epochs=100, val_split=0.5, verbose=0)\n",
    "test4 = model4.evaluate(test_input, test_target, return_pred=True)"
   ]
  },
  {
   "cell_type": "code",
   "execution_count": null,
   "metadata": {},
   "outputs": [],
   "source": []
  }
 ],
 "metadata": {
  "kernelspec": {
   "display_name": "Python 3",
   "language": "python",
   "name": "python3"
  },
  "language_info": {
   "codemirror_mode": {
    "name": "ipython",
    "version": 3
   },
   "file_extension": ".py",
   "mimetype": "text/x-python",
   "name": "python",
   "nbconvert_exporter": "python",
   "pygments_lexer": "ipython3",
   "version": "3.6.2"
  }
 },
 "nbformat": 4,
 "nbformat_minor": 1
}
