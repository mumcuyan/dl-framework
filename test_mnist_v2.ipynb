{
 "cells": [
  {
   "cell_type": "code",
   "execution_count": 2,
   "metadata": {
    "collapsed": true
   },
   "outputs": [],
   "source": [
    "import torch\n",
    "from torchvision import datasets"
   ]
  },
  {
   "cell_type": "code",
   "execution_count": 15,
   "metadata": {
    "collapsed": true
   },
   "outputs": [],
   "source": [
    "import matplotlib.pyplot as plt\n",
    "import torch\n",
    "import numpy as np\n",
    "from utils import label2one_hot, plot_report\n",
    "from generate_data import generate_data, generate_grid_data\n",
    "from modules import Dropout\n",
    "from modules import Linear, Sequential\n",
    "import modules\n",
    "from modules.losses import LossMSE, LossCrossEntropy\n",
    "from optimizers import SGD\n",
    "from load_data import load_data\n",
    "from networks import default_net"
   ]
  },
  {
   "cell_type": "code",
   "execution_count": 8,
   "metadata": {},
   "outputs": [
    {
     "name": "stdout",
     "output_type": "stream",
     "text": [
      "* Using MNIST\n",
      "** Use 60000 train and 10000 test samples\n",
      "* Using MNIST\n",
      "** Use 60000 train and 10000 test samples\n"
     ]
    }
   ],
   "source": [
    "train_input, train_target, test_input, test_target = load_data(one_hot_labels = True, normalize = True, flatten = True, data_dir = None, cifar = False, full = True, tiny = False, val=0)\n",
    "_, train_target_mse, _, test_target_mse = load_data(one_hot_labels = True, normalize = True, flatten = True, data_dir = None, cifar = False, full = True, tiny = False, val=-1)"
   ]
  },
  {
   "cell_type": "code",
   "execution_count": 9,
   "metadata": {},
   "outputs": [
    {
     "data": {
      "text/plain": [
       "torch.Size([60000, 784])"
      ]
     },
     "execution_count": 9,
     "metadata": {},
     "output_type": "execute_result"
    }
   ],
   "source": [
    "train_input.size()"
   ]
  },
  {
   "cell_type": "code",
   "execution_count": 10,
   "metadata": {},
   "outputs": [
    {
     "data": {
      "image/png": "[encoded data removed]",
      "text/plain": [
       "<matplotlib.figure.Figure at 0x2064dfac828>"
      ]
     },
     "metadata": {},
     "output_type": "display_data"
    }
   ],
   "source": [
    "fig = plt.figure()\n",
    "plt.imshow(train_input[9000,:].view(28,28))\n",
    "plt.show()"
   ]
  },
  {
   "cell_type": "code",
   "execution_count": 11,
   "metadata": {},
   "outputs": [
    {
     "data": {
      "text/plain": [
       "tensor([[ 0.,  0.,  0.,  ...,  0.,  0.,  0.],\n",
       "        [ 1.,  0.,  0.,  ...,  0.,  0.,  0.],\n",
       "        [ 0.,  0.,  0.,  ...,  0.,  0.,  0.],\n",
       "        ...,\n",
       "        [ 0.,  0.,  0.,  ...,  0.,  0.,  0.],\n",
       "        [ 0.,  0.,  0.,  ...,  0.,  0.,  0.],\n",
       "        [ 0.,  0.,  0.,  ...,  0.,  1.,  0.]])"
      ]
     },
     "execution_count": 11,
     "metadata": {},
     "output_type": "execute_result"
    }
   ],
   "source": [
    "train_target"
   ]
  },
  {
   "cell_type": "code",
   "execution_count": 12,
   "metadata": {},
   "outputs": [
    {
     "data": {
      "text/plain": [
       "tensor([[-1., -1., -1.,  ..., -1., -1., -1.],\n",
       "        [ 1., -1., -1.,  ..., -1., -1., -1.],\n",
       "        [-1., -1., -1.,  ..., -1., -1., -1.],\n",
       "        ...,\n",
       "        [-1., -1., -1.,  ..., -1., -1., -1.],\n",
       "        [-1., -1., -1.,  ..., -1., -1., -1.],\n",
       "        [-1., -1., -1.,  ..., -1.,  1., -1.]])"
      ]
     },
     "execution_count": 12,
     "metadata": {},
     "output_type": "execute_result"
    }
   ],
   "source": [
    "train_target_mse"
   ]
  },
  {
   "cell_type": "code",
   "execution_count": 16,
   "metadata": {
    "scrolled": true
   },
   "outputs": [
    {
     "name": "stdout",
     "output_type": "stream",
     "text": [
      "Added Module Name: 0_Linear \n",
      "Added Module Name: 1_Softmax \n",
      "x_train.shape: torch.Size([30000, 784]) -- y_train.shape: torch.Size([30000, 10])\n",
      "x_val.shape: torch.Size([30000, 784]) -- y_val.shape: torch.Size([30000, 10])\n"
     ]
    },
    {
     "name": "stderr",
     "output_type": "stream",
     "text": [
      "\r",
      "  0%|                                                                                          | 0/100 [00:00<?, ?it/s]"
     ]
    },
    {
     "name": "stdout",
     "output_type": "stream",
     "text": [
      "row_sum: (30000,) -- row_sum_sum: 30000\n",
      "torch.Size([30000, 10])  --  torch.Size([30000, 10])\n",
      "torch.Size([30000, 10])  --  torch.Size([30000, 10])\n",
      "torch.Size([30000, 10])  --  torch.Size([30000, 10])\n",
      "key: train_loss -- value: 1.678770661354065\n",
      "key: train_acc -- value: 0.5052000284194946\n",
      "key: val_loss -- value: 1.681015133857727\n",
      "key: val_acc -- value: 0.5072333216667175\n"
     ]
    },
    {
     "name": "stderr",
     "output_type": "stream",
     "text": [
      "\r",
      "  1%|▊                                                                                 | 1/100 [00:00<00:18,  5.25it/s]"
     ]
    },
    {
     "name": "stdout",
     "output_type": "stream",
     "text": [
      "row_sum: (30000,) -- row_sum_sum: 30000\n",
      "torch.Size([30000, 10])  --  torch.Size([30000, 10])\n",
      "torch.Size([30000, 10])  --  torch.Size([30000, 10])\n",
      "torch.Size([30000, 10])  --  torch.Size([30000, 10])\n",
      "key: train_loss -- value: 0.9831315875053406\n",
      "key: train_acc -- value: 0.6650999784469604\n",
      "key: val_loss -- value: 0.9930968284606934\n",
      "key: val_acc -- value: 0.6629999876022339\n"
     ]
    },
    {
     "name": "stderr",
     "output_type": "stream",
     "text": [
      "\r",
      "  2%|█▋                                                                                | 2/100 [00:00<00:19,  5.11it/s]"
     ]
    },
    {
     "name": "stdout",
     "output_type": "stream",
     "text": [
      "row_sum: (30000,) -- row_sum_sum: 30000\n",
      "torch.Size([30000, 10])  --  torch.Size([30000, 10])\n",
      "torch.Size([30000, 10])  --  torch.Size([30000, 10])\n",
      "torch.Size([30000, 10])  --  torch.Size([30000, 10])\n",
      "key: train_loss -- value: 0.6735314726829529\n",
      "key: train_acc -- value: 0.7741000056266785\n",
      "key: val_loss -- value: 0.6777700781822205\n",
      "key: val_acc -- value: 0.7719666957855225\n"
     ]
    },
    {
     "name": "stderr",
     "output_type": "stream",
     "text": [
      "\r",
      "  3%|██▍                                                                               | 3/100 [00:00<00:18,  5.11it/s]"
     ]
    },
    {
     "name": "stdout",
     "output_type": "stream",
     "text": [
      "row_sum: (30000,) -- row_sum_sum: 30000\n",
      "torch.Size([30000, 10])  --  torch.Size([30000, 10])\n",
      "torch.Size([30000, 10])  --  torch.Size([30000, 10])\n",
      "torch.Size([30000, 10])  --  torch.Size([30000, 10])\n",
      "key: train_loss -- value: 0.6312116384506226\n",
      "key: train_acc -- value: 0.8026000261306763\n",
      "key: val_loss -- value: 0.6343586444854736\n",
      "key: val_acc -- value: 0.8012999892234802\n"
     ]
    },
    {
     "name": "stderr",
     "output_type": "stream",
     "text": [
      "\r",
      "  4%|███▎                                                                              | 4/100 [00:00<00:18,  5.23it/s]"
     ]
    },
    {
     "name": "stdout",
     "output_type": "stream",
     "text": [
      "row_sum: (30000,) -- row_sum_sum: 30000\n",
      "torch.Size([30000, 10])  --  torch.Size([30000, 10])\n",
      "torch.Size([30000, 10])  --  torch.Size([30000, 10])\n",
      "torch.Size([30000, 10])  --  torch.Size([30000, 10])\n",
      "key: train_loss -- value: 0.5855464935302734\n",
      "key: train_acc -- value: 0.8273000121116638\n",
      "key: val_loss -- value: 0.5908458232879639\n",
      "key: val_acc -- value: 0.8258000016212463\n"
     ]
    },
    {
     "name": "stderr",
     "output_type": "stream",
     "text": [
      "\r",
      "  5%|████                                                                              | 5/100 [00:00<00:17,  5.30it/s]"
     ]
    },
    {
     "name": "stdout",
     "output_type": "stream",
     "text": [
      "row_sum: (30000,) -- row_sum_sum: 30000\n",
      "torch.Size([30000, 10])  --  torch.Size([30000, 10])\n",
      "torch.Size([30000, 10])  --  torch.Size([30000, 10])\n",
      "torch.Size([30000, 10])  --  torch.Size([30000, 10])\n",
      "key: train_loss -- value: 0.5540724396705627\n",
      "key: train_acc -- value: 0.8447333574295044\n",
      "key: val_loss -- value: 0.5613119602203369\n",
      "key: val_acc -- value: 0.8454999923706055\n"
     ]
    },
    {
     "name": "stderr",
     "output_type": "stream",
     "text": [
      "\r",
      "  6%|████▉                                                                             | 6/100 [00:01<00:17,  5.31it/s]"
     ]
    },
    {
     "name": "stdout",
     "output_type": "stream",
     "text": [
      "row_sum: (30000,) -- row_sum_sum: 30000\n",
      "torch.Size([30000, 10])  --  torch.Size([30000, 10])\n",
      "torch.Size([30000, 10])  --  torch.Size([30000, 10])\n",
      "torch.Size([30000, 10])  --  torch.Size([30000, 10])\n",
      "key: train_loss -- value: 0.5526182651519775\n",
      "key: train_acc -- value: 0.8517666459083557\n",
      "key: val_loss -- value: 0.5607208609580994\n",
      "key: val_acc -- value: 0.8510666489601135\n"
     ]
    },
    {
     "name": "stderr",
     "output_type": "stream",
     "text": [
      "\r",
      "  7%|█████▋                                                                            | 7/100 [00:01<00:17,  5.26it/s]"
     ]
    },
    {
     "name": "stdout",
     "output_type": "stream",
     "text": [
      "row_sum: (30000,) -- row_sum_sum: 30000\n",
      "torch.Size([30000, 10])  --  torch.Size([30000, 10])\n",
      "torch.Size([30000, 10])  --  torch.Size([30000, 10])\n",
      "torch.Size([30000, 10])  --  torch.Size([30000, 10])\n",
      "key: train_loss -- value: 0.5552881956100464\n",
      "key: train_acc -- value: 0.8578333258628845\n",
      "key: val_loss -- value: 0.5620772242546082\n",
      "key: val_acc -- value: 0.857699990272522\n"
     ]
    },
    {
     "name": "stderr",
     "output_type": "stream",
     "text": [
      "\r",
      "  8%|██████▌                                                                           | 8/100 [00:01<00:17,  5.30it/s]"
     ]
    },
    {
     "name": "stdout",
     "output_type": "stream",
     "text": [
      "row_sum: (30000,) -- row_sum_sum: 30000\n",
      "torch.Size([30000, 10])  --  torch.Size([30000, 10])\n",
      "torch.Size([30000, 10])  --  torch.Size([30000, 10])\n",
      "torch.Size([30000, 10])  --  torch.Size([30000, 10])\n",
      "key: train_loss -- value: 0.5464367270469666\n",
      "key: train_acc -- value: 0.8674333095550537\n",
      "key: val_loss -- value: 0.5510584712028503\n",
      "key: val_acc -- value: 0.8675666451454163\n"
     ]
    },
    {
     "name": "stderr",
     "output_type": "stream",
     "text": [
      "\r",
      "  9%|███████▍                                                                          | 9/100 [00:01<00:17,  5.35it/s]"
     ]
    },
    {
     "name": "stdout",
     "output_type": "stream",
     "text": [
      "row_sum: (30000,) -- row_sum_sum: 30000\n",
      "torch.Size([30000, 10])  --  torch.Size([30000, 10])\n",
      "torch.Size([30000, 10])  --  torch.Size([30000, 10])\n",
      "torch.Size([30000, 10])  --  torch.Size([30000, 10])\n",
      "key: train_loss -- value: 0.5422792434692383\n",
      "key: train_acc -- value: 0.8750333189964294\n",
      "key: val_loss -- value: 0.5458148717880249\n",
      "key: val_acc -- value: 0.874666690826416\n"
     ]
    },
    {
     "name": "stderr",
     "output_type": "stream",
     "text": [
      "\r",
      " 10%|████████                                                                         | 10/100 [00:01<00:16,  5.36it/s]"
     ]
    },
    {
     "name": "stdout",
     "output_type": "stream",
     "text": [
      "row_sum: (30000,) -- row_sum_sum: 30000\n",
      "torch.Size([30000, 10])  --  torch.Size([30000, 10])\n",
      "torch.Size([30000, 10])  --  torch.Size([30000, 10])\n",
      "torch.Size([30000, 10])  --  torch.Size([30000, 10])\n",
      "key: train_loss -- value: 0.551020622253418\n",
      "key: train_acc -- value: 0.8761000037193298\n",
      "key: val_loss -- value: 0.5544815063476562\n",
      "key: val_acc -- value: 0.8767333626747131\n"
     ]
    },
    {
     "name": "stderr",
     "output_type": "stream",
     "text": [
      "\r",
      " 11%|████████▉                                                                        | 11/100 [00:02<00:16,  5.37it/s]"
     ]
    },
    {
     "name": "stdout",
     "output_type": "stream",
     "text": [
      "row_sum: (30000,) -- row_sum_sum: 30000\n",
      "torch.Size([30000, 10])  --  torch.Size([30000, 10])\n",
      "torch.Size([30000, 10])  --  torch.Size([30000, 10])\n",
      "torch.Size([30000, 10])  --  torch.Size([30000, 10])\n",
      "key: train_loss -- value: 0.5556023716926575\n",
      "key: train_acc -- value: 0.8765333294868469\n",
      "key: val_loss -- value: 0.5596089959144592\n",
      "key: val_acc -- value: 0.876800000667572\n"
     ]
    },
    {
     "name": "stderr",
     "output_type": "stream",
     "text": [
      "\r",
      " 12%|█████████▋                                                                       | 12/100 [00:02<00:16,  5.37it/s]"
     ]
    },
    {
     "name": "stdout",
     "output_type": "stream",
     "text": [
      "row_sum: (30000,) -- row_sum_sum: 30000\n",
      "torch.Size([30000, 10])  --  torch.Size([30000, 10])\n",
      "torch.Size([30000, 10])  --  torch.Size([30000, 10])\n",
      "torch.Size([30000, 10])  --  torch.Size([30000, 10])\n",
      "key: train_loss -- value: 0.5499366521835327\n",
      "key: train_acc -- value: 0.8797333240509033\n",
      "key: val_loss -- value: 0.554369330406189\n",
      "key: val_acc -- value: 0.880299985408783\n"
     ]
    },
    {
     "name": "stderr",
     "output_type": "stream",
     "text": [
      "\r",
      " 13%|██████████▌                                                                      | 13/100 [00:02<00:16,  5.38it/s]"
     ]
    },
    {
     "name": "stdout",
     "output_type": "stream",
     "text": [
      "row_sum: (30000,) -- row_sum_sum: 30000\n",
      "torch.Size([30000, 10])  --  torch.Size([30000, 10])\n",
      "torch.Size([30000, 10])  --  torch.Size([30000, 10])\n",
      "torch.Size([30000, 10])  --  torch.Size([30000, 10])\n",
      "key: train_loss -- value: 0.5442038774490356\n",
      "key: train_acc -- value: 0.8813333511352539\n",
      "key: val_loss -- value: 0.5491093993186951\n",
      "key: val_acc -- value: 0.8824999928474426\n"
     ]
    },
    {
     "name": "stderr",
     "output_type": "stream",
     "text": [
      "\r",
      " 14%|███████████▎                                                                     | 14/100 [00:02<00:15,  5.38it/s]"
     ]
    },
    {
     "name": "stdout",
     "output_type": "stream",
     "text": [
      "row_sum: (30000,) -- row_sum_sum: 30000\n",
      "torch.Size([30000, 10])  --  torch.Size([30000, 10])\n",
      "torch.Size([30000, 10])  --  torch.Size([30000, 10])\n",
      "torch.Size([30000, 10])  --  torch.Size([30000, 10])\n",
      "key: train_loss -- value: 0.5408329367637634\n",
      "key: train_acc -- value: 0.8822000026702881\n",
      "key: val_loss -- value: 0.5464431643486023\n",
      "key: val_acc -- value: 0.8836333155632019\n"
     ]
    },
    {
     "name": "stderr",
     "output_type": "stream",
     "text": [
      "\r",
      " 15%|████████████▏                                                                    | 15/100 [00:02<00:15,  5.39it/s]"
     ]
    },
    {
     "name": "stdout",
     "output_type": "stream",
     "text": [
      "row_sum: (30000,) -- row_sum_sum: 30000\n",
      "torch.Size([30000, 10])  --  torch.Size([30000, 10])\n",
      "torch.Size([30000, 10])  --  torch.Size([30000, 10])\n",
      "torch.Size([30000, 10])  --  torch.Size([30000, 10])\n",
      "key: train_loss -- value: 0.5326562523841858\n",
      "key: train_acc -- value: 0.8836333155632019\n",
      "key: val_loss -- value: 0.539195716381073\n",
      "key: val_acc -- value: 0.8865333199501038\n"
     ]
    },
    {
     "name": "stderr",
     "output_type": "stream",
     "text": [
      "\r",
      " 16%|████████████▉                                                                    | 16/100 [00:02<00:15,  5.39it/s]"
     ]
    },
    {
     "name": "stdout",
     "output_type": "stream",
     "text": [
      "row_sum: (30000,) -- row_sum_sum: 30000\n",
      "torch.Size([30000, 10])  --  torch.Size([30000, 10])\n",
      "torch.Size([30000, 10])  --  torch.Size([30000, 10])\n",
      "torch.Size([30000, 10])  --  torch.Size([30000, 10])\n",
      "key: train_loss -- value: 0.5188145041465759\n",
      "key: train_acc -- value: 0.8870999813079834\n",
      "key: val_loss -- value: 0.5264729261398315\n",
      "key: val_acc -- value: 0.8892999887466431\n"
     ]
    },
    {
     "name": "stderr",
     "output_type": "stream",
     "text": [
      "\r",
      " 17%|█████████████▊                                                                   | 17/100 [00:03<00:15,  5.40it/s]"
     ]
    },
    {
     "name": "stdout",
     "output_type": "stream",
     "text": [
      "row_sum: (30000,) -- row_sum_sum: 30000\n",
      "torch.Size([30000, 10])  --  torch.Size([30000, 10])\n",
      "torch.Size([30000, 10])  --  torch.Size([30000, 10])\n",
      "torch.Size([30000, 10])  --  torch.Size([30000, 10])\n",
      "key: train_loss -- value: 0.50723797082901\n",
      "key: train_acc -- value: 0.8903999924659729\n",
      "key: val_loss -- value: 0.5163048505783081\n",
      "key: val_acc -- value: 0.8913999795913696\n"
     ]
    },
    {
     "name": "stderr",
     "output_type": "stream",
     "text": [
      "\r",
      " 18%|██████████████▌                                                                  | 18/100 [00:03<00:15,  5.41it/s]"
     ]
    },
    {
     "name": "stdout",
     "output_type": "stream",
     "text": [
      "row_sum: (30000,) -- row_sum_sum: 30000\n",
      "torch.Size([30000, 10])  --  torch.Size([30000, 10])\n",
      "torch.Size([30000, 10])  --  torch.Size([30000, 10])\n",
      "torch.Size([30000, 10])  --  torch.Size([30000, 10])\n",
      "key: train_loss -- value: 0.502156138420105\n",
      "key: train_acc -- value: 0.892133355140686\n",
      "key: val_loss -- value: 0.5128769278526306\n",
      "key: val_acc -- value: 0.8923666477203369\n"
     ]
    },
    {
     "name": "stderr",
     "output_type": "stream",
     "text": [
      "\r",
      " 19%|███████████████▍                                                                 | 19/100 [00:03<00:14,  5.41it/s]"
     ]
    },
    {
     "name": "stdout",
     "output_type": "stream",
     "text": [
      "row_sum: (30000,) -- row_sum_sum: 30000\n",
      "torch.Size([30000, 10])  --  torch.Size([30000, 10])\n",
      "torch.Size([30000, 10])  --  torch.Size([30000, 10])\n",
      "torch.Size([30000, 10])  --  torch.Size([30000, 10])\n",
      "key: train_loss -- value: 0.49824610352516174\n",
      "key: train_acc -- value: 0.893666684627533\n",
      "key: val_loss -- value: 0.5106061100959778\n",
      "key: val_acc -- value: 0.8922333121299744\n"
     ]
    },
    {
     "name": "stderr",
     "output_type": "stream",
     "text": [
      "\r",
      " 20%|████████████████▏                                                                | 20/100 [00:03<00:14,  5.40it/s]"
     ]
    },
    {
     "name": "stdout",
     "output_type": "stream",
     "text": [
      "row_sum: (30000,) -- row_sum_sum: 30000\n",
      "torch.Size([30000, 10])  --  torch.Size([30000, 10])\n",
      "torch.Size([30000, 10])  --  torch.Size([30000, 10])\n",
      "torch.Size([30000, 10])  --  torch.Size([30000, 10])\n",
      "key: train_loss -- value: 0.48932385444641113\n",
      "key: train_acc -- value: 0.8949333429336548\n",
      "key: val_loss -- value: 0.5030839443206787\n",
      "key: val_acc -- value: 0.8931999802589417\n"
     ]
    },
    {
     "name": "stderr",
     "output_type": "stream",
     "text": [
      "\r",
      " 21%|█████████████████                                                                | 21/100 [00:03<00:14,  5.38it/s]"
     ]
    },
    {
     "name": "stdout",
     "output_type": "stream",
     "text": [
      "row_sum: (30000,) -- row_sum_sum: 30000\n",
      "torch.Size([30000, 10])  --  torch.Size([30000, 10])\n",
      "torch.Size([30000, 10])  --  torch.Size([30000, 10])\n",
      "torch.Size([30000, 10])  --  torch.Size([30000, 10])\n",
      "key: train_loss -- value: 0.47727951407432556\n",
      "key: train_acc -- value: 0.8970000147819519\n",
      "key: val_loss -- value: 0.49225008487701416\n",
      "key: val_acc -- value: 0.8950666785240173\n"
     ]
    },
    {
     "name": "stderr",
     "output_type": "stream",
     "text": [
      "\r",
      " 22%|█████████████████▊                                                               | 22/100 [00:04<00:14,  5.36it/s]"
     ]
    },
    {
     "name": "stdout",
     "output_type": "stream",
     "text": [
      "row_sum: (30000,) -- row_sum_sum: 30000\n",
      "torch.Size([30000, 10])  --  torch.Size([30000, 10])\n",
      "torch.Size([30000, 10])  --  torch.Size([30000, 10])\n",
      "torch.Size([30000, 10])  --  torch.Size([30000, 10])\n",
      "key: train_loss -- value: 0.46776923537254333\n",
      "key: train_acc -- value: 0.8978999853134155\n",
      "key: val_loss -- value: 0.4839654564857483\n",
      "key: val_acc -- value: 0.8966333270072937\n"
     ]
    },
    {
     "name": "stderr",
     "output_type": "stream",
     "text": [
      "\r",
      " 23%|██████████████████▋                                                              | 23/100 [00:04<00:14,  5.35it/s]"
     ]
    },
    {
     "name": "stdout",
     "output_type": "stream",
     "text": [
      "row_sum: (30000,) -- row_sum_sum: 30000\n",
      "torch.Size([30000, 10])  --  torch.Size([30000, 10])\n",
      "torch.Size([30000, 10])  --  torch.Size([30000, 10])\n",
      "torch.Size([30000, 10])  --  torch.Size([30000, 10])\n",
      "key: train_loss -- value: 0.4615075886249542\n",
      "key: train_acc -- value: 0.8992000222206116\n",
      "key: val_loss -- value: 0.47905290126800537\n",
      "key: val_acc -- value: 0.8967000246047974\n"
     ]
    },
    {
     "name": "stderr",
     "output_type": "stream",
     "text": [
      "\r",
      " 24%|███████████████████▍                                                             | 24/100 [00:04<00:14,  5.35it/s]"
     ]
    },
    {
     "name": "stdout",
     "output_type": "stream",
     "text": [
      "row_sum: (30000,) -- row_sum_sum: 30000\n",
      "torch.Size([30000, 10])  --  torch.Size([30000, 10])\n",
      "torch.Size([30000, 10])  --  torch.Size([30000, 10])\n",
      "torch.Size([30000, 10])  --  torch.Size([30000, 10])\n",
      "key: train_loss -- value: 0.4544869661331177\n",
      "key: train_acc -- value: 0.8991333246231079\n",
      "key: val_loss -- value: 0.47348442673683167\n",
      "key: val_acc -- value: 0.8966000080108643\n"
     ]
    },
    {
     "name": "stderr",
     "output_type": "stream",
     "text": [
      "\r",
      " 25%|████████████████████▎                                                            | 25/100 [00:04<00:13,  5.36it/s]"
     ]
    },
    {
     "name": "stdout",
     "output_type": "stream",
     "text": [
      "row_sum: (30000,) -- row_sum_sum: 30000\n",
      "torch.Size([30000, 10])  --  torch.Size([30000, 10])\n",
      "torch.Size([30000, 10])  --  torch.Size([30000, 10])\n",
      "torch.Size([30000, 10])  --  torch.Size([30000, 10])\n",
      "key: train_loss -- value: 0.44492363929748535\n",
      "key: train_acc -- value: 0.9008333086967468\n",
      "key: val_loss -- value: 0.4652227759361267\n",
      "key: val_acc -- value: 0.8979666829109192\n"
     ]
    },
    {
     "name": "stderr",
     "output_type": "stream",
     "text": [
      "\r",
      " 26%|█████████████████████                                                            | 26/100 [00:04<00:13,  5.37it/s]"
     ]
    },
    {
     "name": "stdout",
     "output_type": "stream",
     "text": [
      "row_sum: (30000,) -- row_sum_sum: 30000\n",
      "torch.Size([30000, 10])  --  torch.Size([30000, 10])\n",
      "torch.Size([30000, 10])  --  torch.Size([30000, 10])\n",
      "torch.Size([30000, 10])  --  torch.Size([30000, 10])\n",
      "key: train_loss -- value: 0.43518757820129395\n",
      "key: train_acc -- value: 0.9023333191871643\n",
      "key: val_loss -- value: 0.4566572606563568\n",
      "key: val_acc -- value: 0.8994666934013367\n"
     ]
    },
    {
     "name": "stderr",
     "output_type": "stream",
     "text": [
      "\r",
      " 27%|█████████████████████▊                                                           | 27/100 [00:05<00:13,  5.38it/s]"
     ]
    },
    {
     "name": "stdout",
     "output_type": "stream",
     "text": [
      "row_sum: (30000,) -- row_sum_sum: 30000\n",
      "torch.Size([30000, 10])  --  torch.Size([30000, 10])\n",
      "torch.Size([30000, 10])  --  torch.Size([30000, 10])\n",
      "torch.Size([30000, 10])  --  torch.Size([30000, 10])\n",
      "key: train_loss -- value: 0.42729175090789795\n",
      "key: train_acc -- value: 0.902400016784668\n",
      "key: val_loss -- value: 0.44973838329315186\n",
      "key: val_acc -- value: 0.9002666473388672\n"
     ]
    },
    {
     "name": "stderr",
     "output_type": "stream",
     "text": [
      "\r",
      " 28%|██████████████████████▋                                                          | 28/100 [00:05<00:13,  5.38it/s]"
     ]
    },
    {
     "name": "stdout",
     "output_type": "stream",
     "text": [
      "row_sum: (30000,) -- row_sum_sum: 30000\n",
      "torch.Size([30000, 10])  --  torch.Size([30000, 10])\n",
      "torch.Size([30000, 10])  --  torch.Size([30000, 10])\n",
      "torch.Size([30000, 10])  --  torch.Size([30000, 10])\n",
      "key: train_loss -- value: 0.41988876461982727\n",
      "key: train_acc -- value: 0.9035666584968567\n",
      "key: val_loss -- value: 0.44312503933906555\n",
      "key: val_acc -- value: 0.901366651058197\n"
     ]
    },
    {
     "name": "stderr",
     "output_type": "stream",
     "text": [
      "\r",
      " 29%|███████████████████████▍                                                         | 29/100 [00:05<00:13,  5.39it/s]"
     ]
    },
    {
     "name": "stdout",
     "output_type": "stream",
     "text": [
      "row_sum: (30000,) -- row_sum_sum: 30000\n",
      "torch.Size([30000, 10])  --  torch.Size([30000, 10])\n",
      "torch.Size([30000, 10])  --  torch.Size([30000, 10])\n",
      "torch.Size([30000, 10])  --  torch.Size([30000, 10])\n",
      "key: train_loss -- value: 0.4114995300769806\n",
      "key: train_acc -- value: 0.9046666622161865\n",
      "key: val_loss -- value: 0.4354149401187897\n",
      "key: val_acc -- value: 0.9023666381835938\n"
     ]
    },
    {
     "name": "stderr",
     "output_type": "stream",
     "text": [
      "\r",
      " 30%|████████████████████████▎                                                        | 30/100 [00:05<00:12,  5.39it/s]"
     ]
    },
    {
     "name": "stdout",
     "output_type": "stream",
     "text": [
      "row_sum: (30000,) -- row_sum_sum: 30000\n",
      "torch.Size([30000, 10])  --  torch.Size([30000, 10])\n",
      "torch.Size([30000, 10])  --  torch.Size([30000, 10])\n",
      "torch.Size([30000, 10])  --  torch.Size([30000, 10])\n",
      "key: train_loss -- value: 0.4033399820327759\n",
      "key: train_acc -- value: 0.906000018119812\n",
      "key: val_loss -- value: 0.42799586057662964\n",
      "key: val_acc -- value: 0.9033666849136353\n"
     ]
    },
    {
     "name": "stderr",
     "output_type": "stream",
     "text": [
      "\r",
      " 31%|█████████████████████████                                                        | 31/100 [00:05<00:12,  5.40it/s]"
     ]
    },
    {
     "name": "stdout",
     "output_type": "stream",
     "text": [
      "row_sum: (30000,) -- row_sum_sum: 30000\n",
      "torch.Size([30000, 10])  --  torch.Size([30000, 10])\n",
      "torch.Size([30000, 10])  --  torch.Size([30000, 10])\n",
      "torch.Size([30000, 10])  --  torch.Size([30000, 10])\n",
      "key: train_loss -- value: 0.3968488574028015\n",
      "key: train_acc -- value: 0.9071000218391418\n",
      "key: val_loss -- value: 0.4223611056804657\n",
      "key: val_acc -- value: 0.9039000272750854\n"
     ]
    },
    {
     "name": "stderr",
     "output_type": "stream",
     "text": [
      "\r",
      " 32%|█████████████████████████▉                                                       | 32/100 [00:05<00:12,  5.40it/s]"
     ]
    },
    {
     "name": "stdout",
     "output_type": "stream",
     "text": [
      "row_sum: (30000,) -- row_sum_sum: 30000\n",
      "torch.Size([30000, 10])  --  torch.Size([30000, 10])\n",
      "torch.Size([30000, 10])  --  torch.Size([30000, 10])\n",
      "torch.Size([30000, 10])  --  torch.Size([30000, 10])\n",
      "key: train_loss -- value: 0.3909660279750824\n",
      "key: train_acc -- value: 0.9078999757766724\n",
      "key: val_loss -- value: 0.4173615276813507\n",
      "key: val_acc -- value: 0.90420001745224\n"
     ]
    },
    {
     "name": "stderr",
     "output_type": "stream",
     "text": [
      "\r",
      " 33%|██████████████████████████▋                                                      | 33/100 [00:06<00:12,  5.40it/s]"
     ]
    },
    {
     "name": "stdout",
     "output_type": "stream",
     "text": [
      "row_sum: (30000,) -- row_sum_sum: 30000\n",
      "torch.Size([30000, 10])  --  torch.Size([30000, 10])\n",
      "torch.Size([30000, 10])  --  torch.Size([30000, 10])\n",
      "torch.Size([30000, 10])  --  torch.Size([30000, 10])\n",
      "key: train_loss -- value: 0.38408178091049194\n",
      "key: train_acc -- value: 0.9082666635513306\n",
      "key: val_loss -- value: 0.41134020686149597\n",
      "key: val_acc -- value: 0.9047999978065491\n"
     ]
    },
    {
     "name": "stderr",
     "output_type": "stream",
     "text": [
      "\r",
      " 34%|███████████████████████████▌                                                     | 34/100 [00:06<00:12,  5.40it/s]"
     ]
    },
    {
     "name": "stdout",
     "output_type": "stream",
     "text": [
      "row_sum: (30000,) -- row_sum_sum: 30000\n",
      "torch.Size([30000, 10])  --  torch.Size([30000, 10])\n",
      "torch.Size([30000, 10])  --  torch.Size([30000, 10])\n",
      "torch.Size([30000, 10])  --  torch.Size([30000, 10])\n",
      "key: train_loss -- value: 0.3767816126346588\n",
      "key: train_acc -- value: 0.909166693687439\n",
      "key: val_loss -- value: 0.4048802852630615\n",
      "key: val_acc -- value: 0.906166672706604\n"
     ]
    },
    {
     "name": "stderr",
     "output_type": "stream",
     "text": [
      "\r",
      " 35%|████████████████████████████▎                                                    | 35/100 [00:06<00:12,  5.40it/s]"
     ]
    },
    {
     "name": "stdout",
     "output_type": "stream",
     "text": [
      "row_sum: (30000,) -- row_sum_sum: 30000\n",
      "torch.Size([30000, 10])  --  torch.Size([30000, 10])\n",
      "torch.Size([30000, 10])  --  torch.Size([30000, 10])\n",
      "torch.Size([30000, 10])  --  torch.Size([30000, 10])\n",
      "key: train_loss -- value: 0.3704075217247009\n",
      "key: train_acc -- value: 0.9107000231742859\n",
      "key: val_loss -- value: 0.39937323331832886\n",
      "key: val_acc -- value: 0.9067000150680542\n"
     ]
    },
    {
     "name": "stderr",
     "output_type": "stream",
     "text": [
      "\r",
      " 36%|█████████████████████████████▏                                                   | 36/100 [00:06<00:11,  5.40it/s]"
     ]
    },
    {
     "name": "stdout",
     "output_type": "stream",
     "text": [
      "row_sum: (30000,) -- row_sum_sum: 30000\n",
      "torch.Size([30000, 10])  --  torch.Size([30000, 10])\n",
      "torch.Size([30000, 10])  --  torch.Size([30000, 10])\n",
      "torch.Size([30000, 10])  --  torch.Size([30000, 10])\n",
      "key: train_loss -- value: 0.3647012412548065\n",
      "key: train_acc -- value: 0.9108666777610779\n",
      "key: val_loss -- value: 0.394560843706131\n",
      "key: val_acc -- value: 0.9070666432380676\n"
     ]
    },
    {
     "name": "stderr",
     "output_type": "stream",
     "text": [
      "\r",
      " 37%|█████████████████████████████▉                                                   | 37/100 [00:06<00:11,  5.41it/s]"
     ]
    },
    {
     "name": "stdout",
     "output_type": "stream",
     "text": [
      "row_sum: (30000,) -- row_sum_sum: 30000\n",
      "torch.Size([30000, 10])  --  torch.Size([30000, 10])\n",
      "torch.Size([30000, 10])  --  torch.Size([30000, 10])\n",
      "torch.Size([30000, 10])  --  torch.Size([30000, 10])\n",
      "key: train_loss -- value: 0.3589246869087219\n",
      "key: train_acc -- value: 0.9117000102996826\n",
      "key: val_loss -- value: 0.3896196186542511\n",
      "key: val_acc -- value: 0.907966673374176\n"
     ]
    },
    {
     "name": "stderr",
     "output_type": "stream",
     "text": [
      "\r",
      " 38%|██████████████████████████████▊                                                  | 38/100 [00:07<00:11,  5.41it/s]"
     ]
    },
    {
     "name": "stdout",
     "output_type": "stream",
     "text": [
      "row_sum: (30000,) -- row_sum_sum: 30000\n",
      "torch.Size([30000, 10])  --  torch.Size([30000, 10])\n",
      "torch.Size([30000, 10])  --  torch.Size([30000, 10])\n",
      "torch.Size([30000, 10])  --  torch.Size([30000, 10])\n",
      "key: train_loss -- value: 0.35353460907936096\n",
      "key: train_acc -- value: 0.9123333096504211\n",
      "key: val_loss -- value: 0.385010689496994\n",
      "key: val_acc -- value: 0.9082333445549011\n"
     ]
    },
    {
     "name": "stderr",
     "output_type": "stream",
     "text": [
      "\r",
      " 39%|███████████████████████████████▌                                                 | 39/100 [00:07<00:11,  5.40it/s]"
     ]
    },
    {
     "name": "stdout",
     "output_type": "stream",
     "text": [
      "row_sum: (30000,) -- row_sum_sum: 30000\n",
      "torch.Size([30000, 10])  --  torch.Size([30000, 10])\n",
      "torch.Size([30000, 10])  --  torch.Size([30000, 10])\n",
      "torch.Size([30000, 10])  --  torch.Size([30000, 10])\n",
      "key: train_loss -- value: 0.3487958610057831\n",
      "key: train_acc -- value: 0.9126666784286499\n",
      "key: val_loss -- value: 0.3810012936592102\n",
      "key: val_acc -- value: 0.9085000157356262\n"
     ]
    },
    {
     "name": "stderr",
     "output_type": "stream",
     "text": [
      "\r",
      " 40%|████████████████████████████████▍                                                | 40/100 [00:07<00:11,  5.40it/s]"
     ]
    },
    {
     "name": "stdout",
     "output_type": "stream",
     "text": [
      "row_sum: (30000,) -- row_sum_sum: 30000\n",
      "torch.Size([30000, 10])  --  torch.Size([30000, 10])\n",
      "torch.Size([30000, 10])  --  torch.Size([30000, 10])\n",
      "torch.Size([30000, 10])  --  torch.Size([30000, 10])\n",
      "key: train_loss -- value: 0.3438244163990021\n",
      "key: train_acc -- value: 0.9134666919708252\n",
      "key: val_loss -- value: 0.3767407536506653\n",
      "key: val_acc -- value: 0.9086999893188477\n"
     ]
    },
    {
     "name": "stderr",
     "output_type": "stream",
     "text": [
      "\r",
      " 41%|█████████████████████████████████▏                                               | 41/100 [00:07<00:10,  5.39it/s]"
     ]
    },
    {
     "name": "stdout",
     "output_type": "stream",
     "text": [
      "row_sum: (30000,) -- row_sum_sum: 30000\n",
      "torch.Size([30000, 10])  --  torch.Size([30000, 10])\n",
      "torch.Size([30000, 10])  --  torch.Size([30000, 10])\n",
      "torch.Size([30000, 10])  --  torch.Size([30000, 10])\n",
      "key: train_loss -- value: 0.33850064873695374\n",
      "key: train_acc -- value: 0.9143000245094299\n",
      "key: val_loss -- value: 0.3720546364784241\n",
      "key: val_acc -- value: 0.909500002861023\n"
     ]
    },
    {
     "name": "stderr",
     "output_type": "stream",
     "text": [
      "\r",
      " 42%|██████████████████████████████████                                               | 42/100 [00:07<00:10,  5.39it/s]"
     ]
    },
    {
     "name": "stdout",
     "output_type": "stream",
     "text": [
      "row_sum: (30000,) -- row_sum_sum: 30000\n",
      "torch.Size([30000, 10])  --  torch.Size([30000, 10])\n",
      "torch.Size([30000, 10])  --  torch.Size([30000, 10])\n",
      "torch.Size([30000, 10])  --  torch.Size([30000, 10])\n",
      "key: train_loss -- value: 0.33392301201820374\n",
      "key: train_acc -- value: 0.9149333238601685\n",
      "key: val_loss -- value: 0.36803603172302246\n",
      "key: val_acc -- value: 0.910099983215332\n"
     ]
    },
    {
     "name": "stderr",
     "output_type": "stream",
     "text": [
      "\r",
      " 43%|██████████████████████████████████▊                                              | 43/100 [00:07<00:10,  5.39it/s]"
     ]
    },
    {
     "name": "stdout",
     "output_type": "stream",
     "text": [
      "row_sum: (30000,) -- row_sum_sum: 30000\n",
      "torch.Size([30000, 10])  --  torch.Size([30000, 10])\n",
      "torch.Size([30000, 10])  --  torch.Size([30000, 10])\n",
      "torch.Size([30000, 10])  --  torch.Size([30000, 10])\n",
      "key: train_loss -- value: 0.3302787244319916\n",
      "key: train_acc -- value: 0.9154999852180481\n",
      "key: val_loss -- value: 0.3648628294467926\n",
      "key: val_acc -- value: 0.9110333323478699\n"
     ]
    },
    {
     "name": "stderr",
     "output_type": "stream",
     "text": [
      "\r",
      " 44%|███████████████████████████████████▋                                             | 44/100 [00:08<00:10,  5.39it/s]"
     ]
    },
    {
     "name": "stdout",
     "output_type": "stream",
     "text": [
      "row_sum: (30000,) -- row_sum_sum: 30000\n",
      "torch.Size([30000, 10])  --  torch.Size([30000, 10])\n",
      "torch.Size([30000, 10])  --  torch.Size([30000, 10])\n",
      "torch.Size([30000, 10])  --  torch.Size([30000, 10])\n",
      "key: train_loss -- value: 0.3265514075756073\n",
      "key: train_acc -- value: 0.9161333441734314\n",
      "key: val_loss -- value: 0.3615588843822479\n",
      "key: val_acc -- value: 0.9117333292961121\n"
     ]
    },
    {
     "name": "stderr",
     "output_type": "stream",
     "text": [
      "\r",
      " 45%|████████████████████████████████████▍                                            | 45/100 [00:08<00:10,  5.39it/s]"
     ]
    },
    {
     "name": "stdout",
     "output_type": "stream",
     "text": [
      "row_sum: (30000,) -- row_sum_sum: 30000\n",
      "torch.Size([30000, 10])  --  torch.Size([30000, 10])\n",
      "torch.Size([30000, 10])  --  torch.Size([30000, 10])\n",
      "torch.Size([30000, 10])  --  torch.Size([30000, 10])\n",
      "key: train_loss -- value: 0.32260093092918396\n",
      "key: train_acc -- value: 0.9168000221252441\n",
      "key: val_loss -- value: 0.35799840092658997\n",
      "key: val_acc -- value: 0.911899983882904\n"
     ]
    },
    {
     "name": "stderr",
     "output_type": "stream",
     "text": [
      "\r",
      " 46%|█████████████████████████████████████▎                                           | 46/100 [00:08<00:10,  5.38it/s]"
     ]
    },
    {
     "name": "stdout",
     "output_type": "stream",
     "text": [
      "row_sum: (30000,) -- row_sum_sum: 30000\n",
      "torch.Size([30000, 10])  --  torch.Size([30000, 10])\n",
      "torch.Size([30000, 10])  --  torch.Size([30000, 10])\n",
      "torch.Size([30000, 10])  --  torch.Size([30000, 10])\n",
      "key: train_loss -- value: 0.31911298632621765\n",
      "key: train_acc -- value: 0.9172666668891907\n",
      "key: val_loss -- value: 0.3549303710460663\n",
      "key: val_acc -- value: 0.9120000004768372\n"
     ]
    },
    {
     "name": "stderr",
     "output_type": "stream",
     "text": [
      "\r",
      " 47%|██████████████████████████████████████                                           | 47/100 [00:08<00:09,  5.38it/s]"
     ]
    },
    {
     "name": "stdout",
     "output_type": "stream",
     "text": [
      "row_sum: (30000,) -- row_sum_sum: 30000\n",
      "torch.Size([30000, 10])  --  torch.Size([30000, 10])\n",
      "torch.Size([30000, 10])  --  torch.Size([30000, 10])\n",
      "torch.Size([30000, 10])  --  torch.Size([30000, 10])\n",
      "key: train_loss -- value: 0.31604042649269104\n",
      "key: train_acc -- value: 0.9172000288963318\n",
      "key: val_loss -- value: 0.3523077070713043\n",
      "key: val_acc -- value: 0.9126666784286499\n"
     ]
    },
    {
     "name": "stderr",
     "output_type": "stream",
     "text": [
      "\r",
      " 48%|██████████████████████████████████████▉                                          | 48/100 [00:08<00:09,  5.39it/s]"
     ]
    },
    {
     "name": "stdout",
     "output_type": "stream",
     "text": [
      "row_sum: (30000,) -- row_sum_sum: 30000\n",
      "torch.Size([30000, 10])  --  torch.Size([30000, 10])\n",
      "torch.Size([30000, 10])  --  torch.Size([30000, 10])\n",
      "torch.Size([30000, 10])  --  torch.Size([30000, 10])\n",
      "key: train_loss -- value: 0.3128862679004669\n",
      "key: train_acc -- value: 0.9180999994277954\n",
      "key: val_loss -- value: 0.34961560368537903\n",
      "key: val_acc -- value: 0.9126666784286499\n"
     ]
    },
    {
     "name": "stderr",
     "output_type": "stream",
     "text": [
      "\r",
      " 49%|███████████████████████████████████████▋                                         | 49/100 [00:09<00:09,  5.39it/s]"
     ]
    },
    {
     "name": "stdout",
     "output_type": "stream",
     "text": [
      "row_sum: (30000,) -- row_sum_sum: 30000\n",
      "torch.Size([30000, 10])  --  torch.Size([30000, 10])\n",
      "torch.Size([30000, 10])  --  torch.Size([30000, 10])\n",
      "torch.Size([30000, 10])  --  torch.Size([30000, 10])\n",
      "key: train_loss -- value: 0.3098200559616089\n",
      "key: train_acc -- value: 0.918833315372467\n",
      "key: val_loss -- value: 0.34700044989585876\n",
      "key: val_acc -- value: 0.913100004196167\n"
     ]
    },
    {
     "name": "stderr",
     "output_type": "stream",
     "text": [
      "\r",
      " 50%|████████████████████████████████████████▌                                        | 50/100 [00:09<00:09,  5.39it/s]"
     ]
    },
    {
     "name": "stdout",
     "output_type": "stream",
     "text": [
      "row_sum: (30000,) -- row_sum_sum: 30000\n",
      "torch.Size([30000, 10])  --  torch.Size([30000, 10])\n",
      "torch.Size([30000, 10])  --  torch.Size([30000, 10])\n",
      "torch.Size([30000, 10])  --  torch.Size([30000, 10])\n",
      "key: train_loss -- value: 0.30708178877830505\n",
      "key: train_acc -- value: 0.9188666939735413\n",
      "key: val_loss -- value: 0.3447466790676117\n",
      "key: val_acc -- value: 0.9136333465576172\n"
     ]
    },
    {
     "name": "stderr",
     "output_type": "stream",
     "text": [
      "\r",
      " 51%|█████████████████████████████████████████▎                                       | 51/100 [00:09<00:09,  5.38it/s]"
     ]
    },
    {
     "name": "stdout",
     "output_type": "stream",
     "text": [
      "row_sum: (30000,) -- row_sum_sum: 30000\n",
      "torch.Size([30000, 10])  --  torch.Size([30000, 10])\n",
      "torch.Size([30000, 10])  --  torch.Size([30000, 10])\n",
      "torch.Size([30000, 10])  --  torch.Size([30000, 10])\n",
      "key: train_loss -- value: 0.30443423986434937\n",
      "key: train_acc -- value: 0.9188666939735413\n",
      "key: val_loss -- value: 0.34261980652809143\n",
      "key: val_acc -- value: 0.9143000245094299\n"
     ]
    },
    {
     "name": "stderr",
     "output_type": "stream",
     "text": [
      "\r",
      " 52%|██████████████████████████████████████████                                       | 52/100 [00:09<00:08,  5.39it/s]"
     ]
    },
    {
     "name": "stdout",
     "output_type": "stream",
     "text": [
      "row_sum: (30000,) -- row_sum_sum: 30000\n",
      "torch.Size([30000, 10])  --  torch.Size([30000, 10])\n",
      "torch.Size([30000, 10])  --  torch.Size([30000, 10])\n",
      "torch.Size([30000, 10])  --  torch.Size([30000, 10])\n",
      "key: train_loss -- value: 0.30183401703834534\n",
      "key: train_acc -- value: 0.9190666675567627\n",
      "key: val_loss -- value: 0.3405314087867737\n",
      "key: val_acc -- value: 0.9141333103179932\n"
     ]
    },
    {
     "name": "stderr",
     "output_type": "stream",
     "text": [
      "\r",
      " 53%|██████████████████████████████████████████▉                                      | 53/100 [00:09<00:08,  5.38it/s]"
     ]
    },
    {
     "name": "stdout",
     "output_type": "stream",
     "text": [
      "row_sum: (30000,) -- row_sum_sum: 30000\n",
      "torch.Size([30000, 10])  --  torch.Size([30000, 10])\n",
      "torch.Size([30000, 10])  --  torch.Size([30000, 10])\n",
      "torch.Size([30000, 10])  --  torch.Size([30000, 10])\n",
      "key: train_loss -- value: 0.2995060086250305\n",
      "key: train_acc -- value: 0.9194333553314209\n",
      "key: val_loss -- value: 0.33864423632621765\n",
      "key: val_acc -- value: 0.914733350276947\n"
     ]
    },
    {
     "name": "stderr",
     "output_type": "stream",
     "text": [
      "\r",
      " 54%|███████████████████████████████████████████▋                                     | 54/100 [00:10<00:08,  5.38it/s]"
     ]
    },
    {
     "name": "stdout",
     "output_type": "stream",
     "text": [
      "row_sum: (30000,) -- row_sum_sum: 30000\n",
      "torch.Size([30000, 10])  --  torch.Size([30000, 10])\n",
      "torch.Size([30000, 10])  --  torch.Size([30000, 10])\n",
      "torch.Size([30000, 10])  --  torch.Size([30000, 10])\n",
      "key: train_loss -- value: 0.29737046360969543\n",
      "key: train_acc -- value: 0.9202666878700256\n",
      "key: val_loss -- value: 0.3368544280529022\n",
      "key: val_acc -- value: 0.914900004863739\n"
     ]
    },
    {
     "name": "stderr",
     "output_type": "stream",
     "text": [
      "\r",
      " 55%|████████████████████████████████████████████▌                                    | 55/100 [00:10<00:08,  5.37it/s]"
     ]
    },
    {
     "name": "stdout",
     "output_type": "stream",
     "text": [
      "row_sum: (30000,) -- row_sum_sum: 30000\n",
      "torch.Size([30000, 10])  --  torch.Size([30000, 10])\n",
      "torch.Size([30000, 10])  --  torch.Size([30000, 10])\n",
      "torch.Size([30000, 10])  --  torch.Size([30000, 10])\n",
      "key: train_loss -- value: 0.29524749517440796\n",
      "key: train_acc -- value: 0.9206333160400391\n",
      "key: val_loss -- value: 0.334985613822937\n",
      "key: val_acc -- value: 0.9153666496276855\n"
     ]
    },
    {
     "name": "stderr",
     "output_type": "stream",
     "text": [
      "\r",
      " 56%|█████████████████████████████████████████████▎                                   | 56/100 [00:10<00:08,  5.37it/s]"
     ]
    },
    {
     "name": "stdout",
     "output_type": "stream",
     "text": [
      "row_sum: (30000,) -- row_sum_sum: 30000\n",
      "torch.Size([30000, 10])  --  torch.Size([30000, 10])\n",
      "torch.Size([30000, 10])  --  torch.Size([30000, 10])\n",
      "torch.Size([30000, 10])  --  torch.Size([30000, 10])\n",
      "key: train_loss -- value: 0.2931690812110901\n",
      "key: train_acc -- value: 0.9203333258628845\n",
      "key: val_loss -- value: 0.3331308960914612\n",
      "key: val_acc -- value: 0.9153666496276855\n"
     ]
    },
    {
     "name": "stderr",
     "output_type": "stream",
     "text": [
      "\r",
      " 57%|██████████████████████████████████████████████▏                                  | 57/100 [00:10<00:08,  5.37it/s]"
     ]
    },
    {
     "name": "stdout",
     "output_type": "stream",
     "text": [
      "row_sum: (30000,) -- row_sum_sum: 30000\n",
      "torch.Size([30000, 10])  --  torch.Size([30000, 10])\n",
      "torch.Size([30000, 10])  --  torch.Size([30000, 10])\n",
      "torch.Size([30000, 10])  --  torch.Size([30000, 10])\n",
      "key: train_loss -- value: 0.29117637872695923\n",
      "key: train_acc -- value: 0.9208333492279053\n",
      "key: val_loss -- value: 0.3313603401184082\n",
      "key: val_acc -- value: 0.9158999919891357\n"
     ]
    },
    {
     "name": "stderr",
     "output_type": "stream",
     "text": [
      "\r",
      " 58%|██████████████████████████████████████████████▉                                  | 58/100 [00:10<00:07,  5.37it/s]"
     ]
    },
    {
     "name": "stdout",
     "output_type": "stream",
     "text": [
      "row_sum: (30000,) -- row_sum_sum: 30000\n",
      "torch.Size([30000, 10])  --  torch.Size([30000, 10])\n",
      "torch.Size([30000, 10])  --  torch.Size([30000, 10])\n",
      "torch.Size([30000, 10])  --  torch.Size([30000, 10])\n",
      "key: train_loss -- value: 0.28925925493240356\n",
      "key: train_acc -- value: 0.9214666485786438\n",
      "key: val_loss -- value: 0.32970133423805237\n",
      "key: val_acc -- value: 0.9155666828155518\n"
     ]
    },
    {
     "name": "stderr",
     "output_type": "stream",
     "text": [
      "\r",
      " 59%|███████████████████████████████████████████████▊                                 | 59/100 [00:10<00:07,  5.38it/s]"
     ]
    },
    {
     "name": "stdout",
     "output_type": "stream",
     "text": [
      "row_sum: (30000,) -- row_sum_sum: 30000\n",
      "torch.Size([30000, 10])  --  torch.Size([30000, 10])\n",
      "torch.Size([30000, 10])  --  torch.Size([30000, 10])\n",
      "torch.Size([30000, 10])  --  torch.Size([30000, 10])\n",
      "key: train_loss -- value: 0.28750571608543396\n",
      "key: train_acc -- value: 0.9218666553497314\n",
      "key: val_loss -- value: 0.32821446657180786\n",
      "key: val_acc -- value: 0.9156333208084106\n"
     ]
    },
    {
     "name": "stderr",
     "output_type": "stream",
     "text": [
      "\r",
      " 60%|████████████████████████████████████████████████▌                                | 60/100 [00:11<00:07,  5.38it/s]"
     ]
    },
    {
     "name": "stdout",
     "output_type": "stream",
     "text": [
      "row_sum: (30000,) -- row_sum_sum: 30000\n",
      "torch.Size([30000, 10])  --  torch.Size([30000, 10])\n",
      "torch.Size([30000, 10])  --  torch.Size([30000, 10])\n",
      "torch.Size([30000, 10])  --  torch.Size([30000, 10])\n",
      "key: train_loss -- value: 0.2858811914920807\n",
      "key: train_acc -- value: 0.9222000241279602\n",
      "key: val_loss -- value: 0.326822429895401\n",
      "key: val_acc -- value: 0.9157333374023438\n"
     ]
    },
    {
     "name": "stderr",
     "output_type": "stream",
     "text": [
      "\r",
      " 61%|█████████████████████████████████████████████████▍                               | 61/100 [00:11<00:07,  5.38it/s]"
     ]
    },
    {
     "name": "stdout",
     "output_type": "stream",
     "text": [
      "row_sum: (30000,) -- row_sum_sum: 30000\n",
      "torch.Size([30000, 10])  --  torch.Size([30000, 10])\n",
      "torch.Size([30000, 10])  --  torch.Size([30000, 10])\n",
      "torch.Size([30000, 10])  --  torch.Size([30000, 10])\n",
      "key: train_loss -- value: 0.2842480540275574\n",
      "key: train_acc -- value: 0.9225000143051147\n",
      "key: val_loss -- value: 0.3253512680530548\n",
      "key: val_acc -- value: 0.9157999753952026\n"
     ]
    },
    {
     "name": "stderr",
     "output_type": "stream",
     "text": [
      "\r",
      " 62%|██████████████████████████████████████████████████▏                              | 62/100 [00:11<00:07,  5.38it/s]"
     ]
    },
    {
     "name": "stdout",
     "output_type": "stream",
     "text": [
      "row_sum: (30000,) -- row_sum_sum: 30000\n",
      "torch.Size([30000, 10])  --  torch.Size([30000, 10])\n",
      "torch.Size([30000, 10])  --  torch.Size([30000, 10])\n",
      "torch.Size([30000, 10])  --  torch.Size([30000, 10])\n",
      "key: train_loss -- value: 0.28265827894210815\n",
      "key: train_acc -- value: 0.9228000044822693\n",
      "key: val_loss -- value: 0.3238697648048401\n",
      "key: val_acc -- value: 0.9166666865348816\n"
     ]
    },
    {
     "name": "stderr",
     "output_type": "stream",
     "text": [
      "\r",
      " 63%|███████████████████████████████████████████████████                              | 63/100 [00:11<00:06,  5.38it/s]"
     ]
    },
    {
     "name": "stdout",
     "output_type": "stream",
     "text": [
      "row_sum: (30000,) -- row_sum_sum: 30000\n",
      "torch.Size([30000, 10])  --  torch.Size([30000, 10])\n",
      "torch.Size([30000, 10])  --  torch.Size([30000, 10])\n",
      "torch.Size([30000, 10])  --  torch.Size([30000, 10])\n",
      "key: train_loss -- value: 0.2812178134918213\n",
      "key: train_acc -- value: 0.9233333468437195\n",
      "key: val_loss -- value: 0.32252347469329834\n",
      "key: val_acc -- value: 0.9168999791145325\n"
     ]
    },
    {
     "name": "stderr",
     "output_type": "stream",
     "text": [
      "\r",
      " 64%|███████████████████████████████████████████████████▊                             | 64/100 [00:11<00:06,  5.38it/s]"
     ]
    },
    {
     "name": "stdout",
     "output_type": "stream",
     "text": [
      "row_sum: (30000,) -- row_sum_sum: 30000\n",
      "torch.Size([30000, 10])  --  torch.Size([30000, 10])\n",
      "torch.Size([30000, 10])  --  torch.Size([30000, 10])\n",
      "torch.Size([30000, 10])  --  torch.Size([30000, 10])\n",
      "key: train_loss -- value: 0.27984312176704407\n",
      "key: train_acc -- value: 0.9235000014305115\n",
      "key: val_loss -- value: 0.3212583661079407\n",
      "key: val_acc -- value: 0.9172666668891907\n"
     ]
    },
    {
     "name": "stderr",
     "output_type": "stream",
     "text": [
      "\r",
      " 65%|████████████████████████████████████████████████████▋                            | 65/100 [00:12<00:06,  5.37it/s]"
     ]
    },
    {
     "name": "stdout",
     "output_type": "stream",
     "text": [
      "row_sum: (30000,) -- row_sum_sum: 30000\n",
      "torch.Size([30000, 10])  --  torch.Size([30000, 10])\n",
      "torch.Size([30000, 10])  --  torch.Size([30000, 10])\n",
      "torch.Size([30000, 10])  --  torch.Size([30000, 10])\n",
      "key: train_loss -- value: 0.2784768044948578\n",
      "key: train_acc -- value: 0.9240666627883911\n",
      "key: val_loss -- value: 0.32002878189086914\n",
      "key: val_acc -- value: 0.9176999926567078\n"
     ]
    },
    {
     "name": "stderr",
     "output_type": "stream",
     "text": [
      "\r",
      " 66%|█████████████████████████████████████████████████████▍                           | 66/100 [00:12<00:06,  5.37it/s]"
     ]
    },
    {
     "name": "stdout",
     "output_type": "stream",
     "text": [
      "row_sum: (30000,) -- row_sum_sum: 30000\n",
      "torch.Size([30000, 10])  --  torch.Size([30000, 10])\n",
      "torch.Size([30000, 10])  --  torch.Size([30000, 10])\n",
      "torch.Size([30000, 10])  --  torch.Size([30000, 10])\n",
      "key: train_loss -- value: 0.2771807909011841\n",
      "key: train_acc -- value: 0.9241666793823242\n",
      "key: val_loss -- value: 0.3188752830028534\n",
      "key: val_acc -- value: 0.9177333116531372\n"
     ]
    },
    {
     "name": "stderr",
     "output_type": "stream",
     "text": [
      "\r",
      " 67%|██████████████████████████████████████████████████████▎                          | 67/100 [00:12<00:06,  5.37it/s]"
     ]
    },
    {
     "name": "stdout",
     "output_type": "stream",
     "text": [
      "row_sum: (30000,) -- row_sum_sum: 30000\n",
      "torch.Size([30000, 10])  --  torch.Size([30000, 10])\n",
      "torch.Size([30000, 10])  --  torch.Size([30000, 10])\n",
      "torch.Size([30000, 10])  --  torch.Size([30000, 10])\n",
      "key: train_loss -- value: 0.27594804763793945\n",
      "key: train_acc -- value: 0.9244333505630493\n",
      "key: val_loss -- value: 0.3177535831928253\n",
      "key: val_acc -- value: 0.9178333282470703\n"
     ]
    },
    {
     "name": "stderr",
     "output_type": "stream",
     "text": [
      "\r",
      " 68%|███████████████████████████████████████████████████████                          | 68/100 [00:12<00:05,  5.38it/s]"
     ]
    },
    {
     "name": "stdout",
     "output_type": "stream",
     "text": [
      "row_sum: (30000,) -- row_sum_sum: 30000\n",
      "torch.Size([30000, 10])  --  torch.Size([30000, 10])\n",
      "torch.Size([30000, 10])  --  torch.Size([30000, 10])\n",
      "torch.Size([30000, 10])  --  torch.Size([30000, 10])\n",
      "key: train_loss -- value: 0.27474260330200195\n",
      "key: train_acc -- value: 0.9245333075523376\n",
      "key: val_loss -- value: 0.31662166118621826\n",
      "key: val_acc -- value: 0.9181333184242249\n"
     ]
    },
    {
     "name": "stderr",
     "output_type": "stream",
     "text": [
      "\r",
      " 69%|███████████████████████████████████████████████████████▉                         | 69/100 [00:12<00:05,  5.38it/s]"
     ]
    },
    {
     "name": "stdout",
     "output_type": "stream",
     "text": [
      "row_sum: (30000,) -- row_sum_sum: 30000\n",
      "torch.Size([30000, 10])  --  torch.Size([30000, 10])\n",
      "torch.Size([30000, 10])  --  torch.Size([30000, 10])\n",
      "torch.Size([30000, 10])  --  torch.Size([30000, 10])\n",
      "key: train_loss -- value: 0.27360865473747253\n",
      "key: train_acc -- value: 0.9245333075523376\n",
      "key: val_loss -- value: 0.3155292272567749\n",
      "key: val_acc -- value: 0.9185000061988831\n"
     ]
    },
    {
     "name": "stderr",
     "output_type": "stream",
     "text": [
      "\r",
      " 70%|████████████████████████████████████████████████████████▋                        | 70/100 [00:13<00:05,  5.38it/s]"
     ]
    },
    {
     "name": "stdout",
     "output_type": "stream",
     "text": [
      "row_sum: (30000,) -- row_sum_sum: 30000\n",
      "torch.Size([30000, 10])  --  torch.Size([30000, 10])\n",
      "torch.Size([30000, 10])  --  torch.Size([30000, 10])\n",
      "torch.Size([30000, 10])  --  torch.Size([30000, 10])\n",
      "key: train_loss -- value: 0.272535502910614\n",
      "key: train_acc -- value: 0.9245333075523376\n",
      "key: val_loss -- value: 0.3145008981227875\n",
      "key: val_acc -- value: 0.9185000061988831\n"
     ]
    },
    {
     "name": "stderr",
     "output_type": "stream",
     "text": [
      "\r",
      " 71%|█████████████████████████████████████████████████████████▌                       | 71/100 [00:13<00:05,  5.38it/s]"
     ]
    },
    {
     "name": "stdout",
     "output_type": "stream",
     "text": [
      "row_sum: (30000,) -- row_sum_sum: 30000\n",
      "torch.Size([30000, 10])  --  torch.Size([30000, 10])\n",
      "torch.Size([30000, 10])  --  torch.Size([30000, 10])\n",
      "torch.Size([30000, 10])  --  torch.Size([30000, 10])\n",
      "key: train_loss -- value: 0.27148115634918213\n",
      "key: train_acc -- value: 0.9247333407402039\n",
      "key: val_loss -- value: 0.31351256370544434\n",
      "key: val_acc -- value: 0.91839998960495\n"
     ]
    },
    {
     "name": "stderr",
     "output_type": "stream",
     "text": [
      "\r",
      " 72%|██████████████████████████████████████████████████████████▎                      | 72/100 [00:13<00:05,  5.38it/s]"
     ]
    },
    {
     "name": "stdout",
     "output_type": "stream",
     "text": [
      "row_sum: (30000,) -- row_sum_sum: 30000\n",
      "torch.Size([30000, 10])  --  torch.Size([30000, 10])\n",
      "torch.Size([30000, 10])  --  torch.Size([30000, 10])\n",
      "torch.Size([30000, 10])  --  torch.Size([30000, 10])\n",
      "key: train_loss -- value: 0.270466685295105\n",
      "key: train_acc -- value: 0.9249666929244995\n",
      "key: val_loss -- value: 0.3126004934310913\n",
      "key: val_acc -- value: 0.9187333583831787\n"
     ]
    },
    {
     "name": "stderr",
     "output_type": "stream",
     "text": [
      "\r",
      " 73%|███████████████████████████████████████████████████████████▏                     | 73/100 [00:13<00:05,  5.37it/s]"
     ]
    },
    {
     "name": "stdout",
     "output_type": "stream",
     "text": [
      "row_sum: (30000,) -- row_sum_sum: 30000\n",
      "torch.Size([30000, 10])  --  torch.Size([30000, 10])\n",
      "torch.Size([30000, 10])  --  torch.Size([30000, 10])\n",
      "torch.Size([30000, 10])  --  torch.Size([30000, 10])\n",
      "key: train_loss -- value: 0.2695116698741913\n",
      "key: train_acc -- value: 0.9252333045005798\n",
      "key: val_loss -- value: 0.3117646276950836\n",
      "key: val_acc -- value: 0.9189333319664001\n"
     ]
    },
    {
     "name": "stderr",
     "output_type": "stream",
     "text": [
      "\r",
      " 74%|███████████████████████████████████████████████████████████▉                     | 74/100 [00:13<00:04,  5.37it/s]"
     ]
    },
    {
     "name": "stdout",
     "output_type": "stream",
     "text": [
      "row_sum: (30000,) -- row_sum_sum: 30000\n",
      "torch.Size([30000, 10])  --  torch.Size([30000, 10])\n",
      "torch.Size([30000, 10])  --  torch.Size([30000, 10])\n",
      "torch.Size([30000, 10])  --  torch.Size([30000, 10])\n",
      "key: train_loss -- value: 0.2685876190662384\n",
      "key: train_acc -- value: 0.9252333045005798\n",
      "key: val_loss -- value: 0.31096306443214417\n",
      "key: val_acc -- value: 0.9191333055496216\n"
     ]
    },
    {
     "name": "stderr",
     "output_type": "stream",
     "text": [
      "\r",
      " 75%|████████████████████████████████████████████████████████████▊                    | 75/100 [00:13<00:04,  5.36it/s]"
     ]
    },
    {
     "name": "stdout",
     "output_type": "stream",
     "text": [
      "row_sum: (30000,) -- row_sum_sum: 30000\n",
      "torch.Size([30000, 10])  --  torch.Size([30000, 10])\n",
      "torch.Size([30000, 10])  --  torch.Size([30000, 10])\n",
      "torch.Size([30000, 10])  --  torch.Size([30000, 10])\n",
      "key: train_loss -- value: 0.2677021920681\n",
      "key: train_acc -- value: 0.9253000020980835\n",
      "key: val_loss -- value: 0.3101918399333954\n",
      "key: val_acc -- value: 0.9193666577339172\n"
     ]
    },
    {
     "name": "stderr",
     "output_type": "stream",
     "text": [
      "\r",
      " 76%|█████████████████████████████████████████████████████████████▌                   | 76/100 [00:14<00:04,  5.35it/s]"
     ]
    },
    {
     "name": "stdout",
     "output_type": "stream",
     "text": [
      "row_sum: (30000,) -- row_sum_sum: 30000\n",
      "torch.Size([30000, 10])  --  torch.Size([30000, 10])\n",
      "torch.Size([30000, 10])  --  torch.Size([30000, 10])\n",
      "torch.Size([30000, 10])  --  torch.Size([30000, 10])\n",
      "key: train_loss -- value: 0.2668551206588745\n",
      "key: train_acc -- value: 0.9254999756813049\n",
      "key: val_loss -- value: 0.30944791436195374\n",
      "key: val_acc -- value: 0.9195333123207092\n"
     ]
    },
    {
     "name": "stderr",
     "output_type": "stream",
     "text": [
      "\r",
      " 77%|██████████████████████████████████████████████████████████████▎                  | 77/100 [00:14<00:04,  5.35it/s]"
     ]
    },
    {
     "name": "stdout",
     "output_type": "stream",
     "text": [
      "row_sum: (30000,) -- row_sum_sum: 30000\n",
      "torch.Size([30000, 10])  --  torch.Size([30000, 10])\n",
      "torch.Size([30000, 10])  --  torch.Size([30000, 10])\n",
      "torch.Size([30000, 10])  --  torch.Size([30000, 10])\n",
      "key: train_loss -- value: 0.2660166919231415\n",
      "key: train_acc -- value: 0.9255666732788086\n",
      "key: val_loss -- value: 0.3087136447429657\n",
      "key: val_acc -- value: 0.9196000099182129\n"
     ]
    },
    {
     "name": "stderr",
     "output_type": "stream",
     "text": [
      "\r",
      " 78%|███████████████████████████████████████████████████████████████▏                 | 78/100 [00:14<00:04,  5.36it/s]"
     ]
    },
    {
     "name": "stdout",
     "output_type": "stream",
     "text": [
      "row_sum: (30000,) -- row_sum_sum: 30000\n",
      "torch.Size([30000, 10])  --  torch.Size([30000, 10])\n",
      "torch.Size([30000, 10])  --  torch.Size([30000, 10])\n",
      "torch.Size([30000, 10])  --  torch.Size([30000, 10])\n",
      "key: train_loss -- value: 0.2652093470096588\n",
      "key: train_acc -- value: 0.9257333278656006\n",
      "key: val_loss -- value: 0.3080117404460907\n",
      "key: val_acc -- value: 0.9193666577339172\n"
     ]
    },
    {
     "name": "stderr",
     "output_type": "stream",
     "text": [
      "\r",
      " 79%|███████████████████████████████████████████████████████████████▉                 | 79/100 [00:14<00:03,  5.35it/s]"
     ]
    },
    {
     "name": "stdout",
     "output_type": "stream",
     "text": [
      "row_sum: (30000,) -- row_sum_sum: 30000\n",
      "torch.Size([30000, 10])  --  torch.Size([30000, 10])\n",
      "torch.Size([30000, 10])  --  torch.Size([30000, 10])\n",
      "torch.Size([30000, 10])  --  torch.Size([30000, 10])\n",
      "key: train_loss -- value: 0.2644529938697815\n",
      "key: train_acc -- value: 0.9261333346366882\n",
      "key: val_loss -- value: 0.307364821434021\n",
      "key: val_acc -- value: 0.9194333553314209\n"
     ]
    },
    {
     "name": "stderr",
     "output_type": "stream",
     "text": [
      "\r",
      " 80%|████████████████████████████████████████████████████████████████▊                | 80/100 [00:14<00:03,  5.35it/s]"
     ]
    },
    {
     "name": "stdout",
     "output_type": "stream",
     "text": [
      "row_sum: (30000,) -- row_sum_sum: 30000\n",
      "torch.Size([30000, 10])  --  torch.Size([30000, 10])\n",
      "torch.Size([30000, 10])  --  torch.Size([30000, 10])\n",
      "torch.Size([30000, 10])  --  torch.Size([30000, 10])\n",
      "key: train_loss -- value: 0.2637174427509308\n",
      "key: train_acc -- value: 0.9264000058174133\n",
      "key: val_loss -- value: 0.3067333996295929\n",
      "key: val_acc -- value: 0.9196000099182129\n"
     ]
    },
    {
     "name": "stderr",
     "output_type": "stream",
     "text": [
      "\r",
      " 81%|█████████████████████████████████████████████████████████████████▌               | 81/100 [00:15<00:03,  5.35it/s]"
     ]
    },
    {
     "name": "stdout",
     "output_type": "stream",
     "text": [
      "row_sum: (30000,) -- row_sum_sum: 30000\n",
      "torch.Size([30000, 10])  --  torch.Size([30000, 10])\n",
      "torch.Size([30000, 10])  --  torch.Size([30000, 10])\n",
      "torch.Size([30000, 10])  --  torch.Size([30000, 10])\n",
      "key: train_loss -- value: 0.2629960775375366\n",
      "key: train_acc -- value: 0.9264000058174133\n",
      "key: val_loss -- value: 0.30611327290534973\n",
      "key: val_acc -- value: 0.919700026512146\n"
     ]
    },
    {
     "name": "stderr",
     "output_type": "stream",
     "text": [
      "\r",
      " 82%|██████████████████████████████████████████████████████████████████▍              | 82/100 [00:15<00:03,  5.35it/s]"
     ]
    },
    {
     "name": "stdout",
     "output_type": "stream",
     "text": [
      "row_sum: (30000,) -- row_sum_sum: 30000\n",
      "torch.Size([30000, 10])  --  torch.Size([30000, 10])\n",
      "torch.Size([30000, 10])  --  torch.Size([30000, 10])\n",
      "torch.Size([30000, 10])  --  torch.Size([30000, 10])\n",
      "key: train_loss -- value: 0.2623139023780823\n",
      "key: train_acc -- value: 0.9264000058174133\n",
      "key: val_loss -- value: 0.30553364753723145\n",
      "key: val_acc -- value: 0.919700026512146\n"
     ]
    },
    {
     "name": "stderr",
     "output_type": "stream",
     "text": [
      "\r",
      " 83%|███████████████████████████████████████████████████████████████████▏             | 83/100 [00:15<00:03,  5.35it/s]"
     ]
    },
    {
     "name": "stdout",
     "output_type": "stream",
     "text": [
      "row_sum: (30000,) -- row_sum_sum: 30000\n",
      "torch.Size([30000, 10])  --  torch.Size([30000, 10])\n",
      "torch.Size([30000, 10])  --  torch.Size([30000, 10])\n",
      "torch.Size([30000, 10])  --  torch.Size([30000, 10])\n",
      "key: train_loss -- value: 0.2616623342037201\n",
      "key: train_acc -- value: 0.9264333248138428\n",
      "key: val_loss -- value: 0.3049895763397217\n",
      "key: val_acc -- value: 0.9196333289146423\n"
     ]
    },
    {
     "name": "stderr",
     "output_type": "stream",
     "text": [
      "\r",
      " 84%|████████████████████████████████████████████████████████████████████             | 84/100 [00:15<00:02,  5.35it/s]"
     ]
    },
    {
     "name": "stdout",
     "output_type": "stream",
     "text": [
      "row_sum: (30000,) -- row_sum_sum: 30000\n",
      "torch.Size([30000, 10])  --  torch.Size([30000, 10])\n",
      "torch.Size([30000, 10])  --  torch.Size([30000, 10])\n",
      "torch.Size([30000, 10])  --  torch.Size([30000, 10])\n",
      "key: train_loss -- value: 0.26102393865585327\n",
      "key: train_acc -- value: 0.9268333315849304\n",
      "key: val_loss -- value: 0.3044670820236206\n",
      "key: val_acc -- value: 0.9197999835014343\n"
     ]
    },
    {
     "name": "stderr",
     "output_type": "stream",
     "text": [
      "\r",
      " 85%|████████████████████████████████████████████████████████████████████▊            | 85/100 [00:15<00:02,  5.35it/s]"
     ]
    },
    {
     "name": "stdout",
     "output_type": "stream",
     "text": [
      "row_sum: (30000,) -- row_sum_sum: 30000\n",
      "torch.Size([30000, 10])  --  torch.Size([30000, 10])\n",
      "torch.Size([30000, 10])  --  torch.Size([30000, 10])\n",
      "torch.Size([30000, 10])  --  torch.Size([30000, 10])\n",
      "key: train_loss -- value: 0.26040852069854736\n",
      "key: train_acc -- value: 0.9272000193595886\n",
      "key: val_loss -- value: 0.3039740025997162\n",
      "key: val_acc -- value: 0.9199000000953674\n"
     ]
    },
    {
     "name": "stderr",
     "output_type": "stream",
     "text": [
      "\r",
      " 86%|█████████████████████████████████████████████████████████████████████▋           | 86/100 [00:16<00:02,  5.35it/s]"
     ]
    },
    {
     "name": "stdout",
     "output_type": "stream",
     "text": [
      "row_sum: (30000,) -- row_sum_sum: 30000\n",
      "torch.Size([30000, 10])  --  torch.Size([30000, 10])\n",
      "torch.Size([30000, 10])  --  torch.Size([30000, 10])\n",
      "torch.Size([30000, 10])  --  torch.Size([30000, 10])\n",
      "key: train_loss -- value: 0.25981587171554565\n",
      "key: train_acc -- value: 0.9273666739463806\n",
      "key: val_loss -- value: 0.30350396037101746\n",
      "key: val_acc -- value: 0.9199666380882263\n"
     ]
    },
    {
     "name": "stderr",
     "output_type": "stream",
     "text": [
      "\r",
      " 87%|██████████████████████████████████████████████████████████████████████▍          | 87/100 [00:16<00:02,  5.35it/s]"
     ]
    },
    {
     "name": "stdout",
     "output_type": "stream",
     "text": [
      "row_sum: (30000,) -- row_sum_sum: 30000\n",
      "torch.Size([30000, 10])  --  torch.Size([30000, 10])\n",
      "torch.Size([30000, 10])  --  torch.Size([30000, 10])\n",
      "torch.Size([30000, 10])  --  torch.Size([30000, 10])\n",
      "key: train_loss -- value: 0.25923487544059753\n",
      "key: train_acc -- value: 0.9274333119392395\n",
      "key: val_loss -- value: 0.3030531704425812\n",
      "key: val_acc -- value: 0.919866681098938\n"
     ]
    },
    {
     "name": "stderr",
     "output_type": "stream",
     "text": [
      "\r",
      " 88%|███████████████████████████████████████████████████████████████████████▎         | 88/100 [00:16<00:02,  5.34it/s]"
     ]
    },
    {
     "name": "stdout",
     "output_type": "stream",
     "text": [
      "row_sum: (30000,) -- row_sum_sum: 30000\n",
      "torch.Size([30000, 10])  --  torch.Size([30000, 10])\n",
      "torch.Size([30000, 10])  --  torch.Size([30000, 10])\n",
      "torch.Size([30000, 10])  --  torch.Size([30000, 10])\n",
      "key: train_loss -- value: 0.2586757242679596\n",
      "key: train_acc -- value: 0.9275000095367432\n",
      "key: val_loss -- value: 0.30262425541877747\n",
      "key: val_acc -- value: 0.9199666380882263\n"
     ]
    },
    {
     "name": "stderr",
     "output_type": "stream",
     "text": [
      "\r",
      " 89%|████████████████████████████████████████████████████████████████████████         | 89/100 [00:16<00:02,  5.35it/s]"
     ]
    },
    {
     "name": "stdout",
     "output_type": "stream",
     "text": [
      "row_sum: (30000,) -- row_sum_sum: 30000\n",
      "torch.Size([30000, 10])  --  torch.Size([30000, 10])\n",
      "torch.Size([30000, 10])  --  torch.Size([30000, 10])\n",
      "torch.Size([30000, 10])  --  torch.Size([30000, 10])\n",
      "key: train_loss -- value: 0.2581426203250885\n",
      "key: train_acc -- value: 0.9274333119392395\n",
      "key: val_loss -- value: 0.30222928524017334\n",
      "key: val_acc -- value: 0.9200666546821594\n"
     ]
    },
    {
     "name": "stderr",
     "output_type": "stream",
     "text": [
      "\r",
      " 90%|████████████████████████████████████████████████████████████████████████▉        | 90/100 [00:16<00:01,  5.35it/s]"
     ]
    },
    {
     "name": "stdout",
     "output_type": "stream",
     "text": [
      "row_sum: (30000,) -- row_sum_sum: 30000\n",
      "torch.Size([30000, 10])  --  torch.Size([30000, 10])\n",
      "torch.Size([30000, 10])  --  torch.Size([30000, 10])\n",
      "torch.Size([30000, 10])  --  torch.Size([30000, 10])\n",
      "key: train_loss -- value: 0.2576234042644501\n",
      "key: train_acc -- value: 0.9275333285331726\n",
      "key: val_loss -- value: 0.3018516004085541\n",
      "key: val_acc -- value: 0.9200000166893005\n"
     ]
    },
    {
     "name": "stderr",
     "output_type": "stream",
     "text": [
      "\r",
      " 91%|█████████████████████████████████████████████████████████████████████████▋       | 91/100 [00:17<00:01,  5.35it/s]"
     ]
    },
    {
     "name": "stdout",
     "output_type": "stream",
     "text": [
      "row_sum: (30000,) -- row_sum_sum: 30000\n",
      "torch.Size([30000, 10])  --  torch.Size([30000, 10])\n",
      "torch.Size([30000, 10])  --  torch.Size([30000, 10])\n",
      "torch.Size([30000, 10])  --  torch.Size([30000, 10])\n",
      "key: train_loss -- value: 0.2571166157722473\n",
      "key: train_acc -- value: 0.9277666807174683\n",
      "key: val_loss -- value: 0.3014845848083496\n",
      "key: val_acc -- value: 0.9199000000953674\n"
     ]
    },
    {
     "name": "stderr",
     "output_type": "stream",
     "text": [
      "\r",
      " 92%|██████████████████████████████████████████████████████████████████████████▌      | 92/100 [00:17<00:01,  5.35it/s]"
     ]
    },
    {
     "name": "stdout",
     "output_type": "stream",
     "text": [
      "row_sum: (30000,) -- row_sum_sum: 30000\n",
      "torch.Size([30000, 10])  --  torch.Size([30000, 10])\n",
      "torch.Size([30000, 10])  --  torch.Size([30000, 10])\n",
      "torch.Size([30000, 10])  --  torch.Size([30000, 10])\n",
      "key: train_loss -- value: 0.25662893056869507\n",
      "key: train_acc -- value: 0.9278666377067566\n",
      "key: val_loss -- value: 0.3011249005794525\n",
      "key: val_acc -- value: 0.9197999835014343\n"
     ]
    },
    {
     "name": "stderr",
     "output_type": "stream",
     "text": [
      "\r",
      " 93%|███████████████████████████████████████████████████████████████████████████▎     | 93/100 [00:17<00:01,  5.36it/s]"
     ]
    },
    {
     "name": "stdout",
     "output_type": "stream",
     "text": [
      "row_sum: (30000,) -- row_sum_sum: 30000\n",
      "torch.Size([30000, 10])  --  torch.Size([30000, 10])\n",
      "torch.Size([30000, 10])  --  torch.Size([30000, 10])\n",
      "torch.Size([30000, 10])  --  torch.Size([30000, 10])\n",
      "key: train_loss -- value: 0.2561541199684143\n",
      "key: train_acc -- value: 0.9279999732971191\n",
      "key: val_loss -- value: 0.3007732033729553\n",
      "key: val_acc -- value: 0.919700026512146\n"
     ]
    },
    {
     "name": "stderr",
     "output_type": "stream",
     "text": [
      "\r",
      " 94%|████████████████████████████████████████████████████████████████████████████▏    | 94/100 [00:17<00:01,  5.36it/s]"
     ]
    },
    {
     "name": "stdout",
     "output_type": "stream",
     "text": [
      "row_sum: (30000,) -- row_sum_sum: 30000\n",
      "torch.Size([30000, 10])  --  torch.Size([30000, 10])\n",
      "torch.Size([30000, 10])  --  torch.Size([30000, 10])\n",
      "torch.Size([30000, 10])  --  torch.Size([30000, 10])\n",
      "key: train_loss -- value: 0.2556944191455841\n",
      "key: train_acc -- value: 0.9281333088874817\n",
      "key: val_loss -- value: 0.30043289065361023\n",
      "key: val_acc -- value: 0.9197333455085754\n"
     ]
    },
    {
     "name": "stderr",
     "output_type": "stream",
     "text": [
      "\r",
      " 95%|████████████████████████████████████████████████████████████████████████████▉    | 95/100 [00:17<00:00,  5.36it/s]"
     ]
    },
    {
     "name": "stdout",
     "output_type": "stream",
     "text": [
      "row_sum: (30000,) -- row_sum_sum: 30000\n",
      "torch.Size([30000, 10])  --  torch.Size([30000, 10])\n",
      "torch.Size([30000, 10])  --  torch.Size([30000, 10])\n",
      "torch.Size([30000, 10])  --  torch.Size([30000, 10])\n",
      "key: train_loss -- value: 0.255249559879303\n",
      "key: train_acc -- value: 0.9280333518981934\n",
      "key: val_loss -- value: 0.30011212825775146\n",
      "key: val_acc -- value: 0.9199333190917969\n"
     ]
    },
    {
     "name": "stderr",
     "output_type": "stream",
     "text": [
      "\r",
      " 96%|█████████████████████████████████████████████████████████████████████████████▊   | 96/100 [00:17<00:00,  5.36it/s]"
     ]
    },
    {
     "name": "stdout",
     "output_type": "stream",
     "text": [
      "row_sum: (30000,) -- row_sum_sum: 30000\n",
      "torch.Size([30000, 10])  --  torch.Size([30000, 10])\n",
      "torch.Size([30000, 10])  --  torch.Size([30000, 10])\n",
      "torch.Size([30000, 10])  --  torch.Size([30000, 10])\n",
      "key: train_loss -- value: 0.25481563806533813\n",
      "key: train_acc -- value: 0.9281333088874817\n",
      "key: val_loss -- value: 0.2998086214065552\n",
      "key: val_acc -- value: 0.9200000166893005\n"
     ]
    },
    {
     "name": "stderr",
     "output_type": "stream",
     "text": [
      "\r",
      " 97%|██████████████████████████████████████████████████████████████████████████████▌  | 97/100 [00:18<00:00,  5.36it/s]"
     ]
    },
    {
     "name": "stdout",
     "output_type": "stream",
     "text": [
      "row_sum: (30000,) -- row_sum_sum: 30000\n",
      "torch.Size([30000, 10])  --  torch.Size([30000, 10])\n",
      "torch.Size([30000, 10])  --  torch.Size([30000, 10])\n",
      "torch.Size([30000, 10])  --  torch.Size([30000, 10])\n",
      "key: train_loss -- value: 0.25439295172691345\n",
      "key: train_acc -- value: 0.9282333254814148\n",
      "key: val_loss -- value: 0.2995206415653229\n",
      "key: val_acc -- value: 0.9200999736785889\n"
     ]
    },
    {
     "name": "stderr",
     "output_type": "stream",
     "text": [
      "\r",
      " 98%|███████████████████████████████████████████████████████████████████████████████▍ | 98/100 [00:18<00:00,  5.36it/s]"
     ]
    },
    {
     "name": "stdout",
     "output_type": "stream",
     "text": [
      "row_sum: (30000,) -- row_sum_sum: 30000\n",
      "torch.Size([30000, 10])  --  torch.Size([30000, 10])\n",
      "torch.Size([30000, 10])  --  torch.Size([30000, 10])\n",
      "torch.Size([30000, 10])  --  torch.Size([30000, 10])\n",
      "key: train_loss -- value: 0.2539852559566498\n",
      "key: train_acc -- value: 0.9282666444778442\n",
      "key: val_loss -- value: 0.2992391288280487\n",
      "key: val_acc -- value: 0.9203333258628845\n"
     ]
    },
    {
     "name": "stderr",
     "output_type": "stream",
     "text": [
      "\r",
      " 99%|████████████████████████████████████████████████████████████████████████████████▏| 99/100 [00:18<00:00,  5.36it/s]"
     ]
    },
    {
     "name": "stdout",
     "output_type": "stream",
     "text": [
      "row_sum: (30000,) -- row_sum_sum: 30000\n",
      "torch.Size([30000, 10])  --  torch.Size([30000, 10])\n",
      "torch.Size([30000, 10])  --  torch.Size([30000, 10])\n",
      "torch.Size([30000, 10])  --  torch.Size([30000, 10])\n",
      "key: train_loss -- value: 0.2535879909992218\n",
      "key: train_acc -- value: 0.9283999800682068\n",
      "key: val_loss -- value: 0.2989588975906372\n",
      "key: val_acc -- value: 0.9203333258628845\n"
     ]
    },
    {
     "name": "stderr",
     "output_type": "stream",
     "text": [
      "100%|████████████████████████████████████████████████████████████████████████████████| 100/100 [00:18<00:00,  5.36it/s]\n"
     ]
    },
    {
     "name": "stdout",
     "output_type": "stream",
     "text": [
      "torch.Size([10000, 10])  --  torch.Size([10000, 10])\n"
     ]
    }
   ],
   "source": [
    "model1, train1 = default_net(train_input, train_target, num_of_hidden_layers=0, loss='ce', num_of_neurons=(784, 10), activation='relu', lr=0.1, momentum_coef=0.9, weight_decay=0.2, p_dropout=0.0, num_of_epochs=100, val_split=0.5, verbose=0)\n",
    "test1 = model1.evaluate(test_input, test_target, return_pred=True)"
   ]
  },
  {
   "cell_type": "code",
   "execution_count": 18,
   "metadata": {},
   "outputs": [
    {
     "data": {
      "image/png": "[encoded data removed]",
      "text/plain": [
       "<matplotlib.figure.Figure at 0x20650101f60>"
      ]
     },
     "execution_count": 18,
     "metadata": {},
     "output_type": "execute_result"
    }
   ],
   "source": [
    "plot_report(train1, title=\"Model 1\")"
   ]
  },
  {
   "cell_type": "code",
   "execution_count": 19,
   "metadata": {},
   "outputs": [
    {
     "data": {
      "text/plain": [
       "(tensor(0.9190), 0.28673243522644043, tensor([ 7,  2,  1,  ...,  4,  5,  6]))"
      ]
     },
     "execution_count": 19,
     "metadata": {},
     "output_type": "execute_result"
    }
   ],
   "source": [
    "test1"
   ]
  },
  {
   "cell_type": "code",
   "execution_count": 24,
   "metadata": {},
   "outputs": [
    {
     "name": "stdout",
     "output_type": "stream",
     "text": [
      "Added Module Name: 0_Linear \n",
      "Added Module Name: 1_ReLU \n",
      "Added Module Name: 2_Dropout \n",
      "Added Module Name: 3_Linear \n",
      "Added Module Name: 4_Softmax \n",
      "x_train.shape: torch.Size([30000, 784]) -- y_train.shape: torch.Size([30000, 10])\n",
      "x_val.shape: torch.Size([30000, 784]) -- y_val.shape: torch.Size([30000, 10])\n"
     ]
    },
    {
     "name": "stderr",
     "output_type": "stream",
     "text": [
      "\r",
      "  0%|                                                                                          | 0/100 [00:00<?, ?it/s]"
     ]
    },
    {
     "name": "stdout",
     "output_type": "stream",
     "text": [
      "row_sum: (30000,) -- row_sum_sum: 30000\n",
      "torch.Size([30000, 10])  --  torch.Size([30000, 10])\n",
      "torch.Size([30000, 10])  --  torch.Size([30000, 10])\n",
      "torch.Size([30000, 10])  --  torch.Size([30000, 10])\n",
      "key: train_loss -- value: 1.902579426765442\n",
      "key: train_acc -- value: 0.5412333607673645\n",
      "key: val_loss -- value: 1.8969204425811768\n",
      "key: val_acc -- value: 0.5471000075340271\n"
     ]
    },
    {
     "name": "stderr",
     "output_type": "stream",
     "text": [
      "\r",
      "  1%|▊                                                                                 | 1/100 [00:01<03:12,  1.95s/it]"
     ]
    },
    {
     "name": "stdout",
     "output_type": "stream",
     "text": [
      "row_sum: (30000,) -- row_sum_sum: 30000\n",
      "torch.Size([30000, 10])  --  torch.Size([30000, 10])\n",
      "torch.Size([30000, 10])  --  torch.Size([30000, 10])\n",
      "torch.Size([30000, 10])  --  torch.Size([30000, 10])\n",
      "key: train_loss -- value: 1.3541932106018066\n",
      "key: train_acc -- value: 0.7163666486740112\n",
      "key: val_loss -- value: 1.347365140914917\n",
      "key: val_acc -- value: 0.7204333543777466\n"
     ]
    },
    {
     "name": "stderr",
     "output_type": "stream",
     "text": [
      "\r",
      "  2%|█▋                                                                                | 2/100 [00:03<03:10,  1.94s/it]"
     ]
    },
    {
     "name": "stdout",
     "output_type": "stream",
     "text": [
      "row_sum: (30000,) -- row_sum_sum: 30000\n",
      "torch.Size([30000, 10])  --  torch.Size([30000, 10])\n",
      "torch.Size([30000, 10])  --  torch.Size([30000, 10])\n",
      "torch.Size([30000, 10])  --  torch.Size([30000, 10])\n",
      "key: train_loss -- value: 0.904732346534729\n",
      "key: train_acc -- value: 0.7864000201225281\n",
      "key: val_loss -- value: 0.9018104076385498\n",
      "key: val_acc -- value: 0.7876999974250793\n"
     ]
    },
    {
     "name": "stderr",
     "output_type": "stream",
     "text": [
      "\r",
      "  3%|██▍                                                                               | 3/100 [00:05<03:09,  1.95s/it]"
     ]
    },
    {
     "name": "stdout",
     "output_type": "stream",
     "text": [
      "row_sum: (30000,) -- row_sum_sum: 30000\n",
      "torch.Size([30000, 10])  --  torch.Size([30000, 10])\n",
      "torch.Size([30000, 10])  --  torch.Size([30000, 10])\n",
      "torch.Size([30000, 10])  --  torch.Size([30000, 10])\n",
      "key: train_loss -- value: 0.6653465628623962\n",
      "key: train_acc -- value: 0.8197000026702881\n",
      "key: val_loss -- value: 0.6691465377807617\n",
      "key: val_acc -- value: 0.8199333548545837\n"
     ]
    },
    {
     "name": "stderr",
     "output_type": "stream",
     "text": [
      "\r",
      "  4%|███▎                                                                              | 4/100 [00:07<03:08,  1.96s/it]"
     ]
    },
    {
     "name": "stdout",
     "output_type": "stream",
     "text": [
      "row_sum: (30000,) -- row_sum_sum: 30000\n",
      "torch.Size([30000, 10])  --  torch.Size([30000, 10])\n",
      "torch.Size([30000, 10])  --  torch.Size([30000, 10])\n",
      "torch.Size([30000, 10])  --  torch.Size([30000, 10])\n",
      "key: train_loss -- value: 0.5501632690429688\n",
      "key: train_acc -- value: 0.8371666669845581\n",
      "key: val_loss -- value: 0.5576260685920715\n",
      "key: val_acc -- value: 0.8355666399002075\n"
     ]
    },
    {
     "name": "stderr",
     "output_type": "stream",
     "text": [
      "\r",
      "  5%|████                                                                              | 5/100 [00:09<03:06,  1.96s/it]"
     ]
    },
    {
     "name": "stdout",
     "output_type": "stream",
     "text": [
      "row_sum: (30000,) -- row_sum_sum: 30000\n",
      "torch.Size([30000, 10])  --  torch.Size([30000, 10])\n",
      "torch.Size([30000, 10])  --  torch.Size([30000, 10])\n",
      "torch.Size([30000, 10])  --  torch.Size([30000, 10])\n",
      "key: train_loss -- value: 0.4957412779331207\n",
      "key: train_acc -- value: 0.8448666930198669\n",
      "key: val_loss -- value: 0.5040721893310547\n",
      "key: val_acc -- value: 0.8428000211715698\n"
     ]
    },
    {
     "name": "stderr",
     "output_type": "stream",
     "text": [
      "\r",
      "  6%|████▉                                                                             | 6/100 [00:11<03:04,  1.96s/it]"
     ]
    },
    {
     "name": "stdout",
     "output_type": "stream",
     "text": [
      "row_sum: (30000,) -- row_sum_sum: 30000\n",
      "torch.Size([30000, 10])  --  torch.Size([30000, 10])\n",
      "torch.Size([30000, 10])  --  torch.Size([30000, 10])\n",
      "torch.Size([30000, 10])  --  torch.Size([30000, 10])\n",
      "key: train_loss -- value: 0.464396595954895\n",
      "key: train_acc -- value: 0.8568333387374878\n",
      "key: val_loss -- value: 0.4771905839443207\n",
      "key: val_acc -- value: 0.852566659450531\n"
     ]
    },
    {
     "name": "stderr",
     "output_type": "stream",
     "text": [
      "\r",
      "  7%|█████▋                                                                            | 7/100 [00:13<03:01,  1.95s/it]"
     ]
    },
    {
     "name": "stdout",
     "output_type": "stream",
     "text": [
      "row_sum: (30000,) -- row_sum_sum: 30000\n",
      "torch.Size([30000, 10])  --  torch.Size([30000, 10])\n",
      "torch.Size([30000, 10])  --  torch.Size([30000, 10])\n",
      "torch.Size([30000, 10])  --  torch.Size([30000, 10])\n",
      "key: train_loss -- value: 0.45744770765304565\n",
      "key: train_acc -- value: 0.8642666935920715\n",
      "key: val_loss -- value: 0.47414669394493103\n",
      "key: val_acc -- value: 0.862333357334137\n"
     ]
    },
    {
     "name": "stderr",
     "output_type": "stream",
     "text": [
      "\r",
      "  8%|██████▌                                                                           | 8/100 [00:15<02:59,  1.95s/it]"
     ]
    },
    {
     "name": "stdout",
     "output_type": "stream",
     "text": [
      "row_sum: (30000,) -- row_sum_sum: 30000\n",
      "torch.Size([30000, 10])  --  torch.Size([30000, 10])\n",
      "torch.Size([30000, 10])  --  torch.Size([30000, 10])\n",
      "torch.Size([30000, 10])  --  torch.Size([30000, 10])\n",
      "key: train_loss -- value: 0.4402214288711548\n",
      "key: train_acc -- value: 0.8771666884422302\n",
      "key: val_loss -- value: 0.45811572670936584\n",
      "key: val_acc -- value: 0.8715333342552185\n"
     ]
    },
    {
     "name": "stderr",
     "output_type": "stream",
     "text": [
      "\r",
      "  9%|███████▍                                                                          | 9/100 [00:17<02:57,  1.95s/it]"
     ]
    },
    {
     "name": "stdout",
     "output_type": "stream",
     "text": [
      "row_sum: (30000,) -- row_sum_sum: 30000\n",
      "torch.Size([30000, 10])  --  torch.Size([30000, 10])\n",
      "torch.Size([30000, 10])  --  torch.Size([30000, 10])\n",
      "torch.Size([30000, 10])  --  torch.Size([30000, 10])\n",
      "key: train_loss -- value: 0.43480929732322693\n",
      "key: train_acc -- value: 0.8803666830062866\n",
      "key: val_loss -- value: 0.4537394940853119\n",
      "key: val_acc -- value: 0.8768666386604309\n"
     ]
    },
    {
     "name": "stderr",
     "output_type": "stream",
     "text": [
      "\r",
      " 10%|████████                                                                         | 10/100 [00:19<02:54,  1.94s/it]"
     ]
    },
    {
     "name": "stdout",
     "output_type": "stream",
     "text": [
      "row_sum: (30000,) -- row_sum_sum: 30000\n",
      "torch.Size([30000, 10])  --  torch.Size([30000, 10])\n",
      "torch.Size([30000, 10])  --  torch.Size([30000, 10])\n",
      "torch.Size([30000, 10])  --  torch.Size([30000, 10])\n",
      "key: train_loss -- value: 0.42805999517440796\n",
      "key: train_acc -- value: 0.8845666646957397\n",
      "key: val_loss -- value: 0.451914519071579\n",
      "key: val_acc -- value: 0.8799999952316284\n"
     ]
    },
    {
     "name": "stderr",
     "output_type": "stream",
     "text": [
      "\r",
      " 11%|████████▉                                                                        | 11/100 [00:21<02:52,  1.94s/it]"
     ]
    },
    {
     "name": "stdout",
     "output_type": "stream",
     "text": [
      "row_sum: (30000,) -- row_sum_sum: 30000\n",
      "torch.Size([30000, 10])  --  torch.Size([30000, 10])\n",
      "torch.Size([30000, 10])  --  torch.Size([30000, 10])\n",
      "torch.Size([30000, 10])  --  torch.Size([30000, 10])\n",
      "key: train_loss -- value: 0.4249911606311798\n",
      "key: train_acc -- value: 0.8877666592597961\n",
      "key: val_loss -- value: 0.4532919228076935\n",
      "key: val_acc -- value: 0.8843333125114441\n"
     ]
    },
    {
     "name": "stderr",
     "output_type": "stream",
     "text": [
      "\r",
      " 12%|█████████▋                                                                       | 12/100 [00:23<02:49,  1.93s/it]"
     ]
    },
    {
     "name": "stdout",
     "output_type": "stream",
     "text": [
      "row_sum: (30000,) -- row_sum_sum: 30000\n",
      "torch.Size([30000, 10])  --  torch.Size([30000, 10])\n",
      "torch.Size([30000, 10])  --  torch.Size([30000, 10])\n",
      "torch.Size([30000, 10])  --  torch.Size([30000, 10])\n",
      "key: train_loss -- value: 0.4128032624721527\n",
      "key: train_acc -- value: 0.8924000263214111\n",
      "key: val_loss -- value: 0.44102969765663147\n",
      "key: val_acc -- value: 0.8891333341598511\n"
     ]
    },
    {
     "name": "stderr",
     "output_type": "stream",
     "text": [
      "\r",
      " 13%|██████████▌                                                                      | 13/100 [00:24<02:47,  1.92s/it]"
     ]
    },
    {
     "name": "stdout",
     "output_type": "stream",
     "text": [
      "row_sum: (30000,) -- row_sum_sum: 30000\n",
      "torch.Size([30000, 10])  --  torch.Size([30000, 10])\n",
      "torch.Size([30000, 10])  --  torch.Size([30000, 10])\n",
      "torch.Size([30000, 10])  --  torch.Size([30000, 10])\n",
      "key: train_loss -- value: 0.4021405279636383\n",
      "key: train_acc -- value: 0.8960666656494141\n",
      "key: val_loss -- value: 0.43050092458724976\n",
      "key: val_acc -- value: 0.8929333090782166\n"
     ]
    },
    {
     "name": "stderr",
     "output_type": "stream",
     "text": [
      "\r",
      " 14%|███████████▎                                                                     | 14/100 [00:26<02:44,  1.92s/it]"
     ]
    },
    {
     "name": "stdout",
     "output_type": "stream",
     "text": [
      "row_sum: (30000,) -- row_sum_sum: 30000\n",
      "torch.Size([30000, 10])  --  torch.Size([30000, 10])\n",
      "torch.Size([30000, 10])  --  torch.Size([30000, 10])\n",
      "torch.Size([30000, 10])  --  torch.Size([30000, 10])\n",
      "key: train_loss -- value: 0.3909163177013397\n",
      "key: train_acc -- value: 0.899066686630249\n",
      "key: val_loss -- value: 0.4223234951496124\n",
      "key: val_acc -- value: 0.8940666913986206\n"
     ]
    },
    {
     "name": "stderr",
     "output_type": "stream",
     "text": [
      "\r",
      " 15%|████████████▏                                                                    | 15/100 [00:28<02:42,  1.91s/it]"
     ]
    },
    {
     "name": "stdout",
     "output_type": "stream",
     "text": [
      "row_sum: (30000,) -- row_sum_sum: 30000\n",
      "torch.Size([30000, 10])  --  torch.Size([30000, 10])\n",
      "torch.Size([30000, 10])  --  torch.Size([30000, 10])\n",
      "torch.Size([30000, 10])  --  torch.Size([30000, 10])\n",
      "key: train_loss -- value: 0.37621864676475525\n",
      "key: train_acc -- value: 0.9019666910171509\n",
      "key: val_loss -- value: 0.41013967990875244\n",
      "key: val_acc -- value: 0.8963000178337097\n"
     ]
    },
    {
     "name": "stderr",
     "output_type": "stream",
     "text": [
      "\r",
      " 16%|████████████▉                                                                    | 16/100 [00:30<02:40,  1.91s/it]"
     ]
    },
    {
     "name": "stdout",
     "output_type": "stream",
     "text": [
      "row_sum: (30000,) -- row_sum_sum: 30000\n",
      "torch.Size([30000, 10])  --  torch.Size([30000, 10])\n",
      "torch.Size([30000, 10])  --  torch.Size([30000, 10])\n",
      "torch.Size([30000, 10])  --  torch.Size([30000, 10])\n",
      "key: train_loss -- value: 0.36347779631614685\n",
      "key: train_acc -- value: 0.9056000113487244\n",
      "key: val_loss -- value: 0.39907512068748474\n",
      "key: val_acc -- value: 0.8998000025749207\n"
     ]
    },
    {
     "name": "stderr",
     "output_type": "stream",
     "text": [
      "\r",
      " 17%|█████████████▊                                                                   | 17/100 [00:32<02:38,  1.91s/it]"
     ]
    },
    {
     "name": "stdout",
     "output_type": "stream",
     "text": [
      "row_sum: (30000,) -- row_sum_sum: 30000\n",
      "torch.Size([30000, 10])  --  torch.Size([30000, 10])\n",
      "torch.Size([30000, 10])  --  torch.Size([30000, 10])\n",
      "torch.Size([30000, 10])  --  torch.Size([30000, 10])\n",
      "key: train_loss -- value: 0.3469249904155731\n",
      "key: train_acc -- value: 0.9087666869163513\n",
      "key: val_loss -- value: 0.384671151638031\n",
      "key: val_acc -- value: 0.9031000137329102\n"
     ]
    },
    {
     "name": "stderr",
     "output_type": "stream",
     "text": [
      "\r",
      " 18%|██████████████▌                                                                  | 18/100 [00:34<02:36,  1.91s/it]"
     ]
    },
    {
     "name": "stdout",
     "output_type": "stream",
     "text": [
      "row_sum: (30000,) -- row_sum_sum: 30000\n",
      "torch.Size([30000, 10])  --  torch.Size([30000, 10])\n",
      "torch.Size([30000, 10])  --  torch.Size([30000, 10])\n",
      "torch.Size([30000, 10])  --  torch.Size([30000, 10])\n",
      "key: train_loss -- value: 0.33403196930885315\n",
      "key: train_acc -- value: 0.9097333550453186\n",
      "key: val_loss -- value: 0.3742554783821106\n",
      "key: val_acc -- value: 0.904699981212616\n"
     ]
    },
    {
     "name": "stderr",
     "output_type": "stream",
     "text": [
      "\r",
      " 19%|███████████████▍                                                                 | 19/100 [00:36<02:35,  1.91s/it]"
     ]
    },
    {
     "name": "stdout",
     "output_type": "stream",
     "text": [
      "row_sum: (30000,) -- row_sum_sum: 30000\n",
      "torch.Size([30000, 10])  --  torch.Size([30000, 10])\n",
      "torch.Size([30000, 10])  --  torch.Size([30000, 10])\n",
      "torch.Size([30000, 10])  --  torch.Size([30000, 10])\n",
      "key: train_loss -- value: 0.31753313541412354\n",
      "key: train_acc -- value: 0.9125333428382874\n",
      "key: val_loss -- value: 0.3587765395641327\n",
      "key: val_acc -- value: 0.9083333611488342\n"
     ]
    },
    {
     "name": "stderr",
     "output_type": "stream",
     "text": [
      "\r",
      " 20%|████████████████▏                                                                | 20/100 [00:38<02:33,  1.92s/it]"
     ]
    },
    {
     "name": "stdout",
     "output_type": "stream",
     "text": [
      "row_sum: (30000,) -- row_sum_sum: 30000\n",
      "torch.Size([30000, 10])  --  torch.Size([30000, 10])\n",
      "torch.Size([30000, 10])  --  torch.Size([30000, 10])\n",
      "torch.Size([30000, 10])  --  torch.Size([30000, 10])\n",
      "key: train_loss -- value: 0.3078339695930481\n",
      "key: train_acc -- value: 0.9150999784469604\n",
      "key: val_loss -- value: 0.3494085371494293\n",
      "key: val_acc -- value: 0.909333348274231\n"
     ]
    },
    {
     "name": "stderr",
     "output_type": "stream",
     "text": [
      "\r",
      " 21%|█████████████████                                                                | 21/100 [00:40<02:31,  1.92s/it]"
     ]
    },
    {
     "name": "stdout",
     "output_type": "stream",
     "text": [
      "row_sum: (30000,) -- row_sum_sum: 30000\n",
      "torch.Size([30000, 10])  --  torch.Size([30000, 10])\n",
      "torch.Size([30000, 10])  --  torch.Size([30000, 10])\n",
      "torch.Size([30000, 10])  --  torch.Size([30000, 10])\n",
      "key: train_loss -- value: 0.29194915294647217\n",
      "key: train_acc -- value: 0.9176666736602783\n",
      "key: val_loss -- value: 0.3346579670906067\n",
      "key: val_acc -- value: 0.9115333557128906\n"
     ]
    },
    {
     "name": "stderr",
     "output_type": "stream",
     "text": [
      "\r",
      " 22%|█████████████████▊                                                               | 22/100 [00:42<02:31,  1.95s/it]"
     ]
    },
    {
     "name": "stdout",
     "output_type": "stream",
     "text": [
      "row_sum: (30000,) -- row_sum_sum: 30000\n",
      "torch.Size([30000, 10])  --  torch.Size([30000, 10])\n",
      "torch.Size([30000, 10])  --  torch.Size([30000, 10])\n",
      "torch.Size([30000, 10])  --  torch.Size([30000, 10])\n",
      "key: train_loss -- value: 0.2822848856449127\n",
      "key: train_acc -- value: 0.9185666441917419\n",
      "key: val_loss -- value: 0.32584133744239807\n",
      "key: val_acc -- value: 0.9131666421890259\n"
     ]
    },
    {
     "name": "stderr",
     "output_type": "stream",
     "text": [
      "\r",
      " 23%|██████████████████▋                                                              | 23/100 [00:44<02:30,  1.95s/it]"
     ]
    },
    {
     "name": "stdout",
     "output_type": "stream",
     "text": [
      "row_sum: (30000,) -- row_sum_sum: 30000\n",
      "torch.Size([30000, 10])  --  torch.Size([30000, 10])\n",
      "torch.Size([30000, 10])  --  torch.Size([30000, 10])\n",
      "torch.Size([30000, 10])  --  torch.Size([30000, 10])\n",
      "key: train_loss -- value: 0.27007460594177246\n",
      "key: train_acc -- value: 0.9224666953086853\n",
      "key: val_loss -- value: 0.31263265013694763\n",
      "key: val_acc -- value: 0.9151999950408936\n"
     ]
    },
    {
     "name": "stderr",
     "output_type": "stream",
     "text": [
      "\r",
      " 24%|███████████████████▍                                                             | 24/100 [00:47<02:29,  1.96s/it]"
     ]
    },
    {
     "name": "stdout",
     "output_type": "stream",
     "text": [
      "row_sum: (30000,) -- row_sum_sum: 30000\n",
      "torch.Size([30000, 10])  --  torch.Size([30000, 10])\n",
      "torch.Size([30000, 10])  --  torch.Size([30000, 10])\n",
      "torch.Size([30000, 10])  --  torch.Size([30000, 10])\n",
      "key: train_loss -- value: 0.26365721225738525\n",
      "key: train_acc -- value: 0.9240000247955322\n",
      "key: val_loss -- value: 0.3053801953792572\n",
      "key: val_acc -- value: 0.9158666729927063\n"
     ]
    },
    {
     "name": "stderr",
     "output_type": "stream",
     "text": [
      "\r",
      " 25%|████████████████████▎                                                            | 25/100 [00:49<02:27,  1.96s/it]"
     ]
    },
    {
     "name": "stdout",
     "output_type": "stream",
     "text": [
      "row_sum: (30000,) -- row_sum_sum: 30000\n",
      "torch.Size([30000, 10])  --  torch.Size([30000, 10])\n",
      "torch.Size([30000, 10])  --  torch.Size([30000, 10])\n",
      "torch.Size([30000, 10])  --  torch.Size([30000, 10])\n",
      "key: train_loss -- value: 0.2516680359840393\n",
      "key: train_acc -- value: 0.9262333512306213\n",
      "key: val_loss -- value: 0.29399871826171875\n",
      "key: val_acc -- value: 0.9182666540145874\n"
     ]
    },
    {
     "name": "stderr",
     "output_type": "stream",
     "text": [
      "\r",
      " 26%|█████████████████████                                                            | 26/100 [00:51<02:25,  1.97s/it]"
     ]
    },
    {
     "name": "stdout",
     "output_type": "stream",
     "text": [
      "row_sum: (30000,) -- row_sum_sum: 30000\n",
      "torch.Size([30000, 10])  --  torch.Size([30000, 10])\n",
      "torch.Size([30000, 10])  --  torch.Size([30000, 10])\n",
      "torch.Size([30000, 10])  --  torch.Size([30000, 10])\n",
      "key: train_loss -- value: 0.2457803338766098\n",
      "key: train_acc -- value: 0.9274333119392395\n",
      "key: val_loss -- value: 0.2881889045238495\n",
      "key: val_acc -- value: 0.9199333190917969\n"
     ]
    },
    {
     "name": "stderr",
     "output_type": "stream",
     "text": [
      "\r",
      " 27%|█████████████████████▊                                                           | 27/100 [00:53<02:23,  1.97s/it]"
     ]
    },
    {
     "name": "stdout",
     "output_type": "stream",
     "text": [
      "row_sum: (30000,) -- row_sum_sum: 30000\n",
      "torch.Size([30000, 10])  --  torch.Size([30000, 10])\n",
      "torch.Size([30000, 10])  --  torch.Size([30000, 10])\n",
      "torch.Size([30000, 10])  --  torch.Size([30000, 10])\n",
      "key: train_loss -- value: 0.23791462182998657\n",
      "key: train_acc -- value: 0.9314333200454712\n",
      "key: val_loss -- value: 0.27955836057662964\n",
      "key: val_acc -- value: 0.9217000007629395\n"
     ]
    },
    {
     "name": "stderr",
     "output_type": "stream",
     "text": [
      "\r",
      " 28%|██████████████████████▋                                                          | 28/100 [00:55<02:22,  1.98s/it]"
     ]
    },
    {
     "name": "stdout",
     "output_type": "stream",
     "text": [
      "row_sum: (30000,) -- row_sum_sum: 30000\n",
      "torch.Size([30000, 10])  --  torch.Size([30000, 10])\n",
      "torch.Size([30000, 10])  --  torch.Size([30000, 10])\n",
      "torch.Size([30000, 10])  --  torch.Size([30000, 10])\n",
      "key: train_loss -- value: 0.23050792515277863\n",
      "key: train_acc -- value: 0.934066653251648\n",
      "key: val_loss -- value: 0.27198079228401184\n",
      "key: val_acc -- value: 0.9242666959762573\n"
     ]
    },
    {
     "name": "stderr",
     "output_type": "stream",
     "text": [
      "\r",
      " 29%|███████████████████████▍                                                         | 29/100 [00:57<02:20,  1.98s/it]"
     ]
    },
    {
     "name": "stdout",
     "output_type": "stream",
     "text": [
      "row_sum: (30000,) -- row_sum_sum: 30000\n",
      "torch.Size([30000, 10])  --  torch.Size([30000, 10])\n",
      "torch.Size([30000, 10])  --  torch.Size([30000, 10])\n",
      "torch.Size([30000, 10])  --  torch.Size([30000, 10])\n",
      "key: train_loss -- value: 0.225651353597641\n",
      "key: train_acc -- value: 0.9354333281517029\n",
      "key: val_loss -- value: 0.2675696015357971\n",
      "key: val_acc -- value: 0.9253333210945129\n"
     ]
    },
    {
     "name": "stderr",
     "output_type": "stream",
     "text": [
      "\r",
      " 30%|████████████████████████▎                                                        | 30/100 [00:59<02:18,  1.98s/it]"
     ]
    },
    {
     "name": "stdout",
     "output_type": "stream",
     "text": [
      "row_sum: (30000,) -- row_sum_sum: 30000\n",
      "torch.Size([30000, 10])  --  torch.Size([30000, 10])\n",
      "torch.Size([30000, 10])  --  torch.Size([30000, 10])\n",
      "torch.Size([30000, 10])  --  torch.Size([30000, 10])\n",
      "key: train_loss -- value: 0.2188543677330017\n",
      "key: train_acc -- value: 0.9383666515350342\n",
      "key: val_loss -- value: 0.2606174349784851\n",
      "key: val_acc -- value: 0.9265000224113464\n"
     ]
    },
    {
     "name": "stderr",
     "output_type": "stream",
     "text": [
      "\r",
      " 31%|█████████████████████████                                                        | 31/100 [01:01<02:17,  1.99s/it]"
     ]
    },
    {
     "name": "stdout",
     "output_type": "stream",
     "text": [
      "row_sum: (30000,) -- row_sum_sum: 30000\n",
      "torch.Size([30000, 10])  --  torch.Size([30000, 10])\n",
      "torch.Size([30000, 10])  --  torch.Size([30000, 10])\n",
      "torch.Size([30000, 10])  --  torch.Size([30000, 10])\n",
      "key: train_loss -- value: 0.21475555002689362\n",
      "key: train_acc -- value: 0.9393333196640015\n",
      "key: val_loss -- value: 0.2560455799102783\n",
      "key: val_acc -- value: 0.9282666444778442\n"
     ]
    },
    {
     "name": "stderr",
     "output_type": "stream",
     "text": [
      "\r",
      " 32%|█████████████████████████▉                                                       | 32/100 [01:03<02:15,  1.99s/it]"
     ]
    },
    {
     "name": "stdout",
     "output_type": "stream",
     "text": [
      "row_sum: (30000,) -- row_sum_sum: 30000\n",
      "torch.Size([30000, 10])  --  torch.Size([30000, 10])\n",
      "torch.Size([30000, 10])  --  torch.Size([30000, 10])\n",
      "torch.Size([30000, 10])  --  torch.Size([30000, 10])\n",
      "key: train_loss -- value: 0.20879274606704712\n",
      "key: train_acc -- value: 0.9407333135604858\n",
      "key: val_loss -- value: 0.2498539239168167\n",
      "key: val_acc -- value: 0.9292666912078857\n"
     ]
    },
    {
     "name": "stderr",
     "output_type": "stream",
     "text": [
      "\r",
      " 33%|██████████████████████████▋                                                      | 33/100 [01:05<02:13,  1.99s/it]"
     ]
    },
    {
     "name": "stdout",
     "output_type": "stream",
     "text": [
      "row_sum: (30000,) -- row_sum_sum: 30000\n",
      "torch.Size([30000, 10])  --  torch.Size([30000, 10])\n",
      "torch.Size([30000, 10])  --  torch.Size([30000, 10])\n",
      "torch.Size([30000, 10])  --  torch.Size([30000, 10])\n",
      "key: train_loss -- value: 0.20454713702201843\n",
      "key: train_acc -- value: 0.941433310508728\n",
      "key: val_loss -- value: 0.24566338956356049\n",
      "key: val_acc -- value: 0.9305333495140076\n"
     ]
    },
    {
     "name": "stderr",
     "output_type": "stream",
     "text": [
      "\r",
      " 34%|███████████████████████████▌                                                     | 34/100 [01:07<02:11,  2.00s/it]"
     ]
    },
    {
     "name": "stdout",
     "output_type": "stream",
     "text": [
      "row_sum: (30000,) -- row_sum_sum: 30000\n",
      "torch.Size([30000, 10])  --  torch.Size([30000, 10])\n",
      "torch.Size([30000, 10])  --  torch.Size([30000, 10])\n",
      "torch.Size([30000, 10])  --  torch.Size([30000, 10])\n",
      "key: train_loss -- value: 0.19936159253120422\n",
      "key: train_acc -- value: 0.9434000253677368\n",
      "key: val_loss -- value: 0.24061192572116852\n",
      "key: val_acc -- value: 0.9315999746322632\n"
     ]
    },
    {
     "name": "stderr",
     "output_type": "stream",
     "text": [
      "\r",
      " 35%|████████████████████████████▎                                                    | 35/100 [01:09<02:09,  2.00s/it]"
     ]
    },
    {
     "name": "stdout",
     "output_type": "stream",
     "text": [
      "row_sum: (30000,) -- row_sum_sum: 30000\n",
      "torch.Size([30000, 10])  --  torch.Size([30000, 10])\n",
      "torch.Size([30000, 10])  --  torch.Size([30000, 10])\n",
      "torch.Size([30000, 10])  --  torch.Size([30000, 10])\n",
      "key: train_loss -- value: 0.19483254849910736\n",
      "key: train_acc -- value: 0.9447333216667175\n",
      "key: val_loss -- value: 0.23630180954933167\n",
      "key: val_acc -- value: 0.9332666397094727\n"
     ]
    },
    {
     "name": "stderr",
     "output_type": "stream",
     "text": [
      "\r",
      " 36%|█████████████████████████████▏                                                   | 36/100 [01:12<02:08,  2.00s/it]"
     ]
    },
    {
     "name": "stdout",
     "output_type": "stream",
     "text": [
      "row_sum: (30000,) -- row_sum_sum: 30000\n",
      "torch.Size([30000, 10])  --  torch.Size([30000, 10])\n",
      "torch.Size([30000, 10])  --  torch.Size([30000, 10])\n",
      "torch.Size([30000, 10])  --  torch.Size([30000, 10])\n",
      "key: train_loss -- value: 0.1903572827577591\n",
      "key: train_acc -- value: 0.9462000131607056\n",
      "key: val_loss -- value: 0.23187826573848724\n",
      "key: val_acc -- value: 0.9351666569709778\n"
     ]
    },
    {
     "name": "stderr",
     "output_type": "stream",
     "text": [
      "\r",
      " 37%|█████████████████████████████▉                                                   | 37/100 [01:14<02:06,  2.00s/it]"
     ]
    },
    {
     "name": "stdout",
     "output_type": "stream",
     "text": [
      "row_sum: (30000,) -- row_sum_sum: 30000\n",
      "torch.Size([30000, 10])  --  torch.Size([30000, 10])\n",
      "torch.Size([30000, 10])  --  torch.Size([30000, 10])\n",
      "torch.Size([30000, 10])  --  torch.Size([30000, 10])\n",
      "key: train_loss -- value: 0.18606998026371002\n",
      "key: train_acc -- value: 0.9470999836921692\n",
      "key: val_loss -- value: 0.22719433903694153\n",
      "key: val_acc -- value: 0.9361000061035156\n"
     ]
    },
    {
     "name": "stderr",
     "output_type": "stream",
     "text": [
      "\r",
      " 38%|██████████████████████████████▊                                                  | 38/100 [01:16<02:04,  2.00s/it]"
     ]
    },
    {
     "name": "stdout",
     "output_type": "stream",
     "text": [
      "row_sum: (30000,) -- row_sum_sum: 30000\n",
      "torch.Size([30000, 10])  --  torch.Size([30000, 10])\n",
      "torch.Size([30000, 10])  --  torch.Size([30000, 10])\n",
      "torch.Size([30000, 10])  --  torch.Size([30000, 10])\n",
      "key: train_loss -- value: 0.1823752224445343\n",
      "key: train_acc -- value: 0.9477333426475525\n",
      "key: val_loss -- value: 0.22323130071163177\n",
      "key: val_acc -- value: 0.9365333318710327\n"
     ]
    },
    {
     "name": "stderr",
     "output_type": "stream",
     "text": [
      "\r",
      " 39%|███████████████████████████████▌                                                 | 39/100 [01:18<02:02,  2.01s/it]"
     ]
    },
    {
     "name": "stdout",
     "output_type": "stream",
     "text": [
      "row_sum: (30000,) -- row_sum_sum: 30000\n",
      "torch.Size([30000, 10])  --  torch.Size([30000, 10])\n",
      "torch.Size([30000, 10])  --  torch.Size([30000, 10])\n",
      "torch.Size([30000, 10])  --  torch.Size([30000, 10])\n",
      "key: train_loss -- value: 0.17812348902225494\n",
      "key: train_acc -- value: 0.949566662311554\n",
      "key: val_loss -- value: 0.21921883523464203\n",
      "key: val_acc -- value: 0.9382666945457458\n"
     ]
    },
    {
     "name": "stderr",
     "output_type": "stream",
     "text": [
      "\r",
      " 40%|████████████████████████████████▍                                                | 40/100 [01:20<02:00,  2.01s/it]"
     ]
    },
    {
     "name": "stdout",
     "output_type": "stream",
     "text": [
      "row_sum: (30000,) -- row_sum_sum: 30000\n",
      "torch.Size([30000, 10])  --  torch.Size([30000, 10])\n",
      "torch.Size([30000, 10])  --  torch.Size([30000, 10])\n",
      "torch.Size([30000, 10])  --  torch.Size([30000, 10])\n",
      "key: train_loss -- value: 0.17486685514450073\n",
      "key: train_acc -- value: 0.9506666660308838\n",
      "key: val_loss -- value: 0.21642348170280457\n",
      "key: val_acc -- value: 0.9395333528518677\n"
     ]
    },
    {
     "name": "stderr",
     "output_type": "stream",
     "text": [
      "\r",
      " 41%|█████████████████████████████████▏                                               | 41/100 [01:22<01:58,  2.01s/it]"
     ]
    },
    {
     "name": "stdout",
     "output_type": "stream",
     "text": [
      "row_sum: (30000,) -- row_sum_sum: 30000\n",
      "torch.Size([30000, 10])  --  torch.Size([30000, 10])\n",
      "torch.Size([30000, 10])  --  torch.Size([30000, 10])\n",
      "torch.Size([30000, 10])  --  torch.Size([30000, 10])\n",
      "key: train_loss -- value: 0.17134572565555573\n",
      "key: train_acc -- value: 0.9519333243370056\n",
      "key: val_loss -- value: 0.21298012137413025\n",
      "key: val_acc -- value: 0.9399999976158142\n"
     ]
    },
    {
     "name": "stderr",
     "output_type": "stream",
     "text": [
      "\r",
      " 42%|██████████████████████████████████                                               | 42/100 [01:24<01:56,  2.01s/it]"
     ]
    },
    {
     "name": "stdout",
     "output_type": "stream",
     "text": [
      "row_sum: (30000,) -- row_sum_sum: 30000\n",
      "torch.Size([30000, 10])  --  torch.Size([30000, 10])\n",
      "torch.Size([30000, 10])  --  torch.Size([30000, 10])\n",
      "torch.Size([30000, 10])  --  torch.Size([30000, 10])\n",
      "key: train_loss -- value: 0.1679399460554123\n",
      "key: train_acc -- value: 0.9527000188827515\n",
      "key: val_loss -- value: 0.2093721181154251\n",
      "key: val_acc -- value: 0.9406999945640564\n"
     ]
    },
    {
     "name": "stderr",
     "output_type": "stream",
     "text": [
      "\r",
      " 43%|██████████████████████████████████▊                                              | 43/100 [01:26<01:54,  2.01s/it]"
     ]
    },
    {
     "name": "stdout",
     "output_type": "stream",
     "text": [
      "row_sum: (30000,) -- row_sum_sum: 30000\n",
      "torch.Size([30000, 10])  --  torch.Size([30000, 10])\n",
      "torch.Size([30000, 10])  --  torch.Size([30000, 10])\n",
      "torch.Size([30000, 10])  --  torch.Size([30000, 10])\n",
      "key: train_loss -- value: 0.16462641954421997\n",
      "key: train_acc -- value: 0.95333331823349\n",
      "key: val_loss -- value: 0.20595195889472961\n",
      "key: val_acc -- value: 0.9421333074569702\n"
     ]
    },
    {
     "name": "stderr",
     "output_type": "stream",
     "text": [
      "\r",
      " 44%|███████████████████████████████████▋                                             | 44/100 [01:28<01:52,  2.01s/it]"
     ]
    },
    {
     "name": "stdout",
     "output_type": "stream",
     "text": [
      "row_sum: (30000,) -- row_sum_sum: 30000\n",
      "torch.Size([30000, 10])  --  torch.Size([30000, 10])\n",
      "torch.Size([30000, 10])  --  torch.Size([30000, 10])\n",
      "torch.Size([30000, 10])  --  torch.Size([30000, 10])\n",
      "key: train_loss -- value: 0.16181392967700958\n",
      "key: train_acc -- value: 0.9538000226020813\n",
      "key: val_loss -- value: 0.20324313640594482\n",
      "key: val_acc -- value: 0.9430666565895081\n"
     ]
    },
    {
     "name": "stderr",
     "output_type": "stream",
     "text": [
      "\r",
      " 45%|████████████████████████████████████▍                                            | 45/100 [01:30<01:50,  2.02s/it]"
     ]
    },
    {
     "name": "stdout",
     "output_type": "stream",
     "text": [
      "row_sum: (30000,) -- row_sum_sum: 30000\n",
      "torch.Size([30000, 10])  --  torch.Size([30000, 10])\n",
      "torch.Size([30000, 10])  --  torch.Size([30000, 10])\n",
      "torch.Size([30000, 10])  --  torch.Size([30000, 10])\n",
      "key: train_loss -- value: 0.1586635708808899\n",
      "key: train_acc -- value: 0.9548333287239075\n",
      "key: val_loss -- value: 0.2003054916858673\n",
      "key: val_acc -- value: 0.9435999989509583\n"
     ]
    },
    {
     "name": "stderr",
     "output_type": "stream",
     "text": [
      "\r",
      " 46%|█████████████████████████████████████▎                                           | 46/100 [01:32<01:48,  2.02s/it]"
     ]
    },
    {
     "name": "stdout",
     "output_type": "stream",
     "text": [
      "row_sum: (30000,) -- row_sum_sum: 30000\n",
      "torch.Size([30000, 10])  --  torch.Size([30000, 10])\n",
      "torch.Size([30000, 10])  --  torch.Size([30000, 10])\n",
      "torch.Size([30000, 10])  --  torch.Size([30000, 10])\n",
      "key: train_loss -- value: 0.15587309002876282\n",
      "key: train_acc -- value: 0.9562333226203918\n",
      "key: val_loss -- value: 0.1977924406528473\n",
      "key: val_acc -- value: 0.9437666535377502\n"
     ]
    },
    {
     "name": "stderr",
     "output_type": "stream",
     "text": [
      "\r",
      " 47%|██████████████████████████████████████                                           | 47/100 [01:34<01:46,  2.02s/it]"
     ]
    },
    {
     "name": "stdout",
     "output_type": "stream",
     "text": [
      "row_sum: (30000,) -- row_sum_sum: 30000\n",
      "torch.Size([30000, 10])  --  torch.Size([30000, 10])\n",
      "torch.Size([30000, 10])  --  torch.Size([30000, 10])\n",
      "torch.Size([30000, 10])  --  torch.Size([30000, 10])\n",
      "key: train_loss -- value: 0.15316861867904663\n",
      "key: train_acc -- value: 0.9569666385650635\n",
      "key: val_loss -- value: 0.19538353383541107\n",
      "key: val_acc -- value: 0.9443666934967041\n"
     ]
    },
    {
     "name": "stderr",
     "output_type": "stream",
     "text": [
      "\r",
      " 48%|██████████████████████████████████████▉                                          | 48/100 [01:36<01:45,  2.02s/it]"
     ]
    },
    {
     "name": "stdout",
     "output_type": "stream",
     "text": [
      "row_sum: (30000,) -- row_sum_sum: 30000\n",
      "torch.Size([30000, 10])  --  torch.Size([30000, 10])\n",
      "torch.Size([30000, 10])  --  torch.Size([30000, 10])\n",
      "torch.Size([30000, 10])  --  torch.Size([30000, 10])\n",
      "key: train_loss -- value: 0.15058577060699463\n",
      "key: train_acc -- value: 0.957099974155426\n",
      "key: val_loss -- value: 0.19298963248729706\n",
      "key: val_acc -- value: 0.9453999996185303\n"
     ]
    },
    {
     "name": "stderr",
     "output_type": "stream",
     "text": [
      "\r",
      " 49%|███████████████████████████████████████▋                                         | 49/100 [01:39<01:43,  2.02s/it]"
     ]
    },
    {
     "name": "stdout",
     "output_type": "stream",
     "text": [
      "row_sum: (30000,) -- row_sum_sum: 30000\n",
      "torch.Size([30000, 10])  --  torch.Size([30000, 10])\n",
      "torch.Size([30000, 10])  --  torch.Size([30000, 10])\n",
      "torch.Size([30000, 10])  --  torch.Size([30000, 10])\n",
      "key: train_loss -- value: 0.14799648523330688\n",
      "key: train_acc -- value: 0.9577999711036682\n",
      "key: val_loss -- value: 0.1904391050338745\n",
      "key: val_acc -- value: 0.945900022983551\n"
     ]
    },
    {
     "name": "stderr",
     "output_type": "stream",
     "text": [
      "\r",
      " 50%|████████████████████████████████████████▌                                        | 50/100 [01:41<01:41,  2.02s/it]"
     ]
    },
    {
     "name": "stdout",
     "output_type": "stream",
     "text": [
      "row_sum: (30000,) -- row_sum_sum: 30000\n",
      "torch.Size([30000, 10])  --  torch.Size([30000, 10])\n",
      "torch.Size([30000, 10])  --  torch.Size([30000, 10])\n",
      "torch.Size([30000, 10])  --  torch.Size([30000, 10])\n",
      "key: train_loss -- value: 0.14560449123382568\n",
      "key: train_acc -- value: 0.9585333466529846\n",
      "key: val_loss -- value: 0.18812885880470276\n",
      "key: val_acc -- value: 0.9468333125114441\n"
     ]
    },
    {
     "name": "stderr",
     "output_type": "stream",
     "text": [
      "\r",
      " 51%|█████████████████████████████████████████▎                                       | 51/100 [01:43<01:39,  2.03s/it]"
     ]
    },
    {
     "name": "stdout",
     "output_type": "stream",
     "text": [
      "row_sum: (30000,) -- row_sum_sum: 30000\n",
      "torch.Size([30000, 10])  --  torch.Size([30000, 10])\n",
      "torch.Size([30000, 10])  --  torch.Size([30000, 10])\n",
      "torch.Size([30000, 10])  --  torch.Size([30000, 10])\n",
      "key: train_loss -- value: 0.14324139058589935\n",
      "key: train_acc -- value: 0.9592999815940857\n",
      "key: val_loss -- value: 0.18605205416679382\n",
      "key: val_acc -- value: 0.9470000267028809\n"
     ]
    },
    {
     "name": "stderr",
     "output_type": "stream",
     "text": [
      "\r",
      " 52%|██████████████████████████████████████████                                       | 52/100 [01:45<01:37,  2.03s/it]"
     ]
    },
    {
     "name": "stdout",
     "output_type": "stream",
     "text": [
      "row_sum: (30000,) -- row_sum_sum: 30000\n",
      "torch.Size([30000, 10])  --  torch.Size([30000, 10])\n",
      "torch.Size([30000, 10])  --  torch.Size([30000, 10])\n",
      "torch.Size([30000, 10])  --  torch.Size([30000, 10])\n",
      "key: train_loss -- value: 0.1409282684326172\n",
      "key: train_acc -- value: 0.9602333307266235\n",
      "key: val_loss -- value: 0.18416157364845276\n",
      "key: val_acc -- value: 0.947866678237915\n"
     ]
    },
    {
     "name": "stderr",
     "output_type": "stream",
     "text": [
      "\r",
      " 53%|██████████████████████████████████████████▉                                      | 53/100 [01:47<01:35,  2.03s/it]"
     ]
    },
    {
     "name": "stdout",
     "output_type": "stream",
     "text": [
      "row_sum: (30000,) -- row_sum_sum: 30000\n",
      "torch.Size([30000, 10])  --  torch.Size([30000, 10])\n",
      "torch.Size([30000, 10])  --  torch.Size([30000, 10])\n",
      "torch.Size([30000, 10])  --  torch.Size([30000, 10])\n",
      "key: train_loss -- value: 0.13878421485424042\n",
      "key: train_acc -- value: 0.9608333110809326\n",
      "key: val_loss -- value: 0.18236388266086578\n",
      "key: val_acc -- value: 0.9484000205993652\n"
     ]
    },
    {
     "name": "stderr",
     "output_type": "stream",
     "text": [
      "\r",
      " 54%|███████████████████████████████████████████▋                                     | 54/100 [01:49<01:33,  2.03s/it]"
     ]
    },
    {
     "name": "stdout",
     "output_type": "stream",
     "text": [
      "row_sum: (30000,) -- row_sum_sum: 30000\n",
      "torch.Size([30000, 10])  --  torch.Size([30000, 10])\n",
      "torch.Size([30000, 10])  --  torch.Size([30000, 10])\n",
      "torch.Size([30000, 10])  --  torch.Size([30000, 10])\n",
      "key: train_loss -- value: 0.13663052022457123\n",
      "key: train_acc -- value: 0.9613999724388123\n",
      "key: val_loss -- value: 0.1803801953792572\n",
      "key: val_acc -- value: 0.9488666653633118\n"
     ]
    },
    {
     "name": "stderr",
     "output_type": "stream",
     "text": [
      "\r",
      " 55%|████████████████████████████████████████████▌                                    | 55/100 [01:51<01:31,  2.04s/it]"
     ]
    },
    {
     "name": "stdout",
     "output_type": "stream",
     "text": [
      "row_sum: (30000,) -- row_sum_sum: 30000\n",
      "torch.Size([30000, 10])  --  torch.Size([30000, 10])\n",
      "torch.Size([30000, 10])  --  torch.Size([30000, 10])\n",
      "torch.Size([30000, 10])  --  torch.Size([30000, 10])\n",
      "key: train_loss -- value: 0.13463953137397766\n",
      "key: train_acc -- value: 0.9621333479881287\n",
      "key: val_loss -- value: 0.1785062849521637\n",
      "key: val_acc -- value: 0.9491999745368958\n"
     ]
    },
    {
     "name": "stderr",
     "output_type": "stream",
     "text": [
      "\r",
      " 56%|█████████████████████████████████████████████▎                                   | 56/100 [01:54<01:29,  2.04s/it]"
     ]
    },
    {
     "name": "stdout",
     "output_type": "stream",
     "text": [
      "row_sum: (30000,) -- row_sum_sum: 30000\n",
      "torch.Size([30000, 10])  --  torch.Size([30000, 10])\n",
      "torch.Size([30000, 10])  --  torch.Size([30000, 10])\n",
      "torch.Size([30000, 10])  --  torch.Size([30000, 10])\n",
      "key: train_loss -- value: 0.1325926035642624\n",
      "key: train_acc -- value: 0.9623000025749207\n",
      "key: val_loss -- value: 0.17666630446910858\n",
      "key: val_acc -- value: 0.9494333267211914\n"
     ]
    },
    {
     "name": "stderr",
     "output_type": "stream",
     "text": [
      "\r",
      " 57%|██████████████████████████████████████████████▏                                  | 57/100 [01:56<01:27,  2.04s/it]"
     ]
    },
    {
     "name": "stdout",
     "output_type": "stream",
     "text": [
      "row_sum: (30000,) -- row_sum_sum: 30000\n",
      "torch.Size([30000, 10])  --  torch.Size([30000, 10])\n",
      "torch.Size([30000, 10])  --  torch.Size([30000, 10])\n",
      "torch.Size([30000, 10])  --  torch.Size([30000, 10])\n",
      "key: train_loss -- value: 0.1307351142168045\n",
      "key: train_acc -- value: 0.9628666639328003\n",
      "key: val_loss -- value: 0.17508447170257568\n",
      "key: val_acc -- value: 0.9498000144958496\n"
     ]
    },
    {
     "name": "stderr",
     "output_type": "stream",
     "text": [
      "\r",
      " 58%|██████████████████████████████████████████████▉                                  | 58/100 [01:58<01:25,  2.04s/it]"
     ]
    },
    {
     "name": "stdout",
     "output_type": "stream",
     "text": [
      "row_sum: (30000,) -- row_sum_sum: 30000\n",
      "torch.Size([30000, 10])  --  torch.Size([30000, 10])\n",
      "torch.Size([30000, 10])  --  torch.Size([30000, 10])\n",
      "torch.Size([30000, 10])  --  torch.Size([30000, 10])\n",
      "key: train_loss -- value: 0.1288219839334488\n",
      "key: train_acc -- value: 0.963699996471405\n",
      "key: val_loss -- value: 0.17339953780174255\n",
      "key: val_acc -- value: 0.9505000114440918\n"
     ]
    },
    {
     "name": "stderr",
     "output_type": "stream",
     "text": [
      "\r",
      " 59%|███████████████████████████████████████████████▊                                 | 59/100 [02:01<01:24,  2.05s/it]"
     ]
    },
    {
     "name": "stdout",
     "output_type": "stream",
     "text": [
      "row_sum: (30000,) -- row_sum_sum: 30000\n",
      "torch.Size([30000, 10])  --  torch.Size([30000, 10])\n",
      "torch.Size([30000, 10])  --  torch.Size([30000, 10])\n",
      "torch.Size([30000, 10])  --  torch.Size([30000, 10])\n",
      "key: train_loss -- value: 0.1269771307706833\n",
      "key: train_acc -- value: 0.9641333222389221\n",
      "key: val_loss -- value: 0.1717454046010971\n",
      "key: val_acc -- value: 0.9509999752044678\n"
     ]
    },
    {
     "name": "stderr",
     "output_type": "stream",
     "text": [
      "\r",
      " 60%|████████████████████████████████████████████████▌                                | 60/100 [02:03<01:22,  2.05s/it]"
     ]
    },
    {
     "name": "stdout",
     "output_type": "stream",
     "text": [
      "row_sum: (30000,) -- row_sum_sum: 30000\n",
      "torch.Size([30000, 10])  --  torch.Size([30000, 10])\n",
      "torch.Size([30000, 10])  --  torch.Size([30000, 10])\n",
      "torch.Size([30000, 10])  --  torch.Size([30000, 10])\n",
      "key: train_loss -- value: 0.12518124282360077\n",
      "key: train_acc -- value: 0.9648333191871643\n",
      "key: val_loss -- value: 0.17018143832683563\n",
      "key: val_acc -- value: 0.9514999985694885\n"
     ]
    },
    {
     "name": "stderr",
     "output_type": "stream",
     "text": [
      "\r",
      " 61%|█████████████████████████████████████████████████▍                               | 61/100 [02:05<01:20,  2.05s/it]"
     ]
    },
    {
     "name": "stdout",
     "output_type": "stream",
     "text": [
      "row_sum: (30000,) -- row_sum_sum: 30000\n",
      "torch.Size([30000, 10])  --  torch.Size([30000, 10])\n",
      "torch.Size([30000, 10])  --  torch.Size([30000, 10])\n",
      "torch.Size([30000, 10])  --  torch.Size([30000, 10])\n",
      "key: train_loss -- value: 0.12342844158411026\n",
      "key: train_acc -- value: 0.96506667137146\n",
      "key: val_loss -- value: 0.16869990527629852\n",
      "key: val_acc -- value: 0.9518333077430725\n"
     ]
    },
    {
     "name": "stderr",
     "output_type": "stream",
     "text": [
      "\r",
      " 62%|██████████████████████████████████████████████████▏                              | 62/100 [02:07<01:18,  2.05s/it]"
     ]
    },
    {
     "name": "stdout",
     "output_type": "stream",
     "text": [
      "row_sum: (30000,) -- row_sum_sum: 30000\n",
      "torch.Size([30000, 10])  --  torch.Size([30000, 10])\n",
      "torch.Size([30000, 10])  --  torch.Size([30000, 10])\n",
      "torch.Size([30000, 10])  --  torch.Size([30000, 10])\n",
      "key: train_loss -- value: 0.12172796577215195\n",
      "key: train_acc -- value: 0.9654333591461182\n",
      "key: val_loss -- value: 0.1672116369009018\n",
      "key: val_acc -- value: 0.9521333575248718\n"
     ]
    },
    {
     "name": "stderr",
     "output_type": "stream",
     "text": [
      "\r",
      " 63%|███████████████████████████████████████████████████                              | 63/100 [02:09<01:15,  2.05s/it]"
     ]
    },
    {
     "name": "stdout",
     "output_type": "stream",
     "text": [
      "row_sum: (30000,) -- row_sum_sum: 30000\n",
      "torch.Size([30000, 10])  --  torch.Size([30000, 10])\n",
      "torch.Size([30000, 10])  --  torch.Size([30000, 10])\n",
      "torch.Size([30000, 10])  --  torch.Size([30000, 10])\n",
      "key: train_loss -- value: 0.1200324073433876\n",
      "key: train_acc -- value: 0.9659000039100647\n",
      "key: val_loss -- value: 0.16565026342868805\n",
      "key: val_acc -- value: 0.9524000287055969\n"
     ]
    },
    {
     "name": "stderr",
     "output_type": "stream",
     "text": [
      "\r",
      " 64%|███████████████████████████████████████████████████▊                             | 64/100 [02:11<01:13,  2.05s/it]"
     ]
    },
    {
     "name": "stdout",
     "output_type": "stream",
     "text": [
      "row_sum: (30000,) -- row_sum_sum: 30000\n",
      "torch.Size([30000, 10])  --  torch.Size([30000, 10])\n",
      "torch.Size([30000, 10])  --  torch.Size([30000, 10])\n",
      "torch.Size([30000, 10])  --  torch.Size([30000, 10])\n",
      "key: train_loss -- value: 0.11844136565923691\n",
      "key: train_acc -- value: 0.9662333130836487\n",
      "key: val_loss -- value: 0.16421003639698029\n",
      "key: val_acc -- value: 0.9527999758720398\n"
     ]
    },
    {
     "name": "stderr",
     "output_type": "stream",
     "text": [
      "\r",
      " 65%|████████████████████████████████████████████████████▋                            | 65/100 [02:13<01:11,  2.06s/it]"
     ]
    },
    {
     "name": "stdout",
     "output_type": "stream",
     "text": [
      "row_sum: (30000,) -- row_sum_sum: 30000\n",
      "torch.Size([30000, 10])  --  torch.Size([30000, 10])\n",
      "torch.Size([30000, 10])  --  torch.Size([30000, 10])\n",
      "torch.Size([30000, 10])  --  torch.Size([30000, 10])\n",
      "key: train_loss -- value: 0.11684783548116684\n",
      "key: train_acc -- value: 0.9665666818618774\n",
      "key: val_loss -- value: 0.16286015510559082\n",
      "key: val_acc -- value: 0.9530666470527649\n"
     ]
    },
    {
     "name": "stderr",
     "output_type": "stream",
     "text": [
      "\r",
      " 66%|█████████████████████████████████████████████████████▍                           | 66/100 [02:15<01:09,  2.06s/it]"
     ]
    },
    {
     "name": "stdout",
     "output_type": "stream",
     "text": [
      "row_sum: (30000,) -- row_sum_sum: 30000\n",
      "torch.Size([30000, 10])  --  torch.Size([30000, 10])\n",
      "torch.Size([30000, 10])  --  torch.Size([30000, 10])\n",
      "torch.Size([30000, 10])  --  torch.Size([30000, 10])\n",
      "key: train_loss -- value: 0.115297831594944\n",
      "key: train_acc -- value: 0.9669666886329651\n",
      "key: val_loss -- value: 0.16158173978328705\n",
      "key: val_acc -- value: 0.9532999992370605\n"
     ]
    },
    {
     "name": "stderr",
     "output_type": "stream",
     "text": [
      "\r",
      " 67%|██████████████████████████████████████████████████████▎                          | 67/100 [02:17<01:07,  2.06s/it]"
     ]
    },
    {
     "name": "stdout",
     "output_type": "stream",
     "text": [
      "row_sum: (30000,) -- row_sum_sum: 30000\n",
      "torch.Size([30000, 10])  --  torch.Size([30000, 10])\n",
      "torch.Size([30000, 10])  --  torch.Size([30000, 10])\n",
      "torch.Size([30000, 10])  --  torch.Size([30000, 10])\n",
      "key: train_loss -- value: 0.1137872040271759\n",
      "key: train_acc -- value: 0.9678666591644287\n",
      "key: val_loss -- value: 0.1602741926908493\n",
      "key: val_acc -- value: 0.9536333084106445\n"
     ]
    },
    {
     "name": "stderr",
     "output_type": "stream",
     "text": [
      "\r",
      " 68%|███████████████████████████████████████████████████████                          | 68/100 [02:19<01:05,  2.06s/it]"
     ]
    },
    {
     "name": "stdout",
     "output_type": "stream",
     "text": [
      "row_sum: (30000,) -- row_sum_sum: 30000\n",
      "torch.Size([30000, 10])  --  torch.Size([30000, 10])\n",
      "torch.Size([30000, 10])  --  torch.Size([30000, 10])\n",
      "torch.Size([30000, 10])  --  torch.Size([30000, 10])\n",
      "key: train_loss -- value: 0.11232282221317291\n",
      "key: train_acc -- value: 0.9689000248908997\n",
      "key: val_loss -- value: 0.1589658260345459\n",
      "key: val_acc -- value: 0.9541000127792358\n"
     ]
    },
    {
     "name": "stderr",
     "output_type": "stream",
     "text": [
      "\r",
      " 69%|███████████████████████████████████████████████████████▉                         | 69/100 [02:21<01:03,  2.06s/it]"
     ]
    },
    {
     "name": "stdout",
     "output_type": "stream",
     "text": [
      "row_sum: (30000,) -- row_sum_sum: 30000\n",
      "torch.Size([30000, 10])  --  torch.Size([30000, 10])\n",
      "torch.Size([30000, 10])  --  torch.Size([30000, 10])\n",
      "torch.Size([30000, 10])  --  torch.Size([30000, 10])\n",
      "key: train_loss -- value: 0.11088184267282486\n",
      "key: train_acc -- value: 0.9694333076477051\n",
      "key: val_loss -- value: 0.15772105753421783\n",
      "key: val_acc -- value: 0.9544000029563904\n"
     ]
    },
    {
     "name": "stderr",
     "output_type": "stream",
     "text": [
      "\r",
      " 70%|████████████████████████████████████████████████████████▋                        | 70/100 [02:24<01:01,  2.06s/it]"
     ]
    },
    {
     "name": "stdout",
     "output_type": "stream",
     "text": [
      "row_sum: (30000,) -- row_sum_sum: 30000\n",
      "torch.Size([30000, 10])  --  torch.Size([30000, 10])\n",
      "torch.Size([30000, 10])  --  torch.Size([30000, 10])\n",
      "torch.Size([30000, 10])  --  torch.Size([30000, 10])\n",
      "key: train_loss -- value: 0.10945992171764374\n",
      "key: train_acc -- value: 0.9696999788284302\n",
      "key: val_loss -- value: 0.15654802322387695\n",
      "key: val_acc -- value: 0.9545999765396118\n"
     ]
    },
    {
     "name": "stderr",
     "output_type": "stream",
     "text": [
      "\r",
      " 71%|█████████████████████████████████████████████████████████▌                       | 71/100 [02:26<00:59,  2.06s/it]"
     ]
    },
    {
     "name": "stdout",
     "output_type": "stream",
     "text": [
      "row_sum: (30000,) -- row_sum_sum: 30000\n",
      "torch.Size([30000, 10])  --  torch.Size([30000, 10])\n",
      "torch.Size([30000, 10])  --  torch.Size([30000, 10])\n",
      "torch.Size([30000, 10])  --  torch.Size([30000, 10])\n",
      "key: train_loss -- value: 0.10809428989887238\n",
      "key: train_acc -- value: 0.9700333476066589\n",
      "key: val_loss -- value: 0.15540307760238647\n",
      "key: val_acc -- value: 0.9548333287239075\n"
     ]
    },
    {
     "name": "stderr",
     "output_type": "stream",
     "text": [
      "\r",
      " 72%|██████████████████████████████████████████████████████████▎                      | 72/100 [02:28<00:57,  2.06s/it]"
     ]
    },
    {
     "name": "stdout",
     "output_type": "stream",
     "text": [
      "row_sum: (30000,) -- row_sum_sum: 30000\n",
      "torch.Size([30000, 10])  --  torch.Size([30000, 10])\n",
      "torch.Size([30000, 10])  --  torch.Size([30000, 10])\n",
      "torch.Size([30000, 10])  --  torch.Size([30000, 10])\n",
      "key: train_loss -- value: 0.10674209892749786\n",
      "key: train_acc -- value: 0.970633327960968\n",
      "key: val_loss -- value: 0.15420065820217133\n",
      "key: val_acc -- value: 0.9550999999046326\n"
     ]
    },
    {
     "name": "stderr",
     "output_type": "stream",
     "text": [
      "\r",
      " 73%|███████████████████████████████████████████████████████████▏                     | 73/100 [02:30<00:55,  2.06s/it]"
     ]
    },
    {
     "name": "stdout",
     "output_type": "stream",
     "text": [
      "row_sum: (30000,) -- row_sum_sum: 30000\n",
      "torch.Size([30000, 10])  --  torch.Size([30000, 10])\n",
      "torch.Size([30000, 10])  --  torch.Size([30000, 10])\n",
      "torch.Size([30000, 10])  --  torch.Size([30000, 10])\n",
      "key: train_loss -- value: 0.10542699694633484\n",
      "key: train_acc -- value: 0.9710333347320557\n",
      "key: val_loss -- value: 0.1530262678861618\n",
      "key: val_acc -- value: 0.9554666876792908\n"
     ]
    },
    {
     "name": "stderr",
     "output_type": "stream",
     "text": [
      "\r",
      " 74%|███████████████████████████████████████████████████████████▉                     | 74/100 [02:32<00:53,  2.06s/it]"
     ]
    },
    {
     "name": "stdout",
     "output_type": "stream",
     "text": [
      "row_sum: (30000,) -- row_sum_sum: 30000\n",
      "torch.Size([30000, 10])  --  torch.Size([30000, 10])\n",
      "torch.Size([30000, 10])  --  torch.Size([30000, 10])\n",
      "torch.Size([30000, 10])  --  torch.Size([30000, 10])\n",
      "key: train_loss -- value: 0.104132741689682\n",
      "key: train_acc -- value: 0.9715666770935059\n",
      "key: val_loss -- value: 0.15193630754947662\n",
      "key: val_acc -- value: 0.9558333158493042\n"
     ]
    },
    {
     "name": "stderr",
     "output_type": "stream",
     "text": [
      "\r",
      " 75%|████████████████████████████████████████████████████████████▊                    | 75/100 [02:34<00:51,  2.06s/it]"
     ]
    },
    {
     "name": "stdout",
     "output_type": "stream",
     "text": [
      "row_sum: (30000,) -- row_sum_sum: 30000\n",
      "torch.Size([30000, 10])  --  torch.Size([30000, 10])\n",
      "torch.Size([30000, 10])  --  torch.Size([30000, 10])\n",
      "torch.Size([30000, 10])  --  torch.Size([30000, 10])\n",
      "key: train_loss -- value: 0.10287001729011536\n",
      "key: train_acc -- value: 0.9719333052635193\n",
      "key: val_loss -- value: 0.15092986822128296\n",
      "key: val_acc -- value: 0.9560999870300293\n"
     ]
    },
    {
     "name": "stderr",
     "output_type": "stream",
     "text": [
      "\r",
      " 76%|█████████████████████████████████████████████████████████████▌                   | 76/100 [02:36<00:49,  2.06s/it]"
     ]
    },
    {
     "name": "stdout",
     "output_type": "stream",
     "text": [
      "row_sum: (30000,) -- row_sum_sum: 30000\n",
      "torch.Size([30000, 10])  --  torch.Size([30000, 10])\n",
      "torch.Size([30000, 10])  --  torch.Size([30000, 10])\n",
      "torch.Size([30000, 10])  --  torch.Size([30000, 10])\n",
      "key: train_loss -- value: 0.1016356572508812\n",
      "key: train_acc -- value: 0.9724666476249695\n",
      "key: val_loss -- value: 0.14992709457874298\n",
      "key: val_acc -- value: 0.9567000269889832\n"
     ]
    },
    {
     "name": "stderr",
     "output_type": "stream",
     "text": [
      "\r",
      " 77%|██████████████████████████████████████████████████████████████▎                  | 77/100 [02:38<00:47,  2.06s/it]"
     ]
    },
    {
     "name": "stdout",
     "output_type": "stream",
     "text": [
      "row_sum: (30000,) -- row_sum_sum: 30000\n",
      "torch.Size([30000, 10])  --  torch.Size([30000, 10])\n",
      "torch.Size([30000, 10])  --  torch.Size([30000, 10])\n",
      "torch.Size([30000, 10])  --  torch.Size([30000, 10])\n",
      "key: train_loss -- value: 0.10041605681180954\n",
      "key: train_acc -- value: 0.9726666808128357\n",
      "key: val_loss -- value: 0.1488802582025528\n",
      "key: val_acc -- value: 0.9570000171661377\n"
     ]
    },
    {
     "name": "stderr",
     "output_type": "stream",
     "text": [
      "\r",
      " 78%|███████████████████████████████████████████████████████████████▏                 | 78/100 [02:40<00:45,  2.06s/it]"
     ]
    },
    {
     "name": "stdout",
     "output_type": "stream",
     "text": [
      "row_sum: (30000,) -- row_sum_sum: 30000\n",
      "torch.Size([30000, 10])  --  torch.Size([30000, 10])\n",
      "torch.Size([30000, 10])  --  torch.Size([30000, 10])\n",
      "torch.Size([30000, 10])  --  torch.Size([30000, 10])\n",
      "key: train_loss -- value: 0.09923310577869415\n",
      "key: train_acc -- value: 0.9731333255767822\n",
      "key: val_loss -- value: 0.14786435663700104\n",
      "key: val_acc -- value: 0.9572666883468628\n"
     ]
    },
    {
     "name": "stderr",
     "output_type": "stream",
     "text": [
      "\r",
      " 79%|███████████████████████████████████████████████████████████████▉                 | 79/100 [02:43<00:43,  2.06s/it]"
     ]
    },
    {
     "name": "stdout",
     "output_type": "stream",
     "text": [
      "row_sum: (30000,) -- row_sum_sum: 30000\n",
      "torch.Size([30000, 10])  --  torch.Size([30000, 10])\n",
      "torch.Size([30000, 10])  --  torch.Size([30000, 10])\n",
      "torch.Size([30000, 10])  --  torch.Size([30000, 10])\n",
      "key: train_loss -- value: 0.09806837886571884\n",
      "key: train_acc -- value: 0.9735000133514404\n",
      "key: val_loss -- value: 0.1469069868326187\n",
      "key: val_acc -- value: 0.9578333497047424\n"
     ]
    },
    {
     "name": "stderr",
     "output_type": "stream",
     "text": [
      "\r",
      " 80%|████████████████████████████████████████████████████████████████▊                | 80/100 [02:45<00:41,  2.06s/it]"
     ]
    },
    {
     "name": "stdout",
     "output_type": "stream",
     "text": [
      "row_sum: (30000,) -- row_sum_sum: 30000\n",
      "torch.Size([30000, 10])  --  torch.Size([30000, 10])\n",
      "torch.Size([30000, 10])  --  torch.Size([30000, 10])\n",
      "torch.Size([30000, 10])  --  torch.Size([30000, 10])\n",
      "key: train_loss -- value: 0.09692691266536713\n",
      "key: train_acc -- value: 0.9736666679382324\n",
      "key: val_loss -- value: 0.1460050642490387\n",
      "key: val_acc -- value: 0.9583666920661926\n"
     ]
    },
    {
     "name": "stderr",
     "output_type": "stream",
     "text": [
      "\r",
      " 81%|█████████████████████████████████████████████████████████████████▌               | 81/100 [02:47<00:39,  2.07s/it]"
     ]
    },
    {
     "name": "stdout",
     "output_type": "stream",
     "text": [
      "row_sum: (30000,) -- row_sum_sum: 30000\n",
      "torch.Size([30000, 10])  --  torch.Size([30000, 10])\n",
      "torch.Size([30000, 10])  --  torch.Size([30000, 10])\n",
      "torch.Size([30000, 10])  --  torch.Size([30000, 10])\n",
      "key: train_loss -- value: 0.09580802917480469\n",
      "key: train_acc -- value: 0.9741666913032532\n",
      "key: val_loss -- value: 0.14511486887931824\n",
      "key: val_acc -- value: 0.958466649055481\n"
     ]
    },
    {
     "name": "stderr",
     "output_type": "stream",
     "text": [
      "\r",
      " 82%|██████████████████████████████████████████████████████████████████▍              | 82/100 [02:49<00:37,  2.07s/it]"
     ]
    },
    {
     "name": "stdout",
     "output_type": "stream",
     "text": [
      "row_sum: (30000,) -- row_sum_sum: 30000\n",
      "torch.Size([30000, 10])  --  torch.Size([30000, 10])\n",
      "torch.Size([30000, 10])  --  torch.Size([30000, 10])\n",
      "torch.Size([30000, 10])  --  torch.Size([30000, 10])\n",
      "key: train_loss -- value: 0.09470772743225098\n",
      "key: train_acc -- value: 0.9745000004768372\n",
      "key: val_loss -- value: 0.14422257244586945\n",
      "key: val_acc -- value: 0.9588333368301392\n"
     ]
    },
    {
     "name": "stderr",
     "output_type": "stream",
     "text": [
      "\r",
      " 83%|███████████████████████████████████████████████████████████████████▏             | 83/100 [02:51<00:35,  2.07s/it]"
     ]
    },
    {
     "name": "stdout",
     "output_type": "stream",
     "text": [
      "row_sum: (30000,) -- row_sum_sum: 30000\n",
      "torch.Size([30000, 10])  --  torch.Size([30000, 10])\n",
      "torch.Size([30000, 10])  --  torch.Size([30000, 10])\n",
      "torch.Size([30000, 10])  --  torch.Size([30000, 10])\n",
      "key: train_loss -- value: 0.09363353997468948\n",
      "key: train_acc -- value: 0.9748333096504211\n",
      "key: val_loss -- value: 0.143369659781456\n",
      "key: val_acc -- value: 0.9589999914169312\n"
     ]
    },
    {
     "name": "stderr",
     "output_type": "stream",
     "text": [
      "\r",
      " 84%|████████████████████████████████████████████████████████████████████             | 84/100 [02:53<00:33,  2.07s/it]"
     ]
    },
    {
     "name": "stdout",
     "output_type": "stream",
     "text": [
      "row_sum: (30000,) -- row_sum_sum: 30000\n",
      "torch.Size([30000, 10])  --  torch.Size([30000, 10])\n",
      "torch.Size([30000, 10])  --  torch.Size([30000, 10])\n",
      "torch.Size([30000, 10])  --  torch.Size([30000, 10])\n",
      "key: train_loss -- value: 0.09257547557353973\n",
      "key: train_acc -- value: 0.9751666784286499\n",
      "key: val_loss -- value: 0.1425599902868271\n",
      "key: val_acc -- value: 0.9592999815940857\n"
     ]
    },
    {
     "name": "stderr",
     "output_type": "stream",
     "text": [
      "\r",
      " 85%|████████████████████████████████████████████████████████████████████▊            | 85/100 [02:55<00:31,  2.07s/it]"
     ]
    },
    {
     "name": "stdout",
     "output_type": "stream",
     "text": [
      "row_sum: (30000,) -- row_sum_sum: 30000\n",
      "torch.Size([30000, 10])  --  torch.Size([30000, 10])\n",
      "torch.Size([30000, 10])  --  torch.Size([30000, 10])\n",
      "torch.Size([30000, 10])  --  torch.Size([30000, 10])\n",
      "key: train_loss -- value: 0.09153685718774796\n",
      "key: train_acc -- value: 0.975433349609375\n",
      "key: val_loss -- value: 0.14177760481834412\n",
      "key: val_acc -- value: 0.9595000147819519\n"
     ]
    },
    {
     "name": "stderr",
     "output_type": "stream",
     "text": [
      "\r",
      " 86%|█████████████████████████████████████████████████████████████████████▋           | 86/100 [02:57<00:28,  2.07s/it]"
     ]
    },
    {
     "name": "stdout",
     "output_type": "stream",
     "text": [
      "row_sum: (30000,) -- row_sum_sum: 30000\n",
      "torch.Size([30000, 10])  --  torch.Size([30000, 10])\n",
      "torch.Size([30000, 10])  --  torch.Size([30000, 10])\n",
      "torch.Size([30000, 10])  --  torch.Size([30000, 10])\n",
      "key: train_loss -- value: 0.09051938354969025\n",
      "key: train_acc -- value: 0.975600004196167\n",
      "key: val_loss -- value: 0.14099198579788208\n",
      "key: val_acc -- value: 0.9596999883651733\n"
     ]
    },
    {
     "name": "stderr",
     "output_type": "stream",
     "text": [
      "\r",
      " 87%|██████████████████████████████████████████████████████████████████████▍          | 87/100 [03:00<00:26,  2.07s/it]"
     ]
    },
    {
     "name": "stdout",
     "output_type": "stream",
     "text": [
      "row_sum: (30000,) -- row_sum_sum: 30000\n",
      "torch.Size([30000, 10])  --  torch.Size([30000, 10])\n",
      "torch.Size([30000, 10])  --  torch.Size([30000, 10])\n",
      "torch.Size([30000, 10])  --  torch.Size([30000, 10])\n",
      "key: train_loss -- value: 0.08951796591281891\n",
      "key: train_acc -- value: 0.975933313369751\n",
      "key: val_loss -- value: 0.14020097255706787\n",
      "key: val_acc -- value: 0.9599000215530396\n"
     ]
    },
    {
     "name": "stderr",
     "output_type": "stream",
     "text": [
      "\r",
      " 88%|███████████████████████████████████████████████████████████████████████▎         | 88/100 [03:02<00:24,  2.07s/it]"
     ]
    },
    {
     "name": "stdout",
     "output_type": "stream",
     "text": [
      "row_sum: (30000,) -- row_sum_sum: 30000\n",
      "torch.Size([30000, 10])  --  torch.Size([30000, 10])\n",
      "torch.Size([30000, 10])  --  torch.Size([30000, 10])\n",
      "torch.Size([30000, 10])  --  torch.Size([30000, 10])\n",
      "key: train_loss -- value: 0.08853417634963989\n",
      "key: train_acc -- value: 0.9764999747276306\n",
      "key: val_loss -- value: 0.13943715393543243\n",
      "key: val_acc -- value: 0.9602333307266235\n"
     ]
    },
    {
     "name": "stderr",
     "output_type": "stream",
     "text": [
      "\r",
      " 89%|████████████████████████████████████████████████████████████████████████         | 89/100 [03:04<00:22,  2.07s/it]"
     ]
    },
    {
     "name": "stdout",
     "output_type": "stream",
     "text": [
      "row_sum: (30000,) -- row_sum_sum: 30000\n",
      "torch.Size([30000, 10])  --  torch.Size([30000, 10])\n",
      "torch.Size([30000, 10])  --  torch.Size([30000, 10])\n",
      "torch.Size([30000, 10])  --  torch.Size([30000, 10])\n",
      "key: train_loss -- value: 0.08756457269191742\n",
      "key: train_acc -- value: 0.9765999913215637\n",
      "key: val_loss -- value: 0.13871850073337555\n",
      "key: val_acc -- value: 0.9603666663169861\n"
     ]
    },
    {
     "name": "stderr",
     "output_type": "stream",
     "text": [
      "\r",
      " 90%|████████████████████████████████████████████████████████████████████████▉        | 90/100 [03:06<00:20,  2.07s/it]"
     ]
    },
    {
     "name": "stdout",
     "output_type": "stream",
     "text": [
      "row_sum: (30000,) -- row_sum_sum: 30000\n",
      "torch.Size([30000, 10])  --  torch.Size([30000, 10])\n",
      "torch.Size([30000, 10])  --  torch.Size([30000, 10])\n",
      "torch.Size([30000, 10])  --  torch.Size([30000, 10])\n",
      "key: train_loss -- value: 0.08661500364542007\n",
      "key: train_acc -- value: 0.9769333600997925\n",
      "key: val_loss -- value: 0.13802726566791534\n",
      "key: val_acc -- value: 0.9603999853134155\n"
     ]
    },
    {
     "name": "stderr",
     "output_type": "stream",
     "text": [
      "\r",
      " 91%|█████████████████████████████████████████████████████████████████████████▋       | 91/100 [03:08<00:18,  2.07s/it]"
     ]
    },
    {
     "name": "stdout",
     "output_type": "stream",
     "text": [
      "row_sum: (30000,) -- row_sum_sum: 30000\n",
      "torch.Size([30000, 10])  --  torch.Size([30000, 10])\n",
      "torch.Size([30000, 10])  --  torch.Size([30000, 10])\n",
      "torch.Size([30000, 10])  --  torch.Size([30000, 10])\n",
      "key: train_loss -- value: 0.08568207174539566\n",
      "key: train_acc -- value: 0.9771666526794434\n",
      "key: val_loss -- value: 0.13732977211475372\n",
      "key: val_acc -- value: 0.9606999754905701\n"
     ]
    },
    {
     "name": "stderr",
     "output_type": "stream",
     "text": [
      "\r",
      " 92%|██████████████████████████████████████████████████████████████████████████▌      | 92/100 [03:10<00:16,  2.07s/it]"
     ]
    },
    {
     "name": "stdout",
     "output_type": "stream",
     "text": [
      "row_sum: (30000,) -- row_sum_sum: 30000\n",
      "torch.Size([30000, 10])  --  torch.Size([30000, 10])\n",
      "torch.Size([30000, 10])  --  torch.Size([30000, 10])\n",
      "torch.Size([30000, 10])  --  torch.Size([30000, 10])\n",
      "key: train_loss -- value: 0.08476240932941437\n",
      "key: train_acc -- value: 0.9773666858673096\n",
      "key: val_loss -- value: 0.1366199105978012\n",
      "key: val_acc -- value: 0.9607999920845032\n"
     ]
    },
    {
     "name": "stderr",
     "output_type": "stream",
     "text": [
      "\r",
      " 93%|███████████████████████████████████████████████████████████████████████████▎     | 93/100 [03:13<00:14,  2.08s/it]"
     ]
    },
    {
     "name": "stdout",
     "output_type": "stream",
     "text": [
      "row_sum: (30000,) -- row_sum_sum: 30000\n",
      "torch.Size([30000, 10])  --  torch.Size([30000, 10])\n",
      "torch.Size([30000, 10])  --  torch.Size([30000, 10])\n",
      "torch.Size([30000, 10])  --  torch.Size([30000, 10])\n",
      "key: train_loss -- value: 0.08385977149009705\n",
      "key: train_acc -- value: 0.9775999784469604\n",
      "key: val_loss -- value: 0.1359204351902008\n",
      "key: val_acc -- value: 0.9610333442687988\n"
     ]
    },
    {
     "name": "stderr",
     "output_type": "stream",
     "text": [
      "\r",
      " 94%|████████████████████████████████████████████████████████████████████████████▏    | 94/100 [03:15<00:12,  2.08s/it]"
     ]
    },
    {
     "name": "stdout",
     "output_type": "stream",
     "text": [
      "row_sum: (30000,) -- row_sum_sum: 30000\n",
      "torch.Size([30000, 10])  --  torch.Size([30000, 10])\n",
      "torch.Size([30000, 10])  --  torch.Size([30000, 10])\n",
      "torch.Size([30000, 10])  --  torch.Size([30000, 10])\n",
      "key: train_loss -- value: 0.0829717144370079\n",
      "key: train_acc -- value: 0.9779000282287598\n",
      "key: val_loss -- value: 0.13525226712226868\n",
      "key: val_acc -- value: 0.9612333178520203\n"
     ]
    },
    {
     "name": "stderr",
     "output_type": "stream",
     "text": [
      "\r",
      " 95%|████████████████████████████████████████████████████████████████████████████▉    | 95/100 [03:17<00:10,  2.07s/it]"
     ]
    },
    {
     "name": "stdout",
     "output_type": "stream",
     "text": [
      "row_sum: (30000,) -- row_sum_sum: 30000\n",
      "torch.Size([30000, 10])  --  torch.Size([30000, 10])\n",
      "torch.Size([30000, 10])  --  torch.Size([30000, 10])\n",
      "torch.Size([30000, 10])  --  torch.Size([30000, 10])\n",
      "key: train_loss -- value: 0.08209873735904694\n",
      "key: train_acc -- value: 0.9781666398048401\n",
      "key: val_loss -- value: 0.134613499045372\n",
      "key: val_acc -- value: 0.9613999724388123\n"
     ]
    },
    {
     "name": "stderr",
     "output_type": "stream",
     "text": [
      "\r",
      " 96%|█████████████████████████████████████████████████████████████████████████████▊   | 96/100 [03:19<00:08,  2.07s/it]"
     ]
    },
    {
     "name": "stdout",
     "output_type": "stream",
     "text": [
      "row_sum: (30000,) -- row_sum_sum: 30000\n",
      "torch.Size([30000, 10])  --  torch.Size([30000, 10])\n",
      "torch.Size([30000, 10])  --  torch.Size([30000, 10])\n",
      "torch.Size([30000, 10])  --  torch.Size([30000, 10])\n",
      "key: train_loss -- value: 0.08124005049467087\n",
      "key: train_acc -- value: 0.9783666729927063\n",
      "key: val_loss -- value: 0.13398392498493195\n",
      "key: val_acc -- value: 0.961566686630249\n"
     ]
    },
    {
     "name": "stderr",
     "output_type": "stream",
     "text": [
      "\r",
      " 97%|██████████████████████████████████████████████████████████████████████████████▌  | 97/100 [03:21<00:06,  2.07s/it]"
     ]
    },
    {
     "name": "stdout",
     "output_type": "stream",
     "text": [
      "row_sum: (30000,) -- row_sum_sum: 30000\n",
      "torch.Size([30000, 10])  --  torch.Size([30000, 10])\n",
      "torch.Size([30000, 10])  --  torch.Size([30000, 10])\n",
      "torch.Size([30000, 10])  --  torch.Size([30000, 10])\n",
      "key: train_loss -- value: 0.08039393275976181\n",
      "key: train_acc -- value: 0.9785333275794983\n",
      "key: val_loss -- value: 0.13335372507572174\n",
      "key: val_acc -- value: 0.9617666602134705\n"
     ]
    },
    {
     "name": "stderr",
     "output_type": "stream",
     "text": [
      "\r",
      " 98%|███████████████████████████████████████████████████████████████████████████████▍ | 98/100 [03:23<00:04,  2.07s/it]"
     ]
    },
    {
     "name": "stdout",
     "output_type": "stream",
     "text": [
      "row_sum: (30000,) -- row_sum_sum: 30000\n",
      "torch.Size([30000, 10])  --  torch.Size([30000, 10])\n",
      "torch.Size([30000, 10])  --  torch.Size([30000, 10])\n",
      "torch.Size([30000, 10])  --  torch.Size([30000, 10])\n",
      "key: train_loss -- value: 0.0795627161860466\n",
      "key: train_acc -- value: 0.978766679763794\n",
      "key: val_loss -- value: 0.1327332854270935\n",
      "key: val_acc -- value: 0.961899995803833\n"
     ]
    },
    {
     "name": "stderr",
     "output_type": "stream",
     "text": [
      "\r",
      " 99%|████████████████████████████████████████████████████████████████████████████████▏| 99/100 [03:25<00:02,  2.07s/it]"
     ]
    },
    {
     "name": "stdout",
     "output_type": "stream",
     "text": [
      "row_sum: (30000,) -- row_sum_sum: 30000\n",
      "torch.Size([30000, 10])  --  torch.Size([30000, 10])\n",
      "torch.Size([30000, 10])  --  torch.Size([30000, 10])\n",
      "torch.Size([30000, 10])  --  torch.Size([30000, 10])\n",
      "key: train_loss -- value: 0.07874399423599243\n",
      "key: train_acc -- value: 0.978866696357727\n",
      "key: val_loss -- value: 0.13213083148002625\n",
      "key: val_acc -- value: 0.962066650390625\n"
     ]
    },
    {
     "name": "stderr",
     "output_type": "stream",
     "text": [
      "100%|████████████████████████████████████████████████████████████████████████████████| 100/100 [03:27<00:00,  2.07s/it]\n"
     ]
    },
    {
     "name": "stdout",
     "output_type": "stream",
     "text": [
      "torch.Size([10000, 10])  --  torch.Size([10000, 10])\n"
     ]
    }
   ],
   "source": [
    "model2, train2 = default_net(train_input, train_target, num_of_hidden_layers=1, loss='ce', num_of_neurons=(784, 500, 10), activation='relu', lr=0.1, momentum_coef=0.9, weight_decay=0.2, p_dropout=0.0, num_of_epochs=100, val_split=0.5, verbose=0)\n",
    "test2 = model2.evaluate(test_input, test_target, return_pred=True)"
   ]
  },
  {
   "cell_type": "code",
   "execution_count": 25,
   "metadata": {},
   "outputs": [
    {
     "data": {
      "image/png": "[encoded data removed]",
      "text/plain": [
       "<matplotlib.figure.Figure at 0x20616d01ba8>"
      ]
     },
     "execution_count": 25,
     "metadata": {},
     "output_type": "execute_result"
    }
   ],
   "source": [
    "plot_report(train2, title=\"Model 2\")"
   ]
  },
  {
   "cell_type": "code",
   "execution_count": 26,
   "metadata": {},
   "outputs": [
    {
     "data": {
      "text/plain": [
       "(tensor(0.9647), 0.11969974637031555, tensor([ 7,  2,  1,  ...,  4,  5,  6]))"
      ]
     },
     "execution_count": 26,
     "metadata": {},
     "output_type": "execute_result"
    }
   ],
   "source": [
    "test2"
   ]
  },
  {
   "cell_type": "code",
   "execution_count": 27,
   "metadata": {},
   "outputs": [
    {
     "name": "stdout",
     "output_type": "stream",
     "text": [
      "Added Module Name: 0_Linear \n",
      "Added Module Name: 1_ReLU \n",
      "Added Module Name: 2_Dropout \n",
      "Added Module Name: 3_Linear \n",
      "Added Module Name: 4_ReLU \n",
      "Added Module Name: 5_Dropout \n",
      "Added Module Name: 6_Linear \n",
      "Added Module Name: 7_Softmax \n",
      "x_train.shape: torch.Size([30000, 784]) -- y_train.shape: torch.Size([30000, 10])\n",
      "x_val.shape: torch.Size([30000, 784]) -- y_val.shape: torch.Size([30000, 10])\n"
     ]
    },
    {
     "name": "stderr",
     "output_type": "stream",
     "text": [
      "\r",
      "  0%|                                                                                          | 0/100 [00:00<?, ?it/s]"
     ]
    },
    {
     "name": "stdout",
     "output_type": "stream",
     "text": [
      "row_sum: (30000,) -- row_sum_sum: 30000\n",
      "torch.Size([30000, 10])  --  torch.Size([30000, 10])\n",
      "torch.Size([30000, 10])  --  torch.Size([30000, 10])\n",
      "torch.Size([30000, 10])  --  torch.Size([30000, 10])\n",
      "key: train_loss -- value: 2.191976308822632\n",
      "key: train_acc -- value: 0.23056666553020477\n",
      "key: val_loss -- value: 2.1914803981781006\n",
      "key: val_acc -- value: 0.23706667125225067\n"
     ]
    },
    {
     "name": "stderr",
     "output_type": "stream",
     "text": [
      "\r",
      "  1%|▊                                                                                 | 1/100 [00:02<04:18,  2.61s/it]"
     ]
    },
    {
     "name": "stdout",
     "output_type": "stream",
     "text": [
      "row_sum: (30000,) -- row_sum_sum: 30000\n",
      "torch.Size([30000, 10])  --  torch.Size([30000, 10])\n",
      "torch.Size([30000, 10])  --  torch.Size([30000, 10])\n",
      "torch.Size([30000, 10])  --  torch.Size([30000, 10])\n",
      "key: train_loss -- value: 2.002570390701294\n",
      "key: train_acc -- value: 0.5841666460037231\n",
      "key: val_loss -- value: 2.001519203186035\n",
      "key: val_acc -- value: 0.5816666483879089\n"
     ]
    },
    {
     "name": "stderr",
     "output_type": "stream",
     "text": [
      "\r",
      "  2%|█▋                                                                                | 2/100 [00:05<04:27,  2.73s/it]"
     ]
    },
    {
     "name": "stdout",
     "output_type": "stream",
     "text": [
      "row_sum: (30000,) -- row_sum_sum: 30000\n",
      "torch.Size([30000, 10])  --  torch.Size([30000, 10])\n",
      "torch.Size([30000, 10])  --  torch.Size([30000, 10])\n",
      "torch.Size([30000, 10])  --  torch.Size([30000, 10])\n",
      "key: train_loss -- value: 1.7538825273513794\n",
      "key: train_acc -- value: 0.6735000014305115\n",
      "key: val_loss -- value: 1.751596212387085\n",
      "key: val_acc -- value: 0.6684333086013794\n"
     ]
    },
    {
     "name": "stderr",
     "output_type": "stream",
     "text": [
      "\r",
      "  3%|██▍                                                                               | 3/100 [00:08<04:26,  2.74s/it]"
     ]
    },
    {
     "name": "stdout",
     "output_type": "stream",
     "text": [
      "row_sum: (30000,) -- row_sum_sum: 30000\n",
      "torch.Size([30000, 10])  --  torch.Size([30000, 10])\n",
      "torch.Size([30000, 10])  --  torch.Size([30000, 10])\n",
      "torch.Size([30000, 10])  --  torch.Size([30000, 10])\n",
      "key: train_loss -- value: 1.429075837135315\n",
      "key: train_acc -- value: 0.7142333388328552\n",
      "key: val_loss -- value: 1.4247496128082275\n",
      "key: val_acc -- value: 0.7123666405677795\n"
     ]
    },
    {
     "name": "stderr",
     "output_type": "stream",
     "text": [
      "\r",
      "  4%|███▎                                                                              | 4/100 [00:11<04:25,  2.76s/it]"
     ]
    },
    {
     "name": "stdout",
     "output_type": "stream",
     "text": [
      "row_sum: (30000,) -- row_sum_sum: 30000\n",
      "torch.Size([30000, 10])  --  torch.Size([30000, 10])\n",
      "torch.Size([30000, 10])  --  torch.Size([30000, 10])\n",
      "torch.Size([30000, 10])  --  torch.Size([30000, 10])\n",
      "key: train_loss -- value: 1.0845941305160522\n",
      "key: train_acc -- value: 0.7405999898910522\n",
      "key: val_loss -- value: 1.0787999629974365\n",
      "key: val_acc -- value: 0.7416666746139526\n"
     ]
    },
    {
     "name": "stderr",
     "output_type": "stream",
     "text": [
      "\r",
      "  5%|████                                                                              | 5/100 [00:13<04:22,  2.77s/it]"
     ]
    },
    {
     "name": "stdout",
     "output_type": "stream",
     "text": [
      "row_sum: (30000,) -- row_sum_sum: 30000\n",
      "torch.Size([30000, 10])  --  torch.Size([30000, 10])\n",
      "torch.Size([30000, 10])  --  torch.Size([30000, 10])\n",
      "torch.Size([30000, 10])  --  torch.Size([30000, 10])\n",
      "key: train_loss -- value: 0.8004594445228577\n",
      "key: train_acc -- value: 0.7956666946411133\n",
      "key: val_loss -- value: 0.7973894476890564\n",
      "key: val_acc -- value: 0.793833315372467\n"
     ]
    },
    {
     "name": "stderr",
     "output_type": "stream",
     "text": [
      "\r",
      "  6%|████▉                                                                             | 6/100 [00:16<04:19,  2.76s/it]"
     ]
    },
    {
     "name": "stdout",
     "output_type": "stream",
     "text": [
      "row_sum: (30000,) -- row_sum_sum: 30000\n",
      "torch.Size([30000, 10])  --  torch.Size([30000, 10])\n",
      "torch.Size([30000, 10])  --  torch.Size([30000, 10])\n",
      "torch.Size([30000, 10])  --  torch.Size([30000, 10])\n",
      "key: train_loss -- value: 0.6628000736236572\n",
      "key: train_acc -- value: 0.8052999973297119\n",
      "key: val_loss -- value: 0.6668705344200134\n",
      "key: val_acc -- value: 0.8032333254814148\n"
     ]
    },
    {
     "name": "stderr",
     "output_type": "stream",
     "text": [
      "\r",
      "  7%|█████▋                                                                            | 7/100 [00:19<04:14,  2.74s/it]"
     ]
    },
    {
     "name": "stdout",
     "output_type": "stream",
     "text": [
      "row_sum: (30000,) -- row_sum_sum: 30000\n",
      "torch.Size([30000, 10])  --  torch.Size([30000, 10])\n",
      "torch.Size([30000, 10])  --  torch.Size([30000, 10])\n",
      "torch.Size([30000, 10])  --  torch.Size([30000, 10])\n",
      "key: train_loss -- value: 0.6349551677703857\n",
      "key: train_acc -- value: 0.7857000231742859\n",
      "key: val_loss -- value: 0.6355723738670349\n",
      "key: val_acc -- value: 0.7878000140190125\n"
     ]
    },
    {
     "name": "stderr",
     "output_type": "stream",
     "text": [
      "\r",
      "  8%|██████▌                                                                           | 8/100 [00:22<04:14,  2.76s/it]"
     ]
    },
    {
     "name": "stdout",
     "output_type": "stream",
     "text": [
      "row_sum: (30000,) -- row_sum_sum: 30000\n",
      "torch.Size([30000, 10])  --  torch.Size([30000, 10])\n",
      "torch.Size([30000, 10])  --  torch.Size([30000, 10])\n",
      "torch.Size([30000, 10])  --  torch.Size([30000, 10])\n",
      "key: train_loss -- value: 0.7002052664756775\n",
      "key: train_acc -- value: 0.7590000033378601\n",
      "key: val_loss -- value: 0.7203881144523621\n",
      "key: val_acc -- value: 0.7518333196640015\n"
     ]
    },
    {
     "name": "stderr",
     "output_type": "stream",
     "text": [
      "\r",
      "  9%|███████▍                                                                          | 9/100 [00:24<04:10,  2.75s/it]"
     ]
    },
    {
     "name": "stdout",
     "output_type": "stream",
     "text": [
      "row_sum: (30000,) -- row_sum_sum: 30000\n",
      "torch.Size([30000, 10])  --  torch.Size([30000, 10])\n",
      "torch.Size([30000, 10])  --  torch.Size([30000, 10])\n",
      "torch.Size([30000, 10])  --  torch.Size([30000, 10])\n",
      "key: train_loss -- value: 1.7197661399841309\n",
      "key: train_acc -- value: 0.6852333545684814\n",
      "key: val_loss -- value: 1.692611575126648\n",
      "key: val_acc -- value: 0.6898999810218811\n"
     ]
    },
    {
     "name": "stderr",
     "output_type": "stream",
     "text": [
      "\r",
      " 10%|████████                                                                         | 10/100 [00:27<04:07,  2.75s/it]"
     ]
    },
    {
     "name": "stdout",
     "output_type": "stream",
     "text": [
      "row_sum: (30000,) -- row_sum_sum: 30000\n",
      "torch.Size([30000, 10])  --  torch.Size([30000, 10])\n",
      "torch.Size([30000, 10])  --  torch.Size([30000, 10])\n",
      "torch.Size([30000, 10])  --  torch.Size([30000, 10])\n",
      "key: train_loss -- value: 2.4452383518218994\n",
      "key: train_acc -- value: 0.6153333187103271\n",
      "key: val_loss -- value: 2.446154832839966\n",
      "key: val_acc -- value: 0.6198999881744385\n"
     ]
    },
    {
     "name": "stderr",
     "output_type": "stream",
     "text": [
      "\r",
      " 11%|████████▉                                                                        | 11/100 [00:30<04:02,  2.73s/it]"
     ]
    },
    {
     "name": "stdout",
     "output_type": "stream",
     "text": [
      "row_sum: (30000,) -- row_sum_sum: 30000\n",
      "torch.Size([30000, 10])  --  torch.Size([30000, 10])\n",
      "torch.Size([30000, 10])  --  torch.Size([30000, 10])\n",
      "torch.Size([30000, 10])  --  torch.Size([30000, 10])\n",
      "key: train_loss -- value: 3.44488525390625\n",
      "key: train_acc -- value: 0.540233314037323\n",
      "key: val_loss -- value: 3.5622363090515137\n",
      "key: val_acc -- value: 0.5313000082969666\n"
     ]
    },
    {
     "name": "stderr",
     "output_type": "stream",
     "text": [
      "\r",
      " 12%|█████████▋                                                                       | 12/100 [00:32<03:59,  2.72s/it]"
     ]
    },
    {
     "name": "stdout",
     "output_type": "stream",
     "text": [
      "row_sum: (30000,) -- row_sum_sum: 30000\n",
      "torch.Size([30000, 10])  --  torch.Size([30000, 10])\n",
      "torch.Size([30000, 10])  --  torch.Size([30000, 10])\n",
      "torch.Size([30000, 10])  --  torch.Size([30000, 10])\n",
      "key: train_loss -- value: 1.5987296104431152\n",
      "key: train_acc -- value: 0.6129000186920166\n",
      "key: val_loss -- value: 1.6010736227035522\n",
      "key: val_acc -- value: 0.6107666492462158\n"
     ]
    },
    {
     "name": "stderr",
     "output_type": "stream",
     "text": [
      "\r",
      " 13%|██████████▌                                                                      | 13/100 [00:35<03:56,  2.72s/it]"
     ]
    },
    {
     "name": "stdout",
     "output_type": "stream",
     "text": [
      "row_sum: (30000,) -- row_sum_sum: 30000\n",
      "torch.Size([30000, 10])  --  torch.Size([30000, 10])\n",
      "torch.Size([30000, 10])  --  torch.Size([30000, 10])\n",
      "torch.Size([30000, 10])  --  torch.Size([30000, 10])\n",
      "key: train_loss -- value: 0.8749889731407166\n",
      "key: train_acc -- value: 0.7185333371162415\n",
      "key: val_loss -- value: 0.8679150938987732\n",
      "key: val_acc -- value: 0.7201333045959473\n"
     ]
    },
    {
     "name": "stderr",
     "output_type": "stream",
     "text": [
      "\r",
      " 14%|███████████▎                                                                     | 14/100 [00:38<03:54,  2.72s/it]"
     ]
    },
    {
     "name": "stdout",
     "output_type": "stream",
     "text": [
      "row_sum: (30000,) -- row_sum_sum: 30000\n",
      "torch.Size([30000, 10])  --  torch.Size([30000, 10])\n",
      "torch.Size([30000, 10])  --  torch.Size([30000, 10])\n",
      "torch.Size([30000, 10])  --  torch.Size([30000, 10])\n",
      "key: train_loss -- value: 1.0080420970916748\n",
      "key: train_acc -- value: 0.666866660118103\n",
      "key: val_loss -- value: 0.9983032941818237\n",
      "key: val_acc -- value: 0.6777333617210388\n"
     ]
    },
    {
     "name": "stderr",
     "output_type": "stream",
     "text": [
      "\r",
      " 15%|████████████▏                                                                    | 15/100 [00:41<03:52,  2.74s/it]"
     ]
    },
    {
     "name": "stdout",
     "output_type": "stream",
     "text": [
      "row_sum: (30000,) -- row_sum_sum: 30000\n",
      "torch.Size([30000, 10])  --  torch.Size([30000, 10])\n",
      "torch.Size([30000, 10])  --  torch.Size([30000, 10])\n",
      "torch.Size([30000, 10])  --  torch.Size([30000, 10])\n",
      "key: train_loss -- value: 1.0701385736465454\n",
      "key: train_acc -- value: 0.7014999985694885\n",
      "key: val_loss -- value: 1.0601285696029663\n",
      "key: val_acc -- value: 0.708133339881897\n"
     ]
    },
    {
     "name": "stderr",
     "output_type": "stream",
     "text": [
      "\r",
      " 16%|████████████▉                                                                    | 16/100 [00:43<03:50,  2.75s/it]"
     ]
    },
    {
     "name": "stdout",
     "output_type": "stream",
     "text": [
      "row_sum: (30000,) -- row_sum_sum: 30000\n",
      "torch.Size([30000, 10])  --  torch.Size([30000, 10])\n",
      "torch.Size([30000, 10])  --  torch.Size([30000, 10])\n",
      "torch.Size([30000, 10])  --  torch.Size([30000, 10])\n",
      "key: train_loss -- value: 1.0394046306610107\n",
      "key: train_acc -- value: 0.7194666862487793\n",
      "key: val_loss -- value: 1.030280590057373\n",
      "key: val_acc -- value: 0.7201333045959473\n"
     ]
    },
    {
     "name": "stderr",
     "output_type": "stream",
     "text": [
      "\r",
      " 17%|█████████████▊                                                                   | 17/100 [00:46<03:48,  2.76s/it]"
     ]
    },
    {
     "name": "stdout",
     "output_type": "stream",
     "text": [
      "row_sum: (30000,) -- row_sum_sum: 30000\n",
      "torch.Size([30000, 10])  --  torch.Size([30000, 10])\n",
      "torch.Size([30000, 10])  --  torch.Size([30000, 10])\n",
      "torch.Size([30000, 10])  --  torch.Size([30000, 10])\n",
      "key: train_loss -- value: 0.887733519077301\n",
      "key: train_acc -- value: 0.7381666898727417\n",
      "key: val_loss -- value: 0.880277156829834\n",
      "key: val_acc -- value: 0.7414000034332275\n"
     ]
    },
    {
     "name": "stderr",
     "output_type": "stream",
     "text": [
      "\r",
      " 18%|██████████████▌                                                                  | 18/100 [00:49<03:46,  2.77s/it]"
     ]
    },
    {
     "name": "stdout",
     "output_type": "stream",
     "text": [
      "row_sum: (30000,) -- row_sum_sum: 30000\n",
      "torch.Size([30000, 10])  --  torch.Size([30000, 10])\n",
      "torch.Size([30000, 10])  --  torch.Size([30000, 10])\n",
      "torch.Size([30000, 10])  --  torch.Size([30000, 10])\n",
      "key: train_loss -- value: 0.6686984896659851\n",
      "key: train_acc -- value: 0.7875333428382874\n",
      "key: val_loss -- value: 0.6634787321090698\n",
      "key: val_acc -- value: 0.7893333435058594\n"
     ]
    },
    {
     "name": "stderr",
     "output_type": "stream",
     "text": [
      "\r",
      " 19%|███████████████▍                                                                 | 19/100 [00:52<03:44,  2.77s/it]"
     ]
    },
    {
     "name": "stdout",
     "output_type": "stream",
     "text": [
      "row_sum: (30000,) -- row_sum_sum: 30000\n",
      "torch.Size([30000, 10])  --  torch.Size([30000, 10])\n",
      "torch.Size([30000, 10])  --  torch.Size([30000, 10])\n",
      "torch.Size([30000, 10])  --  torch.Size([30000, 10])\n",
      "key: train_loss -- value: 0.5258345007896423\n",
      "key: train_acc -- value: 0.8248000144958496\n",
      "key: val_loss -- value: 0.5226687788963318\n",
      "key: val_acc -- value: 0.8275333046913147\n"
     ]
    },
    {
     "name": "stderr",
     "output_type": "stream",
     "text": [
      "\r",
      " 20%|████████████████▏                                                                | 20/100 [00:55<03:42,  2.78s/it]"
     ]
    },
    {
     "name": "stdout",
     "output_type": "stream",
     "text": [
      "row_sum: (30000,) -- row_sum_sum: 30000\n",
      "torch.Size([30000, 10])  --  torch.Size([30000, 10])\n",
      "torch.Size([30000, 10])  --  torch.Size([30000, 10])\n",
      "torch.Size([30000, 10])  --  torch.Size([30000, 10])\n",
      "key: train_loss -- value: 0.4750177264213562\n",
      "key: train_acc -- value: 0.8537333607673645\n",
      "key: val_loss -- value: 0.4786387085914612\n",
      "key: val_acc -- value: 0.852566659450531\n"
     ]
    },
    {
     "name": "stderr",
     "output_type": "stream",
     "text": [
      "\r",
      " 21%|█████████████████                                                                | 21/100 [00:58<03:40,  2.79s/it]"
     ]
    },
    {
     "name": "stdout",
     "output_type": "stream",
     "text": [
      "row_sum: (30000,) -- row_sum_sum: 30000\n",
      "torch.Size([30000, 10])  --  torch.Size([30000, 10])\n",
      "torch.Size([30000, 10])  --  torch.Size([30000, 10])\n",
      "torch.Size([30000, 10])  --  torch.Size([30000, 10])\n",
      "key: train_loss -- value: 0.4740752875804901\n",
      "key: train_acc -- value: 0.8581666946411133\n",
      "key: val_loss -- value: 0.4853855073451996\n",
      "key: val_acc -- value: 0.8543333411216736\n"
     ]
    },
    {
     "name": "stderr",
     "output_type": "stream",
     "text": [
      "\r",
      " 22%|█████████████████▊                                                               | 22/100 [01:01<03:37,  2.79s/it]"
     ]
    },
    {
     "name": "stdout",
     "output_type": "stream",
     "text": [
      "row_sum: (30000,) -- row_sum_sum: 30000\n",
      "torch.Size([30000, 10])  --  torch.Size([30000, 10])\n",
      "torch.Size([30000, 10])  --  torch.Size([30000, 10])\n",
      "torch.Size([30000, 10])  --  torch.Size([30000, 10])\n",
      "key: train_loss -- value: 0.4911351501941681\n",
      "key: train_acc -- value: 0.8544666767120361\n",
      "key: val_loss -- value: 0.5045470595359802\n",
      "key: val_acc -- value: 0.8491666913032532\n"
     ]
    },
    {
     "name": "stderr",
     "output_type": "stream",
     "text": [
      "\r",
      " 23%|██████████████████▋                                                              | 23/100 [01:04<03:35,  2.79s/it]"
     ]
    },
    {
     "name": "stdout",
     "output_type": "stream",
     "text": [
      "row_sum: (30000,) -- row_sum_sum: 30000\n",
      "torch.Size([30000, 10])  --  torch.Size([30000, 10])\n",
      "torch.Size([30000, 10])  --  torch.Size([30000, 10])\n",
      "torch.Size([30000, 10])  --  torch.Size([30000, 10])\n",
      "key: train_loss -- value: 0.43129590153694153\n",
      "key: train_acc -- value: 0.8784000277519226\n",
      "key: val_loss -- value: 0.43892380595207214\n",
      "key: val_acc -- value: 0.8742666840553284\n"
     ]
    },
    {
     "name": "stderr",
     "output_type": "stream",
     "text": [
      "\r",
      " 24%|███████████████████▍                                                             | 24/100 [01:07<03:32,  2.80s/it]"
     ]
    },
    {
     "name": "stdout",
     "output_type": "stream",
     "text": [
      "row_sum: (30000,) -- row_sum_sum: 30000\n",
      "torch.Size([30000, 10])  --  torch.Size([30000, 10])\n",
      "torch.Size([30000, 10])  --  torch.Size([30000, 10])\n",
      "torch.Size([30000, 10])  --  torch.Size([30000, 10])\n",
      "key: train_loss -- value: 0.4110245406627655\n",
      "key: train_acc -- value: 0.8892333507537842\n",
      "key: val_loss -- value: 0.41305458545684814\n",
      "key: val_acc -- value: 0.887066662311554\n"
     ]
    },
    {
     "name": "stderr",
     "output_type": "stream",
     "text": [
      "\r",
      " 25%|████████████████████▎                                                            | 25/100 [01:09<03:29,  2.80s/it]"
     ]
    },
    {
     "name": "stdout",
     "output_type": "stream",
     "text": [
      "row_sum: (30000,) -- row_sum_sum: 30000\n",
      "torch.Size([30000, 10])  --  torch.Size([30000, 10])\n",
      "torch.Size([30000, 10])  --  torch.Size([30000, 10])\n",
      "torch.Size([30000, 10])  --  torch.Size([30000, 10])\n",
      "key: train_loss -- value: 0.423337459564209\n",
      "key: train_acc -- value: 0.8879666924476624\n",
      "key: val_loss -- value: 0.4241812825202942\n",
      "key: val_acc -- value: 0.8861333131790161\n"
     ]
    },
    {
     "name": "stderr",
     "output_type": "stream",
     "text": [
      "\r",
      " 26%|█████████████████████                                                            | 26/100 [01:13<03:28,  2.81s/it]"
     ]
    },
    {
     "name": "stdout",
     "output_type": "stream",
     "text": [
      "row_sum: (30000,) -- row_sum_sum: 30000\n",
      "torch.Size([30000, 10])  --  torch.Size([30000, 10])\n",
      "torch.Size([30000, 10])  --  torch.Size([30000, 10])\n",
      "torch.Size([30000, 10])  --  torch.Size([30000, 10])\n",
      "key: train_loss -- value: 0.4130024313926697\n",
      "key: train_acc -- value: 0.8932333588600159\n",
      "key: val_loss -- value: 0.4167814552783966\n",
      "key: val_acc -- value: 0.8909333348274231\n"
     ]
    },
    {
     "name": "stderr",
     "output_type": "stream",
     "text": [
      "\r",
      " 27%|█████████████████████▊                                                           | 27/100 [01:16<03:26,  2.83s/it]"
     ]
    },
    {
     "name": "stdout",
     "output_type": "stream",
     "text": [
      "row_sum: (30000,) -- row_sum_sum: 30000\n",
      "torch.Size([30000, 10])  --  torch.Size([30000, 10])\n",
      "torch.Size([30000, 10])  --  torch.Size([30000, 10])\n",
      "torch.Size([30000, 10])  --  torch.Size([30000, 10])\n",
      "key: train_loss -- value: 0.38364478945732117\n",
      "key: train_acc -- value: 0.8984666466712952\n",
      "key: val_loss -- value: 0.3906434178352356\n",
      "key: val_acc -- value: 0.8964999914169312\n"
     ]
    },
    {
     "name": "stderr",
     "output_type": "stream",
     "text": [
      "\r",
      " 28%|██████████████████████▋                                                          | 28/100 [01:19<03:24,  2.84s/it]"
     ]
    },
    {
     "name": "stdout",
     "output_type": "stream",
     "text": [
      "row_sum: (30000,) -- row_sum_sum: 30000\n",
      "torch.Size([30000, 10])  --  torch.Size([30000, 10])\n",
      "torch.Size([30000, 10])  --  torch.Size([30000, 10])\n",
      "torch.Size([30000, 10])  --  torch.Size([30000, 10])\n",
      "key: train_loss -- value: 0.3585220277309418\n",
      "key: train_acc -- value: 0.9028666615486145\n",
      "key: val_loss -- value: 0.36830905079841614\n",
      "key: val_acc -- value: 0.8995000123977661\n"
     ]
    },
    {
     "name": "stderr",
     "output_type": "stream",
     "text": [
      "\r",
      " 29%|███████████████████████▍                                                         | 29/100 [01:22<03:21,  2.84s/it]"
     ]
    },
    {
     "name": "stdout",
     "output_type": "stream",
     "text": [
      "row_sum: (30000,) -- row_sum_sum: 30000\n",
      "torch.Size([30000, 10])  --  torch.Size([30000, 10])\n",
      "torch.Size([30000, 10])  --  torch.Size([30000, 10])\n",
      "torch.Size([30000, 10])  --  torch.Size([30000, 10])\n",
      "key: train_loss -- value: 0.3405168056488037\n",
      "key: train_acc -- value: 0.9057999849319458\n",
      "key: val_loss -- value: 0.35194137692451477\n",
      "key: val_acc -- value: 0.9031333327293396\n"
     ]
    },
    {
     "name": "stderr",
     "output_type": "stream",
     "text": [
      "\r",
      " 30%|████████████████████████▎                                                        | 30/100 [01:25<03:18,  2.84s/it]"
     ]
    },
    {
     "name": "stdout",
     "output_type": "stream",
     "text": [
      "row_sum: (30000,) -- row_sum_sum: 30000\n",
      "torch.Size([30000, 10])  --  torch.Size([30000, 10])\n",
      "torch.Size([30000, 10])  --  torch.Size([30000, 10])\n",
      "torch.Size([30000, 10])  --  torch.Size([30000, 10])\n",
      "key: train_loss -- value: 0.3273804485797882\n",
      "key: train_acc -- value: 0.9068999886512756\n",
      "key: val_loss -- value: 0.33755674958229065\n",
      "key: val_acc -- value: 0.9045000076293945\n"
     ]
    },
    {
     "name": "stderr",
     "output_type": "stream",
     "text": [
      "\r",
      " 31%|█████████████████████████                                                        | 31/100 [01:28<03:16,  2.85s/it]"
     ]
    },
    {
     "name": "stdout",
     "output_type": "stream",
     "text": [
      "row_sum: (30000,) -- row_sum_sum: 30000\n",
      "torch.Size([30000, 10])  --  torch.Size([30000, 10])\n",
      "torch.Size([30000, 10])  --  torch.Size([30000, 10])\n",
      "torch.Size([30000, 10])  --  torch.Size([30000, 10])\n",
      "key: train_loss -- value: 0.3072693645954132\n",
      "key: train_acc -- value: 0.9120000004768372\n",
      "key: val_loss -- value: 0.31500443816185\n",
      "key: val_acc -- value: 0.9093000292778015\n"
     ]
    },
    {
     "name": "stderr",
     "output_type": "stream",
     "text": [
      "\r",
      " 32%|█████████████████████████▉                                                       | 32/100 [01:31<03:14,  2.86s/it]"
     ]
    },
    {
     "name": "stdout",
     "output_type": "stream",
     "text": [
      "row_sum: (30000,) -- row_sum_sum: 30000\n",
      "torch.Size([30000, 10])  --  torch.Size([30000, 10])\n",
      "torch.Size([30000, 10])  --  torch.Size([30000, 10])\n",
      "torch.Size([30000, 10])  --  torch.Size([30000, 10])\n",
      "key: train_loss -- value: 0.2862773537635803\n",
      "key: train_acc -- value: 0.9186333417892456\n",
      "key: val_loss -- value: 0.29231515526771545\n",
      "key: val_acc -- value: 0.9160666465759277\n"
     ]
    },
    {
     "name": "stderr",
     "output_type": "stream",
     "text": [
      "\r",
      " 33%|██████████████████████████▋                                                      | 33/100 [01:34<03:12,  2.87s/it]"
     ]
    },
    {
     "name": "stdout",
     "output_type": "stream",
     "text": [
      "row_sum: (30000,) -- row_sum_sum: 30000\n",
      "torch.Size([30000, 10])  --  torch.Size([30000, 10])\n",
      "torch.Size([30000, 10])  --  torch.Size([30000, 10])\n",
      "torch.Size([30000, 10])  --  torch.Size([30000, 10])\n",
      "key: train_loss -- value: 0.2769148051738739\n",
      "key: train_acc -- value: 0.9202333092689514\n",
      "key: val_loss -- value: 0.28236278891563416\n",
      "key: val_acc -- value: 0.919700026512146\n"
     ]
    },
    {
     "name": "stderr",
     "output_type": "stream",
     "text": [
      "\r",
      " 34%|███████████████████████████▌                                                     | 34/100 [01:38<03:10,  2.88s/it]"
     ]
    },
    {
     "name": "stdout",
     "output_type": "stream",
     "text": [
      "row_sum: (30000,) -- row_sum_sum: 30000\n",
      "torch.Size([30000, 10])  --  torch.Size([30000, 10])\n",
      "torch.Size([30000, 10])  --  torch.Size([30000, 10])\n",
      "torch.Size([30000, 10])  --  torch.Size([30000, 10])\n",
      "key: train_loss -- value: 0.2691294848918915\n",
      "key: train_acc -- value: 0.9223333597183228\n",
      "key: val_loss -- value: 0.27499035000801086\n",
      "key: val_acc -- value: 0.9212333559989929\n"
     ]
    },
    {
     "name": "stderr",
     "output_type": "stream",
     "text": [
      "\r",
      " 35%|████████████████████████████▎                                                    | 35/100 [01:41<03:07,  2.89s/it]"
     ]
    },
    {
     "name": "stdout",
     "output_type": "stream",
     "text": [
      "row_sum: (30000,) -- row_sum_sum: 30000\n",
      "torch.Size([30000, 10])  --  torch.Size([30000, 10])\n",
      "torch.Size([30000, 10])  --  torch.Size([30000, 10])\n",
      "torch.Size([30000, 10])  --  torch.Size([30000, 10])\n",
      "key: train_loss -- value: 0.2576848566532135\n",
      "key: train_acc -- value: 0.925000011920929\n",
      "key: val_loss -- value: 0.26471665501594543\n",
      "key: val_acc -- value: 0.9236999750137329\n"
     ]
    },
    {
     "name": "stderr",
     "output_type": "stream",
     "text": [
      "\r",
      " 36%|█████████████████████████████▏                                                   | 36/100 [01:44<03:05,  2.90s/it]"
     ]
    },
    {
     "name": "stdout",
     "output_type": "stream",
     "text": [
      "row_sum: (30000,) -- row_sum_sum: 30000\n",
      "torch.Size([30000, 10])  --  torch.Size([30000, 10])\n",
      "torch.Size([30000, 10])  --  torch.Size([30000, 10])\n",
      "torch.Size([30000, 10])  --  torch.Size([30000, 10])\n",
      "key: train_loss -- value: 0.24784836173057556\n",
      "key: train_acc -- value: 0.9276000261306763\n",
      "key: val_loss -- value: 0.2563169300556183\n",
      "key: val_acc -- value: 0.9257000088691711\n"
     ]
    },
    {
     "name": "stderr",
     "output_type": "stream",
     "text": [
      "\r",
      " 37%|█████████████████████████████▉                                                   | 37/100 [01:47<03:02,  2.90s/it]"
     ]
    },
    {
     "name": "stdout",
     "output_type": "stream",
     "text": [
      "row_sum: (30000,) -- row_sum_sum: 30000\n",
      "torch.Size([30000, 10])  --  torch.Size([30000, 10])\n",
      "torch.Size([30000, 10])  --  torch.Size([30000, 10])\n",
      "torch.Size([30000, 10])  --  torch.Size([30000, 10])\n",
      "key: train_loss -- value: 0.24046708643436432\n",
      "key: train_acc -- value: 0.9299666881561279\n",
      "key: val_loss -- value: 0.2500150799751282\n",
      "key: val_acc -- value: 0.926800012588501\n"
     ]
    },
    {
     "name": "stderr",
     "output_type": "stream",
     "text": [
      "\r",
      " 38%|██████████████████████████████▊                                                  | 38/100 [01:50<02:59,  2.90s/it]"
     ]
    },
    {
     "name": "stdout",
     "output_type": "stream",
     "text": [
      "row_sum: (30000,) -- row_sum_sum: 30000\n",
      "torch.Size([30000, 10])  --  torch.Size([30000, 10])\n",
      "torch.Size([30000, 10])  --  torch.Size([30000, 10])\n",
      "torch.Size([30000, 10])  --  torch.Size([30000, 10])\n",
      "key: train_loss -- value: 0.2332942634820938\n",
      "key: train_acc -- value: 0.932533323764801\n",
      "key: val_loss -- value: 0.24373789131641388\n",
      "key: val_acc -- value: 0.9278666377067566\n"
     ]
    },
    {
     "name": "stderr",
     "output_type": "stream",
     "text": [
      "\r",
      " 39%|███████████████████████████████▌                                                 | 39/100 [01:53<02:57,  2.90s/it]"
     ]
    },
    {
     "name": "stdout",
     "output_type": "stream",
     "text": [
      "row_sum: (30000,) -- row_sum_sum: 30000\n",
      "torch.Size([30000, 10])  --  torch.Size([30000, 10])\n",
      "torch.Size([30000, 10])  --  torch.Size([30000, 10])\n",
      "torch.Size([30000, 10])  --  torch.Size([30000, 10])\n",
      "key: train_loss -- value: 0.22645938396453857\n",
      "key: train_acc -- value: 0.9321666955947876\n",
      "key: val_loss -- value: 0.2378651201725006\n",
      "key: val_acc -- value: 0.9298666715621948\n"
     ]
    },
    {
     "name": "stderr",
     "output_type": "stream",
     "text": [
      "\r",
      " 40%|████████████████████████████████▍                                                | 40/100 [01:56<02:54,  2.90s/it]"
     ]
    },
    {
     "name": "stdout",
     "output_type": "stream",
     "text": [
      "row_sum: (30000,) -- row_sum_sum: 30000\n",
      "torch.Size([30000, 10])  --  torch.Size([30000, 10])\n",
      "torch.Size([30000, 10])  --  torch.Size([30000, 10])\n",
      "torch.Size([30000, 10])  --  torch.Size([30000, 10])\n",
      "key: train_loss -- value: 0.21840481460094452\n",
      "key: train_acc -- value: 0.9347333312034607\n",
      "key: val_loss -- value: 0.2305920571088791\n",
      "key: val_acc -- value: 0.9316999912261963\n"
     ]
    },
    {
     "name": "stderr",
     "output_type": "stream",
     "text": [
      "\r",
      " 41%|█████████████████████████████████▏                                               | 41/100 [01:59<02:51,  2.90s/it]"
     ]
    },
    {
     "name": "stdout",
     "output_type": "stream",
     "text": [
      "row_sum: (30000,) -- row_sum_sum: 30000\n",
      "torch.Size([30000, 10])  --  torch.Size([30000, 10])\n",
      "torch.Size([30000, 10])  --  torch.Size([30000, 10])\n",
      "torch.Size([30000, 10])  --  torch.Size([30000, 10])\n",
      "key: train_loss -- value: 0.20801962912082672\n",
      "key: train_acc -- value: 0.9377999901771545\n",
      "key: val_loss -- value: 0.22068382799625397\n",
      "key: val_acc -- value: 0.9352666735649109\n"
     ]
    },
    {
     "name": "stderr",
     "output_type": "stream",
     "text": [
      "\r",
      " 42%|██████████████████████████████████                                               | 42/100 [02:01<02:48,  2.90s/it]"
     ]
    },
    {
     "name": "stdout",
     "output_type": "stream",
     "text": [
      "row_sum: (30000,) -- row_sum_sum: 30000\n",
      "torch.Size([30000, 10])  --  torch.Size([30000, 10])\n",
      "torch.Size([30000, 10])  --  torch.Size([30000, 10])\n",
      "torch.Size([30000, 10])  --  torch.Size([30000, 10])\n",
      "key: train_loss -- value: 0.19914662837982178\n",
      "key: train_acc -- value: 0.9401999711990356\n",
      "key: val_loss -- value: 0.21227724850177765\n",
      "key: val_acc -- value: 0.9373999834060669\n"
     ]
    },
    {
     "name": "stderr",
     "output_type": "stream",
     "text": [
      "\r",
      " 43%|██████████████████████████████████▊                                              | 43/100 [02:05<02:45,  2.91s/it]"
     ]
    },
    {
     "name": "stdout",
     "output_type": "stream",
     "text": [
      "row_sum: (30000,) -- row_sum_sum: 30000\n",
      "torch.Size([30000, 10])  --  torch.Size([30000, 10])\n",
      "torch.Size([30000, 10])  --  torch.Size([30000, 10])\n",
      "torch.Size([30000, 10])  --  torch.Size([30000, 10])\n",
      "key: train_loss -- value: 0.1938616931438446\n",
      "key: train_acc -- value: 0.941433310508728\n",
      "key: val_loss -- value: 0.2075691670179367\n",
      "key: val_acc -- value: 0.9382666945457458\n"
     ]
    },
    {
     "name": "stderr",
     "output_type": "stream",
     "text": [
      "\r",
      " 44%|███████████████████████████████████▋                                             | 44/100 [02:08<02:43,  2.92s/it]"
     ]
    },
    {
     "name": "stdout",
     "output_type": "stream",
     "text": [
      "row_sum: (30000,) -- row_sum_sum: 30000\n",
      "torch.Size([30000, 10])  --  torch.Size([30000, 10])\n",
      "torch.Size([30000, 10])  --  torch.Size([30000, 10])\n",
      "torch.Size([30000, 10])  --  torch.Size([30000, 10])\n",
      "key: train_loss -- value: 0.18964146077632904\n",
      "key: train_acc -- value: 0.9429000020027161\n",
      "key: val_loss -- value: 0.20412001013755798\n",
      "key: val_acc -- value: 0.9380333423614502\n"
     ]
    },
    {
     "name": "stderr",
     "output_type": "stream",
     "text": [
      "\r",
      " 45%|████████████████████████████████████▍                                            | 45/100 [02:11<02:40,  2.92s/it]"
     ]
    },
    {
     "name": "stdout",
     "output_type": "stream",
     "text": [
      "row_sum: (30000,) -- row_sum_sum: 30000\n",
      "torch.Size([30000, 10])  --  torch.Size([30000, 10])\n",
      "torch.Size([30000, 10])  --  torch.Size([30000, 10])\n",
      "torch.Size([30000, 10])  --  torch.Size([30000, 10])\n",
      "key: train_loss -- value: 0.1842353343963623\n",
      "key: train_acc -- value: 0.944266676902771\n",
      "key: val_loss -- value: 0.19958236813545227\n",
      "key: val_acc -- value: 0.9393666386604309\n"
     ]
    },
    {
     "name": "stderr",
     "output_type": "stream",
     "text": [
      "\r",
      " 46%|█████████████████████████████████████▎                                           | 46/100 [02:14<02:38,  2.93s/it]"
     ]
    },
    {
     "name": "stdout",
     "output_type": "stream",
     "text": [
      "row_sum: (30000,) -- row_sum_sum: 30000\n",
      "torch.Size([30000, 10])  --  torch.Size([30000, 10])\n",
      "torch.Size([30000, 10])  --  torch.Size([30000, 10])\n",
      "torch.Size([30000, 10])  --  torch.Size([30000, 10])\n",
      "key: train_loss -- value: 0.1784137338399887\n",
      "key: train_acc -- value: 0.9459666609764099\n",
      "key: val_loss -- value: 0.19469110667705536\n",
      "key: val_acc -- value: 0.9408666491508484\n"
     ]
    },
    {
     "name": "stderr",
     "output_type": "stream",
     "text": [
      "\r",
      " 47%|██████████████████████████████████████                                           | 47/100 [02:17<02:35,  2.93s/it]"
     ]
    },
    {
     "name": "stdout",
     "output_type": "stream",
     "text": [
      "row_sum: (30000,) -- row_sum_sum: 30000\n",
      "torch.Size([30000, 10])  --  torch.Size([30000, 10])\n",
      "torch.Size([30000, 10])  --  torch.Size([30000, 10])\n",
      "torch.Size([30000, 10])  --  torch.Size([30000, 10])\n",
      "key: train_loss -- value: 0.17363426089286804\n",
      "key: train_acc -- value: 0.9470666646957397\n",
      "key: val_loss -- value: 0.19096800684928894\n",
      "key: val_acc -- value: 0.9424999952316284\n"
     ]
    },
    {
     "name": "stderr",
     "output_type": "stream",
     "text": [
      "\r",
      " 48%|██████████████████████████████████████▉                                          | 48/100 [02:20<02:32,  2.93s/it]"
     ]
    },
    {
     "name": "stdout",
     "output_type": "stream",
     "text": [
      "row_sum: (30000,) -- row_sum_sum: 30000\n",
      "torch.Size([30000, 10])  --  torch.Size([30000, 10])\n",
      "torch.Size([30000, 10])  --  torch.Size([30000, 10])\n",
      "torch.Size([30000, 10])  --  torch.Size([30000, 10])\n",
      "key: train_loss -- value: 0.16981863975524902\n",
      "key: train_acc -- value: 0.9484999775886536\n",
      "key: val_loss -- value: 0.18826916813850403\n",
      "key: val_acc -- value: 0.9438333511352539\n"
     ]
    },
    {
     "name": "stderr",
     "output_type": "stream",
     "text": [
      "\r",
      " 49%|███████████████████████████████████████▋                                         | 49/100 [02:23<02:29,  2.94s/it]"
     ]
    },
    {
     "name": "stdout",
     "output_type": "stream",
     "text": [
      "row_sum: (30000,) -- row_sum_sum: 30000\n",
      "torch.Size([30000, 10])  --  torch.Size([30000, 10])\n",
      "torch.Size([30000, 10])  --  torch.Size([30000, 10])\n",
      "torch.Size([30000, 10])  --  torch.Size([30000, 10])\n",
      "key: train_loss -- value: 0.16613338887691498\n",
      "key: train_acc -- value: 0.9496999979019165\n",
      "key: val_loss -- value: 0.1855495125055313\n",
      "key: val_acc -- value: 0.9448999762535095\n"
     ]
    },
    {
     "name": "stderr",
     "output_type": "stream",
     "text": [
      "\r",
      " 50%|████████████████████████████████████████▌                                        | 50/100 [02:27<02:27,  2.95s/it]"
     ]
    },
    {
     "name": "stdout",
     "output_type": "stream",
     "text": [
      "row_sum: (30000,) -- row_sum_sum: 30000\n",
      "torch.Size([30000, 10])  --  torch.Size([30000, 10])\n",
      "torch.Size([30000, 10])  --  torch.Size([30000, 10])\n",
      "torch.Size([30000, 10])  --  torch.Size([30000, 10])\n",
      "key: train_loss -- value: 0.16221638023853302\n",
      "key: train_acc -- value: 0.9506666660308838\n",
      "key: val_loss -- value: 0.18243712186813354\n",
      "key: val_acc -- value: 0.9456666707992554\n"
     ]
    },
    {
     "name": "stderr",
     "output_type": "stream",
     "text": [
      "\r",
      " 51%|█████████████████████████████████████████▎                                       | 51/100 [02:30<02:24,  2.95s/it]"
     ]
    },
    {
     "name": "stdout",
     "output_type": "stream",
     "text": [
      "row_sum: (30000,) -- row_sum_sum: 30000\n",
      "torch.Size([30000, 10])  --  torch.Size([30000, 10])\n",
      "torch.Size([30000, 10])  --  torch.Size([30000, 10])\n",
      "torch.Size([30000, 10])  --  torch.Size([30000, 10])\n",
      "key: train_loss -- value: 0.1583118438720703\n",
      "key: train_acc -- value: 0.9514333605766296\n",
      "key: val_loss -- value: 0.1792066991329193\n",
      "key: val_acc -- value: 0.945900022983551\n"
     ]
    },
    {
     "name": "stderr",
     "output_type": "stream",
     "text": [
      "\r",
      " 52%|██████████████████████████████████████████                                       | 52/100 [02:33<02:21,  2.95s/it]"
     ]
    },
    {
     "name": "stdout",
     "output_type": "stream",
     "text": [
      "row_sum: (30000,) -- row_sum_sum: 30000\n",
      "torch.Size([30000, 10])  --  torch.Size([30000, 10])\n",
      "torch.Size([30000, 10])  --  torch.Size([30000, 10])\n",
      "torch.Size([30000, 10])  --  torch.Size([30000, 10])\n",
      "key: train_loss -- value: 0.15455056726932526\n",
      "key: train_acc -- value: 0.9526333212852478\n",
      "key: val_loss -- value: 0.17603132128715515\n",
      "key: val_acc -- value: 0.9463666677474976\n"
     ]
    },
    {
     "name": "stderr",
     "output_type": "stream",
     "text": [
      "\r",
      " 53%|██████████████████████████████████████████▉                                      | 53/100 [02:36<02:18,  2.95s/it]"
     ]
    },
    {
     "name": "stdout",
     "output_type": "stream",
     "text": [
      "row_sum: (30000,) -- row_sum_sum: 30000\n",
      "torch.Size([30000, 10])  --  torch.Size([30000, 10])\n",
      "torch.Size([30000, 10])  --  torch.Size([30000, 10])\n",
      "torch.Size([30000, 10])  --  torch.Size([30000, 10])\n",
      "key: train_loss -- value: 0.1508311778306961\n",
      "key: train_acc -- value: 0.9538999795913696\n",
      "key: val_loss -- value: 0.17285534739494324\n",
      "key: val_acc -- value: 0.9471666812896729\n"
     ]
    },
    {
     "name": "stderr",
     "output_type": "stream",
     "text": [
      "\r",
      " 54%|███████████████████████████████████████████▋                                     | 54/100 [02:39<02:15,  2.95s/it]"
     ]
    },
    {
     "name": "stdout",
     "output_type": "stream",
     "text": [
      "row_sum: (30000,) -- row_sum_sum: 30000\n",
      "torch.Size([30000, 10])  --  torch.Size([30000, 10])\n",
      "torch.Size([30000, 10])  --  torch.Size([30000, 10])\n",
      "torch.Size([30000, 10])  --  torch.Size([30000, 10])\n",
      "key: train_loss -- value: 0.1472247987985611\n",
      "key: train_acc -- value: 0.9545000195503235\n",
      "key: val_loss -- value: 0.16977840662002563\n",
      "key: val_acc -- value: 0.9482666850090027\n"
     ]
    },
    {
     "name": "stderr",
     "output_type": "stream",
     "text": [
      "\r",
      " 55%|████████████████████████████████████████████▌                                    | 55/100 [02:42<02:12,  2.95s/it]"
     ]
    },
    {
     "name": "stdout",
     "output_type": "stream",
     "text": [
      "row_sum: (30000,) -- row_sum_sum: 30000\n",
      "torch.Size([30000, 10])  --  torch.Size([30000, 10])\n",
      "torch.Size([30000, 10])  --  torch.Size([30000, 10])\n",
      "torch.Size([30000, 10])  --  torch.Size([30000, 10])\n",
      "key: train_loss -- value: 0.14384086430072784\n",
      "key: train_acc -- value: 0.9559666514396667\n",
      "key: val_loss -- value: 0.16690658032894135\n",
      "key: val_acc -- value: 0.949733316898346\n"
     ]
    },
    {
     "name": "stderr",
     "output_type": "stream",
     "text": [
      "\r",
      " 56%|█████████████████████████████████████████████▎                                   | 56/100 [02:45<02:10,  2.96s/it]"
     ]
    },
    {
     "name": "stdout",
     "output_type": "stream",
     "text": [
      "row_sum: (30000,) -- row_sum_sum: 30000\n",
      "torch.Size([30000, 10])  --  torch.Size([30000, 10])\n",
      "torch.Size([30000, 10])  --  torch.Size([30000, 10])\n",
      "torch.Size([30000, 10])  --  torch.Size([30000, 10])\n",
      "key: train_loss -- value: 0.14060078561306\n",
      "key: train_acc -- value: 0.9571666717529297\n",
      "key: val_loss -- value: 0.1641610711812973\n",
      "key: val_acc -- value: 0.9502333402633667\n"
     ]
    },
    {
     "name": "stderr",
     "output_type": "stream",
     "text": [
      "\r",
      " 57%|██████████████████████████████████████████████▏                                  | 57/100 [02:48<02:07,  2.96s/it]"
     ]
    },
    {
     "name": "stdout",
     "output_type": "stream",
     "text": [
      "row_sum: (30000,) -- row_sum_sum: 30000\n",
      "torch.Size([30000, 10])  --  torch.Size([30000, 10])\n",
      "torch.Size([30000, 10])  --  torch.Size([30000, 10])\n",
      "torch.Size([30000, 10])  --  torch.Size([30000, 10])\n",
      "key: train_loss -- value: 0.13738909363746643\n",
      "key: train_acc -- value: 0.958133339881897\n",
      "key: val_loss -- value: 0.16148017346858978\n",
      "key: val_acc -- value: 0.9512666463851929\n"
     ]
    },
    {
     "name": "stderr",
     "output_type": "stream",
     "text": [
      "\r",
      " 58%|██████████████████████████████████████████████▉                                  | 58/100 [02:51<02:04,  2.97s/it]"
     ]
    },
    {
     "name": "stdout",
     "output_type": "stream",
     "text": [
      "row_sum: (30000,) -- row_sum_sum: 30000\n",
      "torch.Size([30000, 10])  --  torch.Size([30000, 10])\n",
      "torch.Size([30000, 10])  --  torch.Size([30000, 10])\n",
      "torch.Size([30000, 10])  --  torch.Size([30000, 10])\n",
      "key: train_loss -- value: 0.13431161642074585\n",
      "key: train_acc -- value: 0.958899974822998\n",
      "key: val_loss -- value: 0.1590488702058792\n",
      "key: val_acc -- value: 0.9521999955177307\n"
     ]
    },
    {
     "name": "stderr",
     "output_type": "stream",
     "text": [
      "\r",
      " 59%|███████████████████████████████████████████████▊                                 | 59/100 [02:54<02:01,  2.96s/it]"
     ]
    },
    {
     "name": "stdout",
     "output_type": "stream",
     "text": [
      "row_sum: (30000,) -- row_sum_sum: 30000\n",
      "torch.Size([30000, 10])  --  torch.Size([30000, 10])\n",
      "torch.Size([30000, 10])  --  torch.Size([30000, 10])\n",
      "torch.Size([30000, 10])  --  torch.Size([30000, 10])\n",
      "key: train_loss -- value: 0.13153710961341858\n",
      "key: train_acc -- value: 0.9596666693687439\n",
      "key: val_loss -- value: 0.15707126259803772\n",
      "key: val_acc -- value: 0.95333331823349\n"
     ]
    },
    {
     "name": "stderr",
     "output_type": "stream",
     "text": [
      "\r",
      " 60%|████████████████████████████████████████████████▌                                | 60/100 [02:57<01:58,  2.96s/it]"
     ]
    },
    {
     "name": "stdout",
     "output_type": "stream",
     "text": [
      "row_sum: (30000,) -- row_sum_sum: 30000\n",
      "torch.Size([30000, 10])  --  torch.Size([30000, 10])\n",
      "torch.Size([30000, 10])  --  torch.Size([30000, 10])\n",
      "torch.Size([30000, 10])  --  torch.Size([30000, 10])\n",
      "key: train_loss -- value: 0.12905915081501007\n",
      "key: train_acc -- value: 0.9606333374977112\n",
      "key: val_loss -- value: 0.1554846465587616\n",
      "key: val_acc -- value: 0.9539999961853027\n"
     ]
    },
    {
     "name": "stderr",
     "output_type": "stream",
     "text": [
      "\r",
      " 61%|█████████████████████████████████████████████████▍                               | 61/100 [03:00<01:55,  2.96s/it]"
     ]
    },
    {
     "name": "stdout",
     "output_type": "stream",
     "text": [
      "row_sum: (30000,) -- row_sum_sum: 30000\n",
      "torch.Size([30000, 10])  --  torch.Size([30000, 10])\n",
      "torch.Size([30000, 10])  --  torch.Size([30000, 10])\n",
      "torch.Size([30000, 10])  --  torch.Size([30000, 10])\n",
      "key: train_loss -- value: 0.1266356110572815\n",
      "key: train_acc -- value: 0.9614999890327454\n",
      "key: val_loss -- value: 0.15393298864364624\n",
      "key: val_acc -- value: 0.954633355140686\n"
     ]
    },
    {
     "name": "stderr",
     "output_type": "stream",
     "text": [
      "\r",
      " 62%|██████████████████████████████████████████████████▏                              | 62/100 [03:03<01:52,  2.96s/it]"
     ]
    },
    {
     "name": "stdout",
     "output_type": "stream",
     "text": [
      "row_sum: (30000,) -- row_sum_sum: 30000\n",
      "torch.Size([30000, 10])  --  torch.Size([30000, 10])\n",
      "torch.Size([30000, 10])  --  torch.Size([30000, 10])\n",
      "torch.Size([30000, 10])  --  torch.Size([30000, 10])\n",
      "key: train_loss -- value: 0.12407984584569931\n",
      "key: train_acc -- value: 0.9627333283424377\n",
      "key: val_loss -- value: 0.15215392410755157\n",
      "key: val_acc -- value: 0.9549999833106995\n"
     ]
    },
    {
     "name": "stderr",
     "output_type": "stream",
     "text": [
      "\r",
      " 63%|███████████████████████████████████████████████████                              | 63/100 [03:06<01:49,  2.97s/it]"
     ]
    },
    {
     "name": "stdout",
     "output_type": "stream",
     "text": [
      "row_sum: (30000,) -- row_sum_sum: 30000\n",
      "torch.Size([30000, 10])  --  torch.Size([30000, 10])\n",
      "torch.Size([30000, 10])  --  torch.Size([30000, 10])\n",
      "torch.Size([30000, 10])  --  torch.Size([30000, 10])\n",
      "key: train_loss -- value: 0.12152009457349777\n",
      "key: train_acc -- value: 0.9637666940689087\n",
      "key: val_loss -- value: 0.15021498501300812\n",
      "key: val_acc -- value: 0.9548666477203369\n"
     ]
    },
    {
     "name": "stderr",
     "output_type": "stream",
     "text": [
      "\r",
      " 64%|███████████████████████████████████████████████████▊                             | 64/100 [03:09<01:46,  2.96s/it]"
     ]
    },
    {
     "name": "stdout",
     "output_type": "stream",
     "text": [
      "row_sum: (30000,) -- row_sum_sum: 30000\n",
      "torch.Size([30000, 10])  --  torch.Size([30000, 10])\n",
      "torch.Size([30000, 10])  --  torch.Size([30000, 10])\n",
      "torch.Size([30000, 10])  --  torch.Size([30000, 10])\n",
      "key: train_loss -- value: 0.11922194063663483\n",
      "key: train_acc -- value: 0.9643333554267883\n",
      "key: val_loss -- value: 0.14835892617702484\n",
      "key: val_acc -- value: 0.9551666378974915\n"
     ]
    },
    {
     "name": "stderr",
     "output_type": "stream",
     "text": [
      "\r",
      " 65%|████████████████████████████████████████████████████▋                            | 65/100 [03:12<01:43,  2.97s/it]"
     ]
    },
    {
     "name": "stdout",
     "output_type": "stream",
     "text": [
      "row_sum: (30000,) -- row_sum_sum: 30000\n",
      "torch.Size([30000, 10])  --  torch.Size([30000, 10])\n",
      "torch.Size([30000, 10])  --  torch.Size([30000, 10])\n",
      "torch.Size([30000, 10])  --  torch.Size([30000, 10])\n",
      "key: train_loss -- value: 0.11717982590198517\n",
      "key: train_acc -- value: 0.9652666449546814\n",
      "key: val_loss -- value: 0.14665590226650238\n",
      "key: val_acc -- value: 0.9556999802589417\n"
     ]
    },
    {
     "name": "stderr",
     "output_type": "stream",
     "text": [
      "\r",
      " 66%|█████████████████████████████████████████████████████▍                           | 66/100 [03:16<01:41,  2.97s/it]"
     ]
    },
    {
     "name": "stdout",
     "output_type": "stream",
     "text": [
      "row_sum: (30000,) -- row_sum_sum: 30000\n",
      "torch.Size([30000, 10])  --  torch.Size([30000, 10])\n",
      "torch.Size([30000, 10])  --  torch.Size([30000, 10])\n",
      "torch.Size([30000, 10])  --  torch.Size([30000, 10])\n",
      "key: train_loss -- value: 0.1151687428355217\n",
      "key: train_acc -- value: 0.9657999873161316\n",
      "key: val_loss -- value: 0.14497143030166626\n",
      "key: val_acc -- value: 0.95660001039505\n"
     ]
    },
    {
     "name": "stderr",
     "output_type": "stream",
     "text": [
      "\r",
      " 67%|██████████████████████████████████████████████████████▎                          | 67/100 [03:19<01:38,  2.97s/it]"
     ]
    },
    {
     "name": "stdout",
     "output_type": "stream",
     "text": [
      "row_sum: (30000,) -- row_sum_sum: 30000\n",
      "torch.Size([30000, 10])  --  torch.Size([30000, 10])\n",
      "torch.Size([30000, 10])  --  torch.Size([30000, 10])\n",
      "torch.Size([30000, 10])  --  torch.Size([30000, 10])\n",
      "key: train_loss -- value: 0.11305070668458939\n",
      "key: train_acc -- value: 0.9664999842643738\n",
      "key: val_loss -- value: 0.14325790107250214\n",
      "key: val_acc -- value: 0.9570666551589966\n"
     ]
    },
    {
     "name": "stderr",
     "output_type": "stream",
     "text": [
      "\r",
      " 68%|███████████████████████████████████████████████████████                          | 68/100 [03:22<01:35,  2.97s/it]"
     ]
    },
    {
     "name": "stdout",
     "output_type": "stream",
     "text": [
      "row_sum: (30000,) -- row_sum_sum: 30000\n",
      "torch.Size([30000, 10])  --  torch.Size([30000, 10])\n",
      "torch.Size([30000, 10])  --  torch.Size([30000, 10])\n",
      "torch.Size([30000, 10])  --  torch.Size([30000, 10])\n",
      "key: train_loss -- value: 0.11089538782835007\n",
      "key: train_acc -- value: 0.966866672039032\n",
      "key: val_loss -- value: 0.141618549823761\n",
      "key: val_acc -- value: 0.9573000073432922\n"
     ]
    },
    {
     "name": "stderr",
     "output_type": "stream",
     "text": [
      "\r",
      " 69%|███████████████████████████████████████████████████████▉                         | 69/100 [03:24<01:32,  2.97s/it]"
     ]
    },
    {
     "name": "stdout",
     "output_type": "stream",
     "text": [
      "row_sum: (30000,) -- row_sum_sum: 30000\n",
      "torch.Size([30000, 10])  --  torch.Size([30000, 10])\n",
      "torch.Size([30000, 10])  --  torch.Size([30000, 10])\n",
      "torch.Size([30000, 10])  --  torch.Size([30000, 10])\n",
      "key: train_loss -- value: 0.1088213101029396\n",
      "key: train_acc -- value: 0.9674999713897705\n",
      "key: val_loss -- value: 0.14016206562519073\n",
      "key: val_acc -- value: 0.9578999876976013\n"
     ]
    },
    {
     "name": "stderr",
     "output_type": "stream",
     "text": [
      "\r",
      " 70%|████████████████████████████████████████████████████████▋                        | 70/100 [03:28<01:29,  2.97s/it]"
     ]
    },
    {
     "name": "stdout",
     "output_type": "stream",
     "text": [
      "row_sum: (30000,) -- row_sum_sum: 30000\n",
      "torch.Size([30000, 10])  --  torch.Size([30000, 10])\n",
      "torch.Size([30000, 10])  --  torch.Size([30000, 10])\n",
      "torch.Size([30000, 10])  --  torch.Size([30000, 10])\n",
      "key: train_loss -- value: 0.10689016431570053\n",
      "key: train_acc -- value: 0.9680666923522949\n",
      "key: val_loss -- value: 0.13889676332473755\n",
      "key: val_acc -- value: 0.9582333564758301\n"
     ]
    },
    {
     "name": "stderr",
     "output_type": "stream",
     "text": [
      "\r",
      " 71%|█████████████████████████████████████████████████████████▌                       | 71/100 [03:31<01:26,  2.97s/it]"
     ]
    },
    {
     "name": "stdout",
     "output_type": "stream",
     "text": [
      "row_sum: (30000,) -- row_sum_sum: 30000\n",
      "torch.Size([30000, 10])  --  torch.Size([30000, 10])\n",
      "torch.Size([30000, 10])  --  torch.Size([30000, 10])\n",
      "torch.Size([30000, 10])  --  torch.Size([30000, 10])\n",
      "key: train_loss -- value: 0.10509001463651657\n",
      "key: train_acc -- value: 0.9686333537101746\n",
      "key: val_loss -- value: 0.13775469362735748\n",
      "key: val_acc -- value: 0.958899974822998\n"
     ]
    },
    {
     "name": "stderr",
     "output_type": "stream",
     "text": [
      "\r",
      " 72%|██████████████████████████████████████████████████████████▎                      | 72/100 [03:34<01:23,  2.98s/it]"
     ]
    },
    {
     "name": "stdout",
     "output_type": "stream",
     "text": [
      "row_sum: (30000,) -- row_sum_sum: 30000\n",
      "torch.Size([30000, 10])  --  torch.Size([30000, 10])\n",
      "torch.Size([30000, 10])  --  torch.Size([30000, 10])\n",
      "torch.Size([30000, 10])  --  torch.Size([30000, 10])\n",
      "key: train_loss -- value: 0.10334819555282593\n",
      "key: train_acc -- value: 0.9694333076477051\n",
      "key: val_loss -- value: 0.1366095393896103\n",
      "key: val_acc -- value: 0.9591666460037231\n"
     ]
    },
    {
     "name": "stderr",
     "output_type": "stream",
     "text": [
      "\r",
      " 73%|███████████████████████████████████████████████████████████▏                     | 73/100 [03:37<01:20,  2.98s/it]"
     ]
    },
    {
     "name": "stdout",
     "output_type": "stream",
     "text": [
      "row_sum: (30000,) -- row_sum_sum: 30000\n",
      "torch.Size([30000, 10])  --  torch.Size([30000, 10])\n",
      "torch.Size([30000, 10])  --  torch.Size([30000, 10])\n",
      "torch.Size([30000, 10])  --  torch.Size([30000, 10])\n",
      "key: train_loss -- value: 0.1015777438879013\n",
      "key: train_acc -- value: 0.9702000021934509\n",
      "key: val_loss -- value: 0.13536502420902252\n",
      "key: val_acc -- value: 0.9596666693687439\n"
     ]
    },
    {
     "name": "stderr",
     "output_type": "stream",
     "text": [
      "\r",
      " 74%|███████████████████████████████████████████████████████████▉                     | 74/100 [03:40<01:17,  2.97s/it]"
     ]
    },
    {
     "name": "stdout",
     "output_type": "stream",
     "text": [
      "row_sum: (30000,) -- row_sum_sum: 30000\n",
      "torch.Size([30000, 10])  --  torch.Size([30000, 10])\n",
      "torch.Size([30000, 10])  --  torch.Size([30000, 10])\n",
      "torch.Size([30000, 10])  --  torch.Size([30000, 10])\n",
      "key: train_loss -- value: 0.09977462887763977\n",
      "key: train_acc -- value: 0.9707333445549011\n",
      "key: val_loss -- value: 0.13404203951358795\n",
      "key: val_acc -- value: 0.9602000117301941\n"
     ]
    },
    {
     "name": "stderr",
     "output_type": "stream",
     "text": [
      "\r",
      " 75%|████████████████████████████████████████████████████████████▊                    | 75/100 [03:42<01:14,  2.97s/it]"
     ]
    },
    {
     "name": "stdout",
     "output_type": "stream",
     "text": [
      "row_sum: (30000,) -- row_sum_sum: 30000\n",
      "torch.Size([30000, 10])  --  torch.Size([30000, 10])\n",
      "torch.Size([30000, 10])  --  torch.Size([30000, 10])\n",
      "torch.Size([30000, 10])  --  torch.Size([30000, 10])\n",
      "key: train_loss -- value: 0.09803495556116104\n",
      "key: train_acc -- value: 0.9711666703224182\n",
      "key: val_loss -- value: 0.13278193771839142\n",
      "key: val_acc -- value: 0.960433304309845\n"
     ]
    },
    {
     "name": "stderr",
     "output_type": "stream",
     "text": [
      "\r",
      " 76%|█████████████████████████████████████████████████████████████▌                   | 76/100 [03:45<01:11,  2.97s/it]"
     ]
    },
    {
     "name": "stdout",
     "output_type": "stream",
     "text": [
      "row_sum: (30000,) -- row_sum_sum: 30000\n",
      "torch.Size([30000, 10])  --  torch.Size([30000, 10])\n",
      "torch.Size([30000, 10])  --  torch.Size([30000, 10])\n",
      "torch.Size([30000, 10])  --  torch.Size([30000, 10])\n",
      "key: train_loss -- value: 0.09641240537166595\n",
      "key: train_acc -- value: 0.9715666770935059\n",
      "key: val_loss -- value: 0.1316731572151184\n",
      "key: val_acc -- value: 0.9605666399002075\n"
     ]
    },
    {
     "name": "stderr",
     "output_type": "stream",
     "text": [
      "\r",
      " 77%|██████████████████████████████████████████████████████████████▎                  | 77/100 [03:48<01:08,  2.97s/it]"
     ]
    },
    {
     "name": "stdout",
     "output_type": "stream",
     "text": [
      "row_sum: (30000,) -- row_sum_sum: 30000\n",
      "torch.Size([30000, 10])  --  torch.Size([30000, 10])\n",
      "torch.Size([30000, 10])  --  torch.Size([30000, 10])\n",
      "torch.Size([30000, 10])  --  torch.Size([30000, 10])\n",
      "key: train_loss -- value: 0.09486947953701019\n",
      "key: train_acc -- value: 0.9718999862670898\n",
      "key: val_loss -- value: 0.130692258477211\n",
      "key: val_acc -- value: 0.9609666466712952\n"
     ]
    },
    {
     "name": "stderr",
     "output_type": "stream",
     "text": [
      "\r",
      " 78%|███████████████████████████████████████████████████████████████▏                 | 78/100 [03:51<01:05,  2.97s/it]"
     ]
    },
    {
     "name": "stdout",
     "output_type": "stream",
     "text": [
      "row_sum: (30000,) -- row_sum_sum: 30000\n",
      "torch.Size([30000, 10])  --  torch.Size([30000, 10])\n",
      "torch.Size([30000, 10])  --  torch.Size([30000, 10])\n",
      "torch.Size([30000, 10])  --  torch.Size([30000, 10])\n",
      "key: train_loss -- value: 0.09334252029657364\n",
      "key: train_acc -- value: 0.9722999930381775\n",
      "key: val_loss -- value: 0.12977486848831177\n",
      "key: val_acc -- value: 0.9611999988555908\n"
     ]
    },
    {
     "name": "stderr",
     "output_type": "stream",
     "text": [
      "\r",
      " 79%|███████████████████████████████████████████████████████████████▉                 | 79/100 [03:54<01:02,  2.97s/it]"
     ]
    },
    {
     "name": "stdout",
     "output_type": "stream",
     "text": [
      "row_sum: (30000,) -- row_sum_sum: 30000\n",
      "torch.Size([30000, 10])  --  torch.Size([30000, 10])\n",
      "torch.Size([30000, 10])  --  torch.Size([30000, 10])\n",
      "torch.Size([30000, 10])  --  torch.Size([30000, 10])\n",
      "key: train_loss -- value: 0.09182984381914139\n",
      "key: train_acc -- value: 0.9726999998092651\n",
      "key: val_loss -- value: 0.12889420986175537\n",
      "key: val_acc -- value: 0.961566686630249\n"
     ]
    },
    {
     "name": "stderr",
     "output_type": "stream",
     "text": [
      "\r",
      " 80%|████████████████████████████████████████████████████████████████▊                | 80/100 [03:58<00:59,  2.99s/it]"
     ]
    },
    {
     "name": "stdout",
     "output_type": "stream",
     "text": [
      "row_sum: (30000,) -- row_sum_sum: 30000\n",
      "torch.Size([30000, 10])  --  torch.Size([30000, 10])\n",
      "torch.Size([30000, 10])  --  torch.Size([30000, 10])\n",
      "torch.Size([30000, 10])  --  torch.Size([30000, 10])\n",
      "key: train_loss -- value: 0.09035272896289825\n",
      "key: train_acc -- value: 0.9729666709899902\n",
      "key: val_loss -- value: 0.1280333399772644\n",
      "key: val_acc -- value: 0.9618333578109741\n"
     ]
    },
    {
     "name": "stderr",
     "output_type": "stream",
     "text": [
      "\r",
      " 81%|█████████████████████████████████████████████████████████████████▌               | 81/100 [04:01<00:56,  2.98s/it]"
     ]
    },
    {
     "name": "stdout",
     "output_type": "stream",
     "text": [
      "row_sum: (30000,) -- row_sum_sum: 30000\n",
      "torch.Size([30000, 10])  --  torch.Size([30000, 10])\n",
      "torch.Size([30000, 10])  --  torch.Size([30000, 10])\n",
      "torch.Size([30000, 10])  --  torch.Size([30000, 10])\n",
      "key: train_loss -- value: 0.08890827745199203\n",
      "key: train_acc -- value: 0.9736666679382324\n",
      "key: val_loss -- value: 0.1271553635597229\n",
      "key: val_acc -- value: 0.9618333578109741\n"
     ]
    },
    {
     "name": "stderr",
     "output_type": "stream",
     "text": [
      "\r",
      " 82%|██████████████████████████████████████████████████████████████████▍              | 82/100 [04:04<00:53,  2.99s/it]"
     ]
    },
    {
     "name": "stdout",
     "output_type": "stream",
     "text": [
      "row_sum: (30000,) -- row_sum_sum: 30000\n",
      "torch.Size([30000, 10])  --  torch.Size([30000, 10])\n",
      "torch.Size([30000, 10])  --  torch.Size([30000, 10])\n",
      "torch.Size([30000, 10])  --  torch.Size([30000, 10])\n",
      "key: train_loss -- value: 0.08748813718557358\n",
      "key: train_acc -- value: 0.9738333225250244\n",
      "key: val_loss -- value: 0.126234769821167\n",
      "key: val_acc -- value: 0.9620333313941956\n"
     ]
    },
    {
     "name": "stderr",
     "output_type": "stream",
     "text": [
      "\r",
      " 83%|███████████████████████████████████████████████████████████████████▏             | 83/100 [04:08<00:50,  2.99s/it]"
     ]
    },
    {
     "name": "stdout",
     "output_type": "stream",
     "text": [
      "row_sum: (30000,) -- row_sum_sum: 30000\n",
      "torch.Size([30000, 10])  --  torch.Size([30000, 10])\n",
      "torch.Size([30000, 10])  --  torch.Size([30000, 10])\n",
      "torch.Size([30000, 10])  --  torch.Size([30000, 10])\n",
      "key: train_loss -- value: 0.08610504865646362\n",
      "key: train_acc -- value: 0.9743666648864746\n",
      "key: val_loss -- value: 0.12528935074806213\n",
      "key: val_acc -- value: 0.9624666571617126\n"
     ]
    },
    {
     "name": "stderr",
     "output_type": "stream",
     "text": [
      "\r",
      " 84%|████████████████████████████████████████████████████████████████████             | 84/100 [04:11<00:47,  2.99s/it]"
     ]
    },
    {
     "name": "stdout",
     "output_type": "stream",
     "text": [
      "row_sum: (30000,) -- row_sum_sum: 30000\n",
      "torch.Size([30000, 10])  --  torch.Size([30000, 10])\n",
      "torch.Size([30000, 10])  --  torch.Size([30000, 10])\n",
      "torch.Size([30000, 10])  --  torch.Size([30000, 10])\n",
      "key: train_loss -- value: 0.08476532250642776\n",
      "key: train_acc -- value: 0.9747999906539917\n",
      "key: val_loss -- value: 0.12436086684465408\n",
      "key: val_acc -- value: 0.9626333117485046\n"
     ]
    },
    {
     "name": "stderr",
     "output_type": "stream",
     "text": [
      "\r",
      " 85%|████████████████████████████████████████████████████████████████████▊            | 85/100 [04:14<00:44,  2.99s/it]"
     ]
    },
    {
     "name": "stdout",
     "output_type": "stream",
     "text": [
      "row_sum: (30000,) -- row_sum_sum: 30000\n",
      "torch.Size([30000, 10])  --  torch.Size([30000, 10])\n",
      "torch.Size([30000, 10])  --  torch.Size([30000, 10])\n",
      "torch.Size([30000, 10])  --  torch.Size([30000, 10])\n",
      "key: train_loss -- value: 0.08346070349216461\n",
      "key: train_acc -- value: 0.9753000140190125\n",
      "key: val_loss -- value: 0.12346680462360382\n",
      "key: val_acc -- value: 0.9628333449363708\n"
     ]
    },
    {
     "name": "stderr",
     "output_type": "stream",
     "text": [
      "\r",
      " 86%|█████████████████████████████████████████████████████████████████████▋           | 86/100 [04:17<00:41,  2.99s/it]"
     ]
    },
    {
     "name": "stdout",
     "output_type": "stream",
     "text": [
      "row_sum: (30000,) -- row_sum_sum: 30000\n",
      "torch.Size([30000, 10])  --  torch.Size([30000, 10])\n",
      "torch.Size([30000, 10])  --  torch.Size([30000, 10])\n",
      "torch.Size([30000, 10])  --  torch.Size([30000, 10])\n",
      "key: train_loss -- value: 0.08216916024684906\n",
      "key: train_acc -- value: 0.9756333231925964\n",
      "key: val_loss -- value: 0.12261812388896942\n",
      "key: val_acc -- value: 0.9630333185195923\n"
     ]
    },
    {
     "name": "stderr",
     "output_type": "stream",
     "text": [
      "\r",
      " 87%|██████████████████████████████████████████████████████████████████████▍          | 87/100 [04:20<00:38,  2.99s/it]"
     ]
    },
    {
     "name": "stdout",
     "output_type": "stream",
     "text": [
      "row_sum: (30000,) -- row_sum_sum: 30000\n",
      "torch.Size([30000, 10])  --  torch.Size([30000, 10])\n",
      "torch.Size([30000, 10])  --  torch.Size([30000, 10])\n",
      "torch.Size([30000, 10])  --  torch.Size([30000, 10])\n",
      "key: train_loss -- value: 0.08088936656713486\n",
      "key: train_acc -- value: 0.9761999845504761\n",
      "key: val_loss -- value: 0.1218193769454956\n",
      "key: val_acc -- value: 0.9631999731063843\n"
     ]
    },
    {
     "name": "stderr",
     "output_type": "stream",
     "text": [
      "\r",
      " 88%|███████████████████████████████████████████████████████████████████████▎         | 88/100 [04:23<00:35,  2.99s/it]"
     ]
    },
    {
     "name": "stdout",
     "output_type": "stream",
     "text": [
      "row_sum: (30000,) -- row_sum_sum: 30000\n",
      "torch.Size([30000, 10])  --  torch.Size([30000, 10])\n",
      "torch.Size([30000, 10])  --  torch.Size([30000, 10])\n",
      "torch.Size([30000, 10])  --  torch.Size([30000, 10])\n",
      "key: train_loss -- value: 0.07963878661394119\n",
      "key: train_acc -- value: 0.9764999747276306\n",
      "key: val_loss -- value: 0.12108266353607178\n",
      "key: val_acc -- value: 0.9634333252906799\n"
     ]
    },
    {
     "name": "stderr",
     "output_type": "stream",
     "text": [
      "\r",
      " 89%|████████████████████████████████████████████████████████████████████████         | 89/100 [04:26<00:32,  3.00s/it]"
     ]
    },
    {
     "name": "stdout",
     "output_type": "stream",
     "text": [
      "row_sum: (30000,) -- row_sum_sum: 30000\n",
      "torch.Size([30000, 10])  --  torch.Size([30000, 10])\n",
      "torch.Size([30000, 10])  --  torch.Size([30000, 10])\n",
      "torch.Size([30000, 10])  --  torch.Size([30000, 10])\n",
      "key: train_loss -- value: 0.07843419909477234\n",
      "key: train_acc -- value: 0.9769333600997925\n",
      "key: val_loss -- value: 0.12039802223443985\n",
      "key: val_acc -- value: 0.9634000062942505\n"
     ]
    },
    {
     "name": "stderr",
     "output_type": "stream",
     "text": [
      "\r",
      " 90%|████████████████████████████████████████████████████████████████████████▉        | 90/100 [04:29<00:29,  3.00s/it]"
     ]
    },
    {
     "name": "stdout",
     "output_type": "stream",
     "text": [
      "row_sum: (30000,) -- row_sum_sum: 30000\n",
      "torch.Size([30000, 10])  --  torch.Size([30000, 10])\n",
      "torch.Size([30000, 10])  --  torch.Size([30000, 10])\n",
      "torch.Size([30000, 10])  --  torch.Size([30000, 10])\n",
      "key: train_loss -- value: 0.07726279646158218\n",
      "key: train_acc -- value: 0.9775000214576721\n",
      "key: val_loss -- value: 0.11973101645708084\n",
      "key: val_acc -- value: 0.963699996471405\n"
     ]
    },
    {
     "name": "stderr",
     "output_type": "stream",
     "text": [
      "\r",
      " 91%|█████████████████████████████████████████████████████████████████████████▋       | 91/100 [04:32<00:26,  3.00s/it]"
     ]
    },
    {
     "name": "stdout",
     "output_type": "stream",
     "text": [
      "row_sum: (30000,) -- row_sum_sum: 30000\n",
      "torch.Size([30000, 10])  --  torch.Size([30000, 10])\n",
      "torch.Size([30000, 10])  --  torch.Size([30000, 10])\n",
      "torch.Size([30000, 10])  --  torch.Size([30000, 10])\n",
      "key: train_loss -- value: 0.07610482722520828\n",
      "key: train_acc -- value: 0.9780666828155518\n",
      "key: val_loss -- value: 0.11904781311750412\n",
      "key: val_acc -- value: 0.963866651058197\n"
     ]
    },
    {
     "name": "stderr",
     "output_type": "stream",
     "text": [
      "\r",
      " 92%|██████████████████████████████████████████████████████████████████████████▌      | 92/100 [04:35<00:23,  3.00s/it]"
     ]
    },
    {
     "name": "stdout",
     "output_type": "stream",
     "text": [
      "row_sum: (30000,) -- row_sum_sum: 30000\n",
      "torch.Size([30000, 10])  --  torch.Size([30000, 10])\n",
      "torch.Size([30000, 10])  --  torch.Size([30000, 10])\n",
      "torch.Size([30000, 10])  --  torch.Size([30000, 10])\n",
      "key: train_loss -- value: 0.07495755702257156\n",
      "key: train_acc -- value: 0.9783999919891357\n",
      "key: val_loss -- value: 0.11834616959095001\n",
      "key: val_acc -- value: 0.9642000198364258\n"
     ]
    },
    {
     "name": "stderr",
     "output_type": "stream",
     "text": [
      "\r",
      " 93%|███████████████████████████████████████████████████████████████████████████▎     | 93/100 [04:38<00:20,  3.00s/it]"
     ]
    },
    {
     "name": "stdout",
     "output_type": "stream",
     "text": [
      "row_sum: (30000,) -- row_sum_sum: 30000\n",
      "torch.Size([30000, 10])  --  torch.Size([30000, 10])\n",
      "torch.Size([30000, 10])  --  torch.Size([30000, 10])\n",
      "torch.Size([30000, 10])  --  torch.Size([30000, 10])\n",
      "key: train_loss -- value: 0.07383473217487335\n",
      "key: train_acc -- value: 0.9786333441734314\n",
      "key: val_loss -- value: 0.11764972656965256\n",
      "key: val_acc -- value: 0.9643999934196472\n"
     ]
    },
    {
     "name": "stderr",
     "output_type": "stream",
     "text": [
      "\r",
      " 94%|████████████████████████████████████████████████████████████████████████████▏    | 94/100 [04:41<00:17,  3.00s/it]"
     ]
    },
    {
     "name": "stdout",
     "output_type": "stream",
     "text": [
      "row_sum: (30000,) -- row_sum_sum: 30000\n",
      "torch.Size([30000, 10])  --  torch.Size([30000, 10])\n",
      "torch.Size([30000, 10])  --  torch.Size([30000, 10])\n",
      "torch.Size([30000, 10])  --  torch.Size([30000, 10])\n",
      "key: train_loss -- value: 0.07274169474840164\n",
      "key: train_acc -- value: 0.9789999723434448\n",
      "key: val_loss -- value: 0.11698103696107864\n",
      "key: val_acc -- value: 0.9646000266075134\n"
     ]
    },
    {
     "name": "stderr",
     "output_type": "stream",
     "text": [
      "\r",
      " 95%|████████████████████████████████████████████████████████████████████████████▉    | 95/100 [04:44<00:14,  3.00s/it]"
     ]
    },
    {
     "name": "stdout",
     "output_type": "stream",
     "text": [
      "row_sum: (30000,) -- row_sum_sum: 30000\n",
      "torch.Size([30000, 10])  --  torch.Size([30000, 10])\n",
      "torch.Size([30000, 10])  --  torch.Size([30000, 10])\n",
      "torch.Size([30000, 10])  --  torch.Size([30000, 10])\n",
      "key: train_loss -- value: 0.07167142629623413\n",
      "key: train_acc -- value: 0.9794333577156067\n",
      "key: val_loss -- value: 0.11633904278278351\n",
      "key: val_acc -- value: 0.9646666646003723\n"
     ]
    },
    {
     "name": "stderr",
     "output_type": "stream",
     "text": [
      "\r",
      " 96%|█████████████████████████████████████████████████████████████████████████████▊   | 96/100 [04:47<00:11,  3.00s/it]"
     ]
    },
    {
     "name": "stdout",
     "output_type": "stream",
     "text": [
      "row_sum: (30000,) -- row_sum_sum: 30000\n",
      "torch.Size([30000, 10])  --  torch.Size([30000, 10])\n",
      "torch.Size([30000, 10])  --  torch.Size([30000, 10])\n",
      "torch.Size([30000, 10])  --  torch.Size([30000, 10])\n",
      "key: train_loss -- value: 0.07061757147312164\n",
      "key: train_acc -- value: 0.9799666404724121\n",
      "key: val_loss -- value: 0.11571884900331497\n",
      "key: val_acc -- value: 0.964900016784668\n"
     ]
    },
    {
     "name": "stderr",
     "output_type": "stream",
     "text": [
      "\r",
      " 97%|██████████████████████████████████████████████████████████████████████████████▌  | 97/100 [04:50<00:08,  3.00s/it]"
     ]
    },
    {
     "name": "stdout",
     "output_type": "stream",
     "text": [
      "row_sum: (30000,) -- row_sum_sum: 30000\n",
      "torch.Size([30000, 10])  --  torch.Size([30000, 10])\n",
      "torch.Size([30000, 10])  --  torch.Size([30000, 10])\n",
      "torch.Size([30000, 10])  --  torch.Size([30000, 10])\n",
      "key: train_loss -- value: 0.06957942247390747\n",
      "key: train_acc -- value: 0.9803000092506409\n",
      "key: val_loss -- value: 0.11511611193418503\n",
      "key: val_acc -- value: 0.9651333093643188\n"
     ]
    },
    {
     "name": "stderr",
     "output_type": "stream",
     "text": [
      "\r",
      " 98%|███████████████████████████████████████████████████████████████████████████████▍ | 98/100 [04:53<00:05,  2.99s/it]"
     ]
    },
    {
     "name": "stdout",
     "output_type": "stream",
     "text": [
      "row_sum: (30000,) -- row_sum_sum: 30000\n",
      "torch.Size([30000, 10])  --  torch.Size([30000, 10])\n",
      "torch.Size([30000, 10])  --  torch.Size([30000, 10])\n",
      "torch.Size([30000, 10])  --  torch.Size([30000, 10])\n",
      "key: train_loss -- value: 0.06855817884206772\n",
      "key: train_acc -- value: 0.980566680431366\n",
      "key: val_loss -- value: 0.11452294886112213\n",
      "key: val_acc -- value: 0.9653666615486145\n"
     ]
    },
    {
     "name": "stderr",
     "output_type": "stream",
     "text": [
      "\r",
      " 99%|████████████████████████████████████████████████████████████████████████████████▏| 99/100 [04:56<00:02,  3.00s/it]"
     ]
    },
    {
     "name": "stdout",
     "output_type": "stream",
     "text": [
      "row_sum: (30000,) -- row_sum_sum: 30000\n",
      "torch.Size([30000, 10])  --  torch.Size([30000, 10])\n",
      "torch.Size([30000, 10])  --  torch.Size([30000, 10])\n",
      "torch.Size([30000, 10])  --  torch.Size([30000, 10])\n",
      "key: train_loss -- value: 0.06755488365888596\n",
      "key: train_acc -- value: 0.9809333086013794\n",
      "key: val_loss -- value: 0.11393298208713531\n",
      "key: val_acc -- value: 0.9653666615486145\n"
     ]
    },
    {
     "name": "stderr",
     "output_type": "stream",
     "text": [
      "100%|████████████████████████████████████████████████████████████████████████████████| 100/100 [04:59<00:00,  3.00s/it]\n"
     ]
    },
    {
     "name": "stdout",
     "output_type": "stream",
     "text": [
      "torch.Size([10000, 10])  --  torch.Size([10000, 10])\n"
     ]
    }
   ],
   "source": [
    "model3, train3 = default_net(train_input, train_target, num_of_hidden_layers=2, loss='ce', num_of_neurons=(784, 500, 200, 10), activation='relu', lr=0.1, momentum_coef=0.9, weight_decay=0.2, p_dropout=0.0, num_of_epochs=100, val_split=0.5, verbose=0)\n",
    "test3 = model3.evaluate(test_input, test_target, return_pred=True)"
   ]
  },
  {
   "cell_type": "code",
   "execution_count": 28,
   "metadata": {},
   "outputs": [
    {
     "data": {
      "image/png": "[encoded data removed]",
      "text/plain": [
       "<matplotlib.figure.Figure at 0x20616899dd8>"
      ]
     },
     "execution_count": 28,
     "metadata": {},
     "output_type": "execute_result"
    }
   ],
   "source": [
    "plot_report(train3, title=\"Model 3\")"
   ]
  },
  {
   "cell_type": "code",
   "execution_count": 29,
   "metadata": {},
   "outputs": [
    {
     "data": {
      "text/plain": [
       "(tensor(0.9657), 0.10974247753620148, tensor([ 7,  2,  1,  ...,  4,  5,  6]))"
      ]
     },
     "execution_count": 29,
     "metadata": {},
     "output_type": "execute_result"
    }
   ],
   "source": [
    "test3"
   ]
  },
  {
   "cell_type": "code",
   "execution_count": 42,
   "metadata": {
    "scrolled": false
   },
   "outputs": [
    {
     "name": "stdout",
     "output_type": "stream",
     "text": [
      "Added Module Name: 0_Linear \n",
      "Added Module Name: 1_Tanh \n",
      "Added Module Name: 2_Dropout \n",
      "Added Module Name: 3_Linear \n",
      "Added Module Name: 4_Tanh \n",
      "x_train.shape: torch.Size([30000, 784]) -- y_train.shape: torch.Size([30000, 10])\n",
      "x_val.shape: torch.Size([30000, 784]) -- y_val.shape: torch.Size([30000, 10])\n"
     ]
    },
    {
     "name": "stderr",
     "output_type": "stream",
     "text": [
      "\r",
      "  0%|                                                                                          | 0/300 [00:00<?, ?it/s]"
     ]
    },
    {
     "name": "stdout",
     "output_type": "stream",
     "text": [
      "key: train_loss -- value: 3.5560340881347656\n",
      "key: train_acc -- value: 0.24369999766349792\n",
      "key: val_loss -- value: 3.558211088180542\n",
      "key: val_acc -- value: 0.24213333427906036\n"
     ]
    },
    {
     "name": "stderr",
     "output_type": "stream",
     "text": [
      "\r",
      "  0%|▎                                                                                 | 1/300 [00:00<03:34,  1.39it/s]"
     ]
    },
    {
     "name": "stdout",
     "output_type": "stream",
     "text": [
      "key: train_loss -- value: 3.5564746856689453\n",
      "key: train_acc -- value: 0.3479333221912384\n",
      "key: val_loss -- value: 3.5567469596862793\n",
      "key: val_acc -- value: 0.3462333381175995\n"
     ]
    },
    {
     "name": "stderr",
     "output_type": "stream",
     "text": [
      "\r",
      "  1%|▌                                                                                 | 2/300 [00:01<03:45,  1.32it/s]"
     ]
    },
    {
     "name": "stdout",
     "output_type": "stream",
     "text": [
      "key: train_loss -- value: 3.5768611431121826\n",
      "key: train_acc -- value: 0.3591333329677582\n",
      "key: val_loss -- value: 3.5755374431610107\n",
      "key: val_acc -- value: 0.3577333390712738\n"
     ]
    },
    {
     "name": "stderr",
     "output_type": "stream",
     "text": [
      "\r",
      "  1%|▊                                                                                 | 3/300 [00:02<03:45,  1.32it/s]"
     ]
    },
    {
     "name": "stdout",
     "output_type": "stream",
     "text": [
      "key: train_loss -- value: 3.4359633922576904\n",
      "key: train_acc -- value: 0.3269333243370056\n",
      "key: val_loss -- value: 3.4321141242980957\n",
      "key: val_acc -- value: 0.3267666697502136\n"
     ]
    },
    {
     "name": "stderr",
     "output_type": "stream",
     "text": [
      "\r",
      "  1%|█                                                                                 | 4/300 [00:03<03:44,  1.32it/s]"
     ]
    },
    {
     "name": "stdout",
     "output_type": "stream",
     "text": [
      "key: train_loss -- value: 3.2147703170776367\n",
      "key: train_acc -- value: 0.30006667971611023\n",
      "key: val_loss -- value: 3.207245349884033\n",
      "key: val_acc -- value: 0.3012666702270508\n"
     ]
    },
    {
     "name": "stderr",
     "output_type": "stream",
     "text": [
      "\r",
      "  2%|█▎                                                                                | 5/300 [00:03<03:46,  1.30it/s]"
     ]
    },
    {
     "name": "stdout",
     "output_type": "stream",
     "text": [
      "key: train_loss -- value: 3.208407402038574\n",
      "key: train_acc -- value: 0.30406665802001953\n",
      "key: val_loss -- value: 3.203169107437134\n",
      "key: val_acc -- value: 0.30426666140556335\n"
     ]
    },
    {
     "name": "stderr",
     "output_type": "stream",
     "text": [
      "\r",
      "  2%|█▋                                                                                | 6/300 [00:04<03:47,  1.29it/s]"
     ]
    },
    {
     "name": "stdout",
     "output_type": "stream",
     "text": [
      "key: train_loss -- value: 3.205066442489624\n",
      "key: train_acc -- value: 0.33843332529067993\n",
      "key: val_loss -- value: 3.206260919570923\n",
      "key: val_acc -- value: 0.3359333276748657\n"
     ]
    },
    {
     "name": "stderr",
     "output_type": "stream",
     "text": [
      "\r",
      "  2%|█▉                                                                                | 7/300 [00:05<03:51,  1.27it/s]"
     ]
    },
    {
     "name": "stdout",
     "output_type": "stream",
     "text": [
      "key: train_loss -- value: 2.983855962753296\n",
      "key: train_acc -- value: 0.3827666640281677\n",
      "key: val_loss -- value: 2.9859397411346436\n",
      "key: val_acc -- value: 0.37903332710266113\n"
     ]
    },
    {
     "name": "stderr",
     "output_type": "stream",
     "text": [
      "\r",
      "  3%|██▏                                                                               | 8/300 [00:06<03:52,  1.26it/s]"
     ]
    },
    {
     "name": "stdout",
     "output_type": "stream",
     "text": [
      "key: train_loss -- value: 2.948960304260254\n",
      "key: train_acc -- value: 0.3851333260536194\n",
      "key: val_loss -- value: 2.949320077896118\n",
      "key: val_acc -- value: 0.38413333892822266\n"
     ]
    },
    {
     "name": "stderr",
     "output_type": "stream",
     "text": [
      "\r",
      "  3%|██▍                                                                               | 9/300 [00:07<03:51,  1.26it/s]"
     ]
    },
    {
     "name": "stdout",
     "output_type": "stream",
     "text": [
      "key: train_loss -- value: 2.8696863651275635\n",
      "key: train_acc -- value: 0.42926666140556335\n",
      "key: val_loss -- value: 2.8715648651123047\n",
      "key: val_acc -- value: 0.428933322429657\n"
     ]
    },
    {
     "name": "stderr",
     "output_type": "stream",
     "text": [
      "\r",
      "  3%|██▋                                                                              | 10/300 [00:08<03:52,  1.25it/s]"
     ]
    },
    {
     "name": "stdout",
     "output_type": "stream",
     "text": [
      "key: train_loss -- value: 2.7827701568603516\n",
      "key: train_acc -- value: 0.44103333353996277\n",
      "key: val_loss -- value: 2.791186809539795\n",
      "key: val_acc -- value: 0.43619999289512634\n"
     ]
    },
    {
     "name": "stderr",
     "output_type": "stream",
     "text": [
      "\r",
      "  4%|██▉                                                                              | 11/300 [00:08<03:51,  1.25it/s]"
     ]
    },
    {
     "name": "stdout",
     "output_type": "stream",
     "text": [
      "key: train_loss -- value: 2.7925782203674316\n",
      "key: train_acc -- value: 0.4321666657924652\n",
      "key: val_loss -- value: 2.8053128719329834\n",
      "key: val_acc -- value: 0.4290333390235901\n"
     ]
    },
    {
     "name": "stderr",
     "output_type": "stream",
     "text": [
      "\r",
      "  4%|███▏                                                                             | 12/300 [00:09<03:50,  1.25it/s]"
     ]
    },
    {
     "name": "stdout",
     "output_type": "stream",
     "text": [
      "key: train_loss -- value: 2.731809139251709\n",
      "key: train_acc -- value: 0.45073333382606506\n",
      "key: val_loss -- value: 2.7465686798095703\n",
      "key: val_acc -- value: 0.4463333189487457\n"
     ]
    },
    {
     "name": "stderr",
     "output_type": "stream",
     "text": [
      "\r",
      "  4%|███▌                                                                             | 13/300 [00:10<03:50,  1.25it/s]"
     ]
    },
    {
     "name": "stdout",
     "output_type": "stream",
     "text": [
      "key: train_loss -- value: 2.6486265659332275\n",
      "key: train_acc -- value: 0.4653666615486145\n",
      "key: val_loss -- value: 2.664445161819458\n",
      "key: val_acc -- value: 0.460099995136261\n"
     ]
    },
    {
     "name": "stderr",
     "output_type": "stream",
     "text": [
      "\r",
      "  5%|███▊                                                                             | 14/300 [00:11<03:52,  1.23it/s]"
     ]
    },
    {
     "name": "stdout",
     "output_type": "stream",
     "text": [
      "key: train_loss -- value: 2.54643177986145\n",
      "key: train_acc -- value: 0.487199991941452\n",
      "key: val_loss -- value: 2.5599093437194824\n",
      "key: val_acc -- value: 0.48010000586509705\n"
     ]
    },
    {
     "name": "stderr",
     "output_type": "stream",
     "text": [
      "\r",
      "  5%|████                                                                             | 15/300 [00:12<03:50,  1.24it/s]"
     ]
    },
    {
     "name": "stdout",
     "output_type": "stream",
     "text": [
      "key: train_loss -- value: 2.483760118484497\n",
      "key: train_acc -- value: 0.5022666454315186\n",
      "key: val_loss -- value: 2.493957042694092\n",
      "key: val_acc -- value: 0.4987333416938782\n"
     ]
    },
    {
     "name": "stderr",
     "output_type": "stream",
     "text": [
      "\r",
      "  5%|████▎                                                                            | 16/300 [00:12<03:49,  1.24it/s]"
     ]
    },
    {
     "name": "stdout",
     "output_type": "stream",
     "text": [
      "key: train_loss -- value: 2.388981819152832\n",
      "key: train_acc -- value: 0.5183333158493042\n",
      "key: val_loss -- value: 2.3978214263916016\n",
      "key: val_acc -- value: 0.5163333415985107\n"
     ]
    },
    {
     "name": "stderr",
     "output_type": "stream",
     "text": [
      "\r",
      "  6%|████▌                                                                            | 17/300 [00:13<03:48,  1.24it/s]"
     ]
    },
    {
     "name": "stdout",
     "output_type": "stream",
     "text": [
      "key: train_loss -- value: 2.2481119632720947\n",
      "key: train_acc -- value: 0.548966646194458\n",
      "key: val_loss -- value: 2.258629083633423\n",
      "key: val_acc -- value: 0.5440666675567627\n"
     ]
    },
    {
     "name": "stderr",
     "output_type": "stream",
     "text": [
      "\r",
      "  6%|████▊                                                                            | 18/300 [00:14<03:47,  1.24it/s]"
     ]
    },
    {
     "name": "stdout",
     "output_type": "stream",
     "text": [
      "key: train_loss -- value: 2.1621434688568115\n",
      "key: train_acc -- value: 0.5863333344459534\n",
      "key: val_loss -- value: 2.1775054931640625\n",
      "key: val_acc -- value: 0.57833331823349\n"
     ]
    },
    {
     "name": "stderr",
     "output_type": "stream",
     "text": [
      "\r",
      "  6%|█████▏                                                                           | 19/300 [00:15<03:46,  1.24it/s]"
     ]
    },
    {
     "name": "stdout",
     "output_type": "stream",
     "text": [
      "key: train_loss -- value: 2.231940269470215\n",
      "key: train_acc -- value: 0.5898333191871643\n",
      "key: val_loss -- value: 2.252108573913574\n",
      "key: val_acc -- value: 0.5831999778747559\n"
     ]
    },
    {
     "name": "stderr",
     "output_type": "stream",
     "text": [
      "\r",
      "  7%|█████▍                                                                           | 20/300 [00:16<03:45,  1.24it/s]"
     ]
    },
    {
     "name": "stdout",
     "output_type": "stream",
     "text": [
      "key: train_loss -- value: 2.1848766803741455\n",
      "key: train_acc -- value: 0.6043000221252441\n",
      "key: val_loss -- value: 2.206207275390625\n",
      "key: val_acc -- value: 0.597266674041748\n"
     ]
    },
    {
     "name": "stderr",
     "output_type": "stream",
     "text": [
      "\r",
      "  7%|█████▋                                                                           | 21/300 [00:16<03:44,  1.24it/s]"
     ]
    },
    {
     "name": "stdout",
     "output_type": "stream",
     "text": [
      "key: train_loss -- value: 1.9785369634628296\n",
      "key: train_acc -- value: 0.642133355140686\n",
      "key: val_loss -- value: 1.9951484203338623\n",
      "key: val_acc -- value: 0.6359000205993652\n"
     ]
    },
    {
     "name": "stderr",
     "output_type": "stream",
     "text": [
      "\r",
      "  7%|█████▉                                                                           | 22/300 [00:17<03:43,  1.24it/s]"
     ]
    },
    {
     "name": "stdout",
     "output_type": "stream",
     "text": [
      "key: train_loss -- value: 1.8820489645004272\n",
      "key: train_acc -- value: 0.6620333194732666\n",
      "key: val_loss -- value: 1.8893712759017944\n",
      "key: val_acc -- value: 0.6589666604995728\n"
     ]
    },
    {
     "name": "stderr",
     "output_type": "stream",
     "text": [
      "\r",
      "  8%|██████▏                                                                          | 23/300 [00:18<03:43,  1.24it/s]"
     ]
    },
    {
     "name": "stdout",
     "output_type": "stream",
     "text": [
      "key: train_loss -- value: 1.9333829879760742\n",
      "key: train_acc -- value: 0.6568999886512756\n",
      "key: val_loss -- value: 1.934178352355957\n",
      "key: val_acc -- value: 0.6553666591644287\n"
     ]
    },
    {
     "name": "stderr",
     "output_type": "stream",
     "text": [
      "\r",
      "  8%|██████▍                                                                          | 24/300 [00:19<03:42,  1.24it/s]"
     ]
    },
    {
     "name": "stdout",
     "output_type": "stream",
     "text": [
      "key: train_loss -- value: 1.884544849395752\n",
      "key: train_acc -- value: 0.6668000221252441\n",
      "key: val_loss -- value: 1.885658860206604\n",
      "key: val_acc -- value: 0.664733350276947\n"
     ]
    },
    {
     "name": "stderr",
     "output_type": "stream",
     "text": [
      "\r",
      "  8%|██████▊                                                                          | 25/300 [00:20<03:41,  1.24it/s]"
     ]
    },
    {
     "name": "stdout",
     "output_type": "stream",
     "text": [
      "key: train_loss -- value: 1.8117021322250366\n",
      "key: train_acc -- value: 0.6797333359718323\n",
      "key: val_loss -- value: 1.8166232109069824\n",
      "key: val_acc -- value: 0.6786666512489319\n"
     ]
    },
    {
     "name": "stderr",
     "output_type": "stream",
     "text": [
      "\r",
      "  9%|███████                                                                          | 26/300 [00:21<03:41,  1.23it/s]"
     ]
    },
    {
     "name": "stdout",
     "output_type": "stream",
     "text": [
      "key: train_loss -- value: 1.7892563343048096\n",
      "key: train_acc -- value: 0.6815999746322632\n",
      "key: val_loss -- value: 1.7973042726516724\n",
      "key: val_acc -- value: 0.6816999912261963\n"
     ]
    },
    {
     "name": "stderr",
     "output_type": "stream",
     "text": [
      "\r",
      "  9%|███████▎                                                                         | 27/300 [00:21<03:41,  1.23it/s]"
     ]
    },
    {
     "name": "stdout",
     "output_type": "stream",
     "text": [
      "key: train_loss -- value: 1.7399052381515503\n",
      "key: train_acc -- value: 0.6872000098228455\n",
      "key: val_loss -- value: 1.7482367753982544\n",
      "key: val_acc -- value: 0.6854666471481323\n"
     ]
    },
    {
     "name": "stderr",
     "output_type": "stream",
     "text": [
      "\r",
      "  9%|███████▌                                                                         | 28/300 [00:22<03:41,  1.23it/s]"
     ]
    },
    {
     "name": "stdout",
     "output_type": "stream",
     "text": [
      "key: train_loss -- value: 1.6647206544876099\n",
      "key: train_acc -- value: 0.6938333511352539\n",
      "key: val_loss -- value: 1.6713453531265259\n",
      "key: val_acc -- value: 0.6924999952316284\n"
     ]
    },
    {
     "name": "stderr",
     "output_type": "stream",
     "text": [
      "\r",
      " 10%|███████▊                                                                         | 29/300 [00:23<03:40,  1.23it/s]"
     ]
    },
    {
     "name": "stdout",
     "output_type": "stream",
     "text": [
      "key: train_loss -- value: 1.634666919708252\n",
      "key: train_acc -- value: 0.6948666572570801\n",
      "key: val_loss -- value: 1.6402896642684937\n",
      "key: val_acc -- value: 0.6933666467666626\n"
     ]
    },
    {
     "name": "stderr",
     "output_type": "stream",
     "text": [
      "\r",
      " 10%|████████                                                                         | 30/300 [00:24<03:40,  1.23it/s]"
     ]
    },
    {
     "name": "stdout",
     "output_type": "stream",
     "text": [
      "key: train_loss -- value: 1.635332465171814\n",
      "key: train_acc -- value: 0.694266676902771\n",
      "key: val_loss -- value: 1.6413829326629639\n",
      "key: val_acc -- value: 0.6936333179473877\n"
     ]
    },
    {
     "name": "stderr",
     "output_type": "stream",
     "text": [
      "\r",
      " 10%|████████▎                                                                        | 31/300 [00:25<03:40,  1.22it/s]"
     ]
    },
    {
     "name": "stdout",
     "output_type": "stream",
     "text": [
      "key: train_loss -- value: 1.6080715656280518\n",
      "key: train_acc -- value: 0.6966666579246521\n",
      "key: val_loss -- value: 1.6158021688461304\n",
      "key: val_acc -- value: 0.6966000199317932\n"
     ]
    },
    {
     "name": "stderr",
     "output_type": "stream",
     "text": [
      "\r",
      " 11%|████████▋                                                                        | 32/300 [00:26<03:39,  1.22it/s]"
     ]
    },
    {
     "name": "stdout",
     "output_type": "stream",
     "text": [
      "key: train_loss -- value: 1.5816494226455688\n",
      "key: train_acc -- value: 0.6991666555404663\n",
      "key: val_loss -- value: 1.5904051065444946\n",
      "key: val_acc -- value: 0.698033332824707\n"
     ]
    },
    {
     "name": "stderr",
     "output_type": "stream",
     "text": [
      "\r",
      " 11%|████████▉                                                                        | 33/300 [00:27<03:38,  1.22it/s]"
     ]
    },
    {
     "name": "stdout",
     "output_type": "stream",
     "text": [
      "key: train_loss -- value: 1.5654375553131104\n",
      "key: train_acc -- value: 0.7023666501045227\n",
      "key: val_loss -- value: 1.5738601684570312\n",
      "key: val_acc -- value: 0.7000333070755005\n"
     ]
    },
    {
     "name": "stderr",
     "output_type": "stream",
     "text": [
      "\r",
      " 11%|█████████▏                                                                       | 34/300 [00:27<03:38,  1.22it/s]"
     ]
    },
    {
     "name": "stdout",
     "output_type": "stream",
     "text": [
      "key: train_loss -- value: 1.5459201335906982\n",
      "key: train_acc -- value: 0.7051666378974915\n",
      "key: val_loss -- value: 1.5533177852630615\n",
      "key: val_acc -- value: 0.7035333514213562\n"
     ]
    },
    {
     "name": "stderr",
     "output_type": "stream",
     "text": [
      "\r",
      " 12%|█████████▍                                                                       | 35/300 [00:28<03:37,  1.22it/s]"
     ]
    },
    {
     "name": "stdout",
     "output_type": "stream",
     "text": [
      "key: train_loss -- value: 1.5195127725601196\n",
      "key: train_acc -- value: 0.7086666822433472\n",
      "key: val_loss -- value: 1.5258482694625854\n",
      "key: val_acc -- value: 0.7071999907493591\n"
     ]
    },
    {
     "name": "stderr",
     "output_type": "stream",
     "text": [
      "\r",
      " 12%|█████████▋                                                                       | 36/300 [00:29<03:37,  1.22it/s]"
     ]
    },
    {
     "name": "stdout",
     "output_type": "stream",
     "text": [
      "key: train_loss -- value: 1.4949986934661865\n",
      "key: train_acc -- value: 0.7107999920845032\n",
      "key: val_loss -- value: 1.5005160570144653\n",
      "key: val_acc -- value: 0.7108666896820068\n"
     ]
    },
    {
     "name": "stderr",
     "output_type": "stream",
     "text": [
      "\r",
      " 12%|█████████▉                                                                       | 37/300 [00:30<03:35,  1.22it/s]"
     ]
    },
    {
     "name": "stdout",
     "output_type": "stream",
     "text": [
      "key: train_loss -- value: 1.4804739952087402\n",
      "key: train_acc -- value: 0.7124333381652832\n",
      "key: val_loss -- value: 1.485400915145874\n",
      "key: val_acc -- value: 0.7131999731063843\n"
     ]
    },
    {
     "name": "stderr",
     "output_type": "stream",
     "text": [
      "\r",
      " 13%|██████████▎                                                                      | 38/300 [00:31<03:35,  1.21it/s]"
     ]
    },
    {
     "name": "stdout",
     "output_type": "stream",
     "text": [
      "key: train_loss -- value: 1.4744399785995483\n",
      "key: train_acc -- value: 0.7131666541099548\n",
      "key: val_loss -- value: 1.4791555404663086\n",
      "key: val_acc -- value: 0.7142333388328552\n"
     ]
    },
    {
     "name": "stderr",
     "output_type": "stream",
     "text": [
      "\r",
      " 13%|██████████▌                                                                      | 39/300 [00:32<03:35,  1.21it/s]"
     ]
    },
    {
     "name": "stdout",
     "output_type": "stream",
     "text": [
      "key: train_loss -- value: 1.4678099155426025\n",
      "key: train_acc -- value: 0.714033305644989\n",
      "key: val_loss -- value: 1.4727917909622192\n",
      "key: val_acc -- value: 0.7149999737739563\n"
     ]
    },
    {
     "name": "stderr",
     "output_type": "stream",
     "text": [
      "\r",
      " 13%|██████████▊                                                                      | 40/300 [00:33<03:34,  1.21it/s]"
     ]
    },
    {
     "name": "stdout",
     "output_type": "stream",
     "text": [
      "key: train_loss -- value: 1.4542139768600464\n",
      "key: train_acc -- value: 0.7162666916847229\n",
      "key: val_loss -- value: 1.4598026275634766\n",
      "key: val_acc -- value: 0.7171333432197571\n"
     ]
    },
    {
     "name": "stderr",
     "output_type": "stream",
     "text": [
      "\r",
      " 14%|███████████                                                                      | 41/300 [00:33<03:34,  1.21it/s]"
     ]
    },
    {
     "name": "stdout",
     "output_type": "stream",
     "text": [
      "key: train_loss -- value: 1.4375263452529907\n",
      "key: train_acc -- value: 0.7191333174705505\n",
      "key: val_loss -- value: 1.4437930583953857\n",
      "key: val_acc -- value: 0.7186999917030334\n"
     ]
    },
    {
     "name": "stderr",
     "output_type": "stream",
     "text": [
      "\r",
      " 14%|███████████▎                                                                     | 42/300 [00:34<03:33,  1.21it/s]"
     ]
    },
    {
     "name": "stdout",
     "output_type": "stream",
     "text": [
      "key: train_loss -- value: 1.4238282442092896\n",
      "key: train_acc -- value: 0.7213666439056396\n",
      "key: val_loss -- value: 1.4306976795196533\n",
      "key: val_acc -- value: 0.7212666869163513\n"
     ]
    },
    {
     "name": "stderr",
     "output_type": "stream",
     "text": [
      "\r",
      " 14%|███████████▌                                                                     | 43/300 [00:35<03:33,  1.21it/s]"
     ]
    },
    {
     "name": "stdout",
     "output_type": "stream",
     "text": [
      "key: train_loss -- value: 1.413859486579895\n",
      "key: train_acc -- value: 0.7229666709899902\n",
      "key: val_loss -- value: 1.421220302581787\n",
      "key: val_acc -- value: 0.7219333052635193\n"
     ]
    },
    {
     "name": "stderr",
     "output_type": "stream",
     "text": [
      "\r",
      " 15%|███████████▉                                                                     | 44/300 [00:36<03:32,  1.21it/s]"
     ]
    },
    {
     "name": "stdout",
     "output_type": "stream",
     "text": [
      "key: train_loss -- value: 1.405369520187378\n",
      "key: train_acc -- value: 0.7242666482925415\n",
      "key: val_loss -- value: 1.4130849838256836\n",
      "key: val_acc -- value: 0.7230333089828491\n"
     ]
    },
    {
     "name": "stderr",
     "output_type": "stream",
     "text": [
      "\r",
      " 15%|████████████▏                                                                    | 45/300 [00:37<03:31,  1.20it/s]"
     ]
    },
    {
     "name": "stdout",
     "output_type": "stream",
     "text": [
      "key: train_loss -- value: 1.3967746496200562\n",
      "key: train_acc -- value: 0.725433349609375\n",
      "key: val_loss -- value: 1.4046788215637207\n",
      "key: val_acc -- value: 0.724133312702179\n"
     ]
    },
    {
     "name": "stderr",
     "output_type": "stream",
     "text": [
      "\r",
      " 15%|████████████▍                                                                    | 46/300 [00:38<03:31,  1.20it/s]"
     ]
    },
    {
     "name": "stdout",
     "output_type": "stream",
     "text": [
      "key: train_loss -- value: 1.388095498085022\n",
      "key: train_acc -- value: 0.7261999845504761\n",
      "key: val_loss -- value: 1.3960872888565063\n",
      "key: val_acc -- value: 0.7249000072479248\n"
     ]
    },
    {
     "name": "stderr",
     "output_type": "stream",
     "text": [
      "\r",
      " 16%|████████████▋                                                                    | 47/300 [00:39<03:30,  1.20it/s]"
     ]
    },
    {
     "name": "stdout",
     "output_type": "stream",
     "text": [
      "key: train_loss -- value: 1.3800787925720215\n",
      "key: train_acc -- value: 0.727066695690155\n",
      "key: val_loss -- value: 1.388128399848938\n",
      "key: val_acc -- value: 0.7261333465576172\n"
     ]
    },
    {
     "name": "stderr",
     "output_type": "stream",
     "text": [
      "\r",
      " 16%|████████████▉                                                                    | 48/300 [00:40<03:30,  1.20it/s]"
     ]
    },
    {
     "name": "stdout",
     "output_type": "stream",
     "text": [
      "key: train_loss -- value: 1.3732364177703857\n",
      "key: train_acc -- value: 0.7281333208084106\n",
      "key: val_loss -- value: 1.3814563751220703\n",
      "key: val_acc -- value: 0.7271999716758728\n"
     ]
    },
    {
     "name": "stderr",
     "output_type": "stream",
     "text": [
      "\r",
      " 16%|█████████████▏                                                                   | 49/300 [00:40<03:29,  1.20it/s]"
     ]
    },
    {
     "name": "stdout",
     "output_type": "stream",
     "text": [
      "key: train_loss -- value: 1.3672555685043335\n",
      "key: train_acc -- value: 0.728866696357727\n",
      "key: val_loss -- value: 1.3757917881011963\n",
      "key: val_acc -- value: 0.7279333472251892\n"
     ]
    },
    {
     "name": "stderr",
     "output_type": "stream",
     "text": [
      "\r",
      " 17%|█████████████▌                                                                   | 50/300 [00:41<03:29,  1.20it/s]"
     ]
    },
    {
     "name": "stdout",
     "output_type": "stream",
     "text": [
      "key: train_loss -- value: 1.3611116409301758\n",
      "key: train_acc -- value: 0.7298666834831238\n",
      "key: val_loss -- value: 1.3700944185256958\n",
      "key: val_acc -- value: 0.7284333109855652\n"
     ]
    },
    {
     "name": "stderr",
     "output_type": "stream",
     "text": [
      "\r",
      " 17%|█████████████▊                                                                   | 51/300 [00:42<03:28,  1.19it/s]"
     ]
    },
    {
     "name": "stdout",
     "output_type": "stream",
     "text": [
      "key: train_loss -- value: 1.354035496711731\n",
      "key: train_acc -- value: 0.7307666540145874\n",
      "key: val_loss -- value: 1.3635140657424927\n",
      "key: val_acc -- value: 0.7289000153541565\n"
     ]
    },
    {
     "name": "stderr",
     "output_type": "stream",
     "text": [
      "\r",
      " 17%|██████████████                                                                   | 52/300 [00:43<03:28,  1.19it/s]"
     ]
    },
    {
     "name": "stdout",
     "output_type": "stream",
     "text": [
      "key: train_loss -- value: 1.346394419670105\n",
      "key: train_acc -- value: 0.7313666939735413\n",
      "key: val_loss -- value: 1.3563523292541504\n",
      "key: val_acc -- value: 0.7294333577156067\n"
     ]
    },
    {
     "name": "stderr",
     "output_type": "stream",
     "text": [
      "\r",
      " 18%|██████████████▎                                                                  | 53/300 [00:44<03:27,  1.19it/s]"
     ]
    },
    {
     "name": "stdout",
     "output_type": "stream",
     "text": [
      "key: train_loss -- value: 1.3393234014511108\n",
      "key: train_acc -- value: 0.7321000099182129\n",
      "key: val_loss -- value: 1.3496930599212646\n",
      "key: val_acc -- value: 0.7302666902542114\n"
     ]
    },
    {
     "name": "stderr",
     "output_type": "stream",
     "text": [
      "\r",
      " 18%|██████████████▌                                                                  | 54/300 [00:45<03:26,  1.19it/s]"
     ]
    },
    {
     "name": "stdout",
     "output_type": "stream",
     "text": [
      "key: train_loss -- value: 1.3334949016571045\n",
      "key: train_acc -- value: 0.7328333258628845\n",
      "key: val_loss -- value: 1.3442071676254272\n",
      "key: val_acc -- value: 0.7307999730110168\n"
     ]
    },
    {
     "name": "stderr",
     "output_type": "stream",
     "text": [
      "\r",
      " 18%|██████████████▊                                                                  | 55/300 [00:46<03:26,  1.19it/s]"
     ]
    },
    {
     "name": "stdout",
     "output_type": "stream",
     "text": [
      "key: train_loss -- value: 1.3287005424499512\n",
      "key: train_acc -- value: 0.7336666584014893\n",
      "key: val_loss -- value: 1.3396825790405273\n",
      "key: val_acc -- value: 0.7317666411399841\n"
     ]
    },
    {
     "name": "stderr",
     "output_type": "stream",
     "text": [
      "\r",
      " 19%|███████████████                                                                  | 56/300 [00:47<03:25,  1.19it/s]"
     ]
    },
    {
     "name": "stdout",
     "output_type": "stream",
     "text": [
      "key: train_loss -- value: 1.3242738246917725\n",
      "key: train_acc -- value: 0.7343000173568726\n",
      "key: val_loss -- value: 1.3355048894882202\n",
      "key: val_acc -- value: 0.7329000234603882\n"
     ]
    },
    {
     "name": "stderr",
     "output_type": "stream",
     "text": [
      "\r",
      " 19%|███████████████▍                                                                 | 57/300 [00:47<03:24,  1.19it/s]"
     ]
    },
    {
     "name": "stdout",
     "output_type": "stream",
     "text": [
      "key: train_loss -- value: 1.3197369575500488\n",
      "key: train_acc -- value: 0.7352666854858398\n",
      "key: val_loss -- value: 1.3312547206878662\n",
      "key: val_acc -- value: 0.7336666584014893\n"
     ]
    },
    {
     "name": "stderr",
     "output_type": "stream",
     "text": [
      "\r",
      " 19%|███████████████▋                                                                 | 58/300 [00:48<03:23,  1.19it/s]"
     ]
    },
    {
     "name": "stdout",
     "output_type": "stream",
     "text": [
      "key: train_loss -- value: 1.314995288848877\n",
      "key: train_acc -- value: 0.7358666658401489\n",
      "key: val_loss -- value: 1.3268786668777466\n",
      "key: val_acc -- value: 0.7341333627700806\n"
     ]
    },
    {
     "name": "stderr",
     "output_type": "stream",
     "text": [
      "\r",
      " 20%|███████████████▉                                                                 | 59/300 [00:49<03:22,  1.19it/s]"
     ]
    },
    {
     "name": "stdout",
     "output_type": "stream",
     "text": [
      "key: train_loss -- value: 1.3101831674575806\n",
      "key: train_acc -- value: 0.736466646194458\n",
      "key: val_loss -- value: 1.3225003480911255\n",
      "key: val_acc -- value: 0.7347666621208191\n"
     ]
    },
    {
     "name": "stderr",
     "output_type": "stream",
     "text": [
      "\r",
      " 20%|████████████████▏                                                                | 60/300 [00:50<03:21,  1.19it/s]"
     ]
    },
    {
     "name": "stdout",
     "output_type": "stream",
     "text": [
      "key: train_loss -- value: 1.305402398109436\n",
      "key: train_acc -- value: 0.7369333505630493\n",
      "key: val_loss -- value: 1.3182320594787598\n",
      "key: val_acc -- value: 0.7353000044822693\n"
     ]
    },
    {
     "name": "stderr",
     "output_type": "stream",
     "text": [
      "\r",
      " 20%|████████████████▍                                                                | 61/300 [00:51<03:21,  1.19it/s]"
     ]
    },
    {
     "name": "stdout",
     "output_type": "stream",
     "text": [
      "key: train_loss -- value: 1.3008166551589966\n",
      "key: train_acc -- value: 0.7379000186920166\n",
      "key: val_loss -- value: 1.3141765594482422\n",
      "key: val_acc -- value: 0.7361000180244446\n"
     ]
    },
    {
     "name": "stderr",
     "output_type": "stream",
     "text": [
      "\r",
      " 21%|████████████████▋                                                                | 62/300 [00:52<03:20,  1.19it/s]"
     ]
    },
    {
     "name": "stdout",
     "output_type": "stream",
     "text": [
      "key: train_loss -- value: 1.2965677976608276\n",
      "key: train_acc -- value: 0.7383000254631042\n",
      "key: val_loss -- value: 1.310457706451416\n",
      "key: val_acc -- value: 0.736466646194458\n"
     ]
    },
    {
     "name": "stderr",
     "output_type": "stream",
     "text": [
      "\r",
      " 21%|█████████████████                                                                | 63/300 [00:53<03:19,  1.19it/s]"
     ]
    },
    {
     "name": "stdout",
     "output_type": "stream",
     "text": [
      "key: train_loss -- value: 1.292668104171753\n",
      "key: train_acc -- value: 0.7386000156402588\n",
      "key: val_loss -- value: 1.3070635795593262\n",
      "key: val_acc -- value: 0.7368666529655457\n"
     ]
    },
    {
     "name": "stderr",
     "output_type": "stream",
     "text": [
      "\r",
      " 21%|█████████████████▎                                                               | 64/300 [00:54<03:19,  1.18it/s]"
     ]
    },
    {
     "name": "stdout",
     "output_type": "stream",
     "text": [
      "key: train_loss -- value: 1.2890182733535767\n",
      "key: train_acc -- value: 0.7394000291824341\n",
      "key: val_loss -- value: 1.3038498163223267\n",
      "key: val_acc -- value: 0.7371333241462708\n"
     ]
    },
    {
     "name": "stderr",
     "output_type": "stream",
     "text": [
      "\r",
      " 22%|█████████████████▌                                                               | 65/300 [00:54<03:18,  1.18it/s]"
     ]
    },
    {
     "name": "stdout",
     "output_type": "stream",
     "text": [
      "key: train_loss -- value: 1.2854708433151245\n",
      "key: train_acc -- value: 0.7398666739463806\n",
      "key: val_loss -- value: 1.300683856010437\n",
      "key: val_acc -- value: 0.737333357334137\n"
     ]
    },
    {
     "name": "stderr",
     "output_type": "stream",
     "text": [
      "\r",
      " 22%|█████████████████▊                                                               | 66/300 [00:55<03:17,  1.18it/s]"
     ]
    },
    {
     "name": "stdout",
     "output_type": "stream",
     "text": [
      "key: train_loss -- value: 1.2819310426712036\n",
      "key: train_acc -- value: 0.7400333285331726\n",
      "key: val_loss -- value: 1.297481894493103\n",
      "key: val_acc -- value: 0.737766683101654\n"
     ]
    },
    {
     "name": "stderr",
     "output_type": "stream",
     "text": [
      "\r",
      " 22%|██████████████████                                                               | 67/300 [00:56<03:16,  1.18it/s]"
     ]
    },
    {
     "name": "stdout",
     "output_type": "stream",
     "text": [
      "key: train_loss -- value: 1.278462290763855\n",
      "key: train_acc -- value: 0.7404333353042603\n",
      "key: val_loss -- value: 1.2943216562271118\n",
      "key: val_acc -- value: 0.7380333542823792\n"
     ]
    },
    {
     "name": "stderr",
     "output_type": "stream",
     "text": [
      "\r",
      " 23%|██████████████████▎                                                              | 68/300 [00:57<03:16,  1.18it/s]"
     ]
    },
    {
     "name": "stdout",
     "output_type": "stream",
     "text": [
      "key: train_loss -- value: 1.2751258611679077\n",
      "key: train_acc -- value: 0.7407333254814148\n",
      "key: val_loss -- value: 1.2912743091583252\n",
      "key: val_acc -- value: 0.7383000254631042\n"
     ]
    },
    {
     "name": "stderr",
     "output_type": "stream",
     "text": [
      "\r",
      " 23%|██████████████████▋                                                              | 69/300 [00:58<03:15,  1.18it/s]"
     ]
    },
    {
     "name": "stdout",
     "output_type": "stream",
     "text": [
      "key: train_loss -- value: 1.2719157934188843\n",
      "key: train_acc -- value: 0.7413666844367981\n",
      "key: val_loss -- value: 1.2883381843566895\n",
      "key: val_acc -- value: 0.7388666868209839\n"
     ]
    },
    {
     "name": "stderr",
     "output_type": "stream",
     "text": [
      "\r",
      " 23%|██████████████████▉                                                              | 70/300 [00:59<03:15,  1.18it/s]"
     ]
    },
    {
     "name": "stdout",
     "output_type": "stream",
     "text": [
      "key: train_loss -- value: 1.2687523365020752\n",
      "key: train_acc -- value: 0.7416666746139526\n",
      "key: val_loss -- value: 1.285441517829895\n",
      "key: val_acc -- value: 0.739466667175293\n"
     ]
    },
    {
     "name": "stderr",
     "output_type": "stream",
     "text": [
      "\r",
      " 24%|███████████████████▏                                                             | 71/300 [01:00<03:14,  1.18it/s]"
     ]
    },
    {
     "name": "stdout",
     "output_type": "stream",
     "text": [
      "key: train_loss -- value: 1.265571117401123\n",
      "key: train_acc -- value: 0.7425000071525574\n",
      "key: val_loss -- value: 1.2825210094451904\n",
      "key: val_acc -- value: 0.7399666905403137\n"
     ]
    },
    {
     "name": "stderr",
     "output_type": "stream",
     "text": [
      "\r",
      " 24%|███████████████████▍                                                             | 72/300 [01:01<03:14,  1.17it/s]"
     ]
    },
    {
     "name": "stdout",
     "output_type": "stream",
     "text": [
      "key: train_loss -- value: 1.2624146938323975\n",
      "key: train_acc -- value: 0.7426999807357788\n",
      "key: val_loss -- value: 1.2796069383621216\n",
      "key: val_acc -- value: 0.7406666874885559\n"
     ]
    },
    {
     "name": "stderr",
     "output_type": "stream",
     "text": [
      "\r",
      " 24%|███████████████████▋                                                             | 73/300 [01:02<03:13,  1.17it/s]"
     ]
    },
    {
     "name": "stdout",
     "output_type": "stream",
     "text": [
      "key: train_loss -- value: 1.2593421936035156\n",
      "key: train_acc -- value: 0.743066668510437\n",
      "key: val_loss -- value: 1.2767939567565918\n",
      "key: val_acc -- value: 0.7405999898910522\n"
     ]
    },
    {
     "name": "stderr",
     "output_type": "stream",
     "text": [
      "\r",
      " 25%|███████████████████▉                                                             | 74/300 [01:03<03:13,  1.17it/s]"
     ]
    },
    {
     "name": "stdout",
     "output_type": "stream",
     "text": [
      "key: train_loss -- value: 1.25642991065979\n",
      "key: train_acc -- value: 0.7435333132743835\n",
      "key: val_loss -- value: 1.27414071559906\n",
      "key: val_acc -- value: 0.740933358669281\n"
     ]
    },
    {
     "name": "stderr",
     "output_type": "stream",
     "text": [
      "\r",
      " 25%|████████████████████▎                                                            | 75/300 [01:04<03:12,  1.17it/s]"
     ]
    },
    {
     "name": "stdout",
     "output_type": "stream",
     "text": [
      "key: train_loss -- value: 1.253688931465149\n",
      "key: train_acc -- value: 0.7440999746322632\n",
      "key: val_loss -- value: 1.271669864654541\n",
      "key: val_acc -- value: 0.7414666414260864\n"
     ]
    },
    {
     "name": "stderr",
     "output_type": "stream",
     "text": [
      "\r",
      " 25%|████████████████████▌                                                            | 76/300 [01:05<03:11,  1.17it/s]"
     ]
    },
    {
     "name": "stdout",
     "output_type": "stream",
     "text": [
      "key: train_loss -- value: 1.2510371208190918\n",
      "key: train_acc -- value: 0.7444666624069214\n",
      "key: val_loss -- value: 1.2692877054214478\n",
      "key: val_acc -- value: 0.7416666746139526\n"
     ]
    },
    {
     "name": "stderr",
     "output_type": "stream",
     "text": [
      "\r",
      " 26%|████████████████████▊                                                            | 77/300 [01:05<03:11,  1.17it/s]"
     ]
    },
    {
     "name": "stdout",
     "output_type": "stream",
     "text": [
      "key: train_loss -- value: 1.2484064102172852\n",
      "key: train_acc -- value: 0.7447999715805054\n",
      "key: val_loss -- value: 1.2669376134872437\n",
      "key: val_acc -- value: 0.7421000003814697\n"
     ]
    },
    {
     "name": "stderr",
     "output_type": "stream",
     "text": [
      "\r",
      " 26%|█████████████████████                                                            | 78/300 [01:06<03:10,  1.16it/s]"
     ]
    },
    {
     "name": "stdout",
     "output_type": "stream",
     "text": [
      "key: train_loss -- value: 1.2457510232925415\n",
      "key: train_acc -- value: 0.7451666593551636\n",
      "key: val_loss -- value: 1.2645705938339233\n",
      "key: val_acc -- value: 0.7424333095550537\n"
     ]
    },
    {
     "name": "stderr",
     "output_type": "stream",
     "text": [
      "\r",
      " 26%|█████████████████████▎                                                           | 79/300 [01:07<03:10,  1.16it/s]"
     ]
    },
    {
     "name": "stdout",
     "output_type": "stream",
     "text": [
      "key: train_loss -- value: 1.243087649345398\n",
      "key: train_acc -- value: 0.7456666827201843\n",
      "key: val_loss -- value: 1.2621991634368896\n",
      "key: val_acc -- value: 0.7427666783332825\n"
     ]
    },
    {
     "name": "stderr",
     "output_type": "stream",
     "text": [
      "\r",
      " 27%|█████████████████████▌                                                           | 80/300 [01:08<03:09,  1.16it/s]"
     ]
    },
    {
     "name": "stdout",
     "output_type": "stream",
     "text": [
      "key: train_loss -- value: 1.2404654026031494\n",
      "key: train_acc -- value: 0.7460333108901978\n",
      "key: val_loss -- value: 1.2598438262939453\n",
      "key: val_acc -- value: 0.7430333495140076\n"
     ]
    },
    {
     "name": "stderr",
     "output_type": "stream",
     "text": [
      "\r",
      " 27%|█████████████████████▊                                                           | 81/300 [01:09<03:08,  1.16it/s]"
     ]
    },
    {
     "name": "stdout",
     "output_type": "stream",
     "text": [
      "key: train_loss -- value: 1.2379133701324463\n",
      "key: train_acc -- value: 0.7464666962623596\n",
      "key: val_loss -- value: 1.2575651407241821\n",
      "key: val_acc -- value: 0.743399977684021\n"
     ]
    },
    {
     "name": "stderr",
     "output_type": "stream",
     "text": [
      "\r",
      " 27%|██████████████████████▏                                                          | 82/300 [01:10<03:07,  1.16it/s]"
     ]
    },
    {
     "name": "stdout",
     "output_type": "stream",
     "text": [
      "key: train_loss -- value: 1.235459804534912\n",
      "key: train_acc -- value: 0.7466333508491516\n",
      "key: val_loss -- value: 1.2553694248199463\n",
      "key: val_acc -- value: 0.7435333132743835\n"
     ]
    },
    {
     "name": "stderr",
     "output_type": "stream",
     "text": [
      "\r",
      " 28%|██████████████████████▍                                                          | 83/300 [01:11<03:06,  1.16it/s]"
     ]
    },
    {
     "name": "stdout",
     "output_type": "stream",
     "text": [
      "key: train_loss -- value: 1.2330881357192993\n",
      "key: train_acc -- value: 0.7469666600227356\n",
      "key: val_loss -- value: 1.2532566785812378\n",
      "key: val_acc -- value: 0.7437000274658203\n"
     ]
    },
    {
     "name": "stderr",
     "output_type": "stream",
     "text": [
      "\r",
      " 28%|██████████████████████▋                                                          | 84/300 [01:12<03:06,  1.16it/s]"
     ]
    },
    {
     "name": "stdout",
     "output_type": "stream",
     "text": [
      "key: train_loss -- value: 1.2307639122009277\n",
      "key: train_acc -- value: 0.7474666833877563\n",
      "key: val_loss -- value: 1.2511839866638184\n",
      "key: val_acc -- value: 0.7441333532333374\n"
     ]
    },
    {
     "name": "stderr",
     "output_type": "stream",
     "text": [
      "\r",
      " 28%|██████████████████████▉                                                          | 85/300 [01:13<03:05,  1.16it/s]"
     ]
    },
    {
     "name": "stdout",
     "output_type": "stream",
     "text": [
      "key: train_loss -- value: 1.2284685373306274\n",
      "key: train_acc -- value: 0.7476666569709778\n",
      "key: val_loss -- value: 1.2491379976272583\n",
      "key: val_acc -- value: 0.7444333434104919\n"
     ]
    },
    {
     "name": "stderr",
     "output_type": "stream",
     "text": [
      "\r",
      " 29%|███████████████████████▏                                                         | 86/300 [01:14<03:04,  1.16it/s]"
     ]
    },
    {
     "name": "stdout",
     "output_type": "stream",
     "text": [
      "key: train_loss -- value: 1.2261762619018555\n",
      "key: train_acc -- value: 0.748033344745636\n",
      "key: val_loss -- value: 1.247105360031128\n",
      "key: val_acc -- value: 0.7446333169937134\n"
     ]
    },
    {
     "name": "stderr",
     "output_type": "stream",
     "text": [
      "\r",
      " 29%|███████████████████████▍                                                         | 87/300 [01:15<03:03,  1.16it/s]"
     ]
    },
    {
     "name": "stdout",
     "output_type": "stream",
     "text": [
      "key: train_loss -- value: 1.2239197492599487\n",
      "key: train_acc -- value: 0.7482666373252869\n",
      "key: val_loss -- value: 1.2450875043869019\n",
      "key: val_acc -- value: 0.7448333501815796\n"
     ]
    },
    {
     "name": "stderr",
     "output_type": "stream",
     "text": [
      "\r",
      " 29%|███████████████████████▊                                                         | 88/300 [01:15<03:02,  1.16it/s]"
     ]
    },
    {
     "name": "stdout",
     "output_type": "stream",
     "text": [
      "key: train_loss -- value: 1.2216929197311401\n",
      "key: train_acc -- value: 0.7487000226974487\n",
      "key: val_loss -- value: 1.243109941482544\n",
      "key: val_acc -- value: 0.745033323764801\n"
     ]
    },
    {
     "name": "stderr",
     "output_type": "stream",
     "text": [
      "\r",
      " 30%|████████████████████████                                                         | 89/300 [01:16<03:01,  1.16it/s]"
     ]
    },
    {
     "name": "stdout",
     "output_type": "stream",
     "text": [
      "key: train_loss -- value: 1.2195112705230713\n",
      "key: train_acc -- value: 0.7487999796867371\n",
      "key: val_loss -- value: 1.2411569356918335\n",
      "key: val_acc -- value: 0.7455333471298218\n"
     ]
    },
    {
     "name": "stderr",
     "output_type": "stream",
     "text": [
      "\r",
      " 30%|████████████████████████▎                                                        | 90/300 [01:17<03:01,  1.16it/s]"
     ]
    },
    {
     "name": "stdout",
     "output_type": "stream",
     "text": [
      "key: train_loss -- value: 1.2173689603805542\n",
      "key: train_acc -- value: 0.7489333152770996\n",
      "key: val_loss -- value: 1.2392264604568481\n",
      "key: val_acc -- value: 0.7457333207130432\n"
     ]
    },
    {
     "name": "stderr",
     "output_type": "stream",
     "text": [
      "\r",
      " 30%|████████████████████████▌                                                        | 91/300 [01:18<03:00,  1.16it/s]"
     ]
    },
    {
     "name": "stdout",
     "output_type": "stream",
     "text": [
      "key: train_loss -- value: 1.215247392654419\n",
      "key: train_acc -- value: 0.7491666674613953\n",
      "key: val_loss -- value: 1.237327218055725\n",
      "key: val_acc -- value: 0.7461000084877014\n"
     ]
    },
    {
     "name": "stderr",
     "output_type": "stream",
     "text": [
      "\r",
      " 31%|████████████████████████▊                                                        | 92/300 [01:19<02:59,  1.16it/s]"
     ]
    },
    {
     "name": "stdout",
     "output_type": "stream",
     "text": [
      "key: train_loss -- value: 1.2131600379943848\n",
      "key: train_acc -- value: 0.7493666410446167\n",
      "key: val_loss -- value: 1.2354352474212646\n",
      "key: val_acc -- value: 0.7463333606719971\n"
     ]
    },
    {
     "name": "stderr",
     "output_type": "stream",
     "text": [
      "\r",
      " 31%|█████████████████████████                                                        | 93/300 [01:20<02:58,  1.16it/s]"
     ]
    },
    {
     "name": "stdout",
     "output_type": "stream",
     "text": [
      "key: train_loss -- value: 1.2110986709594727\n",
      "key: train_acc -- value: 0.7495666742324829\n",
      "key: val_loss -- value: 1.233586072921753\n",
      "key: val_acc -- value: 0.7464666962623596\n"
     ]
    },
    {
     "name": "stderr",
     "output_type": "stream",
     "text": [
      "\r",
      " 31%|█████████████████████████▍                                                       | 94/300 [01:21<02:57,  1.16it/s]"
     ]
    },
    {
     "name": "stdout",
     "output_type": "stream",
     "text": [
      "key: train_loss -- value: 1.2090799808502197\n",
      "key: train_acc -- value: 0.7497333288192749\n",
      "key: val_loss -- value: 1.2317830324172974\n",
      "key: val_acc -- value: 0.7466999888420105\n"
     ]
    },
    {
     "name": "stderr",
     "output_type": "stream",
     "text": [
      "\r",
      " 32%|█████████████████████████▋                                                       | 95/300 [01:22<02:57,  1.16it/s]"
     ]
    },
    {
     "name": "stdout",
     "output_type": "stream",
     "text": [
      "key: train_loss -- value: 1.2070882320404053\n",
      "key: train_acc -- value: 0.7498666644096375\n",
      "key: val_loss -- value: 1.2300204038619995\n",
      "key: val_acc -- value: 0.7470333576202393\n"
     ]
    },
    {
     "name": "stderr",
     "output_type": "stream",
     "text": [
      "\r",
      " 32%|█████████████████████████▉                                                       | 96/300 [01:23<02:56,  1.16it/s]"
     ]
    },
    {
     "name": "stdout",
     "output_type": "stream",
     "text": [
      "key: train_loss -- value: 1.205125331878662\n",
      "key: train_acc -- value: 0.750166654586792\n",
      "key: val_loss -- value: 1.2282979488372803\n",
      "key: val_acc -- value: 0.7472666501998901\n"
     ]
    },
    {
     "name": "stderr",
     "output_type": "stream",
     "text": [
      "\r",
      " 32%|██████████████████████████▏                                                      | 97/300 [01:23<02:55,  1.16it/s]"
     ]
    },
    {
     "name": "stdout",
     "output_type": "stream",
     "text": [
      "key: train_loss -- value: 1.2031795978546143\n",
      "key: train_acc -- value: 0.7505999803543091\n",
      "key: val_loss -- value: 1.2265979051589966\n",
      "key: val_acc -- value: 0.7473999857902527\n"
     ]
    },
    {
     "name": "stderr",
     "output_type": "stream",
     "text": [
      "\r",
      " 33%|██████████████████████████▍                                                      | 98/300 [01:24<02:54,  1.16it/s]"
     ]
    },
    {
     "name": "stdout",
     "output_type": "stream",
     "text": [
      "key: train_loss -- value: 1.2012393474578857\n",
      "key: train_acc -- value: 0.7508333325386047\n",
      "key: val_loss -- value: 1.2249259948730469\n",
      "key: val_acc -- value: 0.7476000189781189\n"
     ]
    },
    {
     "name": "stderr",
     "output_type": "stream",
     "text": [
      "\r",
      " 33%|██████████████████████████▋                                                      | 99/300 [01:25<02:53,  1.16it/s]"
     ]
    },
    {
     "name": "stdout",
     "output_type": "stream",
     "text": [
      "key: train_loss -- value: 1.1993273496627808\n",
      "key: train_acc -- value: 0.7510333061218262\n",
      "key: val_loss -- value: 1.2232774496078491\n",
      "key: val_acc -- value: 0.7478333115577698\n"
     ]
    },
    {
     "name": "stderr",
     "output_type": "stream",
     "text": [
      "\r",
      " 33%|██████████████████████████▋                                                     | 100/300 [01:26<02:53,  1.16it/s]"
     ]
    },
    {
     "name": "stdout",
     "output_type": "stream",
     "text": [
      "key: train_loss -- value: 1.1974365711212158\n",
      "key: train_acc -- value: 0.7512999773025513\n",
      "key: val_loss -- value: 1.2216418981552124\n",
      "key: val_acc -- value: 0.7480666637420654\n"
     ]
    },
    {
     "name": "stderr",
     "output_type": "stream",
     "text": [
      "\r",
      " 34%|██████████████████████████▉                                                     | 101/300 [01:27<02:52,  1.16it/s]"
     ]
    },
    {
     "name": "stdout",
     "output_type": "stream",
     "text": [
      "key: train_loss -- value: 1.195573091506958\n",
      "key: train_acc -- value: 0.7516000270843506\n",
      "key: val_loss -- value: 1.2200134992599487\n",
      "key: val_acc -- value: 0.748199999332428\n"
     ]
    },
    {
     "name": "stderr",
     "output_type": "stream",
     "text": [
      "\r",
      " 34%|███████████████████████████▏                                                    | 102/300 [01:28<02:51,  1.16it/s]"
     ]
    },
    {
     "name": "stdout",
     "output_type": "stream",
     "text": [
      "key: train_loss -- value: 1.1937239170074463\n",
      "key: train_acc -- value: 0.7516999840736389\n",
      "key: val_loss -- value: 1.2183935642242432\n",
      "key: val_acc -- value: 0.7484666705131531\n"
     ]
    },
    {
     "name": "stderr",
     "output_type": "stream",
     "text": [
      "\r",
      " 34%|███████████████████████████▍                                                    | 103/300 [01:29<02:50,  1.15it/s]"
     ]
    },
    {
     "name": "stdout",
     "output_type": "stream",
     "text": [
      "key: train_loss -- value: 1.1918950080871582\n",
      "key: train_acc -- value: 0.7519000172615051\n",
      "key: val_loss -- value: 1.216788411140442\n",
      "key: val_acc -- value: 0.7487666606903076\n"
     ]
    },
    {
     "name": "stderr",
     "output_type": "stream",
     "text": [
      "\r",
      " 35%|███████████████████████████▋                                                    | 104/300 [01:30<02:49,  1.15it/s]"
     ]
    },
    {
     "name": "stdout",
     "output_type": "stream",
     "text": [
      "key: train_loss -- value: 1.1900866031646729\n",
      "key: train_acc -- value: 0.7522666454315186\n",
      "key: val_loss -- value: 1.2151834964752197\n",
      "key: val_acc -- value: 0.7489666938781738\n"
     ]
    },
    {
     "name": "stderr",
     "output_type": "stream",
     "text": [
      "\r",
      " 35%|████████████████████████████                                                    | 105/300 [01:31<02:49,  1.15it/s]"
     ]
    },
    {
     "name": "stdout",
     "output_type": "stream",
     "text": [
      "key: train_loss -- value: 1.1882941722869873\n",
      "key: train_acc -- value: 0.7525333166122437\n",
      "key: val_loss -- value: 1.213598608970642\n",
      "key: val_acc -- value: 0.7492666840553284\n"
     ]
    },
    {
     "name": "stderr",
     "output_type": "stream",
     "text": [
      "\r",
      " 35%|████████████████████████████▎                                                   | 106/300 [01:31<02:48,  1.15it/s]"
     ]
    },
    {
     "name": "stdout",
     "output_type": "stream",
     "text": [
      "key: train_loss -- value: 1.1865050792694092\n",
      "key: train_acc -- value: 0.7529000043869019\n",
      "key: val_loss -- value: 1.212015986442566\n",
      "key: val_acc -- value: 0.7493333220481873\n"
     ]
    },
    {
     "name": "stderr",
     "output_type": "stream",
     "text": [
      "\r",
      " 36%|████████████████████████████▌                                                   | 107/300 [01:32<02:47,  1.15it/s]"
     ]
    },
    {
     "name": "stdout",
     "output_type": "stream",
     "text": [
      "key: train_loss -- value: 1.1847171783447266\n",
      "key: train_acc -- value: 0.7530333399772644\n",
      "key: val_loss -- value: 1.2104418277740479\n",
      "key: val_acc -- value: 0.7494333386421204\n"
     ]
    },
    {
     "name": "stderr",
     "output_type": "stream",
     "text": [
      "\r",
      " 36%|████████████████████████████▊                                                   | 108/300 [01:33<02:46,  1.15it/s]"
     ]
    },
    {
     "name": "stdout",
     "output_type": "stream",
     "text": [
      "key: train_loss -- value: 1.1829358339309692\n",
      "key: train_acc -- value: 0.7532666921615601\n",
      "key: val_loss -- value: 1.208884358406067\n",
      "key: val_acc -- value: 0.7497333288192749\n"
     ]
    },
    {
     "name": "stderr",
     "output_type": "stream",
     "text": [
      "\r",
      " 36%|█████████████████████████████                                                   | 109/300 [01:34<02:45,  1.15it/s]"
     ]
    },
    {
     "name": "stdout",
     "output_type": "stream",
     "text": [
      "key: train_loss -- value: 1.1811623573303223\n",
      "key: train_acc -- value: 0.7534000277519226\n",
      "key: val_loss -- value: 1.2073320150375366\n",
      "key: val_acc -- value: 0.7499333620071411\n"
     ]
    },
    {
     "name": "stderr",
     "output_type": "stream",
     "text": [
      "\r",
      " 37%|█████████████████████████████▎                                                  | 110/300 [01:35<02:45,  1.15it/s]"
     ]
    },
    {
     "name": "stdout",
     "output_type": "stream",
     "text": [
      "key: train_loss -- value: 1.1793900728225708\n",
      "key: train_acc -- value: 0.7536333203315735\n",
      "key: val_loss -- value: 1.205788016319275\n",
      "key: val_acc -- value: 0.7502999901771545\n"
     ]
    },
    {
     "name": "stderr",
     "output_type": "stream",
     "text": [
      "\r",
      " 37%|█████████████████████████████▌                                                  | 111/300 [01:36<02:44,  1.15it/s]"
     ]
    },
    {
     "name": "stdout",
     "output_type": "stream",
     "text": [
      "key: train_loss -- value: 1.1776173114776611\n",
      "key: train_acc -- value: 0.7540333271026611\n",
      "key: val_loss -- value: 1.2042310237884521\n",
      "key: val_acc -- value: 0.7505333423614502\n"
     ]
    },
    {
     "name": "stderr",
     "output_type": "stream",
     "text": [
      "\r",
      " 37%|█████████████████████████████▊                                                  | 112/300 [01:37<02:43,  1.15it/s]"
     ]
    },
    {
     "name": "stdout",
     "output_type": "stream",
     "text": [
      "key: train_loss -- value: 1.1758322715759277\n",
      "key: train_acc -- value: 0.7544000148773193\n",
      "key: val_loss -- value: 1.202666997909546\n",
      "key: val_acc -- value: 0.7507333159446716\n"
     ]
    },
    {
     "name": "stderr",
     "output_type": "stream",
     "text": [
      "\r",
      " 38%|██████████████████████████████▏                                                 | 113/300 [01:38<02:42,  1.15it/s]"
     ]
    },
    {
     "name": "stdout",
     "output_type": "stream",
     "text": [
      "key: train_loss -- value: 1.1740237474441528\n",
      "key: train_acc -- value: 0.7545666694641113\n",
      "key: val_loss -- value: 1.2010688781738281\n",
      "key: val_acc -- value: 0.7508333325386047\n"
     ]
    },
    {
     "name": "stderr",
     "output_type": "stream",
     "text": [
      "\r",
      " 38%|██████████████████████████████▍                                                 | 114/300 [01:39<02:42,  1.15it/s]"
     ]
    },
    {
     "name": "stdout",
     "output_type": "stream",
     "text": [
      "key: train_loss -- value: 1.1721868515014648\n",
      "key: train_acc -- value: 0.7549333572387695\n",
      "key: val_loss -- value: 1.199437141418457\n",
      "key: val_acc -- value: 0.7509999871253967\n"
     ]
    },
    {
     "name": "stderr",
     "output_type": "stream",
     "text": [
      "\r",
      " 38%|██████████████████████████████▋                                                 | 115/300 [01:40<02:41,  1.15it/s]"
     ]
    },
    {
     "name": "stdout",
     "output_type": "stream",
     "text": [
      "key: train_loss -- value: 1.1703046560287476\n",
      "key: train_acc -- value: 0.755133330821991\n",
      "key: val_loss -- value: 1.1977555751800537\n",
      "key: val_acc -- value: 0.7511333227157593\n"
     ]
    },
    {
     "name": "stderr",
     "output_type": "stream",
     "text": [
      "\r",
      " 39%|██████████████████████████████▉                                                 | 116/300 [01:40<02:40,  1.15it/s]"
     ]
    },
    {
     "name": "stdout",
     "output_type": "stream",
     "text": [
      "key: train_loss -- value: 1.168358325958252\n",
      "key: train_acc -- value: 0.7554333209991455\n",
      "key: val_loss -- value: 1.1960045099258423\n",
      "key: val_acc -- value: 0.7513333559036255\n"
     ]
    },
    {
     "name": "stderr",
     "output_type": "stream",
     "text": [
      "\r",
      " 39%|███████████████████████████████▏                                                | 117/300 [01:41<02:39,  1.15it/s]"
     ]
    },
    {
     "name": "stdout",
     "output_type": "stream",
     "text": [
      "key: train_loss -- value: 1.166316032409668\n",
      "key: train_acc -- value: 0.7558333277702332\n",
      "key: val_loss -- value: 1.194162130355835\n",
      "key: val_acc -- value: 0.7514333128929138\n"
     ]
    },
    {
     "name": "stderr",
     "output_type": "stream",
     "text": [
      "\r",
      " 39%|███████████████████████████████▍                                                | 118/300 [01:42<02:38,  1.15it/s]"
     ]
    },
    {
     "name": "stdout",
     "output_type": "stream",
     "text": [
      "key: train_loss -- value: 1.1641409397125244\n",
      "key: train_acc -- value: 0.7560666799545288\n",
      "key: val_loss -- value: 1.192179799079895\n",
      "key: val_acc -- value: 0.7515333294868469\n"
     ]
    },
    {
     "name": "stderr",
     "output_type": "stream",
     "text": [
      "\r",
      " 40%|███████████████████████████████▋                                                | 119/300 [01:43<02:37,  1.15it/s]"
     ]
    },
    {
     "name": "stdout",
     "output_type": "stream",
     "text": [
      "key: train_loss -- value: 1.1617534160614014\n",
      "key: train_acc -- value: 0.7561333179473877\n",
      "key: val_loss -- value: 1.1899958848953247\n",
      "key: val_acc -- value: 0.751800000667572\n"
     ]
    },
    {
     "name": "stderr",
     "output_type": "stream",
     "text": [
      "\r",
      " 40%|████████████████████████████████                                                | 120/300 [01:44<02:36,  1.15it/s]"
     ]
    },
    {
     "name": "stdout",
     "output_type": "stream",
     "text": [
      "key: train_loss -- value: 1.159043788909912\n",
      "key: train_acc -- value: 0.756600022315979\n",
      "key: val_loss -- value: 1.1874903440475464\n",
      "key: val_acc -- value: 0.7520333528518677\n"
     ]
    },
    {
     "name": "stderr",
     "output_type": "stream",
     "text": [
      "\r",
      " 40%|████████████████████████████████▎                                               | 121/300 [01:45<02:35,  1.15it/s]"
     ]
    },
    {
     "name": "stdout",
     "output_type": "stream",
     "text": [
      "key: train_loss -- value: 1.1558035612106323\n",
      "key: train_acc -- value: 0.7572000026702881\n",
      "key: val_loss -- value: 1.184464693069458\n",
      "key: val_acc -- value: 0.7526000142097473\n"
     ]
    },
    {
     "name": "stderr",
     "output_type": "stream",
     "text": [
      "\r",
      " 41%|████████████████████████████████▌                                               | 122/300 [01:46<02:35,  1.15it/s]"
     ]
    },
    {
     "name": "stdout",
     "output_type": "stream",
     "text": [
      "key: train_loss -- value: 1.151686668395996\n",
      "key: train_acc -- value: 0.7583000063896179\n",
      "key: val_loss -- value: 1.180559515953064\n",
      "key: val_acc -- value: 0.7536666393280029\n"
     ]
    },
    {
     "name": "stderr",
     "output_type": "stream",
     "text": [
      "\r",
      " 41%|████████████████████████████████▊                                               | 123/300 [01:47<02:34,  1.15it/s]"
     ]
    },
    {
     "name": "stdout",
     "output_type": "stream",
     "text": [
      "key: train_loss -- value: 1.1459614038467407\n",
      "key: train_acc -- value: 0.7613000273704529\n",
      "key: val_loss -- value: 1.1750472784042358\n",
      "key: val_acc -- value: 0.7562999725341797\n"
     ]
    },
    {
     "name": "stderr",
     "output_type": "stream",
     "text": [
      "\r",
      " 41%|█████████████████████████████████                                               | 124/300 [01:48<02:33,  1.15it/s]"
     ]
    },
    {
     "name": "stdout",
     "output_type": "stream",
     "text": [
      "key: train_loss -- value: 1.137107253074646\n",
      "key: train_acc -- value: 0.7683666944503784\n",
      "key: val_loss -- value: 1.166426181793213\n",
      "key: val_acc -- value: 0.7641333341598511\n"
     ]
    },
    {
     "name": "stderr",
     "output_type": "stream",
     "text": [
      "\r",
      " 42%|█████████████████████████████████▎                                              | 125/300 [01:48<02:32,  1.15it/s]"
     ]
    },
    {
     "name": "stdout",
     "output_type": "stream",
     "text": [
      "key: train_loss -- value: 1.121719241142273\n",
      "key: train_acc -- value: 0.7826333045959473\n",
      "key: val_loss -- value: 1.1512820720672607\n",
      "key: val_acc -- value: 0.7781333327293396\n"
     ]
    },
    {
     "name": "stderr",
     "output_type": "stream",
     "text": [
      "\r",
      " 42%|█████████████████████████████████▌                                              | 126/300 [01:49<02:31,  1.15it/s]"
     ]
    },
    {
     "name": "stdout",
     "output_type": "stream",
     "text": [
      "key: train_loss -- value: 1.0929841995239258\n",
      "key: train_acc -- value: 0.8042666912078857\n",
      "key: val_loss -- value: 1.1227506399154663\n",
      "key: val_acc -- value: 0.7999333143234253\n"
     ]
    },
    {
     "name": "stderr",
     "output_type": "stream",
     "text": [
      "\r",
      " 42%|█████████████████████████████████▊                                              | 127/300 [01:50<02:31,  1.14it/s]"
     ]
    },
    {
     "name": "stdout",
     "output_type": "stream",
     "text": [
      "key: train_loss -- value: 1.0506954193115234\n",
      "key: train_acc -- value: 0.8270000219345093\n",
      "key: val_loss -- value: 1.080156683921814\n",
      "key: val_acc -- value: 0.821233332157135\n"
     ]
    },
    {
     "name": "stderr",
     "output_type": "stream",
     "text": [
      "\r",
      " 43%|██████████████████████████████████▏                                             | 128/300 [01:51<02:30,  1.14it/s]"
     ]
    },
    {
     "name": "stdout",
     "output_type": "stream",
     "text": [
      "key: train_loss -- value: 1.0533642768859863\n",
      "key: train_acc -- value: 0.8358666896820068\n",
      "key: val_loss -- value: 1.0807397365570068\n",
      "key: val_acc -- value: 0.8305000066757202\n"
     ]
    },
    {
     "name": "stderr",
     "output_type": "stream",
     "text": [
      "\r",
      " 43%|██████████████████████████████████▍                                             | 129/300 [01:52<02:29,  1.14it/s]"
     ]
    },
    {
     "name": "stdout",
     "output_type": "stream",
     "text": [
      "key: train_loss -- value: 1.0793567895889282\n",
      "key: train_acc -- value: 0.8336666822433472\n",
      "key: val_loss -- value: 1.1051210165023804\n",
      "key: val_acc -- value: 0.8291666507720947\n"
     ]
    },
    {
     "name": "stderr",
     "output_type": "stream",
     "text": [
      "\r",
      " 43%|██████████████████████████████████▋                                             | 130/300 [01:53<02:29,  1.14it/s]"
     ]
    },
    {
     "name": "stdout",
     "output_type": "stream",
     "text": [
      "key: train_loss -- value: 1.0199198722839355\n",
      "key: train_acc -- value: 0.8359000086784363\n",
      "key: val_loss -- value: 1.0472687482833862\n",
      "key: val_acc -- value: 0.8310999870300293\n"
     ]
    },
    {
     "name": "stderr",
     "output_type": "stream",
     "text": [
      "\r",
      " 44%|██████████████████████████████████▉                                             | 131/300 [01:54<02:28,  1.14it/s]"
     ]
    },
    {
     "name": "stdout",
     "output_type": "stream",
     "text": [
      "key: train_loss -- value: 0.9940581917762756\n",
      "key: train_acc -- value: 0.8335333466529846\n",
      "key: val_loss -- value: 1.023118257522583\n",
      "key: val_acc -- value: 0.8277999758720398\n"
     ]
    },
    {
     "name": "stderr",
     "output_type": "stream",
     "text": [
      "\r",
      " 44%|███████████████████████████████████▏                                            | 132/300 [01:55<02:27,  1.14it/s]"
     ]
    },
    {
     "name": "stdout",
     "output_type": "stream",
     "text": [
      "key: train_loss -- value: 1.0079538822174072\n",
      "key: train_acc -- value: 0.8284666538238525\n",
      "key: val_loss -- value: 1.0374778509140015\n",
      "key: val_acc -- value: 0.8223000168800354\n"
     ]
    },
    {
     "name": "stderr",
     "output_type": "stream",
     "text": [
      "\r",
      " 44%|███████████████████████████████████▍                                            | 133/300 [01:56<02:26,  1.14it/s]"
     ]
    },
    {
     "name": "stdout",
     "output_type": "stream",
     "text": [
      "key: train_loss -- value: 0.9961422681808472\n",
      "key: train_acc -- value: 0.8291333317756653\n",
      "key: val_loss -- value: 1.0259160995483398\n",
      "key: val_acc -- value: 0.8228999972343445\n"
     ]
    },
    {
     "name": "stderr",
     "output_type": "stream",
     "text": [
      "\r",
      " 45%|███████████████████████████████████▋                                            | 134/300 [01:57<02:25,  1.14it/s]"
     ]
    },
    {
     "name": "stdout",
     "output_type": "stream",
     "text": [
      "key: train_loss -- value: 0.9567992687225342\n",
      "key: train_acc -- value: 0.8343333601951599\n",
      "key: val_loss -- value: 0.9865549206733704\n",
      "key: val_acc -- value: 0.8288333415985107\n"
     ]
    },
    {
     "name": "stderr",
     "output_type": "stream",
     "text": [
      "\r",
      " 45%|████████████████████████████████████                                            | 135/300 [01:58<02:24,  1.14it/s]"
     ]
    },
    {
     "name": "stdout",
     "output_type": "stream",
     "text": [
      "key: train_loss -- value: 0.9408941268920898\n",
      "key: train_acc -- value: 0.8373000025749207\n",
      "key: val_loss -- value: 0.9698531031608582\n",
      "key: val_acc -- value: 0.8313999772071838\n"
     ]
    },
    {
     "name": "stderr",
     "output_type": "stream",
     "text": [
      "\r",
      " 45%|████████████████████████████████████▎                                           | 136/300 [01:59<02:23,  1.14it/s]"
     ]
    },
    {
     "name": "stdout",
     "output_type": "stream",
     "text": [
      "key: train_loss -- value: 0.9570361971855164\n",
      "key: train_acc -- value: 0.8367999792098999\n",
      "key: val_loss -- value: 0.9855092167854309\n",
      "key: val_acc -- value: 0.8313000202178955\n"
     ]
    },
    {
     "name": "stderr",
     "output_type": "stream",
     "text": [
      "\r",
      " 46%|████████████████████████████████████▌                                           | 137/300 [02:00<02:22,  1.14it/s]"
     ]
    },
    {
     "name": "stdout",
     "output_type": "stream",
     "text": [
      "key: train_loss -- value: 0.932218074798584\n",
      "key: train_acc -- value: 0.8374666571617126\n",
      "key: val_loss -- value: 0.9616268277168274\n",
      "key: val_acc -- value: 0.8321333527565002\n"
     ]
    },
    {
     "name": "stderr",
     "output_type": "stream",
     "text": [
      "\r",
      " 46%|████████████████████████████████████▊                                           | 138/300 [02:01<02:22,  1.14it/s]"
     ]
    },
    {
     "name": "stdout",
     "output_type": "stream",
     "text": [
      "key: train_loss -- value: 0.9118139147758484\n",
      "key: train_acc -- value: 0.8376666903495789\n",
      "key: val_loss -- value: 0.9423982501029968\n",
      "key: val_acc -- value: 0.8305333256721497\n"
     ]
    },
    {
     "name": "stderr",
     "output_type": "stream",
     "text": [
      "\r",
      " 46%|█████████████████████████████████████                                           | 139/300 [02:01<02:21,  1.14it/s]"
     ]
    },
    {
     "name": "stdout",
     "output_type": "stream",
     "text": [
      "key: train_loss -- value: 0.9180055856704712\n",
      "key: train_acc -- value: 0.8359666466712952\n",
      "key: val_loss -- value: 0.949142575263977\n",
      "key: val_acc -- value: 0.8291666507720947\n"
     ]
    },
    {
     "name": "stderr",
     "output_type": "stream",
     "text": [
      "\r",
      " 47%|█████████████████████████████████████▎                                          | 140/300 [02:02<02:20,  1.14it/s]"
     ]
    },
    {
     "name": "stdout",
     "output_type": "stream",
     "text": [
      "key: train_loss -- value: 0.9136330485343933\n",
      "key: train_acc -- value: 0.8366666436195374\n",
      "key: val_loss -- value: 0.9448832273483276\n",
      "key: val_acc -- value: 0.829633355140686\n"
     ]
    },
    {
     "name": "stderr",
     "output_type": "stream",
     "text": [
      "\r",
      " 47%|█████████████████████████████████████▌                                          | 141/300 [02:03<02:19,  1.14it/s]"
     ]
    },
    {
     "name": "stdout",
     "output_type": "stream",
     "text": [
      "key: train_loss -- value: 0.8944844603538513\n",
      "key: train_acc -- value: 0.8386666774749756\n",
      "key: val_loss -- value: 0.9256845116615295\n",
      "key: val_acc -- value: 0.8312333226203918\n"
     ]
    },
    {
     "name": "stderr",
     "output_type": "stream",
     "text": [
      "\r",
      " 47%|█████████████████████████████████████▊                                          | 142/300 [02:04<02:18,  1.14it/s]"
     ]
    },
    {
     "name": "stdout",
     "output_type": "stream",
     "text": [
      "key: train_loss -- value: 0.8850860595703125\n",
      "key: train_acc -- value: 0.839900016784668\n",
      "key: val_loss -- value: 0.9162217378616333\n",
      "key: val_acc -- value: 0.8333666920661926\n"
     ]
    },
    {
     "name": "stderr",
     "output_type": "stream",
     "text": [
      "\r",
      " 48%|██████████████████████████████████████▏                                         | 143/300 [02:05<02:17,  1.14it/s]"
     ]
    },
    {
     "name": "stdout",
     "output_type": "stream",
     "text": [
      "key: train_loss -- value: 0.8887537717819214\n",
      "key: train_acc -- value: 0.8398333191871643\n",
      "key: val_loss -- value: 0.920107364654541\n",
      "key: val_acc -- value: 0.8333666920661926\n"
     ]
    },
    {
     "name": "stderr",
     "output_type": "stream",
     "text": [
      "\r",
      " 48%|██████████████████████████████████████▍                                         | 144/300 [02:06<02:16,  1.14it/s]"
     ]
    },
    {
     "name": "stdout",
     "output_type": "stream",
     "text": [
      "key: train_loss -- value: 0.880894660949707\n",
      "key: train_acc -- value: 0.8402666449546814\n",
      "key: val_loss -- value: 0.9129911661148071\n",
      "key: val_acc -- value: 0.8337666392326355\n"
     ]
    },
    {
     "name": "stderr",
     "output_type": "stream",
     "text": [
      "\r",
      " 48%|██████████████████████████████████████▋                                         | 145/300 [02:07<02:15,  1.14it/s]"
     ]
    },
    {
     "name": "stdout",
     "output_type": "stream",
     "text": [
      "key: train_loss -- value: 0.8671214580535889\n",
      "key: train_acc -- value: 0.8410000205039978\n",
      "key: val_loss -- value: 0.9002863168716431\n",
      "key: val_acc -- value: 0.8342999815940857\n"
     ]
    },
    {
     "name": "stderr",
     "output_type": "stream",
     "text": [
      "\r",
      " 49%|██████████████████████████████████████▉                                         | 146/300 [02:08<02:15,  1.14it/s]"
     ]
    },
    {
     "name": "stdout",
     "output_type": "stream",
     "text": [
      "key: train_loss -- value: 0.8639587759971619\n",
      "key: train_acc -- value: 0.840833306312561\n",
      "key: val_loss -- value: 0.898090660572052\n",
      "key: val_acc -- value: 0.833299994468689\n"
     ]
    },
    {
     "name": "stderr",
     "output_type": "stream",
     "text": [
      "\r",
      " 49%|███████████████████████████████████████▏                                        | 147/300 [02:08<02:14,  1.14it/s]"
     ]
    },
    {
     "name": "stdout",
     "output_type": "stream",
     "text": [
      "key: train_loss -- value: 0.8642339110374451\n",
      "key: train_acc -- value: 0.8406333327293396\n",
      "key: val_loss -- value: 0.8990575671195984\n",
      "key: val_acc -- value: 0.833133339881897\n"
     ]
    },
    {
     "name": "stderr",
     "output_type": "stream",
     "text": [
      "\r",
      " 49%|███████████████████████████████████████▍                                        | 148/300 [02:09<02:13,  1.14it/s]"
     ]
    },
    {
     "name": "stdout",
     "output_type": "stream",
     "text": [
      "key: train_loss -- value: 0.8581951260566711\n",
      "key: train_acc -- value: 0.8413000106811523\n",
      "key: val_loss -- value: 0.8935545682907104\n",
      "key: val_acc -- value: 0.8335666656494141\n"
     ]
    },
    {
     "name": "stderr",
     "output_type": "stream",
     "text": [
      "\r",
      " 50%|███████████████████████████████████████▋                                        | 149/300 [02:10<02:12,  1.14it/s]"
     ]
    },
    {
     "name": "stdout",
     "output_type": "stream",
     "text": [
      "key: train_loss -- value: 0.8493483662605286\n",
      "key: train_acc -- value: 0.8423666954040527\n",
      "key: val_loss -- value: 0.8851073384284973\n",
      "key: val_acc -- value: 0.8344333171844482\n"
     ]
    },
    {
     "name": "stderr",
     "output_type": "stream",
     "text": [
      "\r",
      " 50%|████████████████████████████████████████                                        | 150/300 [02:11<02:11,  1.14it/s]"
     ]
    },
    {
     "name": "stdout",
     "output_type": "stream",
     "text": [
      "key: train_loss -- value: 0.8456304669380188\n",
      "key: train_acc -- value: 0.8433333039283752\n",
      "key: val_loss -- value: 0.8816199898719788\n",
      "key: val_acc -- value: 0.8355000019073486\n"
     ]
    },
    {
     "name": "stderr",
     "output_type": "stream",
     "text": [
      "\r",
      " 50%|████████████████████████████████████████▎                                       | 151/300 [02:12<02:10,  1.14it/s]"
     ]
    },
    {
     "name": "stdout",
     "output_type": "stream",
     "text": [
      "key: train_loss -- value: 0.8455137610435486\n",
      "key: train_acc -- value: 0.8432000279426575\n",
      "key: val_loss -- value: 0.8817369341850281\n",
      "key: val_acc -- value: 0.8352333307266235\n"
     ]
    },
    {
     "name": "stderr",
     "output_type": "stream",
     "text": [
      "\r",
      " 51%|████████████████████████████████████████▌                                       | 152/300 [02:13<02:09,  1.14it/s]"
     ]
    },
    {
     "name": "stdout",
     "output_type": "stream",
     "text": [
      "key: train_loss -- value: 0.8418734669685364\n",
      "key: train_acc -- value: 0.843500018119812\n",
      "key: val_loss -- value: 0.8785644173622131\n",
      "key: val_acc -- value: 0.8353999853134155\n"
     ]
    },
    {
     "name": "stderr",
     "output_type": "stream",
     "text": [
      "\r",
      " 51%|████████████████████████████████████████▊                                       | 153/300 [02:14<02:08,  1.14it/s]"
     ]
    },
    {
     "name": "stdout",
     "output_type": "stream",
     "text": [
      "key: train_loss -- value: 0.8355781435966492\n",
      "key: train_acc -- value: 0.8440999984741211\n",
      "key: val_loss -- value: 0.8729382157325745\n",
      "key: val_acc -- value: 0.8359000086784363\n"
     ]
    },
    {
     "name": "stderr",
     "output_type": "stream",
     "text": [
      "\r",
      " 51%|█████████████████████████████████████████                                       | 154/300 [02:14<02:07,  1.14it/s]"
     ]
    },
    {
     "name": "stdout",
     "output_type": "stream",
     "text": [
      "key: train_loss -- value: 0.8319873809814453\n",
      "key: train_acc -- value: 0.8441333174705505\n",
      "key: val_loss -- value: 0.8700028657913208\n",
      "key: val_acc -- value: 0.8364333510398865\n"
     ]
    },
    {
     "name": "stderr",
     "output_type": "stream",
     "text": [
      "\r",
      " 52%|█████████████████████████████████████████▎                                      | 155/300 [02:15<02:06,  1.14it/s]"
     ]
    },
    {
     "name": "stdout",
     "output_type": "stream",
     "text": [
      "key: train_loss -- value: 0.8309450745582581\n",
      "key: train_acc -- value: 0.8437666893005371\n",
      "key: val_loss -- value: 0.8694949150085449\n",
      "key: val_acc -- value: 0.8363333344459534\n"
     ]
    },
    {
     "name": "stderr",
     "output_type": "stream",
     "text": [
      "\r",
      " 52%|█████████████████████████████████████████▌                                      | 156/300 [02:16<02:06,  1.14it/s]"
     ]
    },
    {
     "name": "stdout",
     "output_type": "stream",
     "text": [
      "key: train_loss -- value: 0.8287453055381775\n",
      "key: train_acc -- value: 0.8443333506584167\n",
      "key: val_loss -- value: 0.8677853345870972\n",
      "key: val_acc -- value: 0.8364999890327454\n"
     ]
    },
    {
     "name": "stderr",
     "output_type": "stream",
     "text": [
      "\r",
      " 52%|█████████████████████████████████████████▊                                      | 157/300 [02:17<02:05,  1.14it/s]"
     ]
    },
    {
     "name": "stdout",
     "output_type": "stream",
     "text": [
      "key: train_loss -- value: 0.8244919776916504\n",
      "key: train_acc -- value: 0.8446999788284302\n",
      "key: val_loss -- value: 0.8640123605728149\n",
      "key: val_acc -- value: 0.8367666602134705\n"
     ]
    },
    {
     "name": "stderr",
     "output_type": "stream",
     "text": [
      "\r",
      " 53%|██████████████████████████████████████████▏                                     | 158/300 [02:18<02:04,  1.14it/s]"
     ]
    },
    {
     "name": "stdout",
     "output_type": "stream",
     "text": [
      "key: train_loss -- value: 0.8206518292427063\n",
      "key: train_acc -- value: 0.8454999923706055\n",
      "key: val_loss -- value: 0.8605926632881165\n",
      "key: val_acc -- value: 0.8369333148002625\n"
     ]
    },
    {
     "name": "stderr",
     "output_type": "stream",
     "text": [
      "\r",
      " 53%|██████████████████████████████████████████▍                                     | 159/300 [02:19<02:03,  1.14it/s]"
     ]
    },
    {
     "name": "stdout",
     "output_type": "stream",
     "text": [
      "key: train_loss -- value: 0.8187862634658813\n",
      "key: train_acc -- value: 0.8459333181381226\n",
      "key: val_loss -- value: 0.8590553402900696\n",
      "key: val_acc -- value: 0.8368666768074036\n"
     ]
    },
    {
     "name": "stderr",
     "output_type": "stream",
     "text": [
      "\r",
      " 53%|██████████████████████████████████████████▋                                     | 160/300 [02:20<02:02,  1.14it/s]"
     ]
    },
    {
     "name": "stdout",
     "output_type": "stream",
     "text": [
      "key: train_loss -- value: 0.8173244595527649\n",
      "key: train_acc -- value: 0.8458666801452637\n",
      "key: val_loss -- value: 0.8579220771789551\n",
      "key: val_acc -- value: 0.8372666835784912\n"
     ]
    },
    {
     "name": "stderr",
     "output_type": "stream",
     "text": [
      "\r",
      " 54%|██████████████████████████████████████████▉                                     | 161/300 [02:20<02:01,  1.14it/s]"
     ]
    },
    {
     "name": "stdout",
     "output_type": "stream",
     "text": [
      "key: train_loss -- value: 0.8145052194595337\n",
      "key: train_acc -- value: 0.8462333083152771\n",
      "key: val_loss -- value: 0.8555172681808472\n",
      "key: val_acc -- value: 0.8373666405677795\n"
     ]
    },
    {
     "name": "stderr",
     "output_type": "stream",
     "text": [
      "\r",
      " 54%|███████████████████████████████████████████▏                                    | 162/300 [02:21<02:00,  1.14it/s]"
     ]
    },
    {
     "name": "stdout",
     "output_type": "stream",
     "text": [
      "key: train_loss -- value: 0.8111560344696045\n",
      "key: train_acc -- value: 0.8464666604995728\n",
      "key: val_loss -- value: 0.8526190519332886\n",
      "key: val_acc -- value: 0.8373666405677795\n"
     ]
    },
    {
     "name": "stderr",
     "output_type": "stream",
     "text": [
      "\r",
      " 54%|███████████████████████████████████████████▍                                    | 163/300 [02:22<01:59,  1.14it/s]"
     ]
    },
    {
     "name": "stdout",
     "output_type": "stream",
     "text": [
      "key: train_loss -- value: 0.8088409304618835\n",
      "key: train_acc -- value: 0.8469333052635193\n",
      "key: val_loss -- value: 0.8507005572319031\n",
      "key: val_acc -- value: 0.8376333117485046\n"
     ]
    },
    {
     "name": "stderr",
     "output_type": "stream",
     "text": [
      "\r",
      " 55%|███████████████████████████████████████████▋                                    | 164/300 [02:23<01:58,  1.14it/s]"
     ]
    },
    {
     "name": "stdout",
     "output_type": "stream",
     "text": [
      "key: train_loss -- value: 0.8073750734329224\n",
      "key: train_acc -- value: 0.8469666838645935\n",
      "key: val_loss -- value: 0.8495475053787231\n",
      "key: val_acc -- value: 0.8375999927520752\n"
     ]
    },
    {
     "name": "stderr",
     "output_type": "stream",
     "text": [
      "\r",
      " 55%|████████████████████████████████████████████                                    | 165/300 [02:24<01:58,  1.14it/s]"
     ]
    },
    {
     "name": "stdout",
     "output_type": "stream",
     "text": [
      "key: train_loss -- value: 0.8055140376091003\n",
      "key: train_acc -- value: 0.8471999764442444\n",
      "key: val_loss -- value: 0.8479822874069214\n",
      "key: val_acc -- value: 0.8378333449363708\n"
     ]
    },
    {
     "name": "stderr",
     "output_type": "stream",
     "text": [
      "\r",
      " 55%|████████████████████████████████████████████▎                                   | 166/300 [02:25<01:57,  1.14it/s]"
     ]
    },
    {
     "name": "stdout",
     "output_type": "stream",
     "text": [
      "key: train_loss -- value: 0.802958607673645\n",
      "key: train_acc -- value: 0.84743332862854\n",
      "key: val_loss -- value: 0.8457164764404297\n",
      "key: val_acc -- value: 0.8381666541099548\n"
     ]
    },
    {
     "name": "stderr",
     "output_type": "stream",
     "text": [
      "\r",
      " 56%|████████████████████████████████████████████▌                                   | 167/300 [02:26<01:56,  1.14it/s]"
     ]
    },
    {
     "name": "stdout",
     "output_type": "stream",
     "text": [
      "key: train_loss -- value: 0.8005357384681702\n",
      "key: train_acc -- value: 0.8475333452224731\n",
      "key: val_loss -- value: 0.8435594439506531\n",
      "key: val_acc -- value: 0.838533341884613\n"
     ]
    },
    {
     "name": "stderr",
     "output_type": "stream",
     "text": [
      "\r",
      " 56%|████████████████████████████████████████████▊                                   | 168/300 [02:26<01:55,  1.14it/s]"
     ]
    },
    {
     "name": "stdout",
     "output_type": "stream",
     "text": [
      "key: train_loss -- value: 0.7988119721412659\n",
      "key: train_acc -- value: 0.8476666808128357\n",
      "key: val_loss -- value: 0.84206622838974\n",
      "key: val_acc -- value: 0.8389999866485596\n"
     ]
    },
    {
     "name": "stderr",
     "output_type": "stream",
     "text": [
      "\r",
      " 56%|█████████████████████████████████████████████                                   | 169/300 [02:27<01:54,  1.14it/s]"
     ]
    },
    {
     "name": "stdout",
     "output_type": "stream",
     "text": [
      "key: train_loss -- value: 0.7973369359970093\n",
      "key: train_acc -- value: 0.8476999998092651\n",
      "key: val_loss -- value: 0.8408370018005371\n",
      "key: val_acc -- value: 0.8391000032424927\n"
     ]
    },
    {
     "name": "stderr",
     "output_type": "stream",
     "text": [
      "\r",
      " 57%|█████████████████████████████████████████████▎                                  | 170/300 [02:28<01:53,  1.14it/s]"
     ]
    },
    {
     "name": "stdout",
     "output_type": "stream",
     "text": [
      "key: train_loss -- value: 0.795457124710083\n",
      "key: train_acc -- value: 0.8476999998092651\n",
      "key: val_loss -- value: 0.8392531871795654\n",
      "key: val_acc -- value: 0.8392666578292847\n"
     ]
    },
    {
     "name": "stderr",
     "output_type": "stream",
     "text": [
      "\r",
      " 57%|█████████████████████████████████████████████▌                                  | 171/300 [02:29<01:52,  1.14it/s]"
     ]
    },
    {
     "name": "stdout",
     "output_type": "stream",
     "text": [
      "key: train_loss -- value: 0.7932869791984558\n",
      "key: train_acc -- value: 0.8480666875839233\n",
      "key: val_loss -- value: 0.8374269604682922\n",
      "key: val_acc -- value: 0.8393333554267883\n"
     ]
    },
    {
     "name": "stderr",
     "output_type": "stream",
     "text": [
      "\r",
      " 57%|█████████████████████████████████████████████▊                                  | 172/300 [02:30<01:51,  1.15it/s]"
     ]
    },
    {
     "name": "stdout",
     "output_type": "stream",
     "text": [
      "key: train_loss -- value: 0.7913870215415955\n",
      "key: train_acc -- value: 0.8485999703407288\n",
      "key: val_loss -- value: 0.8358571529388428\n",
      "key: val_acc -- value: 0.8393999934196472\n"
     ]
    },
    {
     "name": "stderr",
     "output_type": "stream",
     "text": [
      "\r",
      " 58%|██████████████████████████████████████████████▏                                 | 173/300 [02:31<01:50,  1.15it/s]"
     ]
    },
    {
     "name": "stdout",
     "output_type": "stream",
     "text": [
      "key: train_loss -- value: 0.7898679971694946\n",
      "key: train_acc -- value: 0.8490666747093201\n",
      "key: val_loss -- value: 0.8346368670463562\n",
      "key: val_acc -- value: 0.8395666480064392\n"
     ]
    },
    {
     "name": "stderr",
     "output_type": "stream",
     "text": [
      "\r",
      " 58%|██████████████████████████████████████████████▍                                 | 174/300 [02:31<01:49,  1.15it/s]"
     ]
    },
    {
     "name": "stdout",
     "output_type": "stream",
     "text": [
      "key: train_loss -- value: 0.7883433103561401\n",
      "key: train_acc -- value: 0.849399983882904\n",
      "key: val_loss -- value: 0.8333773612976074\n",
      "key: val_acc -- value: 0.8396333456039429\n"
     ]
    },
    {
     "name": "stderr",
     "output_type": "stream",
     "text": [
      "\r",
      " 58%|██████████████████████████████████████████████▋                                 | 175/300 [02:32<01:49,  1.15it/s]"
     ]
    },
    {
     "name": "stdout",
     "output_type": "stream",
     "text": [
      "key: train_loss -- value: 0.7865599989891052\n",
      "key: train_acc -- value: 0.8494333624839783\n",
      "key: val_loss -- value: 0.8318434953689575\n",
      "key: val_acc -- value: 0.839900016784668\n"
     ]
    },
    {
     "name": "stderr",
     "output_type": "stream",
     "text": [
      "\r",
      " 59%|██████████████████████████████████████████████▉                                 | 176/300 [02:33<01:48,  1.15it/s]"
     ]
    },
    {
     "name": "stdout",
     "output_type": "stream",
     "text": [
      "key: train_loss -- value: 0.7847091555595398\n",
      "key: train_acc -- value: 0.8494333624839783\n",
      "key: val_loss -- value: 0.83021080493927\n",
      "key: val_acc -- value: 0.8399333357810974\n"
     ]
    },
    {
     "name": "stderr",
     "output_type": "stream",
     "text": [
      "\r",
      " 59%|███████████████████████████████████████████████▏                                | 177/300 [02:34<01:47,  1.15it/s]"
     ]
    },
    {
     "name": "stdout",
     "output_type": "stream",
     "text": [
      "key: train_loss -- value: 0.7830690145492554\n",
      "key: train_acc -- value: 0.8495000004768372\n",
      "key: val_loss -- value: 0.8287753462791443\n",
      "key: val_acc -- value: 0.8403000235557556\n"
     ]
    },
    {
     "name": "stderr",
     "output_type": "stream",
     "text": [
      "\r",
      " 59%|███████████████████████████████████████████████▍                                | 178/300 [02:35<01:46,  1.15it/s]"
     ]
    },
    {
     "name": "stdout",
     "output_type": "stream",
     "text": [
      "key: train_loss -- value: 0.7816287279129028\n",
      "key: train_acc -- value: 0.8494666814804077\n",
      "key: val_loss -- value: 0.8275322318077087\n",
      "key: val_acc -- value: 0.8404666781425476\n"
     ]
    },
    {
     "name": "stderr",
     "output_type": "stream",
     "text": [
      "\r",
      " 60%|███████████████████████████████████████████████▋                                | 179/300 [02:36<01:45,  1.15it/s]"
     ]
    },
    {
     "name": "stdout",
     "output_type": "stream",
     "text": [
      "key: train_loss -- value: 0.7801405787467957\n",
      "key: train_acc -- value: 0.8497999906539917\n",
      "key: val_loss -- value: 0.8262744545936584\n",
      "key: val_acc -- value: 0.8406999707221985\n"
     ]
    },
    {
     "name": "stderr",
     "output_type": "stream",
     "text": [
      "\r",
      " 60%|████████████████████████████████████████████████                                | 180/300 [02:36<01:44,  1.15it/s]"
     ]
    },
    {
     "name": "stdout",
     "output_type": "stream",
     "text": [
      "key: train_loss -- value: 0.778512716293335\n",
      "key: train_acc -- value: 0.8500000238418579\n",
      "key: val_loss -- value: 0.8249121904373169\n",
      "key: val_acc -- value: 0.8406999707221985\n"
     ]
    },
    {
     "name": "stderr",
     "output_type": "stream",
     "text": [
      "\r",
      " 60%|████████████████████████████████████████████████▎                               | 181/300 [02:37<01:43,  1.15it/s]"
     ]
    },
    {
     "name": "stdout",
     "output_type": "stream",
     "text": [
      "key: train_loss -- value: 0.7768984436988831\n",
      "key: train_acc -- value: 0.8504666686058044\n",
      "key: val_loss -- value: 0.8235966563224792\n",
      "key: val_acc -- value: 0.8409333229064941\n"
     ]
    },
    {
     "name": "stderr",
     "output_type": "stream",
     "text": [
      "\r",
      " 61%|████████████████████████████████████████████████▌                               | 182/300 [02:38<01:42,  1.15it/s]"
     ]
    },
    {
     "name": "stdout",
     "output_type": "stream",
     "text": [
      "key: train_loss -- value: 0.7754330635070801\n",
      "key: train_acc -- value: 0.850600004196167\n",
      "key: val_loss -- value: 0.8224167823791504\n",
      "key: val_acc -- value: 0.8409000039100647\n"
     ]
    },
    {
     "name": "stderr",
     "output_type": "stream",
     "text": [
      "\r",
      " 61%|████████████████████████████████████████████████▊                               | 183/300 [02:39<01:41,  1.15it/s]"
     ]
    },
    {
     "name": "stdout",
     "output_type": "stream",
     "text": [
      "key: train_loss -- value: 0.7740640640258789\n",
      "key: train_acc -- value: 0.8508999943733215\n",
      "key: val_loss -- value: 0.821316659450531\n",
      "key: val_acc -- value: 0.8410333395004272\n"
     ]
    },
    {
     "name": "stderr",
     "output_type": "stream",
     "text": [
      "\r",
      " 61%|█████████████████████████████████████████████████                               | 184/300 [02:40<01:41,  1.15it/s]"
     ]
    },
    {
     "name": "stdout",
     "output_type": "stream",
     "text": [
      "key: train_loss -- value: 0.7726569771766663\n",
      "key: train_acc -- value: 0.8513000011444092\n",
      "key: val_loss -- value: 0.8201438188552856\n",
      "key: val_acc -- value: 0.8411666750907898\n"
     ]
    },
    {
     "name": "stderr",
     "output_type": "stream",
     "text": [
      "\r",
      " 62%|█████████████████████████████████████████████████▎                              | 185/300 [02:41<01:40,  1.15it/s]"
     ]
    },
    {
     "name": "stdout",
     "output_type": "stream",
     "text": [
      "key: train_loss -- value: 0.7711814641952515\n",
      "key: train_acc -- value: 0.8514666557312012\n",
      "key: val_loss -- value: 0.8188794255256653\n",
      "key: val_acc -- value: 0.8413000106811523\n"
     ]
    },
    {
     "name": "stderr",
     "output_type": "stream",
     "text": [
      "\r",
      " 62%|█████████████████████████████████████████████████▌                              | 186/300 [02:42<01:39,  1.15it/s]"
     ]
    },
    {
     "name": "stdout",
     "output_type": "stream",
     "text": [
      "key: train_loss -- value: 0.7697455883026123\n",
      "key: train_acc -- value: 0.8515999913215637\n",
      "key: val_loss -- value: 0.8176140785217285\n",
      "key: val_acc -- value: 0.8414999842643738\n"
     ]
    },
    {
     "name": "stderr",
     "output_type": "stream",
     "text": [
      "\r",
      " 62%|█████████████████████████████████████████████████▊                              | 187/300 [02:42<01:38,  1.15it/s]"
     ]
    },
    {
     "name": "stdout",
     "output_type": "stream",
     "text": [
      "key: train_loss -- value: 0.7683963179588318\n",
      "key: train_acc -- value: 0.8517333269119263\n",
      "key: val_loss -- value: 0.8164409399032593\n",
      "key: val_acc -- value: 0.8416666388511658\n"
     ]
    },
    {
     "name": "stderr",
     "output_type": "stream",
     "text": [
      "\r",
      " 63%|██████████████████████████████████████████████████▏                             | 188/300 [02:43<01:37,  1.15it/s]"
     ]
    },
    {
     "name": "stdout",
     "output_type": "stream",
     "text": [
      "key: train_loss -- value: 0.7671012282371521\n",
      "key: train_acc -- value: 0.8518999814987183\n",
      "key: val_loss -- value: 0.8153235912322998\n",
      "key: val_acc -- value: 0.8418999910354614\n"
     ]
    },
    {
     "name": "stderr",
     "output_type": "stream",
     "text": [
      "\r",
      " 63%|██████████████████████████████████████████████████▍                             | 189/300 [02:44<01:36,  1.15it/s]"
     ]
    },
    {
     "name": "stdout",
     "output_type": "stream",
     "text": [
      "key: train_loss -- value: 0.7657794952392578\n",
      "key: train_acc -- value: 0.8521666526794434\n",
      "key: val_loss -- value: 0.8141996264457703\n",
      "key: val_acc -- value: 0.8421666622161865\n"
     ]
    },
    {
     "name": "stderr",
     "output_type": "stream",
     "text": [
      "\r",
      " 63%|██████████████████████████████████████████████████▋                             | 190/300 [02:45<01:35,  1.15it/s]"
     ]
    },
    {
     "name": "stdout",
     "output_type": "stream",
     "text": [
      "key: train_loss -- value: 0.7644306421279907\n",
      "key: train_acc -- value: 0.852566659450531\n",
      "key: val_loss -- value: 0.8130782842636108\n",
      "key: val_acc -- value: 0.8424000144004822\n"
     ]
    },
    {
     "name": "stderr",
     "output_type": "stream",
     "text": [
      "\r",
      " 64%|██████████████████████████████████████████████████▉                             | 191/300 [02:46<01:34,  1.15it/s]"
     ]
    },
    {
     "name": "stdout",
     "output_type": "stream",
     "text": [
      "key: train_loss -- value: 0.763109564781189\n",
      "key: train_acc -- value: 0.852733314037323\n",
      "key: val_loss -- value: 0.8119910359382629\n",
      "key: val_acc -- value: 0.8424999713897705\n"
     ]
    },
    {
     "name": "stderr",
     "output_type": "stream",
     "text": [
      "\r",
      " 64%|███████████████████████████████████████████████████▏                            | 192/300 [02:47<01:34,  1.15it/s]"
     ]
    },
    {
     "name": "stdout",
     "output_type": "stream",
     "text": [
      "key: train_loss -- value: 0.7618509531021118\n",
      "key: train_acc -- value: 0.8528333306312561\n",
      "key: val_loss -- value: 0.8109552264213562\n",
      "key: val_acc -- value: 0.8426333069801331\n"
     ]
    },
    {
     "name": "stderr",
     "output_type": "stream",
     "text": [
      "\r",
      " 64%|███████████████████████████████████████████████████▍                            | 193/300 [02:47<01:33,  1.15it/s]"
     ]
    },
    {
     "name": "stdout",
     "output_type": "stream",
     "text": [
      "key: train_loss -- value: 0.7606204152107239\n",
      "key: train_acc -- value: 0.8529333472251892\n",
      "key: val_loss -- value: 0.809924840927124\n",
      "key: val_acc -- value: 0.8428999781608582\n"
     ]
    },
    {
     "name": "stderr",
     "output_type": "stream",
     "text": [
      "\r",
      " 65%|███████████████████████████████████████████████████▋                            | 194/300 [02:48<01:32,  1.15it/s]"
     ]
    },
    {
     "name": "stdout",
     "output_type": "stream",
     "text": [
      "key: train_loss -- value: 0.7593719363212585\n",
      "key: train_acc -- value: 0.8531666398048401\n",
      "key: val_loss -- value: 0.8088632225990295\n",
      "key: val_acc -- value: 0.8431000113487244\n"
     ]
    },
    {
     "name": "stderr",
     "output_type": "stream",
     "text": [
      "\r",
      " 65%|████████████████████████████████████████████████████                            | 195/300 [02:49<01:31,  1.15it/s]"
     ]
    },
    {
     "name": "stdout",
     "output_type": "stream",
     "text": [
      "key: train_loss -- value: 0.7581189274787903\n",
      "key: train_acc -- value: 0.8533333539962769\n",
      "key: val_loss -- value: 0.8077647686004639\n",
      "key: val_acc -- value: 0.8432666659355164\n"
     ]
    },
    {
     "name": "stderr",
     "output_type": "stream",
     "text": [
      "\r",
      " 65%|████████████████████████████████████████████████████▎                           | 196/300 [02:50<01:30,  1.15it/s]"
     ]
    },
    {
     "name": "stdout",
     "output_type": "stream",
     "text": [
      "key: train_loss -- value: 0.7568855881690979\n",
      "key: train_acc -- value: 0.8534333109855652\n",
      "key: val_loss -- value: 0.8066761493682861\n",
      "key: val_acc -- value: 0.8433666825294495\n"
     ]
    },
    {
     "name": "stderr",
     "output_type": "stream",
     "text": [
      "\r",
      " 66%|████████████████████████████████████████████████████▌                           | 197/300 [02:51<01:29,  1.15it/s]"
     ]
    },
    {
     "name": "stdout",
     "output_type": "stream",
     "text": [
      "key: train_loss -- value: 0.7556944489479065\n",
      "key: train_acc -- value: 0.8536999821662903\n",
      "key: val_loss -- value: 0.8056254982948303\n",
      "key: val_acc -- value: 0.8435333371162415\n"
     ]
    },
    {
     "name": "stderr",
     "output_type": "stream",
     "text": [
      "\r",
      " 66%|████████████████████████████████████████████████████▊                           | 198/300 [02:52<01:28,  1.15it/s]"
     ]
    },
    {
     "name": "stdout",
     "output_type": "stream",
     "text": [
      "key: train_loss -- value: 0.7545225024223328\n",
      "key: train_acc -- value: 0.8539333343505859\n",
      "key: val_loss -- value: 0.8046061992645264\n",
      "key: val_acc -- value: 0.8435666561126709\n"
     ]
    },
    {
     "name": "stderr",
     "output_type": "stream",
     "text": [
      "\r",
      " 66%|█████████████████████████████████████████████████████                           | 199/300 [02:52<01:27,  1.15it/s]"
     ]
    },
    {
     "name": "stdout",
     "output_type": "stream",
     "text": [
      "key: train_loss -- value: 0.7533434629440308\n",
      "key: train_acc -- value: 0.8540666699409485\n",
      "key: val_loss -- value: 0.8035982847213745\n",
      "key: val_acc -- value: 0.8438000082969666\n"
     ]
    },
    {
     "name": "stderr",
     "output_type": "stream",
     "text": [
      "\r",
      " 67%|█████████████████████████████████████████████████████▎                          | 200/300 [02:53<01:26,  1.15it/s]"
     ]
    },
    {
     "name": "stdout",
     "output_type": "stream",
     "text": [
      "key: train_loss -- value: 0.7521671056747437\n",
      "key: train_acc -- value: 0.8541666865348816\n",
      "key: val_loss -- value: 0.8026040196418762\n",
      "key: val_acc -- value: 0.843999981880188\n"
     ]
    },
    {
     "name": "stderr",
     "output_type": "stream",
     "text": [
      "\r",
      " 67%|█████████████████████████████████████████████████████▌                          | 201/300 [02:54<01:25,  1.15it/s]"
     ]
    },
    {
     "name": "stdout",
     "output_type": "stream",
     "text": [
      "key: train_loss -- value: 0.7510088682174683\n",
      "key: train_acc -- value: 0.8542666435241699\n",
      "key: val_loss -- value: 0.8016365170478821\n",
      "key: val_acc -- value: 0.8440666794776917\n"
     ]
    },
    {
     "name": "stderr",
     "output_type": "stream",
     "text": [
      "\r",
      " 67%|█████████████████████████████████████████████████████▊                          | 202/300 [02:55<01:25,  1.15it/s]"
     ]
    },
    {
     "name": "stdout",
     "output_type": "stream",
     "text": [
      "key: train_loss -- value: 0.7498729825019836\n",
      "key: train_acc -- value: 0.854533314704895\n",
      "key: val_loss -- value: 0.8006850481033325\n",
      "key: val_acc -- value: 0.8439666628837585\n"
     ]
    },
    {
     "name": "stderr",
     "output_type": "stream",
     "text": [
      "\r",
      " 68%|██████████████████████████████████████████████████████▏                         | 203/300 [02:56<01:24,  1.15it/s]"
     ]
    },
    {
     "name": "stdout",
     "output_type": "stream",
     "text": [
      "key: train_loss -- value: 0.7487564086914062\n",
      "key: train_acc -- value: 0.8546666502952576\n",
      "key: val_loss -- value: 0.7997363805770874\n",
      "key: val_acc -- value: 0.8442000150680542\n"
     ]
    },
    {
     "name": "stderr",
     "output_type": "stream",
     "text": [
      "\r",
      " 68%|██████████████████████████████████████████████████████▍                         | 204/300 [02:57<01:23,  1.15it/s]"
     ]
    },
    {
     "name": "stdout",
     "output_type": "stream",
     "text": [
      "key: train_loss -- value: 0.7476399540901184\n",
      "key: train_acc -- value: 0.8547666668891907\n",
      "key: val_loss -- value: 0.7987731695175171\n",
      "key: val_acc -- value: 0.8442999720573425\n"
     ]
    },
    {
     "name": "stderr",
     "output_type": "stream",
     "text": [
      "\r",
      " 68%|██████████████████████████████████████████████████████▋                         | 205/300 [02:57<01:22,  1.15it/s]"
     ]
    },
    {
     "name": "stdout",
     "output_type": "stream",
     "text": [
      "key: train_loss -- value: 0.7465265989303589\n",
      "key: train_acc -- value: 0.8550999760627747\n",
      "key: val_loss -- value: 0.7978025674819946\n",
      "key: val_acc -- value: 0.8445333242416382\n"
     ]
    },
    {
     "name": "stderr",
     "output_type": "stream",
     "text": [
      "\r",
      " 69%|██████████████████████████████████████████████████████▉                         | 206/300 [02:58<01:21,  1.15it/s]"
     ]
    },
    {
     "name": "stdout",
     "output_type": "stream",
     "text": [
      "key: train_loss -- value: 0.7454255223274231\n",
      "key: train_acc -- value: 0.8551666736602783\n",
      "key: val_loss -- value: 0.7968378663063049\n",
      "key: val_acc -- value: 0.8446999788284302\n"
     ]
    },
    {
     "name": "stderr",
     "output_type": "stream",
     "text": [
      "\r",
      " 69%|███████████████████████████████████████████████████████▏                        | 207/300 [02:59<01:20,  1.15it/s]"
     ]
    },
    {
     "name": "stdout",
     "output_type": "stream",
     "text": [
      "key: train_loss -- value: 0.7443483471870422\n",
      "key: train_acc -- value: 0.8553333282470703\n",
      "key: val_loss -- value: 0.795890748500824\n",
      "key: val_acc -- value: 0.8449000120162964\n"
     ]
    },
    {
     "name": "stderr",
     "output_type": "stream",
     "text": [
      "\r",
      " 69%|███████████████████████████████████████████████████████▍                        | 208/300 [03:00<01:19,  1.15it/s]"
     ]
    },
    {
     "name": "stdout",
     "output_type": "stream",
     "text": [
      "key: train_loss -- value: 0.7432804107666016\n",
      "key: train_acc -- value: 0.8553000092506409\n",
      "key: val_loss -- value: 0.7949658036231995\n",
      "key: val_acc -- value: 0.8451333045959473\n"
     ]
    },
    {
     "name": "stderr",
     "output_type": "stream",
     "text": [
      "\r",
      " 70%|███████████████████████████████████████████████████████▋                        | 209/300 [03:01<01:19,  1.15it/s]"
     ]
    },
    {
     "name": "stdout",
     "output_type": "stream",
     "text": [
      "key: train_loss -- value: 0.7422142028808594\n",
      "key: train_acc -- value: 0.8554999828338623\n",
      "key: val_loss -- value: 0.7940574288368225\n",
      "key: val_acc -- value: 0.8452666401863098\n"
     ]
    },
    {
     "name": "stderr",
     "output_type": "stream",
     "text": [
      "\r",
      " 70%|████████████████████████████████████████████████████████                        | 210/300 [03:02<01:18,  1.15it/s]"
     ]
    },
    {
     "name": "stdout",
     "output_type": "stream",
     "text": [
      "key: train_loss -- value: 0.7411549687385559\n",
      "key: train_acc -- value: 0.8557000160217285\n",
      "key: val_loss -- value: 0.7931630611419678\n",
      "key: val_acc -- value: 0.8453999757766724\n"
     ]
    },
    {
     "name": "stderr",
     "output_type": "stream",
     "text": [
      "\r",
      " 70%|████████████████████████████████████████████████████████▎                       | 211/300 [03:03<01:17,  1.15it/s]"
     ]
    },
    {
     "name": "stdout",
     "output_type": "stream",
     "text": [
      "key: train_loss -- value: 0.7401068806648254\n",
      "key: train_acc -- value: 0.8557999730110168\n",
      "key: val_loss -- value: 0.7922855019569397\n",
      "key: val_acc -- value: 0.8455666899681091\n"
     ]
    },
    {
     "name": "stderr",
     "output_type": "stream",
     "text": [
      "\r",
      " 71%|████████████████████████████████████████████████████████▌                       | 212/300 [03:04<01:16,  1.15it/s]"
     ]
    },
    {
     "name": "stdout",
     "output_type": "stream",
     "text": [
      "key: train_loss -- value: 0.7390757203102112\n",
      "key: train_acc -- value: 0.85589998960495\n",
      "key: val_loss -- value: 0.7914188504219055\n",
      "key: val_acc -- value: 0.8457333445549011\n"
     ]
    },
    {
     "name": "stderr",
     "output_type": "stream",
     "text": [
      "\r",
      " 71%|████████████████████████████████████████████████████████▊                       | 213/300 [03:05<01:15,  1.15it/s]"
     ]
    },
    {
     "name": "stdout",
     "output_type": "stream",
     "text": [
      "key: train_loss -- value: 0.7380514740943909\n",
      "key: train_acc -- value: 0.8560000061988831\n",
      "key: val_loss -- value: 0.790560245513916\n",
      "key: val_acc -- value: 0.8458999991416931\n"
     ]
    },
    {
     "name": "stderr",
     "output_type": "stream",
     "text": [
      "\r",
      " 71%|█████████████████████████████████████████████████████████                       | 214/300 [03:06<01:15,  1.15it/s]"
     ]
    },
    {
     "name": "stdout",
     "output_type": "stream",
     "text": [
      "key: train_loss -- value: 0.7370315194129944\n",
      "key: train_acc -- value: 0.8561333417892456\n",
      "key: val_loss -- value: 0.789694607257843\n",
      "key: val_acc -- value: 0.8460999727249146\n"
     ]
    },
    {
     "name": "stderr",
     "output_type": "stream",
     "text": [
      "\r",
      " 72%|█████████████████████████████████████████████████████████▎                      | 215/300 [03:07<01:14,  1.14it/s]"
     ]
    },
    {
     "name": "stdout",
     "output_type": "stream",
     "text": [
      "key: train_loss -- value: 0.7360233664512634\n",
      "key: train_acc -- value: 0.8562333583831787\n",
      "key: val_loss -- value: 0.7888247966766357\n",
      "key: val_acc -- value: 0.8461333513259888\n"
     ]
    },
    {
     "name": "stderr",
     "output_type": "stream",
     "text": [
      "\r",
      " 72%|█████████████████████████████████████████████████████████▌                      | 216/300 [03:08<01:13,  1.14it/s]"
     ]
    },
    {
     "name": "stdout",
     "output_type": "stream",
     "text": [
      "key: train_loss -- value: 0.7350205779075623\n",
      "key: train_acc -- value: 0.8562999963760376\n",
      "key: val_loss -- value: 0.7879603505134583\n",
      "key: val_acc -- value: 0.8464333415031433\n"
     ]
    },
    {
     "name": "stderr",
     "output_type": "stream",
     "text": [
      "\r",
      " 72%|█████████████████████████████████████████████████████████▊                      | 217/300 [03:09<01:12,  1.14it/s]"
     ]
    },
    {
     "name": "stdout",
     "output_type": "stream",
     "text": [
      "key: train_loss -- value: 0.7340294122695923\n",
      "key: train_acc -- value: 0.8564666509628296\n",
      "key: val_loss -- value: 0.7871080636978149\n",
      "key: val_acc -- value: 0.8465999960899353\n"
     ]
    },
    {
     "name": "stderr",
     "output_type": "stream",
     "text": [
      "\r",
      " 73%|██████████████████████████████████████████████████████████▏                     | 218/300 [03:10<01:11,  1.14it/s]"
     ]
    },
    {
     "name": "stdout",
     "output_type": "stream",
     "text": [
      "key: train_loss -- value: 0.7330482006072998\n",
      "key: train_acc -- value: 0.8566333055496216\n",
      "key: val_loss -- value: 0.7862666249275208\n",
      "key: val_acc -- value: 0.8468666672706604\n"
     ]
    },
    {
     "name": "stderr",
     "output_type": "stream",
     "text": [
      "\r",
      " 73%|██████████████████████████████████████████████████████████▍                     | 219/300 [03:11<01:10,  1.14it/s]"
     ]
    },
    {
     "name": "stdout",
     "output_type": "stream",
     "text": [
      "key: train_loss -- value: 0.7320712208747864\n",
      "key: train_acc -- value: 0.8566666841506958\n",
      "key: val_loss -- value: 0.7854393720626831\n",
      "key: val_acc -- value: 0.8471333384513855\n"
     ]
    },
    {
     "name": "stderr",
     "output_type": "stream",
     "text": [
      "\r",
      " 73%|██████████████████████████████████████████████████████████▋                     | 220/300 [03:12<01:09,  1.14it/s]"
     ]
    },
    {
     "name": "stdout",
     "output_type": "stream",
     "text": [
      "key: train_loss -- value: 0.7311002612113953\n",
      "key: train_acc -- value: 0.8567000031471252\n",
      "key: val_loss -- value: 0.7846239805221558\n",
      "key: val_acc -- value: 0.8471666574478149\n"
     ]
    },
    {
     "name": "stderr",
     "output_type": "stream",
     "text": [
      "\r",
      " 74%|██████████████████████████████████████████████████████████▉                     | 221/300 [03:13<01:09,  1.14it/s]"
     ]
    },
    {
     "name": "stdout",
     "output_type": "stream",
     "text": [
      "key: train_loss -- value: 0.7301360964775085\n",
      "key: train_acc -- value: 0.8568000197410583\n",
      "key: val_loss -- value: 0.7838168740272522\n",
      "key: val_acc -- value: 0.8472333550453186\n"
     ]
    },
    {
     "name": "stderr",
     "output_type": "stream",
     "text": [
      "\r",
      " 74%|███████████████████████████████████████████████████████████▏                    | 222/300 [03:13<01:08,  1.14it/s]"
     ]
    },
    {
     "name": "stdout",
     "output_type": "stream",
     "text": [
      "key: train_loss -- value: 0.7291829586029053\n",
      "key: train_acc -- value: 0.8569666743278503\n",
      "key: val_loss -- value: 0.7830249071121216\n",
      "key: val_acc -- value: 0.8472333550453186\n"
     ]
    },
    {
     "name": "stderr",
     "output_type": "stream",
     "text": [
      "\r",
      " 74%|███████████████████████████████████████████████████████████▍                    | 223/300 [03:14<01:07,  1.15it/s]"
     ]
    },
    {
     "name": "stdout",
     "output_type": "stream",
     "text": [
      "key: train_loss -- value: 0.7282377481460571\n",
      "key: train_acc -- value: 0.8570666909217834\n",
      "key: val_loss -- value: 0.7822341322898865\n",
      "key: val_acc -- value: 0.84743332862854\n"
     ]
    },
    {
     "name": "stderr",
     "output_type": "stream",
     "text": [
      "\r",
      " 75%|███████████████████████████████████████████████████████████▋                    | 224/300 [03:15<01:06,  1.15it/s]"
     ]
    },
    {
     "name": "stdout",
     "output_type": "stream",
     "text": [
      "key: train_loss -- value: 0.7272962927818298\n",
      "key: train_acc -- value: 0.8572333455085754\n",
      "key: val_loss -- value: 0.7814385890960693\n",
      "key: val_acc -- value: 0.8475000262260437\n"
     ]
    },
    {
     "name": "stderr",
     "output_type": "stream",
     "text": [
      "\r",
      " 75%|████████████████████████████████████████████████████████████                    | 225/300 [03:16<01:05,  1.14it/s]"
     ]
    },
    {
     "name": "stdout",
     "output_type": "stream",
     "text": [
      "key: train_loss -- value: 0.7263626456260681\n",
      "key: train_acc -- value: 0.8573333621025085\n",
      "key: val_loss -- value: 0.780647873878479\n",
      "key: val_acc -- value: 0.847599983215332\n"
     ]
    },
    {
     "name": "stderr",
     "output_type": "stream",
     "text": [
      "\r",
      " 75%|████████████████████████████████████████████████████████████▎                   | 226/300 [03:17<01:04,  1.15it/s]"
     ]
    },
    {
     "name": "stdout",
     "output_type": "stream",
     "text": [
      "key: train_loss -- value: 0.7254354953765869\n",
      "key: train_acc -- value: 0.8574000000953674\n",
      "key: val_loss -- value: 0.7798572182655334\n",
      "key: val_acc -- value: 0.8476666808128357\n"
     ]
    },
    {
     "name": "stderr",
     "output_type": "stream",
     "text": [
      "\r",
      " 76%|████████████████████████████████████████████████████████████▌                   | 227/300 [03:18<01:03,  1.15it/s]"
     ]
    },
    {
     "name": "stdout",
     "output_type": "stream",
     "text": [
      "key: train_loss -- value: 0.7245146632194519\n",
      "key: train_acc -- value: 0.8574666380882263\n",
      "key: val_loss -- value: 0.7790765166282654\n",
      "key: val_acc -- value: 0.847766637802124\n"
     ]
    },
    {
     "name": "stderr",
     "output_type": "stream",
     "text": [
      "\r",
      " 76%|████████████████████████████████████████████████████████████▊                   | 228/300 [03:19<01:02,  1.15it/s]"
     ]
    },
    {
     "name": "stdout",
     "output_type": "stream",
     "text": [
      "key: train_loss -- value: 0.723600447177887\n",
      "key: train_acc -- value: 0.8575666546821594\n",
      "key: val_loss -- value: 0.7783022522926331\n",
      "key: val_acc -- value: 0.8478333353996277\n"
     ]
    },
    {
     "name": "stderr",
     "output_type": "stream",
     "text": [
      "\r",
      " 76%|█████████████████████████████████████████████████████████████                   | 229/300 [03:19<01:01,  1.15it/s]"
     ]
    },
    {
     "name": "stdout",
     "output_type": "stream",
     "text": [
      "key: train_loss -- value: 0.7226929664611816\n",
      "key: train_acc -- value: 0.857699990272522\n",
      "key: val_loss -- value: 0.7775328755378723\n",
      "key: val_acc -- value: 0.8478333353996277\n"
     ]
    },
    {
     "name": "stderr",
     "output_type": "stream",
     "text": [
      "\r",
      " 77%|█████████████████████████████████████████████████████████████▎                  | 230/300 [03:20<01:01,  1.15it/s]"
     ]
    },
    {
     "name": "stdout",
     "output_type": "stream",
     "text": [
      "key: train_loss -- value: 0.7217930555343628\n",
      "key: train_acc -- value: 0.8578333258628845\n",
      "key: val_loss -- value: 0.776776909828186\n",
      "key: val_acc -- value: 0.8478999733924866\n"
     ]
    },
    {
     "name": "stderr",
     "output_type": "stream",
     "text": [
      "\r",
      " 77%|█████████████████████████████████████████████████████████████▌                  | 231/300 [03:21<01:00,  1.15it/s]"
     ]
    },
    {
     "name": "stdout",
     "output_type": "stream",
     "text": [
      "key: train_loss -- value: 0.7208973169326782\n",
      "key: train_acc -- value: 0.8579333424568176\n",
      "key: val_loss -- value: 0.7760263085365295\n",
      "key: val_acc -- value: 0.8479333519935608\n"
     ]
    },
    {
     "name": "stderr",
     "output_type": "stream",
     "text": [
      "\r",
      " 77%|█████████████████████████████████████████████████████████████▊                  | 232/300 [03:22<00:59,  1.15it/s]"
     ]
    },
    {
     "name": "stdout",
     "output_type": "stream",
     "text": [
      "key: train_loss -- value: 0.720008909702301\n",
      "key: train_acc -- value: 0.8580999970436096\n",
      "key: val_loss -- value: 0.7752863764762878\n",
      "key: val_acc -- value: 0.8481000065803528\n"
     ]
    },
    {
     "name": "stderr",
     "output_type": "stream",
     "text": [
      "\r",
      " 78%|██████████████████████████████████████████████████████████████▏                 | 233/300 [03:23<00:58,  1.15it/s]"
     ]
    },
    {
     "name": "stdout",
     "output_type": "stream",
     "text": [
      "key: train_loss -- value: 0.7191247344017029\n",
      "key: train_acc -- value: 0.8582666516304016\n",
      "key: val_loss -- value: 0.7745503187179565\n",
      "key: val_acc -- value: 0.8481333255767822\n"
     ]
    },
    {
     "name": "stderr",
     "output_type": "stream",
     "text": [
      "\r",
      " 78%|██████████████████████████████████████████████████████████████▍                 | 234/300 [03:24<00:57,  1.15it/s]"
     ]
    },
    {
     "name": "stdout",
     "output_type": "stream",
     "text": [
      "key: train_loss -- value: 0.7182496786117554\n",
      "key: train_acc -- value: 0.8585000038146973\n",
      "key: val_loss -- value: 0.7738152146339417\n",
      "key: val_acc -- value: 0.8482999801635742\n"
     ]
    },
    {
     "name": "stderr",
     "output_type": "stream",
     "text": [
      "\r",
      " 78%|██████████████████████████████████████████████████████████████▋                 | 235/300 [03:24<00:56,  1.15it/s]"
     ]
    },
    {
     "name": "stdout",
     "output_type": "stream",
     "text": [
      "key: train_loss -- value: 0.7173742055892944\n",
      "key: train_acc -- value: 0.8586333394050598\n",
      "key: val_loss -- value: 0.7730795741081238\n",
      "key: val_acc -- value: 0.8483999967575073\n"
     ]
    },
    {
     "name": "stderr",
     "output_type": "stream",
     "text": [
      "\r",
      " 79%|██████████████████████████████████████████████████████████████▉                 | 236/300 [03:25<00:55,  1.15it/s]"
     ]
    },
    {
     "name": "stdout",
     "output_type": "stream",
     "text": [
      "key: train_loss -- value: 0.7165044546127319\n",
      "key: train_acc -- value: 0.8587666749954224\n",
      "key: val_loss -- value: 0.772348165512085\n",
      "key: val_acc -- value: 0.8483666777610779\n"
     ]
    },
    {
     "name": "stderr",
     "output_type": "stream",
     "text": [
      "\r",
      " 79%|███████████████████████████████████████████████████████████████▏                | 237/300 [03:26<00:54,  1.15it/s]"
     ]
    },
    {
     "name": "stdout",
     "output_type": "stream",
     "text": [
      "key: train_loss -- value: 0.7156398892402649\n",
      "key: train_acc -- value: 0.8589000105857849\n",
      "key: val_loss -- value: 0.771618127822876\n",
      "key: val_acc -- value: 0.8484333157539368\n"
     ]
    },
    {
     "name": "stderr",
     "output_type": "stream",
     "text": [
      "\r",
      " 79%|███████████████████████████████████████████████████████████████▍                | 238/300 [03:27<00:54,  1.15it/s]"
     ]
    },
    {
     "name": "stdout",
     "output_type": "stream",
     "text": [
      "key: train_loss -- value: 0.7147823572158813\n",
      "key: train_acc -- value: 0.8589666485786438\n",
      "key: val_loss -- value: 0.7708898186683655\n",
      "key: val_acc -- value: 0.8485000133514404\n"
     ]
    },
    {
     "name": "stderr",
     "output_type": "stream",
     "text": [
      "\r",
      " 80%|███████████████████████████████████████████████████████████████▋                | 239/300 [03:28<00:53,  1.15it/s]"
     ]
    },
    {
     "name": "stdout",
     "output_type": "stream",
     "text": [
      "key: train_loss -- value: 0.7139285206794739\n",
      "key: train_acc -- value: 0.85916668176651\n",
      "key: val_loss -- value: 0.7701748609542847\n",
      "key: val_acc -- value: 0.8486999869346619\n"
     ]
    },
    {
     "name": "stderr",
     "output_type": "stream",
     "text": [
      "\r",
      " 80%|████████████████████████████████████████████████████████████████                | 240/300 [03:29<00:52,  1.15it/s]"
     ]
    },
    {
     "name": "stdout",
     "output_type": "stream",
     "text": [
      "key: train_loss -- value: 0.713079571723938\n",
      "key: train_acc -- value: 0.8592666387557983\n",
      "key: val_loss -- value: 0.7694641351699829\n",
      "key: val_acc -- value: 0.8488333225250244\n"
     ]
    },
    {
     "name": "stderr",
     "output_type": "stream",
     "text": [
      "\r",
      " 80%|████████████████████████████████████████████████████████████████▎               | 241/300 [03:29<00:51,  1.15it/s]"
     ]
    },
    {
     "name": "stdout",
     "output_type": "stream",
     "text": [
      "key: train_loss -- value: 0.7122371792793274\n",
      "key: train_acc -- value: 0.8593999743461609\n",
      "key: val_loss -- value: 0.7687579393386841\n",
      "key: val_acc -- value: 0.8489000201225281\n"
     ]
    },
    {
     "name": "stderr",
     "output_type": "stream",
     "text": [
      "\r",
      " 81%|████████████████████████████████████████████████████████████████▌               | 242/300 [03:30<00:50,  1.15it/s]"
     ]
    },
    {
     "name": "stdout",
     "output_type": "stream",
     "text": [
      "key: train_loss -- value: 0.7113972902297974\n",
      "key: train_acc -- value: 0.8594666719436646\n",
      "key: val_loss -- value: 0.7680586576461792\n",
      "key: val_acc -- value: 0.8489333391189575\n"
     ]
    },
    {
     "name": "stderr",
     "output_type": "stream",
     "text": [
      "\r",
      " 81%|████████████████████████████████████████████████████████████████▊               | 243/300 [03:31<00:49,  1.15it/s]"
     ]
    },
    {
     "name": "stdout",
     "output_type": "stream",
     "text": [
      "key: train_loss -- value: 0.7105604410171509\n",
      "key: train_acc -- value: 0.8594666719436646\n",
      "key: val_loss -- value: 0.7673643827438354\n",
      "key: val_acc -- value: 0.8489999771118164\n"
     ]
    },
    {
     "name": "stderr",
     "output_type": "stream",
     "text": [
      "\r",
      " 81%|█████████████████████████████████████████████████████████████████               | 244/300 [03:32<00:48,  1.15it/s]"
     ]
    },
    {
     "name": "stdout",
     "output_type": "stream",
     "text": [
      "key: train_loss -- value: 0.7097288966178894\n",
      "key: train_acc -- value: 0.859499990940094\n",
      "key: val_loss -- value: 0.7666676044464111\n",
      "key: val_acc -- value: 0.8490333557128906\n"
     ]
    },
    {
     "name": "stderr",
     "output_type": "stream",
     "text": [
      "\r",
      " 82%|█████████████████████████████████████████████████████████████████▎              | 245/300 [03:33<00:47,  1.15it/s]"
     ]
    },
    {
     "name": "stdout",
     "output_type": "stream",
     "text": [
      "key: train_loss -- value: 0.7088987231254578\n",
      "key: train_acc -- value: 0.8595333099365234\n",
      "key: val_loss -- value: 0.7659714818000793\n",
      "key: val_acc -- value: 0.8490666747093201\n"
     ]
    },
    {
     "name": "stderr",
     "output_type": "stream",
     "text": [
      "\r",
      " 82%|█████████████████████████████████████████████████████████████████▌              | 246/300 [03:34<00:46,  1.15it/s]"
     ]
    },
    {
     "name": "stdout",
     "output_type": "stream",
     "text": [
      "key: train_loss -- value: 0.7080705761909485\n",
      "key: train_acc -- value: 0.859666645526886\n",
      "key: val_loss -- value: 0.7652797102928162\n",
      "key: val_acc -- value: 0.849133312702179\n"
     ]
    },
    {
     "name": "stderr",
     "output_type": "stream",
     "text": [
      "\r",
      " 82%|█████████████████████████████████████████████████████████████████▊              | 247/300 [03:34<00:46,  1.15it/s]"
     ]
    },
    {
     "name": "stdout",
     "output_type": "stream",
     "text": [
      "key: train_loss -- value: 0.7072446346282959\n",
      "key: train_acc -- value: 0.8598333597183228\n",
      "key: val_loss -- value: 0.7645849585533142\n",
      "key: val_acc -- value: 0.8492333292961121\n"
     ]
    },
    {
     "name": "stderr",
     "output_type": "stream",
     "text": [
      "\r",
      " 83%|██████████████████████████████████████████████████████████████████▏             | 248/300 [03:35<00:45,  1.15it/s]"
     ]
    },
    {
     "name": "stdout",
     "output_type": "stream",
     "text": [
      "key: train_loss -- value: 0.7064242959022522\n",
      "key: train_acc -- value: 0.8600333333015442\n",
      "key: val_loss -- value: 0.7638951539993286\n",
      "key: val_acc -- value: 0.849399983882904\n"
     ]
    },
    {
     "name": "stderr",
     "output_type": "stream",
     "text": [
      "\r",
      " 83%|██████████████████████████████████████████████████████████████████▍             | 249/300 [03:36<00:44,  1.15it/s]"
     ]
    },
    {
     "name": "stdout",
     "output_type": "stream",
     "text": [
      "key: train_loss -- value: 0.7056066989898682\n",
      "key: train_acc -- value: 0.8600999712944031\n",
      "key: val_loss -- value: 0.763208270072937\n",
      "key: val_acc -- value: 0.8494666814804077\n"
     ]
    },
    {
     "name": "stderr",
     "output_type": "stream",
     "text": [
      "\r",
      " 83%|██████████████████████████████████████████████████████████████████▋             | 250/300 [03:37<00:43,  1.15it/s]"
     ]
    },
    {
     "name": "stdout",
     "output_type": "stream",
     "text": [
      "key: train_loss -- value: 0.7047877311706543\n",
      "key: train_acc -- value: 0.8602666854858398\n",
      "key: val_loss -- value: 0.762527346611023\n",
      "key: val_acc -- value: 0.8494333624839783\n"
     ]
    },
    {
     "name": "stderr",
     "output_type": "stream",
     "text": [
      "\r",
      " 84%|██████████████████████████████████████████████████████████████████▉             | 251/300 [03:38<00:42,  1.15it/s]"
     ]
    },
    {
     "name": "stdout",
     "output_type": "stream",
     "text": [
      "key: train_loss -- value: 0.7039751410484314\n",
      "key: train_acc -- value: 0.8604000210762024\n",
      "key: val_loss -- value: 0.7618483901023865\n",
      "key: val_acc -- value: 0.8496000170707703\n"
     ]
    },
    {
     "name": "stderr",
     "output_type": "stream",
     "text": [
      "\r",
      " 84%|███████████████████████████████████████████████████████████████████▏            | 252/300 [03:39<00:41,  1.15it/s]"
     ]
    },
    {
     "name": "stdout",
     "output_type": "stream",
     "text": [
      "key: train_loss -- value: 0.7031614184379578\n",
      "key: train_acc -- value: 0.8604999780654907\n",
      "key: val_loss -- value: 0.7611683011054993\n",
      "key: val_acc -- value: 0.8496666550636292\n"
     ]
    },
    {
     "name": "stderr",
     "output_type": "stream",
     "text": [
      "\r",
      " 84%|███████████████████████████████████████████████████████████████████▍            | 253/300 [03:39<00:40,  1.15it/s]"
     ]
    },
    {
     "name": "stdout",
     "output_type": "stream",
     "text": [
      "key: train_loss -- value: 0.7023466229438782\n",
      "key: train_acc -- value: 0.8606333136558533\n",
      "key: val_loss -- value: 0.7604861259460449\n",
      "key: val_acc -- value: 0.8497666716575623\n"
     ]
    },
    {
     "name": "stderr",
     "output_type": "stream",
     "text": [
      "\r",
      " 85%|███████████████████████████████████████████████████████████████████▋            | 254/300 [03:40<00:39,  1.15it/s]"
     ]
    },
    {
     "name": "stdout",
     "output_type": "stream",
     "text": [
      "key: train_loss -- value: 0.7015295028686523\n",
      "key: train_acc -- value: 0.86080002784729\n",
      "key: val_loss -- value: 0.7598032355308533\n",
      "key: val_acc -- value: 0.8499666452407837\n"
     ]
    },
    {
     "name": "stderr",
     "output_type": "stream",
     "text": [
      "\r",
      " 85%|████████████████████████████████████████████████████████████████████            | 255/300 [03:41<00:39,  1.15it/s]"
     ]
    },
    {
     "name": "stdout",
     "output_type": "stream",
     "text": [
      "key: train_loss -- value: 0.700710117816925\n",
      "key: train_acc -- value: 0.860966682434082\n",
      "key: val_loss -- value: 0.7591144442558289\n",
      "key: val_acc -- value: 0.8500999808311462\n"
     ]
    },
    {
     "name": "stderr",
     "output_type": "stream",
     "text": [
      "\r",
      " 85%|████████████████████████████████████████████████████████████████████▎           | 256/300 [03:42<00:38,  1.15it/s]"
     ]
    },
    {
     "name": "stdout",
     "output_type": "stream",
     "text": [
      "key: train_loss -- value: 0.6998890042304993\n",
      "key: train_acc -- value: 0.8610666394233704\n",
      "key: val_loss -- value: 0.7584266662597656\n",
      "key: val_acc -- value: 0.8500999808311462\n"
     ]
    },
    {
     "name": "stderr",
     "output_type": "stream",
     "text": [
      "\r",
      " 86%|████████████████████████████████████████████████████████████████████▌           | 257/300 [03:43<00:37,  1.15it/s]"
     ]
    },
    {
     "name": "stdout",
     "output_type": "stream",
     "text": [
      "key: train_loss -- value: 0.6990665197372437\n",
      "key: train_acc -- value: 0.8611999750137329\n",
      "key: val_loss -- value: 0.7577332854270935\n",
      "key: val_acc -- value: 0.8503000140190125\n"
     ]
    },
    {
     "name": "stderr",
     "output_type": "stream",
     "text": [
      "\r",
      " 86%|████████████████████████████████████████████████████████████████████▊           | 258/300 [03:44<00:36,  1.15it/s]"
     ]
    },
    {
     "name": "stdout",
     "output_type": "stream",
     "text": [
      "key: train_loss -- value: 0.6982380151748657\n",
      "key: train_acc -- value: 0.861299991607666\n",
      "key: val_loss -- value: 0.7570335865020752\n",
      "key: val_acc -- value: 0.8504666686058044\n"
     ]
    },
    {
     "name": "stderr",
     "output_type": "stream",
     "text": [
      "\r",
      " 86%|█████████████████████████████████████████████████████████████████████           | 259/300 [03:44<00:35,  1.15it/s]"
     ]
    },
    {
     "name": "stdout",
     "output_type": "stream",
     "text": [
      "key: train_loss -- value: 0.6973989009857178\n",
      "key: train_acc -- value: 0.8615333437919617\n",
      "key: val_loss -- value: 0.7563216090202332\n",
      "key: val_acc -- value: 0.8505666851997375\n"
     ]
    },
    {
     "name": "stderr",
     "output_type": "stream",
     "text": [
      "\r",
      " 87%|█████████████████████████████████████████████████████████████████████▎          | 260/300 [03:45<00:34,  1.15it/s]"
     ]
    },
    {
     "name": "stdout",
     "output_type": "stream",
     "text": [
      "key: train_loss -- value: 0.6965530514717102\n",
      "key: train_acc -- value: 0.8616333603858948\n",
      "key: val_loss -- value: 0.7556067705154419\n",
      "key: val_acc -- value: 0.850766658782959\n"
     ]
    },
    {
     "name": "stderr",
     "output_type": "stream",
     "text": [
      "\r",
      " 87%|█████████████████████████████████████████████████████████████████████▌          | 261/300 [03:46<00:33,  1.15it/s]"
     ]
    },
    {
     "name": "stdout",
     "output_type": "stream",
     "text": [
      "key: train_loss -- value: 0.6956892609596252\n",
      "key: train_acc -- value: 0.8618666529655457\n",
      "key: val_loss -- value: 0.754876434803009\n",
      "key: val_acc -- value: 0.8510666489601135\n"
     ]
    },
    {
     "name": "stderr",
     "output_type": "stream",
     "text": [
      "\r",
      " 87%|█████████████████████████████████████████████████████████████████████▊          | 262/300 [03:47<00:32,  1.15it/s]"
     ]
    },
    {
     "name": "stdout",
     "output_type": "stream",
     "text": [
      "key: train_loss -- value: 0.6948115229606628\n",
      "key: train_acc -- value: 0.8621333241462708\n",
      "key: val_loss -- value: 0.7541269063949585\n",
      "key: val_acc -- value: 0.8513666391372681\n"
     ]
    },
    {
     "name": "stderr",
     "output_type": "stream",
     "text": [
      "\r",
      " 88%|██████████████████████████████████████████████████████████████████████▏         | 263/300 [03:48<00:32,  1.15it/s]"
     ]
    },
    {
     "name": "stdout",
     "output_type": "stream",
     "text": [
      "key: train_loss -- value: 0.6939097046852112\n",
      "key: train_acc -- value: 0.8626000285148621\n",
      "key: val_loss -- value: 0.7533560395240784\n",
      "key: val_acc -- value: 0.8515999913215637\n"
     ]
    },
    {
     "name": "stderr",
     "output_type": "stream",
     "text": [
      "\r",
      " 88%|██████████████████████████████████████████████████████████████████████▍         | 264/300 [03:49<00:31,  1.15it/s]"
     ]
    },
    {
     "name": "stdout",
     "output_type": "stream",
     "text": [
      "key: train_loss -- value: 0.6929824948310852\n",
      "key: train_acc -- value: 0.8630333542823792\n",
      "key: val_loss -- value: 0.7525554299354553\n",
      "key: val_acc -- value: 0.852233350276947\n"
     ]
    },
    {
     "name": "stderr",
     "output_type": "stream",
     "text": [
      "\r",
      " 88%|██████████████████████████████████████████████████████████████████████▋         | 265/300 [03:49<00:30,  1.15it/s]"
     ]
    },
    {
     "name": "stdout",
     "output_type": "stream",
     "text": [
      "key: train_loss -- value: 0.6920100450515747\n",
      "key: train_acc -- value: 0.8638333082199097\n",
      "key: val_loss -- value: 0.751717209815979\n",
      "key: val_acc -- value: 0.8529000282287598\n"
     ]
    },
    {
     "name": "stderr",
     "output_type": "stream",
     "text": [
      "\r",
      " 89%|██████████████████████████████████████████████████████████████████████▉         | 266/300 [03:50<00:29,  1.15it/s]"
     ]
    },
    {
     "name": "stdout",
     "output_type": "stream",
     "text": [
      "key: train_loss -- value: 0.6909856796264648\n",
      "key: train_acc -- value: 0.864799976348877\n",
      "key: val_loss -- value: 0.7508255839347839\n",
      "key: val_acc -- value: 0.8536666631698608\n"
     ]
    },
    {
     "name": "stderr",
     "output_type": "stream",
     "text": [
      "\r",
      " 89%|███████████████████████████████████████████████████████████████████████▏        | 267/300 [03:51<00:28,  1.15it/s]"
     ]
    },
    {
     "name": "stdout",
     "output_type": "stream",
     "text": [
      "key: train_loss -- value: 0.6898910999298096\n",
      "key: train_acc -- value: 0.8657333254814148\n",
      "key: val_loss -- value: 0.7498593926429749\n",
      "key: val_acc -- value: 0.8547000288963318\n"
     ]
    },
    {
     "name": "stderr",
     "output_type": "stream",
     "text": [
      "\r",
      " 89%|███████████████████████████████████████████████████████████████████████▍        | 268/300 [03:52<00:27,  1.15it/s]"
     ]
    },
    {
     "name": "stdout",
     "output_type": "stream",
     "text": [
      "key: train_loss -- value: 0.6886992454528809\n",
      "key: train_acc -- value: 0.8673333525657654\n",
      "key: val_loss -- value: 0.7487983107566833\n",
      "key: val_acc -- value: 0.8558666706085205\n"
     ]
    },
    {
     "name": "stderr",
     "output_type": "stream",
     "text": [
      "\r",
      " 90%|███████████████████████████████████████████████████████████████████████▋        | 269/300 [03:53<00:26,  1.15it/s]"
     ]
    },
    {
     "name": "stdout",
     "output_type": "stream",
     "text": [
      "key: train_loss -- value: 0.6873675584793091\n",
      "key: train_acc -- value: 0.8691333532333374\n",
      "key: val_loss -- value: 0.7475985884666443\n",
      "key: val_acc -- value: 0.857866644859314\n"
     ]
    },
    {
     "name": "stderr",
     "output_type": "stream",
     "text": [
      "\r",
      " 90%|████████████████████████████████████████████████████████████████████████        | 270/300 [03:53<00:25,  1.15it/s]"
     ]
    },
    {
     "name": "stdout",
     "output_type": "stream",
     "text": [
      "key: train_loss -- value: 0.6858309507369995\n",
      "key: train_acc -- value: 0.8720333576202393\n",
      "key: val_loss -- value: 0.7461972236633301\n",
      "key: val_acc -- value: 0.8600999712944031\n"
     ]
    },
    {
     "name": "stderr",
     "output_type": "stream",
     "text": [
      "\r",
      " 90%|████████████████████████████████████████████████████████████████████████▎       | 271/300 [03:54<00:25,  1.15it/s]"
     ]
    },
    {
     "name": "stdout",
     "output_type": "stream",
     "text": [
      "key: train_loss -- value: 0.6839853525161743\n",
      "key: train_acc -- value: 0.8749333620071411\n",
      "key: val_loss -- value: 0.7444869875907898\n",
      "key: val_acc -- value: 0.863099992275238\n"
     ]
    },
    {
     "name": "stderr",
     "output_type": "stream",
     "text": [
      "\r",
      " 91%|████████████████████████████████████████████████████████████████████████▌       | 272/300 [03:55<00:24,  1.15it/s]"
     ]
    },
    {
     "name": "stdout",
     "output_type": "stream",
     "text": [
      "key: train_loss -- value: 0.6816473603248596\n",
      "key: train_acc -- value: 0.8798666596412659\n",
      "key: val_loss -- value: 0.7422971129417419\n",
      "key: val_acc -- value: 0.8669000267982483\n"
     ]
    },
    {
     "name": "stderr",
     "output_type": "stream",
     "text": [
      "\r",
      " 91%|████████████████████████████████████████████████████████████████████████▊       | 273/300 [03:56<00:23,  1.15it/s]"
     ]
    },
    {
     "name": "stdout",
     "output_type": "stream",
     "text": [
      "key: train_loss -- value: 0.6784747242927551\n",
      "key: train_acc -- value: 0.8848666548728943\n",
      "key: val_loss -- value: 0.7392882704734802\n",
      "key: val_acc -- value: 0.8716333508491516\n"
     ]
    },
    {
     "name": "stderr",
     "output_type": "stream",
     "text": [
      "\r",
      " 91%|█████████████████████████████████████████████████████████████████████████       | 274/300 [03:57<00:22,  1.15it/s]"
     ]
    },
    {
     "name": "stdout",
     "output_type": "stream",
     "text": [
      "key: train_loss -- value: 0.6737979054450989\n",
      "key: train_acc -- value: 0.8921666741371155\n",
      "key: val_loss -- value: 0.7347894310951233\n",
      "key: val_acc -- value: 0.8787333369255066\n"
     ]
    },
    {
     "name": "stderr",
     "output_type": "stream",
     "text": [
      "\r",
      " 92%|█████████████████████████████████████████████████████████████████████████▎      | 275/300 [03:58<00:21,  1.15it/s]"
     ]
    },
    {
     "name": "stdout",
     "output_type": "stream",
     "text": [
      "key: train_loss -- value: 0.6661173701286316\n",
      "key: train_acc -- value: 0.900433361530304\n",
      "key: val_loss -- value: 0.7273253798484802\n",
      "key: val_acc -- value: 0.8880333304405212\n"
     ]
    },
    {
     "name": "stderr",
     "output_type": "stream",
     "text": [
      "\r",
      " 92%|█████████████████████████████████████████████████████████████████████████▌      | 276/300 [03:59<00:20,  1.15it/s]"
     ]
    },
    {
     "name": "stdout",
     "output_type": "stream",
     "text": [
      "key: train_loss -- value: 0.6517395973205566\n",
      "key: train_acc -- value: 0.9118000268936157\n",
      "key: val_loss -- value: 0.713222086429596\n",
      "key: val_acc -- value: 0.8997666835784912\n"
     ]
    },
    {
     "name": "stderr",
     "output_type": "stream",
     "text": [
      "\r",
      " 92%|█████████████████████████████████████████████████████████████████████████▊      | 277/300 [04:00<00:19,  1.15it/s]"
     ]
    },
    {
     "name": "stdout",
     "output_type": "stream",
     "text": [
      "key: train_loss -- value: 0.620559811592102\n",
      "key: train_acc -- value: 0.9258333444595337\n",
      "key: val_loss -- value: 0.6823902130126953\n",
      "key: val_acc -- value: 0.9138000011444092\n"
     ]
    },
    {
     "name": "stderr",
     "output_type": "stream",
     "text": [
      "\r",
      " 93%|██████████████████████████████████████████████████████████████████████████▏     | 278/300 [04:01<00:19,  1.15it/s]"
     ]
    },
    {
     "name": "stdout",
     "output_type": "stream",
     "text": [
      "key: train_loss -- value: 0.5477542281150818\n",
      "key: train_acc -- value: 0.940666675567627\n",
      "key: val_loss -- value: 0.6098197102546692\n",
      "key: val_acc -- value: 0.9276000261306763\n"
     ]
    },
    {
     "name": "stderr",
     "output_type": "stream",
     "text": [
      "\r",
      " 93%|██████████████████████████████████████████████████████████████████████████▍     | 279/300 [04:02<00:18,  1.15it/s]"
     ]
    },
    {
     "name": "stdout",
     "output_type": "stream",
     "text": [
      "key: train_loss -- value: 0.43168023228645325\n",
      "key: train_acc -- value: 0.9509666562080383\n",
      "key: val_loss -- value: 0.49349358677864075\n",
      "key: val_acc -- value: 0.9379333257675171\n"
     ]
    },
    {
     "name": "stderr",
     "output_type": "stream",
     "text": [
      "\r",
      " 93%|██████████████████████████████████████████████████████████████████████████▋     | 280/300 [04:03<00:17,  1.15it/s]"
     ]
    },
    {
     "name": "stdout",
     "output_type": "stream",
     "text": [
      "key: train_loss -- value: 0.42667070031166077\n",
      "key: train_acc -- value: 0.9505666494369507\n",
      "key: val_loss -- value: 0.48756301403045654\n",
      "key: val_acc -- value: 0.9381333589553833\n"
     ]
    },
    {
     "name": "stderr",
     "output_type": "stream",
     "text": [
      "\r",
      " 94%|██████████████████████████████████████████████████████████████████████████▉     | 281/300 [04:03<00:16,  1.15it/s]"
     ]
    },
    {
     "name": "stdout",
     "output_type": "stream",
     "text": [
      "key: train_loss -- value: 0.5252312421798706\n",
      "key: train_acc -- value: 0.9453666806221008\n",
      "key: val_loss -- value: 0.5862523913383484\n",
      "key: val_acc -- value: 0.9332333207130432\n"
     ]
    },
    {
     "name": "stderr",
     "output_type": "stream",
     "text": [
      "\r",
      " 94%|███████████████████████████████████████████████████████████████████████████▏    | 282/300 [04:04<00:15,  1.15it/s]"
     ]
    },
    {
     "name": "stdout",
     "output_type": "stream",
     "text": [
      "key: train_loss -- value: 0.4768224060535431\n",
      "key: train_acc -- value: 0.9476333260536194\n",
      "key: val_loss -- value: 0.5372421145439148\n",
      "key: val_acc -- value: 0.9350666403770447\n"
     ]
    },
    {
     "name": "stderr",
     "output_type": "stream",
     "text": [
      "\r",
      " 94%|███████████████████████████████████████████████████████████████████████████▍    | 283/300 [04:05<00:14,  1.15it/s]"
     ]
    },
    {
     "name": "stdout",
     "output_type": "stream",
     "text": [
      "key: train_loss -- value: 0.3876938223838806\n",
      "key: train_acc -- value: 0.9518666863441467\n",
      "key: val_loss -- value: 0.44816482067108154\n",
      "key: val_acc -- value: 0.9392333626747131\n"
     ]
    },
    {
     "name": "stderr",
     "output_type": "stream",
     "text": [
      "\r",
      " 95%|███████████████████████████████████████████████████████████████████████████▋    | 284/300 [04:06<00:13,  1.15it/s]"
     ]
    },
    {
     "name": "stdout",
     "output_type": "stream",
     "text": [
      "key: train_loss -- value: 0.37927231192588806\n",
      "key: train_acc -- value: 0.9526333212852478\n",
      "key: val_loss -- value: 0.44073599576950073\n",
      "key: val_acc -- value: 0.9397666454315186\n"
     ]
    },
    {
     "name": "stderr",
     "output_type": "stream",
     "text": [
      "\r",
      " 95%|████████████████████████████████████████████████████████████████████████████    | 285/300 [04:07<00:13,  1.15it/s]"
     ]
    },
    {
     "name": "stdout",
     "output_type": "stream",
     "text": [
      "key: train_loss -- value: 0.4050697088241577\n",
      "key: train_acc -- value: 0.9506000280380249\n",
      "key: val_loss -- value: 0.4672844409942627\n",
      "key: val_acc -- value: 0.9375333189964294\n"
     ]
    },
    {
     "name": "stderr",
     "output_type": "stream",
     "text": [
      "\r",
      " 95%|████████████████████████████████████████████████████████████████████████████▎   | 286/300 [04:08<00:12,  1.15it/s]"
     ]
    },
    {
     "name": "stdout",
     "output_type": "stream",
     "text": [
      "key: train_loss -- value: 0.4204404652118683\n",
      "key: train_acc -- value: 0.9487666487693787\n",
      "key: val_loss -- value: 0.48293837904930115\n",
      "key: val_acc -- value: 0.9355000257492065\n"
     ]
    },
    {
     "name": "stderr",
     "output_type": "stream",
     "text": [
      "\r",
      " 96%|████████████████████████████████████████████████████████████████████████████▌   | 287/300 [04:09<00:11,  1.15it/s]"
     ]
    },
    {
     "name": "stdout",
     "output_type": "stream",
     "text": [
      "key: train_loss -- value: 0.4120325446128845\n",
      "key: train_acc -- value: 0.9491999745368958\n",
      "key: val_loss -- value: 0.4748249053955078\n",
      "key: val_acc -- value: 0.935533344745636\n"
     ]
    },
    {
     "name": "stderr",
     "output_type": "stream",
     "text": [
      "\r",
      " 96%|████████████████████████████████████████████████████████████████████████████▊   | 288/300 [04:09<00:10,  1.15it/s]"
     ]
    },
    {
     "name": "stdout",
     "output_type": "stream",
     "text": [
      "key: train_loss -- value: 0.38825979828834534\n",
      "key: train_acc -- value: 0.9507333040237427\n",
      "key: val_loss -- value: 0.45130467414855957\n",
      "key: val_acc -- value: 0.9372000098228455\n"
     ]
    },
    {
     "name": "stderr",
     "output_type": "stream",
     "text": [
      "\r",
      " 96%|█████████████████████████████████████████████████████████████████████████████   | 289/300 [04:10<00:09,  1.15it/s]"
     ]
    },
    {
     "name": "stdout",
     "output_type": "stream",
     "text": [
      "key: train_loss -- value: 0.36529743671417236\n",
      "key: train_acc -- value: 0.9520333409309387\n",
      "key: val_loss -- value: 0.42831099033355713\n",
      "key: val_acc -- value: 0.9390666484832764\n"
     ]
    },
    {
     "name": "stderr",
     "output_type": "stream",
     "text": [
      "\r",
      " 97%|█████████████████████████████████████████████████████████████████████████████▎  | 290/300 [04:11<00:08,  1.15it/s]"
     ]
    },
    {
     "name": "stdout",
     "output_type": "stream",
     "text": [
      "key: train_loss -- value: 0.3539179265499115\n",
      "key: train_acc -- value: 0.9532666802406311\n",
      "key: val_loss -- value: 0.41644155979156494\n",
      "key: val_acc -- value: 0.9406999945640564\n"
     ]
    },
    {
     "name": "stderr",
     "output_type": "stream",
     "text": [
      "\r",
      " 97%|█████████████████████████████████████████████████████████████████████████████▌  | 291/300 [04:12<00:07,  1.15it/s]"
     ]
    },
    {
     "name": "stdout",
     "output_type": "stream",
     "text": [
      "key: train_loss -- value: 0.35493460297584534\n",
      "key: train_acc -- value: 0.953166663646698\n",
      "key: val_loss -- value: 0.4167136251926422\n",
      "key: val_acc -- value: 0.9408000111579895\n"
     ]
    },
    {
     "name": "stderr",
     "output_type": "stream",
     "text": [
      "\r",
      " 97%|█████████████████████████████████████████████████████████████████████████████▊  | 292/300 [04:13<00:06,  1.15it/s]"
     ]
    },
    {
     "name": "stdout",
     "output_type": "stream",
     "text": [
      "key: train_loss -- value: 0.3623749613761902\n",
      "key: train_acc -- value: 0.953000009059906\n",
      "key: val_loss -- value: 0.42350855469703674\n",
      "key: val_acc -- value: 0.9405333399772644\n"
     ]
    },
    {
     "name": "stderr",
     "output_type": "stream",
     "text": [
      "\r",
      " 98%|██████████████████████████████████████████████████████████████████████████████▏ | 293/300 [04:14<00:06,  1.15it/s]"
     ]
    },
    {
     "name": "stdout",
     "output_type": "stream",
     "text": [
      "key: train_loss -- value: 0.36756184697151184\n",
      "key: train_acc -- value: 0.9524666666984558\n",
      "key: val_loss -- value: 0.428251177072525\n",
      "key: val_acc -- value: 0.9400333166122437\n"
     ]
    },
    {
     "name": "stderr",
     "output_type": "stream",
     "text": [
      "\r",
      " 98%|██████████████████████████████████████████████████████████████████████████████▍ | 294/300 [04:15<00:05,  1.15it/s]"
     ]
    },
    {
     "name": "stdout",
     "output_type": "stream",
     "text": [
      "key: train_loss -- value: 0.36502784490585327\n",
      "key: train_acc -- value: 0.9526333212852478\n",
      "key: val_loss -- value: 0.425478994846344\n",
      "key: val_acc -- value: 0.9405999779701233\n"
     ]
    },
    {
     "name": "stderr",
     "output_type": "stream",
     "text": [
      "\r",
      " 98%|██████████████████████████████████████████████████████████████████████████████▋ | 295/300 [04:16<00:04,  1.15it/s]"
     ]
    },
    {
     "name": "stdout",
     "output_type": "stream",
     "text": [
      "key: train_loss -- value: 0.35648438334465027\n",
      "key: train_acc -- value: 0.9532333612442017\n",
      "key: val_loss -- value: 0.4169436991214752\n",
      "key: val_acc -- value: 0.9412999749183655\n"
     ]
    },
    {
     "name": "stderr",
     "output_type": "stream",
     "text": [
      "\r",
      " 99%|██████████████████████████████████████████████████████████████████████████████▉ | 296/300 [04:16<00:03,  1.15it/s]"
     ]
    },
    {
     "name": "stdout",
     "output_type": "stream",
     "text": [
      "key: train_loss -- value: 0.3473546504974365\n",
      "key: train_acc -- value: 0.9537666440010071\n",
      "key: val_loss -- value: 0.4081249237060547\n",
      "key: val_acc -- value: 0.9420333504676819\n"
     ]
    },
    {
     "name": "stderr",
     "output_type": "stream",
     "text": [
      "\r",
      " 99%|███████████████████████████████████████████████████████████████████████████████▏| 297/300 [04:17<00:02,  1.15it/s]"
     ]
    },
    {
     "name": "stdout",
     "output_type": "stream",
     "text": [
      "key: train_loss -- value: 0.34129947423934937\n",
      "key: train_acc -- value: 0.9539333581924438\n",
      "key: val_loss -- value: 0.4026874601840973\n",
      "key: val_acc -- value: 0.9419999718666077\n"
     ]
    },
    {
     "name": "stderr",
     "output_type": "stream",
     "text": [
      "\r",
      " 99%|███████████████████████████████████████████████████████████████████████████████▍| 298/300 [04:18<00:01,  1.15it/s]"
     ]
    },
    {
     "name": "stdout",
     "output_type": "stream",
     "text": [
      "key: train_loss -- value: 0.3388832211494446\n",
      "key: train_acc -- value: 0.9543333053588867\n",
      "key: val_loss -- value: 0.40110355615615845\n",
      "key: val_acc -- value: 0.9421333074569702\n"
     ]
    },
    {
     "name": "stderr",
     "output_type": "stream",
     "text": [
      "\r",
      "100%|███████████████████████████████████████████████████████████████████████████████▋| 299/300 [04:19<00:00,  1.15it/s]"
     ]
    },
    {
     "name": "stdout",
     "output_type": "stream",
     "text": [
      "key: train_loss -- value: 0.33892351388931274\n",
      "key: train_acc -- value: 0.9543666839599609\n",
      "key: val_loss -- value: 0.4020237922668457\n",
      "key: val_acc -- value: 0.9420666694641113\n"
     ]
    },
    {
     "name": "stderr",
     "output_type": "stream",
     "text": [
      "100%|████████████████████████████████████████████████████████████████████████████████| 300/300 [04:20<00:00,  1.15it/s]\n"
     ]
    }
   ],
   "source": [
    "model4, train4 = default_net(train_input, train_target_mse, num_of_hidden_layers=1, loss='mse', num_of_neurons=(784, 200, 10), activation='tanh', lr=0.01, momentum_coef=0.9, weight_decay=0.2, p_dropout=0.0, num_of_epochs=300, val_split=0.5, verbose=0)\n",
    "test4 = model4.evaluate(test_input, test_target_mse, return_pred=True)"
   ]
  },
  {
   "cell_type": "code",
   "execution_count": 43,
   "metadata": {},
   "outputs": [
    {
     "data": {
      "image/png": "[encoded data removed]",
      "text/plain": [
       "<matplotlib.figure.Figure at 0x2061a2ba5c0>"
      ]
     },
     "execution_count": 43,
     "metadata": {},
     "output_type": "execute_result"
    }
   ],
   "source": [
    "plot_report(train4, title=\"Model 4\")"
   ]
  },
  {
   "cell_type": "code",
   "execution_count": 44,
   "metadata": {},
   "outputs": [
    {
     "data": {
      "text/plain": [
       "(tensor(0.9469), 0.3771127760410309, tensor([ 7,  2,  1,  ...,  4,  5,  6]))"
      ]
     },
     "execution_count": 44,
     "metadata": {},
     "output_type": "execute_result"
    }
   ],
   "source": [
    "test4"
   ]
  },
  {
   "cell_type": "code",
   "execution_count": 45,
   "metadata": {},
   "outputs": [
    {
     "name": "stdout",
     "output_type": "stream",
     "text": [
      "Added Module Name: 0_Linear \n",
      "Added Module Name: 1_ReLU \n",
      "Added Module Name: 2_Dropout \n",
      "Added Module Name: 3_Linear \n",
      "Added Module Name: 4_ReLU \n",
      "x_train.shape: torch.Size([30000, 784]) -- y_train.shape: torch.Size([30000, 10])\n",
      "x_val.shape: torch.Size([30000, 784]) -- y_val.shape: torch.Size([30000, 10])\n"
     ]
    },
    {
     "name": "stderr",
     "output_type": "stream",
     "text": [
      "\r",
      "  0%|                                                                                          | 0/100 [00:00<?, ?it/s]"
     ]
    },
    {
     "name": "stdout",
     "output_type": "stream",
     "text": [
      "key: train_loss -- value: 1.0359642505645752\n",
      "key: train_acc -- value: 0.10890000313520432\n",
      "key: val_loss -- value: 1.0375601053237915\n",
      "key: val_acc -- value: 0.10693333297967911\n"
     ]
    },
    {
     "name": "stderr",
     "output_type": "stream",
     "text": [
      "\r",
      "  1%|▊                                                                                 | 1/100 [00:00<01:36,  1.03it/s]"
     ]
    },
    {
     "name": "stdout",
     "output_type": "stream",
     "text": [
      "key: train_loss -- value: 0.9977056384086609\n",
      "key: train_acc -- value: 0.14303334057331085\n",
      "key: val_loss -- value: 0.9971862435340881\n",
      "key: val_acc -- value: 0.14303334057331085\n"
     ]
    },
    {
     "name": "stderr",
     "output_type": "stream",
     "text": [
      "\r",
      "  2%|█▋                                                                                | 2/100 [00:01<01:34,  1.04it/s]"
     ]
    },
    {
     "name": "stdout",
     "output_type": "stream",
     "text": [
      "key: train_loss -- value: 0.9785043597221375\n",
      "key: train_acc -- value: 0.17069999873638153\n",
      "key: val_loss -- value: 0.9766491651535034\n",
      "key: val_acc -- value: 0.17456667125225067\n"
     ]
    },
    {
     "name": "stderr",
     "output_type": "stream",
     "text": [
      "\r",
      "  3%|██▍                                                                               | 3/100 [00:02<01:31,  1.06it/s]"
     ]
    },
    {
     "name": "stdout",
     "output_type": "stream",
     "text": [
      "key: train_loss -- value: 0.9582115411758423\n",
      "key: train_acc -- value: 0.19103333353996277\n",
      "key: val_loss -- value: 0.9557729959487915\n",
      "key: val_acc -- value: 0.19286666810512543\n"
     ]
    },
    {
     "name": "stderr",
     "output_type": "stream",
     "text": [
      "\r",
      "  4%|███▎                                                                              | 4/100 [00:03<01:30,  1.07it/s]"
     ]
    },
    {
     "name": "stdout",
     "output_type": "stream",
     "text": [
      "key: train_loss -- value: 0.9415607452392578\n",
      "key: train_acc -- value: 0.2066333293914795\n",
      "key: val_loss -- value: 0.9389422535896301\n",
      "key: val_acc -- value: 0.20890000462532043\n"
     ]
    },
    {
     "name": "stderr",
     "output_type": "stream",
     "text": [
      "\r",
      "  5%|████                                                                              | 5/100 [00:04<01:28,  1.07it/s]"
     ]
    },
    {
     "name": "stdout",
     "output_type": "stream",
     "text": [
      "key: train_loss -- value: 0.9295894503593445\n",
      "key: train_acc -- value: 0.21683333814144135\n",
      "key: val_loss -- value: 0.926908552646637\n",
      "key: val_acc -- value: 0.2190999984741211\n"
     ]
    },
    {
     "name": "stderr",
     "output_type": "stream",
     "text": [
      "\r",
      "  6%|████▉                                                                             | 6/100 [00:05<01:26,  1.09it/s]"
     ]
    },
    {
     "name": "stdout",
     "output_type": "stream",
     "text": [
      "key: train_loss -- value: 0.918292760848999\n",
      "key: train_acc -- value: 0.21556666493415833\n",
      "key: val_loss -- value: 0.9155144095420837\n",
      "key: val_acc -- value: 0.21683333814144135\n"
     ]
    },
    {
     "name": "stderr",
     "output_type": "stream",
     "text": [
      "\r",
      "  7%|█████▋                                                                            | 7/100 [00:06<01:25,  1.09it/s]"
     ]
    },
    {
     "name": "stdout",
     "output_type": "stream",
     "text": [
      "key: train_loss -- value: 0.9068496823310852\n",
      "key: train_acc -- value: 0.20829999446868896\n",
      "key: val_loss -- value: 0.9039996266365051\n",
      "key: val_acc -- value: 0.21026666462421417\n"
     ]
    },
    {
     "name": "stderr",
     "output_type": "stream",
     "text": [
      "\r",
      "  8%|██████▌                                                                           | 8/100 [00:07<01:23,  1.10it/s]"
     ]
    },
    {
     "name": "stdout",
     "output_type": "stream",
     "text": [
      "key: train_loss -- value: 0.8994810581207275\n",
      "key: train_acc -- value: 0.20376667380332947\n",
      "key: val_loss -- value: 0.8966119885444641\n",
      "key: val_acc -- value: 0.20703333616256714\n"
     ]
    },
    {
     "name": "stderr",
     "output_type": "stream",
     "text": [
      "\r",
      "  9%|███████▍                                                                          | 9/100 [00:08<01:22,  1.10it/s]"
     ]
    },
    {
     "name": "stdout",
     "output_type": "stream",
     "text": [
      "key: train_loss -- value: 0.892004668712616\n",
      "key: train_acc -- value: 0.20810000598430634\n",
      "key: val_loss -- value: 0.8893546462059021\n",
      "key: val_acc -- value: 0.21146667003631592\n"
     ]
    },
    {
     "name": "stderr",
     "output_type": "stream",
     "text": [
      "\r",
      " 10%|████████                                                                         | 10/100 [00:09<01:21,  1.10it/s]"
     ]
    },
    {
     "name": "stdout",
     "output_type": "stream",
     "text": [
      "key: train_loss -- value: 0.8848710656166077\n",
      "key: train_acc -- value: 0.22166666388511658\n",
      "key: val_loss -- value: 0.8826385140419006\n",
      "key: val_acc -- value: 0.2248000055551529\n"
     ]
    },
    {
     "name": "stderr",
     "output_type": "stream",
     "text": [
      "\r",
      " 11%|████████▉                                                                        | 11/100 [00:09<01:20,  1.11it/s]"
     ]
    },
    {
     "name": "stdout",
     "output_type": "stream",
     "text": [
      "key: train_loss -- value: 0.8811520338058472\n",
      "key: train_acc -- value: 0.23786666989326477\n",
      "key: val_loss -- value: 0.8792096376419067\n",
      "key: val_acc -- value: 0.2402999997138977\n"
     ]
    },
    {
     "name": "stderr",
     "output_type": "stream",
     "text": [
      "\r",
      " 12%|█████████▋                                                                       | 12/100 [00:10<01:19,  1.11it/s]"
     ]
    },
    {
     "name": "stdout",
     "output_type": "stream",
     "text": [
      "key: train_loss -- value: 0.8770418167114258\n",
      "key: train_acc -- value: 0.24770000576972961\n",
      "key: val_loss -- value: 0.8751434683799744\n",
      "key: val_acc -- value: 0.2504666745662689\n"
     ]
    },
    {
     "name": "stderr",
     "output_type": "stream",
     "text": [
      "\r",
      " 13%|██████████▌                                                                      | 13/100 [00:11<01:18,  1.11it/s]"
     ]
    },
    {
     "name": "stdout",
     "output_type": "stream",
     "text": [
      "key: train_loss -- value: 0.8713731169700623\n",
      "key: train_acc -- value: 0.2517666518688202\n",
      "key: val_loss -- value: 0.8692144155502319\n",
      "key: val_acc -- value: 0.2543666660785675\n"
     ]
    },
    {
     "name": "stderr",
     "output_type": "stream",
     "text": [
      "\r",
      " 14%|███████████▎                                                                     | 14/100 [00:12<01:17,  1.10it/s]"
     ]
    },
    {
     "name": "stdout",
     "output_type": "stream",
     "text": [
      "key: train_loss -- value: 0.867275595664978\n",
      "key: train_acc -- value: 0.25130000710487366\n",
      "key: val_loss -- value: 0.8648576736450195\n",
      "key: val_acc -- value: 0.25440001487731934\n"
     ]
    },
    {
     "name": "stderr",
     "output_type": "stream",
     "text": [
      "\r",
      " 15%|████████████▏                                                                    | 15/100 [00:13<01:16,  1.11it/s]"
     ]
    },
    {
     "name": "stdout",
     "output_type": "stream",
     "text": [
      "key: train_loss -- value: 0.8653146028518677\n",
      "key: train_acc -- value: 0.2545333206653595\n",
      "key: val_loss -- value: 0.862622857093811\n",
      "key: val_acc -- value: 0.25723332166671753\n"
     ]
    },
    {
     "name": "stderr",
     "output_type": "stream",
     "text": [
      "\r",
      " 16%|████████████▉                                                                    | 16/100 [00:14<01:15,  1.11it/s]"
     ]
    },
    {
     "name": "stdout",
     "output_type": "stream",
     "text": [
      "key: train_loss -- value: 0.8601835370063782\n",
      "key: train_acc -- value: 0.266400009393692\n",
      "key: val_loss -- value: 0.8573598265647888\n",
      "key: val_acc -- value: 0.2701333463191986\n"
     ]
    },
    {
     "name": "stderr",
     "output_type": "stream",
     "text": [
      "\r",
      " 17%|█████████████▊                                                                   | 17/100 [00:15<01:14,  1.11it/s]"
     ]
    },
    {
     "name": "stdout",
     "output_type": "stream",
     "text": [
      "key: train_loss -- value: 0.8532660603523254\n",
      "key: train_acc -- value: 0.28376665711402893\n",
      "key: val_loss -- value: 0.8505386710166931\n",
      "key: val_acc -- value: 0.28786665201187134\n"
     ]
    },
    {
     "name": "stderr",
     "output_type": "stream",
     "text": [
      "\r",
      " 18%|██████████████▌                                                                  | 18/100 [00:16<01:13,  1.11it/s]"
     ]
    },
    {
     "name": "stdout",
     "output_type": "stream",
     "text": [
      "key: train_loss -- value: 0.845592737197876\n",
      "key: train_acc -- value: 0.29943332076072693\n",
      "key: val_loss -- value: 0.8428391218185425\n",
      "key: val_acc -- value: 0.30406665802001953\n"
     ]
    },
    {
     "name": "stderr",
     "output_type": "stream",
     "text": [
      "\r",
      " 19%|███████████████▍                                                                 | 19/100 [00:17<01:12,  1.11it/s]"
     ]
    },
    {
     "name": "stdout",
     "output_type": "stream",
     "text": [
      "key: train_loss -- value: 0.8361586332321167\n",
      "key: train_acc -- value: 0.31646665930747986\n",
      "key: val_loss -- value: 0.8330685496330261\n",
      "key: val_acc -- value: 0.32089999318122864\n"
     ]
    },
    {
     "name": "stderr",
     "output_type": "stream",
     "text": [
      "\r",
      " 20%|████████████████▏                                                                | 20/100 [00:17<01:11,  1.11it/s]"
     ]
    },
    {
     "name": "stdout",
     "output_type": "stream",
     "text": [
      "key: train_loss -- value: 0.8302688002586365\n",
      "key: train_acc -- value: 0.3319999873638153\n",
      "key: val_loss -- value: 0.8265747427940369\n",
      "key: val_acc -- value: 0.33516666293144226\n"
     ]
    },
    {
     "name": "stderr",
     "output_type": "stream",
     "text": [
      "\r",
      " 21%|█████████████████                                                                | 21/100 [00:18<01:10,  1.11it/s]"
     ]
    },
    {
     "name": "stdout",
     "output_type": "stream",
     "text": [
      "key: train_loss -- value: 0.8372669816017151\n",
      "key: train_acc -- value: 0.333133339881897\n",
      "key: val_loss -- value: 0.8328540325164795\n",
      "key: val_acc -- value: 0.3362666666507721\n"
     ]
    },
    {
     "name": "stderr",
     "output_type": "stream",
     "text": [
      "\r",
      " 22%|█████████████████▊                                                               | 22/100 [00:19<01:10,  1.11it/s]"
     ]
    },
    {
     "name": "stdout",
     "output_type": "stream",
     "text": [
      "key: train_loss -- value: 0.8306424617767334\n",
      "key: train_acc -- value: 0.3365333378314972\n",
      "key: val_loss -- value: 0.8263477087020874\n",
      "key: val_acc -- value: 0.34060001373291016\n"
     ]
    },
    {
     "name": "stderr",
     "output_type": "stream",
     "text": [
      "\r",
      " 23%|██████████████████▋                                                              | 23/100 [00:20<01:09,  1.10it/s]"
     ]
    },
    {
     "name": "stdout",
     "output_type": "stream",
     "text": [
      "key: train_loss -- value: 0.8170655965805054\n",
      "key: train_acc -- value: 0.3405666649341583\n",
      "key: val_loss -- value: 0.8133828043937683\n",
      "key: val_acc -- value: 0.3434000015258789\n"
     ]
    },
    {
     "name": "stderr",
     "output_type": "stream",
     "text": [
      "\r",
      " 24%|███████████████████▍                                                             | 24/100 [00:21<01:09,  1.10it/s]"
     ]
    },
    {
     "name": "stdout",
     "output_type": "stream",
     "text": [
      "key: train_loss -- value: 0.8158392310142517\n",
      "key: train_acc -- value: 0.33570000529289246\n",
      "key: val_loss -- value: 0.8126604557037354\n",
      "key: val_acc -- value: 0.3392333388328552\n"
     ]
    },
    {
     "name": "stderr",
     "output_type": "stream",
     "text": [
      "\r",
      " 25%|████████████████████▎                                                            | 25/100 [00:22<01:08,  1.10it/s]"
     ]
    },
    {
     "name": "stdout",
     "output_type": "stream",
     "text": [
      "key: train_loss -- value: 0.8157681226730347\n",
      "key: train_acc -- value: 0.3352000117301941\n",
      "key: val_loss -- value: 0.8127330541610718\n",
      "key: val_acc -- value: 0.3380333185195923\n"
     ]
    },
    {
     "name": "stderr",
     "output_type": "stream",
     "text": [
      "\r",
      " 26%|█████████████████████                                                            | 26/100 [00:23<01:07,  1.09it/s]"
     ]
    },
    {
     "name": "stdout",
     "output_type": "stream",
     "text": [
      "key: train_loss -- value: 0.8097862601280212\n",
      "key: train_acc -- value: 0.34066668152809143\n",
      "key: val_loss -- value: 0.8067880272865295\n",
      "key: val_acc -- value: 0.34476667642593384\n"
     ]
    },
    {
     "name": "stderr",
     "output_type": "stream",
     "text": [
      "\r",
      " 27%|█████████████████████▊                                                           | 27/100 [00:24<01:06,  1.09it/s]"
     ]
    },
    {
     "name": "stdout",
     "output_type": "stream",
     "text": [
      "key: train_loss -- value: 0.798854410648346\n",
      "key: train_acc -- value: 0.3522999882698059\n",
      "key: val_loss -- value: 0.7957486510276794\n",
      "key: val_acc -- value: 0.3562333285808563\n"
     ]
    },
    {
     "name": "stderr",
     "output_type": "stream",
     "text": [
      "\r",
      " 28%|██████████████████████▋                                                          | 28/100 [00:25<01:05,  1.09it/s]"
     ]
    },
    {
     "name": "stdout",
     "output_type": "stream",
     "text": [
      "key: train_loss -- value: 0.7963839769363403\n",
      "key: train_acc -- value: 0.3571999967098236\n",
      "key: val_loss -- value: 0.7929666638374329\n",
      "key: val_acc -- value: 0.36026665568351746\n"
     ]
    },
    {
     "name": "stderr",
     "output_type": "stream",
     "text": [
      "\r",
      " 29%|███████████████████████▍                                                         | 29/100 [00:26<01:04,  1.10it/s]"
     ]
    },
    {
     "name": "stdout",
     "output_type": "stream",
     "text": [
      "key: train_loss -- value: 0.7989113330841064\n",
      "key: train_acc -- value: 0.35813334584236145\n",
      "key: val_loss -- value: 0.7955372929573059\n",
      "key: val_acc -- value: 0.36169999837875366\n"
     ]
    },
    {
     "name": "stderr",
     "output_type": "stream",
     "text": [
      "\r",
      " 30%|████████████████████████▎                                                        | 30/100 [00:27<01:04,  1.09it/s]"
     ]
    },
    {
     "name": "stdout",
     "output_type": "stream",
     "text": [
      "key: train_loss -- value: 0.788377046585083\n",
      "key: train_acc -- value: 0.36266666650772095\n",
      "key: val_loss -- value: 0.7854486107826233\n",
      "key: val_acc -- value: 0.36606666445732117\n"
     ]
    },
    {
     "name": "stderr",
     "output_type": "stream",
     "text": [
      "\r",
      " 31%|█████████████████████████                                                        | 31/100 [00:28<01:03,  1.09it/s]"
     ]
    },
    {
     "name": "stdout",
     "output_type": "stream",
     "text": [
      "key: train_loss -- value: 0.7866085767745972\n",
      "key: train_acc -- value: 0.36340001225471497\n",
      "key: val_loss -- value: 0.7841921448707581\n",
      "key: val_acc -- value: 0.3672666549682617\n"
     ]
    },
    {
     "name": "stderr",
     "output_type": "stream",
     "text": [
      "\r",
      " 32%|█████████████████████████▉                                                       | 32/100 [00:29<01:02,  1.09it/s]"
     ]
    },
    {
     "name": "stdout",
     "output_type": "stream",
     "text": [
      "key: train_loss -- value: 0.786881148815155\n",
      "key: train_acc -- value: 0.3657666742801666\n",
      "key: val_loss -- value: 0.7848162651062012\n",
      "key: val_acc -- value: 0.3688333332538605\n"
     ]
    },
    {
     "name": "stderr",
     "output_type": "stream",
     "text": [
      "\r",
      " 33%|██████████████████████████▋                                                      | 33/100 [00:30<01:01,  1.08it/s]"
     ]
    },
    {
     "name": "stdout",
     "output_type": "stream",
     "text": [
      "key: train_loss -- value: 0.7798107862472534\n",
      "key: train_acc -- value: 0.37406668066978455\n",
      "key: val_loss -- value: 0.7779970169067383\n",
      "key: val_acc -- value: 0.37816667556762695\n"
     ]
    },
    {
     "name": "stderr",
     "output_type": "stream",
     "text": [
      "\r",
      " 34%|███████████████████████████▌                                                     | 34/100 [00:31<01:01,  1.08it/s]"
     ]
    },
    {
     "name": "stdout",
     "output_type": "stream",
     "text": [
      "key: train_loss -- value: 0.7678328156471252\n",
      "key: train_acc -- value: 0.38973334431648254\n",
      "key: val_loss -- value: 0.7659122943878174\n",
      "key: val_acc -- value: 0.3937999904155731\n"
     ]
    },
    {
     "name": "stderr",
     "output_type": "stream",
     "text": [
      "\r",
      " 35%|████████████████████████████▎                                                    | 35/100 [00:32<01:00,  1.08it/s]"
     ]
    },
    {
     "name": "stdout",
     "output_type": "stream",
     "text": [
      "key: train_loss -- value: 0.751369297504425\n",
      "key: train_acc -- value: 0.41146665811538696\n",
      "key: val_loss -- value: 0.7490797638893127\n",
      "key: val_acc -- value: 0.4151333272457123\n"
     ]
    },
    {
     "name": "stderr",
     "output_type": "stream",
     "text": [
      "\r",
      " 36%|█████████████████████████████▏                                                   | 36/100 [00:33<00:59,  1.08it/s]"
     ]
    },
    {
     "name": "stdout",
     "output_type": "stream",
     "text": [
      "key: train_loss -- value: 0.7420010566711426\n",
      "key: train_acc -- value: 0.42829999327659607\n",
      "key: val_loss -- value: 0.7385056614875793\n",
      "key: val_acc -- value: 0.43380001187324524\n"
     ]
    },
    {
     "name": "stderr",
     "output_type": "stream",
     "text": [
      "\r",
      " 37%|█████████████████████████████▉                                                   | 37/100 [00:34<00:58,  1.07it/s]"
     ]
    },
    {
     "name": "stdout",
     "output_type": "stream",
     "text": [
      "key: train_loss -- value: 0.763637900352478\n",
      "key: train_acc -- value: 0.42403334379196167\n",
      "key: val_loss -- value: 0.7603225708007812\n",
      "key: val_acc -- value: 0.42776668071746826\n"
     ]
    },
    {
     "name": "stderr",
     "output_type": "stream",
     "text": [
      "\r",
      " 38%|██████████████████████████████▊                                                  | 38/100 [00:35<00:58,  1.07it/s]"
     ]
    },
    {
     "name": "stdout",
     "output_type": "stream",
     "text": [
      "key: train_loss -- value: 0.7307461500167847\n",
      "key: train_acc -- value: 0.43016666173934937\n",
      "key: val_loss -- value: 0.7279545664787292\n",
      "key: val_acc -- value: 0.4359000027179718\n"
     ]
    },
    {
     "name": "stderr",
     "output_type": "stream",
     "text": [
      "\r",
      " 39%|███████████████████████████████▌                                                 | 39/100 [00:36<00:57,  1.07it/s]"
     ]
    },
    {
     "name": "stdout",
     "output_type": "stream",
     "text": [
      "key: train_loss -- value: 0.7393118739128113\n",
      "key: train_acc -- value: 0.41936665773391724\n",
      "key: val_loss -- value: 0.7376636862754822\n",
      "key: val_acc -- value: 0.42293334007263184\n"
     ]
    },
    {
     "name": "stderr",
     "output_type": "stream",
     "text": [
      "\r",
      " 40%|████████████████████████████████▍                                                | 40/100 [00:37<00:56,  1.06it/s]"
     ]
    },
    {
     "name": "stdout",
     "output_type": "stream",
     "text": [
      "key: train_loss -- value: 0.7431631684303284\n",
      "key: train_acc -- value: 0.41290000081062317\n",
      "key: val_loss -- value: 0.7418287992477417\n",
      "key: val_acc -- value: 0.41583332419395447\n"
     ]
    },
    {
     "name": "stderr",
     "output_type": "stream",
     "text": [
      "\r",
      " 41%|█████████████████████████████████▏                                               | 41/100 [00:38<00:55,  1.06it/s]"
     ]
    },
    {
     "name": "stdout",
     "output_type": "stream",
     "text": [
      "key: train_loss -- value: 0.7371391654014587\n",
      "key: train_acc -- value: 0.41636666655540466\n",
      "key: val_loss -- value: 0.7356379628181458\n",
      "key: val_acc -- value: 0.420933336019516\n"
     ]
    },
    {
     "name": "stderr",
     "output_type": "stream",
     "text": [
      "\r",
      " 42%|██████████████████████████████████                                               | 42/100 [00:39<00:54,  1.06it/s]"
     ]
    },
    {
     "name": "stdout",
     "output_type": "stream",
     "text": [
      "key: train_loss -- value: 0.7250135540962219\n",
      "key: train_acc -- value: 0.42793333530426025\n",
      "key: val_loss -- value: 0.722895622253418\n",
      "key: val_acc -- value: 0.43320000171661377\n"
     ]
    },
    {
     "name": "stderr",
     "output_type": "stream",
     "text": [
      "\r",
      " 43%|██████████████████████████████████▊                                              | 43/100 [00:40<00:53,  1.06it/s]"
     ]
    },
    {
     "name": "stdout",
     "output_type": "stream",
     "text": [
      "key: train_loss -- value: 0.7205306887626648\n",
      "key: train_acc -- value: 0.43736666440963745\n",
      "key: val_loss -- value: 0.7178303599357605\n",
      "key: val_acc -- value: 0.4413333237171173\n"
     ]
    },
    {
     "name": "stderr",
     "output_type": "stream",
     "text": [
      "\r",
      " 44%|███████████████████████████████████▋                                             | 44/100 [00:41<00:52,  1.06it/s]"
     ]
    },
    {
     "name": "stdout",
     "output_type": "stream",
     "text": [
      "key: train_loss -- value: 0.730014979839325\n",
      "key: train_acc -- value: 0.4371333420276642\n",
      "key: val_loss -- value: 0.7273720502853394\n",
      "key: val_acc -- value: 0.4399999976158142\n"
     ]
    },
    {
     "name": "stderr",
     "output_type": "stream",
     "text": [
      "\r",
      " 45%|████████████████████████████████████▍                                            | 45/100 [00:42<00:52,  1.06it/s]"
     ]
    },
    {
     "name": "stdout",
     "output_type": "stream",
     "text": [
      "key: train_loss -- value: 0.7167370915412903\n",
      "key: train_acc -- value: 0.4401666522026062\n",
      "key: val_loss -- value: 0.7143442630767822\n",
      "key: val_acc -- value: 0.4434666633605957\n"
     ]
    },
    {
     "name": "stderr",
     "output_type": "stream",
     "text": [
      "\r",
      " 46%|█████████████████████████████████████▎                                           | 46/100 [00:43<00:51,  1.06it/s]"
     ]
    },
    {
     "name": "stdout",
     "output_type": "stream",
     "text": [
      "key: train_loss -- value: 0.714207112789154\n",
      "key: train_acc -- value: 0.436766654253006\n",
      "key: val_loss -- value: 0.7123435735702515\n",
      "key: val_acc -- value: 0.4396333396434784\n"
     ]
    },
    {
     "name": "stderr",
     "output_type": "stream",
     "text": [
      "\r",
      " 47%|██████████████████████████████████████                                           | 47/100 [00:44<00:50,  1.05it/s]"
     ]
    },
    {
     "name": "stdout",
     "output_type": "stream",
     "text": [
      "key: train_loss -- value: 0.717651903629303\n",
      "key: train_acc -- value: 0.4327666759490967\n",
      "key: val_loss -- value: 0.7162169218063354\n",
      "key: val_acc -- value: 0.43673333525657654\n"
     ]
    },
    {
     "name": "stderr",
     "output_type": "stream",
     "text": [
      "\r",
      " 48%|██████████████████████████████████████▉                                          | 48/100 [00:45<00:49,  1.05it/s]"
     ]
    },
    {
     "name": "stdout",
     "output_type": "stream",
     "text": [
      "key: train_loss -- value: 0.7151787281036377\n",
      "key: train_acc -- value: 0.43566668033599854\n",
      "key: val_loss -- value: 0.7137728333473206\n",
      "key: val_acc -- value: 0.4406000077724457\n"
     ]
    },
    {
     "name": "stderr",
     "output_type": "stream",
     "text": [
      "\r",
      " 49%|███████████████████████████████████████▋                                         | 49/100 [00:46<00:48,  1.05it/s]"
     ]
    },
    {
     "name": "stdout",
     "output_type": "stream",
     "text": [
      "key: train_loss -- value: 0.7072671055793762\n",
      "key: train_acc -- value: 0.44546666741371155\n",
      "key: val_loss -- value: 0.7056033611297607\n",
      "key: val_acc -- value: 0.4503999948501587\n"
     ]
    },
    {
     "name": "stderr",
     "output_type": "stream",
     "text": [
      "\r",
      " 50%|████████████████████████████████████████▌                                        | 50/100 [00:47<00:47,  1.05it/s]"
     ]
    },
    {
     "name": "stdout",
     "output_type": "stream",
     "text": [
      "key: train_loss -- value: 0.701729416847229\n",
      "key: train_acc -- value: 0.4572666585445404\n",
      "key: val_loss -- value: 0.6997703909873962\n",
      "key: val_acc -- value: 0.4621666669845581\n"
     ]
    },
    {
     "name": "stderr",
     "output_type": "stream",
     "text": [
      "\r",
      " 51%|█████████████████████████████████████████▎                                       | 51/100 [00:48<00:46,  1.05it/s]"
     ]
    },
    {
     "name": "stdout",
     "output_type": "stream",
     "text": [
      "key: train_loss -- value: 0.7010502815246582\n",
      "key: train_acc -- value: 0.4677000045776367\n",
      "key: val_loss -- value: 0.6988344192504883\n",
      "key: val_acc -- value: 0.4729999899864197\n"
     ]
    },
    {
     "name": "stderr",
     "output_type": "stream",
     "text": [
      "\r",
      " 52%|██████████████████████████████████████████                                       | 52/100 [00:49<00:45,  1.05it/s]"
     ]
    },
    {
     "name": "stdout",
     "output_type": "stream",
     "text": [
      "key: train_loss -- value: 0.6883829832077026\n",
      "key: train_acc -- value: 0.48606666922569275\n",
      "key: val_loss -- value: 0.6869440078735352\n",
      "key: val_acc -- value: 0.4885999858379364\n"
     ]
    },
    {
     "name": "stderr",
     "output_type": "stream",
     "text": [
      "\r",
      " 53%|██████████████████████████████████████████▉                                      | 53/100 [00:50<00:44,  1.05it/s]"
     ]
    },
    {
     "name": "stdout",
     "output_type": "stream",
     "text": [
      "key: train_loss -- value: 0.6769025921821594\n",
      "key: train_acc -- value: 0.5011666417121887\n",
      "key: val_loss -- value: 0.678778886795044\n",
      "key: val_acc -- value: 0.49736666679382324\n"
     ]
    },
    {
     "name": "stderr",
     "output_type": "stream",
     "text": [
      "\r",
      " 54%|███████████████████████████████████████████▋                                     | 54/100 [00:51<00:43,  1.05it/s]"
     ]
    },
    {
     "name": "stdout",
     "output_type": "stream",
     "text": [
      "key: train_loss -- value: 0.6824295520782471\n",
      "key: train_acc -- value: 0.49656665325164795\n",
      "key: val_loss -- value: 0.6870101690292358\n",
      "key: val_acc -- value: 0.4942333400249481\n"
     ]
    },
    {
     "name": "stderr",
     "output_type": "stream",
     "text": [
      "\r",
      " 55%|████████████████████████████████████████████▌                                    | 55/100 [00:52<00:42,  1.05it/s]"
     ]
    },
    {
     "name": "stdout",
     "output_type": "stream",
     "text": [
      "key: train_loss -- value: 0.6692547798156738\n",
      "key: train_acc -- value: 0.5026000142097473\n",
      "key: val_loss -- value: 0.673191487789154\n",
      "key: val_acc -- value: 0.49976667761802673\n"
     ]
    },
    {
     "name": "stderr",
     "output_type": "stream",
     "text": [
      "\r",
      " 56%|█████████████████████████████████████████████▎                                   | 56/100 [00:53<00:42,  1.05it/s]"
     ]
    },
    {
     "name": "stdout",
     "output_type": "stream",
     "text": [
      "key: train_loss -- value: 0.6543368101119995\n",
      "key: train_acc -- value: 0.5080999732017517\n",
      "key: val_loss -- value: 0.6564375162124634\n",
      "key: val_acc -- value: 0.5074666738510132\n"
     ]
    },
    {
     "name": "stderr",
     "output_type": "stream",
     "text": [
      "\r",
      " 57%|██████████████████████████████████████████████▏                                  | 57/100 [00:54<00:41,  1.05it/s]"
     ]
    },
    {
     "name": "stdout",
     "output_type": "stream",
     "text": [
      "key: train_loss -- value: 0.6500305533409119\n",
      "key: train_acc -- value: 0.5107666850090027\n",
      "key: val_loss -- value: 0.6513330936431885\n",
      "key: val_acc -- value: 0.5110333561897278\n"
     ]
    },
    {
     "name": "stderr",
     "output_type": "stream",
     "text": [
      "\r",
      " 58%|██████████████████████████████████████████████▉                                  | 58/100 [00:55<00:40,  1.05it/s]"
     ]
    },
    {
     "name": "stdout",
     "output_type": "stream",
     "text": [
      "key: train_loss -- value: 0.6471295356750488\n",
      "key: train_acc -- value: 0.5146333575248718\n",
      "key: val_loss -- value: 0.6485043168067932\n",
      "key: val_acc -- value: 0.51419997215271\n"
     ]
    },
    {
     "name": "stderr",
     "output_type": "stream",
     "text": [
      "\r",
      " 59%|███████████████████████████████████████████████▊                                 | 59/100 [00:56<00:39,  1.05it/s]"
     ]
    },
    {
     "name": "stdout",
     "output_type": "stream",
     "text": [
      "key: train_loss -- value: 0.6376084089279175\n",
      "key: train_acc -- value: 0.5203999876976013\n",
      "key: val_loss -- value: 0.6397219896316528\n",
      "key: val_acc -- value: 0.5198000073432922\n"
     ]
    },
    {
     "name": "stderr",
     "output_type": "stream",
     "text": [
      "\r",
      " 60%|████████████████████████████████████████████████▌                                | 60/100 [00:57<00:38,  1.04it/s]"
     ]
    },
    {
     "name": "stdout",
     "output_type": "stream",
     "text": [
      "key: train_loss -- value: 0.631600558757782\n",
      "key: train_acc -- value: 0.5213666558265686\n",
      "key: val_loss -- value: 0.634705126285553\n",
      "key: val_acc -- value: 0.5213666558265686\n"
     ]
    },
    {
     "name": "stderr",
     "output_type": "stream",
     "text": [
      "\r",
      " 61%|█████████████████████████████████████████████████▍                               | 61/100 [00:58<00:37,  1.05it/s]"
     ]
    },
    {
     "name": "stdout",
     "output_type": "stream",
     "text": [
      "key: train_loss -- value: 0.633216142654419\n",
      "key: train_acc -- value: 0.519266664981842\n",
      "key: val_loss -- value: 0.6367079615592957\n",
      "key: val_acc -- value: 0.5184999704360962\n"
     ]
    },
    {
     "name": "stderr",
     "output_type": "stream",
     "text": [
      "\r",
      " 62%|██████████████████████████████████████████████████▏                              | 62/100 [00:59<00:36,  1.04it/s]"
     ]
    },
    {
     "name": "stdout",
     "output_type": "stream",
     "text": [
      "key: train_loss -- value: 0.630418062210083\n",
      "key: train_acc -- value: 0.5199666619300842\n",
      "key: val_loss -- value: 0.6335957050323486\n",
      "key: val_acc -- value: 0.5197333097457886\n"
     ]
    },
    {
     "name": "stderr",
     "output_type": "stream",
     "text": [
      "\r",
      " 63%|███████████████████████████████████████████████████                              | 63/100 [01:00<00:35,  1.04it/s]"
     ]
    },
    {
     "name": "stdout",
     "output_type": "stream",
     "text": [
      "key: train_loss -- value: 0.6242385506629944\n",
      "key: train_acc -- value: 0.522433340549469\n",
      "key: val_loss -- value: 0.6268798112869263\n",
      "key: val_acc -- value: 0.5228999853134155\n"
     ]
    },
    {
     "name": "stderr",
     "output_type": "stream",
     "text": [
      "\r",
      " 64%|███████████████████████████████████████████████████▊                             | 64/100 [01:01<00:34,  1.04it/s]"
     ]
    },
    {
     "name": "stdout",
     "output_type": "stream",
     "text": [
      "key: train_loss -- value: 0.6228894591331482\n",
      "key: train_acc -- value: 0.522766649723053\n",
      "key: val_loss -- value: 0.6251164078712463\n",
      "key: val_acc -- value: 0.5251333117485046\n"
     ]
    },
    {
     "name": "stderr",
     "output_type": "stream",
     "text": [
      "\r",
      " 65%|████████████████████████████████████████████████████▋                            | 65/100 [01:02<00:33,  1.04it/s]"
     ]
    },
    {
     "name": "stdout",
     "output_type": "stream",
     "text": [
      "key: train_loss -- value: 0.6237914562225342\n",
      "key: train_acc -- value: 0.5230333209037781\n",
      "key: val_loss -- value: 0.6259176135063171\n",
      "key: val_acc -- value: 0.5256999731063843\n"
     ]
    },
    {
     "name": "stderr",
     "output_type": "stream",
     "text": [
      "\r",
      " 66%|█████████████████████████████████████████████████████▍                           | 66/100 [01:03<00:32,  1.04it/s]"
     ]
    },
    {
     "name": "stdout",
     "output_type": "stream",
     "text": [
      "key: train_loss -- value: 0.6213773488998413\n",
      "key: train_acc -- value: 0.5252333283424377\n",
      "key: val_loss -- value: 0.6237170696258545\n",
      "key: val_acc -- value: 0.5278000235557556\n"
     ]
    },
    {
     "name": "stderr",
     "output_type": "stream",
     "text": [
      "\r",
      " 67%|██████████████████████████████████████████████████████▎                          | 67/100 [01:04<00:31,  1.04it/s]"
     ]
    },
    {
     "name": "stdout",
     "output_type": "stream",
     "text": [
      "key: train_loss -- value: 0.6189308166503906\n",
      "key: train_acc -- value: 0.5269333124160767\n",
      "key: val_loss -- value: 0.6215777397155762\n",
      "key: val_acc -- value: 0.529366672039032\n"
     ]
    },
    {
     "name": "stderr",
     "output_type": "stream",
     "text": [
      "\r",
      " 68%|███████████████████████████████████████████████████████                          | 68/100 [01:05<00:30,  1.04it/s]"
     ]
    },
    {
     "name": "stdout",
     "output_type": "stream",
     "text": [
      "key: train_loss -- value: 0.6180314421653748\n",
      "key: train_acc -- value: 0.5282333493232727\n",
      "key: val_loss -- value: 0.6208306550979614\n",
      "key: val_acc -- value: 0.529533326625824\n"
     ]
    },
    {
     "name": "stderr",
     "output_type": "stream",
     "text": [
      "\r",
      " 69%|███████████████████████████████████████████████████████▉                         | 69/100 [01:06<00:29,  1.04it/s]"
     ]
    },
    {
     "name": "stdout",
     "output_type": "stream",
     "text": [
      "key: train_loss -- value: 0.6170859336853027\n",
      "key: train_acc -- value: 0.5288000106811523\n",
      "key: val_loss -- value: 0.6198223233222961\n",
      "key: val_acc -- value: 0.5305666923522949\n"
     ]
    },
    {
     "name": "stderr",
     "output_type": "stream",
     "text": [
      "\r",
      " 70%|████████████████████████████████████████████████████████▋                        | 70/100 [01:07<00:28,  1.04it/s]"
     ]
    },
    {
     "name": "stdout",
     "output_type": "stream",
     "text": [
      "key: train_loss -- value: 0.6159189343452454\n",
      "key: train_acc -- value: 0.5298666954040527\n",
      "key: val_loss -- value: 0.6184453964233398\n",
      "key: val_acc -- value: 0.5318666696548462\n"
     ]
    },
    {
     "name": "stderr",
     "output_type": "stream",
     "text": [
      "\r",
      " 71%|█████████████████████████████████████████████████████████▌                       | 71/100 [01:08<00:27,  1.04it/s]"
     ]
    },
    {
     "name": "stdout",
     "output_type": "stream",
     "text": [
      "key: train_loss -- value: 0.6150317788124084\n",
      "key: train_acc -- value: 0.5309000015258789\n",
      "key: val_loss -- value: 0.617378830909729\n",
      "key: val_acc -- value: 0.53329998254776\n"
     ]
    },
    {
     "name": "stderr",
     "output_type": "stream",
     "text": [
      "\r",
      " 72%|██████████████████████████████████████████████████████████▎                      | 72/100 [01:09<00:26,  1.04it/s]"
     ]
    },
    {
     "name": "stdout",
     "output_type": "stream",
     "text": [
      "key: train_loss -- value: 0.6134975552558899\n",
      "key: train_acc -- value: 0.5314000248908997\n",
      "key: val_loss -- value: 0.6158726811408997\n",
      "key: val_acc -- value: 0.5337333083152771\n"
     ]
    },
    {
     "name": "stderr",
     "output_type": "stream",
     "text": [
      "\r",
      " 73%|███████████████████████████████████████████████████████████▏                     | 73/100 [01:10<00:25,  1.04it/s]"
     ]
    },
    {
     "name": "stdout",
     "output_type": "stream",
     "text": [
      "key: train_loss -- value: 0.6116710305213928\n",
      "key: train_acc -- value: 0.5321333408355713\n",
      "key: val_loss -- value: 0.6142600774765015\n",
      "key: val_acc -- value: 0.5347333550453186\n"
     ]
    },
    {
     "name": "stderr",
     "output_type": "stream",
     "text": [
      "\r",
      " 74%|███████████████████████████████████████████████████████████▉                     | 74/100 [01:11<00:25,  1.04it/s]"
     ]
    },
    {
     "name": "stdout",
     "output_type": "stream",
     "text": [
      "key: train_loss -- value: 0.6111785769462585\n",
      "key: train_acc -- value: 0.5333333611488342\n",
      "key: val_loss -- value: 0.6140365600585938\n",
      "key: val_acc -- value: 0.5353000164031982\n"
     ]
    },
    {
     "name": "stderr",
     "output_type": "stream",
     "text": [
      "\r",
      " 75%|████████████████████████████████████████████████████████████▊                    | 75/100 [01:12<00:24,  1.04it/s]"
     ]
    },
    {
     "name": "stdout",
     "output_type": "stream",
     "text": [
      "key: train_loss -- value: 0.6106347441673279\n",
      "key: train_acc -- value: 0.5347333550453186\n",
      "key: val_loss -- value: 0.6136174201965332\n",
      "key: val_acc -- value: 0.5360333323478699\n"
     ]
    },
    {
     "name": "stderr",
     "output_type": "stream",
     "text": [
      "\r",
      " 76%|█████████████████████████████████████████████████████████████▌                   | 76/100 [01:13<00:23,  1.04it/s]"
     ]
    },
    {
     "name": "stdout",
     "output_type": "stream",
     "text": [
      "key: train_loss -- value: 0.6089369654655457\n",
      "key: train_acc -- value: 0.5363666415214539\n",
      "key: val_loss -- value: 0.6118626594543457\n",
      "key: val_acc -- value: 0.537933349609375\n"
     ]
    },
    {
     "name": "stderr",
     "output_type": "stream",
     "text": [
      "\r",
      " 77%|██████████████████████████████████████████████████████████████▎                  | 77/100 [01:14<00:22,  1.04it/s]"
     ]
    },
    {
     "name": "stdout",
     "output_type": "stream",
     "text": [
      "key: train_loss -- value: 0.6073736548423767\n",
      "key: train_acc -- value: 0.5374333262443542\n",
      "key: val_loss -- value: 0.6101700067520142\n",
      "key: val_acc -- value: 0.5387333035469055\n"
     ]
    },
    {
     "name": "stderr",
     "output_type": "stream",
     "text": [
      "\r",
      " 78%|███████████████████████████████████████████████████████████████▏                 | 78/100 [01:15<00:21,  1.04it/s]"
     ]
    },
    {
     "name": "stdout",
     "output_type": "stream",
     "text": [
      "key: train_loss -- value: 0.6067685484886169\n",
      "key: train_acc -- value: 0.5385333299636841\n",
      "key: val_loss -- value: 0.6094918847084045\n",
      "key: val_acc -- value: 0.539900004863739\n"
     ]
    },
    {
     "name": "stderr",
     "output_type": "stream",
     "text": [
      "\r",
      " 79%|███████████████████████████████████████████████████████████████▉                 | 79/100 [01:16<00:20,  1.04it/s]"
     ]
    },
    {
     "name": "stdout",
     "output_type": "stream",
     "text": [
      "key: train_loss -- value: 0.6059892177581787\n",
      "key: train_acc -- value: 0.5392000079154968\n",
      "key: val_loss -- value: 0.60872882604599\n",
      "key: val_acc -- value: 0.5407999753952026\n"
     ]
    },
    {
     "name": "stderr",
     "output_type": "stream",
     "text": [
      "\r",
      " 80%|████████████████████████████████████████████████████████████████▊                | 80/100 [01:17<00:19,  1.04it/s]"
     ]
    },
    {
     "name": "stdout",
     "output_type": "stream",
     "text": [
      "key: train_loss -- value: 0.6047996878623962\n",
      "key: train_acc -- value: 0.5396999716758728\n",
      "key: val_loss -- value: 0.6076552867889404\n",
      "key: val_acc -- value: 0.5409333109855652\n"
     ]
    },
    {
     "name": "stderr",
     "output_type": "stream",
     "text": [
      "\r",
      " 81%|█████████████████████████████████████████████████████████████████▌               | 81/100 [01:18<00:18,  1.04it/s]"
     ]
    },
    {
     "name": "stdout",
     "output_type": "stream",
     "text": [
      "key: train_loss -- value: 0.6037707924842834\n",
      "key: train_acc -- value: 0.5404999852180481\n",
      "key: val_loss -- value: 0.6067525148391724\n",
      "key: val_acc -- value: 0.5414000153541565\n"
     ]
    },
    {
     "name": "stderr",
     "output_type": "stream",
     "text": [
      "\r",
      " 82%|██████████████████████████████████████████████████████████████████▍              | 82/100 [01:19<00:17,  1.04it/s]"
     ]
    },
    {
     "name": "stdout",
     "output_type": "stream",
     "text": [
      "key: train_loss -- value: 0.6028045415878296\n",
      "key: train_acc -- value: 0.5415666699409485\n",
      "key: val_loss -- value: 0.60582435131073\n",
      "key: val_acc -- value: 0.5425666570663452\n"
     ]
    },
    {
     "name": "stderr",
     "output_type": "stream",
     "text": [
      "\r",
      " 83%|███████████████████████████████████████████████████████████████████▏             | 83/100 [01:20<00:16,  1.04it/s]"
     ]
    },
    {
     "name": "stdout",
     "output_type": "stream",
     "text": [
      "key: train_loss -- value: 0.601935625076294\n",
      "key: train_acc -- value: 0.5425000190734863\n",
      "key: val_loss -- value: 0.6048960089683533\n",
      "key: val_acc -- value: 0.5433666706085205\n"
     ]
    },
    {
     "name": "stderr",
     "output_type": "stream",
     "text": [
      "\r",
      " 84%|████████████████████████████████████████████████████████████████████             | 84/100 [01:21<00:15,  1.04it/s]"
     ]
    },
    {
     "name": "stdout",
     "output_type": "stream",
     "text": [
      "key: train_loss -- value: 0.6012997627258301\n",
      "key: train_acc -- value: 0.5434666872024536\n",
      "key: val_loss -- value: 0.6041812896728516\n",
      "key: val_acc -- value: 0.5447333455085754\n"
     ]
    },
    {
     "name": "stderr",
     "output_type": "stream",
     "text": [
      "\r",
      " 85%|████████████████████████████████████████████████████████████████████▊            | 85/100 [01:22<00:14,  1.04it/s]"
     ]
    },
    {
     "name": "stdout",
     "output_type": "stream",
     "text": [
      "key: train_loss -- value: 0.6004568934440613\n",
      "key: train_acc -- value: 0.5440999865531921\n",
      "key: val_loss -- value: 0.6033132076263428\n",
      "key: val_acc -- value: 0.545199990272522\n"
     ]
    },
    {
     "name": "stderr",
     "output_type": "stream",
     "text": [
      "\r",
      " 86%|█████████████████████████████████████████████████████████████████████▋           | 86/100 [01:23<00:13,  1.03it/s]"
     ]
    },
    {
     "name": "stdout",
     "output_type": "stream",
     "text": [
      "key: train_loss -- value: 0.5993821620941162\n",
      "key: train_acc -- value: 0.5442666411399841\n",
      "key: val_loss -- value: 0.6022653579711914\n",
      "key: val_acc -- value: 0.5454999804496765\n"
     ]
    },
    {
     "name": "stderr",
     "output_type": "stream",
     "text": [
      "\r",
      " 87%|██████████████████████████████████████████████████████████████████████▍          | 87/100 [01:24<00:12,  1.03it/s]"
     ]
    },
    {
     "name": "stdout",
     "output_type": "stream",
     "text": [
      "key: train_loss -- value: 0.598676323890686\n",
      "key: train_acc -- value: 0.5440333485603333\n",
      "key: val_loss -- value: 0.601612389087677\n",
      "key: val_acc -- value: 0.5458333492279053\n"
     ]
    },
    {
     "name": "stderr",
     "output_type": "stream",
     "text": [
      "\r",
      " 88%|███████████████████████████████████████████████████████████████████████▎         | 88/100 [01:25<00:11,  1.03it/s]"
     ]
    },
    {
     "name": "stdout",
     "output_type": "stream",
     "text": [
      "key: train_loss -- value: 0.5981744527816772\n",
      "key: train_acc -- value: 0.5442333221435547\n",
      "key: val_loss -- value: 0.6011335849761963\n",
      "key: val_acc -- value: 0.5460666418075562\n"
     ]
    },
    {
     "name": "stderr",
     "output_type": "stream",
     "text": [
      "\r",
      " 89%|████████████████████████████████████████████████████████████████████████         | 89/100 [01:26<00:10,  1.03it/s]"
     ]
    },
    {
     "name": "stdout",
     "output_type": "stream",
     "text": [
      "key: train_loss -- value: 0.5973879098892212\n",
      "key: train_acc -- value: 0.5447999835014343\n",
      "key: val_loss -- value: 0.6003270745277405\n",
      "key: val_acc -- value: 0.5465999841690063\n"
     ]
    },
    {
     "name": "stderr",
     "output_type": "stream",
     "text": [
      "\r",
      " 90%|████████████████████████████████████████████████████████████████████████▉        | 90/100 [01:27<00:09,  1.03it/s]"
     ]
    },
    {
     "name": "stdout",
     "output_type": "stream",
     "text": [
      "key: train_loss -- value: 0.5965447425842285\n",
      "key: train_acc -- value: 0.5454333424568176\n",
      "key: val_loss -- value: 0.5994328260421753\n",
      "key: val_acc -- value: 0.5476333498954773\n"
     ]
    },
    {
     "name": "stderr",
     "output_type": "stream",
     "text": [
      "\r",
      " 91%|█████████████████████████████████████████████████████████████████████████▋       | 91/100 [01:28<00:08,  1.03it/s]"
     ]
    },
    {
     "name": "stdout",
     "output_type": "stream",
     "text": [
      "key: train_loss -- value: 0.5959436297416687\n",
      "key: train_acc -- value: 0.5458666682243347\n",
      "key: val_loss -- value: 0.5987817049026489\n",
      "key: val_acc -- value: 0.5479666590690613\n"
     ]
    },
    {
     "name": "stderr",
     "output_type": "stream",
     "text": [
      "\r",
      " 92%|██████████████████████████████████████████████████████████████████████████▌      | 92/100 [01:29<00:07,  1.03it/s]"
     ]
    },
    {
     "name": "stdout",
     "output_type": "stream",
     "text": [
      "key: train_loss -- value: 0.5953670144081116\n",
      "key: train_acc -- value: 0.5462666749954224\n",
      "key: val_loss -- value: 0.5981902480125427\n",
      "key: val_acc -- value: 0.5482000112533569\n"
     ]
    },
    {
     "name": "stderr",
     "output_type": "stream",
     "text": [
      "\r",
      " 93%|███████████████████████████████████████████████████████████████████████████▎     | 93/100 [01:30<00:06,  1.03it/s]"
     ]
    },
    {
     "name": "stdout",
     "output_type": "stream",
     "text": [
      "key: train_loss -- value: 0.5947393774986267\n",
      "key: train_acc -- value: 0.5463666915893555\n",
      "key: val_loss -- value: 0.5975831747055054\n",
      "key: val_acc -- value: 0.5487666726112366\n"
     ]
    },
    {
     "name": "stderr",
     "output_type": "stream",
     "text": [
      "\r",
      " 94%|████████████████████████████████████████████████████████████████████████████▏    | 94/100 [01:31<00:05,  1.03it/s]"
     ]
    },
    {
     "name": "stdout",
     "output_type": "stream",
     "text": [
      "key: train_loss -- value: 0.5941477417945862\n",
      "key: train_acc -- value: 0.5465999841690063\n",
      "key: val_loss -- value: 0.5970108509063721\n",
      "key: val_acc -- value: 0.5487333536148071\n"
     ]
    },
    {
     "name": "stderr",
     "output_type": "stream",
     "text": [
      "\r",
      " 95%|████████████████████████████████████████████████████████████████████████████▉    | 95/100 [01:32<00:04,  1.03it/s]"
     ]
    },
    {
     "name": "stdout",
     "output_type": "stream",
     "text": [
      "key: train_loss -- value: 0.5935306549072266\n",
      "key: train_acc -- value: 0.5464666485786438\n",
      "key: val_loss -- value: 0.5963916778564453\n",
      "key: val_acc -- value: 0.5491666793823242\n"
     ]
    },
    {
     "name": "stderr",
     "output_type": "stream",
     "text": [
      "\r",
      " 96%|█████████████████████████████████████████████████████████████████████████████▊   | 96/100 [01:33<00:03,  1.03it/s]"
     ]
    },
    {
     "name": "stdout",
     "output_type": "stream",
     "text": [
      "key: train_loss -- value: 0.5929399132728577\n",
      "key: train_acc -- value: 0.546833336353302\n",
      "key: val_loss -- value: 0.5957841873168945\n",
      "key: val_acc -- value: 0.5492333173751831\n"
     ]
    },
    {
     "name": "stderr",
     "output_type": "stream",
     "text": [
      "\r",
      " 97%|██████████████████████████████████████████████████████████████████████████████▌  | 97/100 [01:34<00:02,  1.03it/s]"
     ]
    },
    {
     "name": "stdout",
     "output_type": "stream",
     "text": [
      "key: train_loss -- value: 0.5924628376960754\n",
      "key: train_acc -- value: 0.5472999811172485\n",
      "key: val_loss -- value: 0.5952838063240051\n",
      "key: val_acc -- value: 0.5493666529655457\n"
     ]
    },
    {
     "name": "stderr",
     "output_type": "stream",
     "text": [
      "\r",
      " 98%|███████████████████████████████████████████████████████████████████████████████▍ | 98/100 [01:35<00:01,  1.03it/s]"
     ]
    },
    {
     "name": "stdout",
     "output_type": "stream",
     "text": [
      "key: train_loss -- value: 0.5919522047042847\n",
      "key: train_acc -- value: 0.5474333167076111\n",
      "key: val_loss -- value: 0.5947709679603577\n",
      "key: val_acc -- value: 0.5497999787330627\n"
     ]
    },
    {
     "name": "stderr",
     "output_type": "stream",
     "text": [
      "\r",
      " 99%|████████████████████████████████████████████████████████████████████████████████▏| 99/100 [01:36<00:00,  1.03it/s]"
     ]
    },
    {
     "name": "stdout",
     "output_type": "stream",
     "text": [
      "key: train_loss -- value: 0.5913577079772949\n",
      "key: train_acc -- value: 0.5480333566665649\n",
      "key: val_loss -- value: 0.5941861867904663\n",
      "key: val_acc -- value: 0.5501333475112915\n"
     ]
    },
    {
     "name": "stderr",
     "output_type": "stream",
     "text": [
      "100%|████████████████████████████████████████████████████████████████████████████████| 100/100 [01:36<00:00,  1.03it/s]\n"
     ]
    }
   ],
   "source": [
    "model5, train5 = default_net(train_input, train_target, num_of_hidden_layers=1, loss='mse', num_of_neurons=(784, 200, 10), activation='relu', lr=0.01, momentum_coef=0.9, weight_decay=0.2, p_dropout=0.0, num_of_epochs=100, val_split=0.5, verbose=0)\n",
    "test5 = model5.evaluate(test_input, test_target, return_pred=True)"
   ]
  },
  {
   "cell_type": "code",
   "execution_count": 46,
   "metadata": {},
   "outputs": [
    {
     "data": {
      "image/png": "[encoded data removed]",
      "text/plain": [
       "<matplotlib.figure.Figure at 0x2061c9ed6d8>"
      ]
     },
     "execution_count": 46,
     "metadata": {},
     "output_type": "execute_result"
    }
   ],
   "source": [
    "plot_report(train5)"
   ]
  },
  {
   "cell_type": "code",
   "execution_count": 47,
   "metadata": {},
   "outputs": [
    {
     "data": {
      "text/plain": [
       "(tensor(0.5511), 0.5875523090362549, tensor([ 0,  5,  1,  ...,  4,  5,  0]))"
      ]
     },
     "execution_count": 47,
     "metadata": {},
     "output_type": "execute_result"
    }
   ],
   "source": [
    "test5"
   ]
  },
  {
   "cell_type": "code",
   "execution_count": null,
   "metadata": {
    "collapsed": true
   },
   "outputs": [],
   "source": []
  }
 ],
 "metadata": {
  "kernelspec": {
   "display_name": "Python 3",
   "language": "python",
   "name": "python3"
  },
  "language_info": {
   "codemirror_mode": {
    "name": "ipython",
    "version": 3
   },
   "file_extension": ".py",
   "mimetype": "text/x-python",
   "name": "python",
   "nbconvert_exporter": "python",
   "pygments_lexer": "ipython3",
   "version": "3.6.2"
  }
 },
 "nbformat": 4,
 "nbformat_minor": 1
}
