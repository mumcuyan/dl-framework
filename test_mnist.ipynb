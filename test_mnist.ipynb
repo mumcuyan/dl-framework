{
 "cells": [
  {
   "cell_type": "code",
   "execution_count": 1,
   "metadata": {
    "collapsed": true
   },
   "outputs": [],
   "source": [
    "import torch\n",
    "from torchvision import datasets"
   ]
  },
  {
   "cell_type": "code",
   "execution_count": 2,
   "metadata": {},
   "outputs": [
    {
     "name": "stderr",
     "output_type": "stream",
     "text": [
      "Using TensorFlow backend.\n",
      "/Users/arasmumcuyan/anaconda/lib/python3.6/importlib/_bootstrap.py:205: RuntimeWarning: compiletime version 3.5 of module 'tensorflow.python.framework.fast_tensor_util' does not match runtime version 3.6\n",
      "  return f(*args, **kwds)\n"
     ]
    }
   ],
   "source": [
    "import matplotlib.pyplot as plt\n",
    "import torch\n",
    "import numpy as np\n",
    "from utils import label2one_hot\n",
    "from generate_data import generate_data, generate_grid_data\n",
    "from modules import Dropout\n",
    "from modules import Linear, Sequential\n",
    "import modules\n",
    "from modules.losses import LossMSE, LossCrossEntropy\n",
    "from optimizers import SGD\n",
    "from keras.layers.core import Dense\n",
    "from keras.models import Sequential\n",
    "from keras import optimizers\n"
   ]
  },
  {
   "cell_type": "code",
   "execution_count": 3,
   "metadata": {
    "collapsed": true
   },
   "outputs": [],
   "source": [
    "def convert_to_one_hot_labels(input, target, val=0):\n",
    "    tmp = input.new(target.size(0), target.max() + 1).fill_(-1)\n",
    "    tmp.scatter_(1, target.view(-1, 1), 1.0)\n",
    "    if val == 0:      \n",
    "        ret = (tmp+1)/2\n",
    "    if val == -1:\n",
    "        ret = tmp\n",
    "    return ret\n",
    "\n",
    "def load_data(one_hot_labels = False, normalize = False, flatten = True, data_dir = None, cifar = False, full = True, tiny = False, val = 0):\n",
    "\n",
    "    if data_dir is None:\n",
    "        \"\"\"\n",
    "        data_dir = os.environ.get('PYTORCH_DATA_DIR')\n",
    "        if data_dir is None:\n",
    "            data_dir = './data'\n",
    "        \"\"\"\n",
    "        data_dir = './data'\n",
    "        \n",
    "    if cifar is not None and cifar:\n",
    "        print('* Using CIFAR')\n",
    "        cifar_train_set = datasets.CIFAR10(data_dir + '/cifar10/', train = True, download = True)\n",
    "        cifar_test_set = datasets.CIFAR10(data_dir + '/cifar10/', train = False, download = True)\n",
    "\n",
    "        train_input = torch.from_numpy(cifar_train_set.train_data)\n",
    "        # Dirty hack to handle the change between torchvision 1.0.6 and 1.0.8\n",
    "        if train_input.size(3) == 3:\n",
    "            train_input = train_input.transpose(3, 1).transpose(2, 3).float()\n",
    "        else:\n",
    "            train_input = train_input.float()\n",
    "        train_target = torch.LongTensor(cifar_train_set.train_labels)\n",
    "\n",
    "        test_input = torch.from_numpy(cifar_test_set.test_data).float()\n",
    "        # Dirty hack to handle the change between torchvision 1.0.6 and 1.0.8\n",
    "        if test_input.size(3) == 3:\n",
    "            test_input = test_input.transpose(3, 1).transpose(2, 3).float()\n",
    "        else:\n",
    "            test_input = test_input.float()\n",
    "        test_target = torch.LongTensor(cifar_test_set.test_labels)\n",
    "\n",
    "    else:\n",
    "        print('* Using MNIST')\n",
    "        mnist_train_set = datasets.MNIST(data_dir + '/mnist/', train = True, download = True)\n",
    "        mnist_test_set = datasets.MNIST(data_dir + '/mnist/', train = False, download = True)\n",
    "\n",
    "        train_input = mnist_train_set.train_data.view(-1, 1, 28, 28).float()\n",
    "        train_target = mnist_train_set.train_labels\n",
    "        test_input = mnist_test_set.test_data.view(-1, 1, 28, 28).float()\n",
    "        test_target = mnist_test_set.test_labels\n",
    "\n",
    "    if flatten:\n",
    "        train_input = train_input.clone().view(train_input.size(0), -1)\n",
    "        test_input = test_input.clone().view(test_input.size(0), -1)\n",
    "\n",
    "    if full:\n",
    "        if tiny:\n",
    "            raise ValueError('Cannot have both --full and --tiny')\n",
    "    else:\n",
    "        if tiny:\n",
    "            print('** Reduce the data-set to the tiny setup')\n",
    "            train_input = train_input.narrow(0, 0, 500)\n",
    "            train_target = train_target.narrow(0, 0, 500)\n",
    "            test_input = test_input.narrow(0, 0, 100)\n",
    "            test_target = test_target.narrow(0, 0, 100)\n",
    "        else:\n",
    "            print('** Reduce the data-set (use --full for the full thing)')\n",
    "            train_input = train_input.narrow(0, 0, 1000)\n",
    "            train_target = train_target.narrow(0, 0, 1000)\n",
    "            test_input = test_input.narrow(0, 0, 1000)\n",
    "            test_target = test_target.narrow(0, 0, 1000)\n",
    "\n",
    "    print('** Use {:d} train and {:d} test samples'.format(train_input.size(0), test_input.size(0)))\n",
    "\n",
    "    if one_hot_labels:\n",
    "        train_target = convert_to_one_hot_labels(train_input, train_target, val=val)\n",
    "        test_target = convert_to_one_hot_labels(test_input, test_target, val=val)\n",
    "\n",
    "    if normalize:\n",
    "        mu, std = train_input.mean(), train_input.std()\n",
    "        train_input.sub_(mu).div_(std)\n",
    "        test_input.sub_(mu).div_(std)\n",
    "\n",
    "    return train_input, train_target, test_input, test_target\n"
   ]
  },
  {
   "cell_type": "code",
   "execution_count": 13,
   "metadata": {},
   "outputs": [
    {
     "name": "stdout",
     "output_type": "stream",
     "text": [
      "<class 'numpy.ndarray'>\n",
      "x_train.shape: (50000, 32, 32, 3)\n"
     ]
    }
   ],
   "source": [
    "from keras.datasets import cifar10\n",
    "def get_cifar():\n",
    "    (x_train, y_train), (x_test, y_test) = cifar10.load_data()\n",
    "    print(type(x_train))\n",
    "    print(\"x_train.shape: {}\".format(x_train.shape))\n",
    "    \n"
   ]
  },
  {
   "cell_type": "code",
   "execution_count": 4,
   "metadata": {},
   "outputs": [
    {
     "name": "stdout",
     "output_type": "stream",
     "text": [
      "* Using MNIST\n",
      "** Use 60000 train and 10000 test samples\n",
      "* Using MNIST\n",
      "** Use 60000 train and 10000 test samples\n"
     ]
    }
   ],
   "source": [
    "train_input, train_target, test_input, test_target = load_data(one_hot_labels = True, normalize = True, flatten = True, data_dir = None, cifar = False, full = True, tiny = False, val=0)\n",
    "train_input_mse, train_target_mse, test_input_mse, test_target_mse = load_data(one_hot_labels = True, normalize = True, flatten = True, data_dir = None, cifar = False, full = True, tiny = False, val=-1)"
   ]
  },
  {
   "cell_type": "code",
   "execution_count": 5,
   "metadata": {},
   "outputs": [
    {
     "data": {
      "text/plain": [
       "tensor([[ 0.,  0.,  0.,  ...,  0.,  0.,  0.],\n",
       "        [ 1.,  0.,  0.,  ...,  0.,  0.,  0.],\n",
       "        [ 0.,  0.,  0.,  ...,  0.,  0.,  0.],\n",
       "        ...,\n",
       "        [ 0.,  0.,  0.,  ...,  0.,  0.,  0.],\n",
       "        [ 0.,  0.,  0.,  ...,  0.,  0.,  0.],\n",
       "        [ 0.,  0.,  0.,  ...,  0.,  1.,  0.]])"
      ]
     },
     "execution_count": 5,
     "metadata": {},
     "output_type": "execute_result"
    }
   ],
   "source": [
    "train_target"
   ]
  },
  {
   "cell_type": "code",
   "execution_count": 6,
   "metadata": {},
   "outputs": [
    {
     "data": {
      "text/plain": [
       "tensor([[-1., -1., -1.,  ..., -1., -1., -1.],\n",
       "        [ 1., -1., -1.,  ..., -1., -1., -1.],\n",
       "        [-1., -1., -1.,  ..., -1., -1., -1.],\n",
       "        ...,\n",
       "        [-1., -1., -1.,  ..., -1., -1., -1.],\n",
       "        [-1., -1., -1.,  ..., -1., -1., -1.],\n",
       "        [-1., -1., -1.,  ..., -1.,  1., -1.]])"
      ]
     },
     "execution_count": 6,
     "metadata": {},
     "output_type": "execute_result"
    }
   ],
   "source": [
    "train_target_mse"
   ]
  },
  {
   "cell_type": "code",
   "execution_count": 7,
   "metadata": {
    "collapsed": true
   },
   "outputs": [],
   "source": [
    "def default_net_1(x_all, y_all, num_of_neurons=(2, 25, 2), activation='relu', lr=0.1, momentum_coef=0.0, weight_decay=0.0, p_dropout=0.0, num_of_epochs=100, val_split=0.2, verbose=0):\n",
    "    ce = LossCrossEntropy()\n",
    "\n",
    "    model = Sequential()\n",
    "    model.add(Linear(out=num_of_neurons[1], input_size=num_of_neurons[0], activation=activation))\n",
    "    model.add(Dropout(prob=p_dropout))\n",
    "\n",
    "    model.add(Linear(out=num_of_neurons[2], activation='softmax'))\n",
    "\n",
    "    model.loss = ce\n",
    "    sgd = SGD(lr, momentum_coef, weight_decay=weight_decay)\n",
    "\n",
    "    report = sgd.train(model, x_all, y_all, num_of_epochs, val_split=val_split, verbose=verbose)\n",
    "\n",
    "    return model, report\n",
    "\n",
    "def default_net_2(x_all, y_all, num_of_neurons=(2, 25, 25, 2), activation='relu', lr=0.1, momentum_coef=0.0, weight_decay=0.0, p_dropout=0.0, num_of_epochs=100, val_split=0.2, verbose=0):\n",
    "    ce = LossCrossEntropy()\n",
    "\n",
    "    model = Sequential()\n",
    "    model.add(Linear(out=num_of_neurons[1], input_size=num_of_neurons[0], activation=activation))\n",
    "    model.add(Dropout(prob=p_dropout))\n",
    "    model.add(Linear(out=num_of_neurons[2], activation=activation))\n",
    "    model.add(Dropout(prob=p_dropout))\n",
    "\n",
    "    model.add(Linear(out=num_of_neurons[3], activation='softmax'))\n",
    "\n",
    "    model.loss = ce\n",
    "    sgd = SGD(lr, momentum_coef, weight_decay=weight_decay)\n",
    "\n",
    "    report = sgd.train(model, x_all, y_all, num_of_epochs, val_split=val_split, verbose=verbose)\n",
    "\n",
    "    return model, report\n",
    "\n",
    "\n",
    "def default_net_3(x_all, y_all, num_of_neurons=(2, 25, 25, 25, 2), activation='relu', lr=0.1, momentum_coef=0.0, weight_decay=0.0, p_dropout=0.0, num_of_epochs=100, val_split=0.2, verbose=0):\n",
    "    ce = LossCrossEntropy()\n",
    "\n",
    "    model = Sequential()\n",
    "    model.add(Linear(out=num_of_neurons[1], input_size=num_of_neurons[0], activation=activation))\n",
    "    model.add(Dropout(prob=p_dropout))\n",
    "    model.add(Linear(out=num_of_neurons[2], activation=activation))\n",
    "    model.add(Dropout(prob=p_dropout))\n",
    "    model.add(Linear(out=num_of_neurons[3], activation=activation))\n",
    "    model.add(Dropout(prob=p_dropout))\n",
    "    \n",
    "    model.add(Linear(out=num_of_neurons[4], activation='softmax'))\n",
    "\n",
    "    model.loss = ce\n",
    "    sgd = SGD(lr, momentum_coef, weight_decay=weight_decay)\n",
    "\n",
    "    report = sgd.train(model, x_all, y_all, num_of_epochs, val_split=val_split, verbose=verbose)\n",
    "\n",
    "    return model, report\n",
    "\n",
    "def default_net_4(x_all, y_all, num_of_neurons, activation='relu', lr=0.001, momentum_coef=0.0, weight_decay=0.0, p_dropout=0.0, num_of_epochs=100, val_split=0.2, verbose=0):\n",
    "    # mse = LossMSE()\n",
    "    ce = LossCrossEntropy()\n",
    "    \n",
    "    model = modules.Sequential()\n",
    "    model.add(Linear(out=num_of_neurons[1], input_size=num_of_neurons[0], activation='relu'))\n",
    "    # model.add(Dropout(prob=0.2))\n",
    "    model.add(Linear(out=num_of_neurons[2], activation='relu'))\n",
    "    # model.add(Dropout(prob=0.2))\n",
    "    model.add(Linear(out=num_of_neurons[3], activation='relu'))\n",
    "    # model.add(Dropout(prob=0.2))\n",
    "    model.add(Linear(out=num_of_neurons[4], activation='softmax'))\n",
    "\n",
    "    model.loss = ce\n",
    "    sgd = SGD(lr, momentum_coef, weight_decay=0.0)\n",
    "\n",
    "    report = sgd.train(model, x_all, y_all, num_of_epochs, val_split=0.2, verbose=0)\n",
    "\n",
    "    return model, report\n",
    "\n",
    "def keras_model(x_train, y_train, num_of_neurons):\n",
    "    model = Sequential([\n",
    "        Dense(units=num_of_neurons[1], input_dim=x_train.shape[1], activation=\"relu\"),\n",
    "        Dense(units=num_of_neurons[2], activation=\"relu\"),\n",
    "        Dense(units=num_of_neurons[3], activation=\"relu\"),\n",
    "        Dense(units=y_train.shape[1], activation=\"softmax\"),\n",
    "    ])\n",
    "    \n",
    "    sgd = optimizers.SGD(lr=0.1, decay=1e-6, momentum=0.9, nesterov=True)\n",
    "    model.compile(optimizer=sgd, loss='categorical_crossentropy', metrics=['accuracy'])\n",
    "    hist = model.fit(x_train, y_train, batch_size=128, epochs=50, validation_split=0.2, verbose=2)\n",
    "    return hist"
   ]
  },
  {
   "cell_type": "code",
   "execution_count": null,
   "metadata": {
    "scrolled": true
   },
   "outputs": [],
   "source": [
    "num_of_neurons=(784, 500, 200, 100, 10)\n",
    "hist = keras_model(train_input, train_target, num_of_neurons)\n",
    "print('type: {}'.format(type(hist)))\n"
   ]
  },
  {
   "cell_type": "code",
   "execution_count": 8,
   "metadata": {
    "collapsed": true
   },
   "outputs": [],
   "source": [
    "def prepare_standardplot(title, xlabel):\n",
    "    fig, (ax1, ax2) = plt.subplots(1, 2, figsize=(10,6))\n",
    "    fig.suptitle(title)\n",
    "    ax1.set_ylabel('categorical cross entropy')\n",
    "    ax1.set_xlabel(xlabel)\n",
    "    ax1.set_yscale('log')\n",
    "    ax2.set_ylabel('accuracy [% correct]')\n",
    "    ax2.set_xlabel(xlabel)\n",
    "    return fig, ax1, ax2\n",
    "\n",
    "def finalize_standardplot(fig, ax1, ax2):\n",
    "    ax1handles, ax1labels = ax1.get_legend_handles_labels()\n",
    "    if len(ax1labels) > 0:\n",
    "        ax1.legend(ax1handles, ax1labels)\n",
    "    ax2handles, ax2labels = ax2.get_legend_handles_labels()\n",
    "    if len(ax2labels) > 0:\n",
    "        ax2.legend(ax2handles, ax2labels)\n",
    "    fig.tight_layout()\n",
    "    plt.subplots_adjust(top=0.9)\n",
    "\n",
    "def plot(costs, accs, title):\n",
    "    fig, ax1, ax2 = prepare_standardplot(title, 'epoch')\n",
    "    ax1.plot(costs, label = \"test\")\n",
    "    ax1.plot(history.history['val_loss'], label = \"validation\")\n",
    "    ax2.plot(accs, label = \"test\")\n",
    "    ax2.plot(history.history['val_acc'], label = \"validation\")\n",
    "    finalize_standardplot(fig, ax1, ax2)\n",
    "    return fig\n",
    "\n",
    "def plot_v2(train_report, title=\"\"):\n",
    "    fig, ax1, ax2 = prepare_standardplot(title, 'epoch')\n",
    "    ax1.plot(train_report[\"train_loss\"], label = \"train\")\n",
    "    ax1.plot(train_report[\"val_loss\"], label = \"validation\")\n",
    "    ax2.plot(train_report[\"train_acc\"], label = \"train\")\n",
    "    ax2.plot(train_report[\"val_acc\"], label = \"validation\")\n",
    "    finalize_standardplot(fig, ax1, ax2)\n",
    "    return fig"
   ]
  },
  {
   "cell_type": "code",
   "execution_count": 9,
   "metadata": {
    "scrolled": true
   },
   "outputs": [
    {
     "name": "stdout",
     "output_type": "stream",
     "text": [
      "torch.Size([60000, 784])  --  torch.Size([60000, 10])\n",
      "Added Module Name: 0_Linear \n",
      "Added Module Name: 1_ReLU \n",
      "Added Module Name: 2_Linear \n",
      "Added Module Name: 3_ReLU \n",
      "Added Module Name: 4_Linear \n",
      "Added Module Name: 5_ReLU \n",
      "Added Module Name: 6_Linear \n",
      "Added Module Name: 7_Softmax \n"
     ]
    },
    {
     "name": "stderr",
     "output_type": "stream",
     "text": [
      "\r",
      "  0%|          | 0/40 [00:00<?, ?it/s]"
     ]
    },
    {
     "name": "stdout",
     "output_type": "stream",
     "text": [
      "x_train.shape: torch.Size([48000, 784]) -- y_train.shape: torch.Size([48000, 10])\n",
      "x_val.shape: torch.Size([12000, 784]) -- y_val.shape: torch.Size([12000, 10])\n",
      "row_sum: (48000,) -- row_sum_sum: 48000\n",
      "torch.Size([48000, 10])  --  torch.Size([48000, 10])\n"
     ]
    },
    {
     "name": "stderr",
     "output_type": "stream",
     "text": [
      "\r",
      "  2%|▎         | 1/40 [00:03<02:23,  3.69s/it]"
     ]
    },
    {
     "name": "stdout",
     "output_type": "stream",
     "text": [
      "torch.Size([48000, 10])  --  torch.Size([48000, 10])\n",
      "torch.Size([12000, 10])  --  torch.Size([12000, 10])\n",
      "key: train_loss -- value: 2.2990827560424805\n",
      "key: train_acc -- value: 0.06716666370630264\n",
      "key: val_loss -- value: 2.300745964050293\n",
      "key: val_acc -- value: 0.07074999809265137\n",
      "row_sum: (48000,) -- row_sum_sum: 48000\n",
      "torch.Size([48000, 10])  --  torch.Size([48000, 10])\n"
     ]
    },
    {
     "name": "stderr",
     "output_type": "stream",
     "text": [
      "\r",
      "  5%|▌         | 2/40 [00:07<02:16,  3.60s/it]"
     ]
    },
    {
     "name": "stdout",
     "output_type": "stream",
     "text": [
      "torch.Size([48000, 10])  --  torch.Size([48000, 10])\n",
      "torch.Size([12000, 10])  --  torch.Size([12000, 10])\n",
      "key: train_loss -- value: 2.2847485542297363\n",
      "key: train_acc -- value: 0.09329167008399963\n",
      "key: val_loss -- value: 2.2863521575927734\n",
      "key: val_acc -- value: 0.09683333337306976\n",
      "row_sum: (48000,) -- row_sum_sum: 48000\n",
      "torch.Size([48000, 10])  --  torch.Size([48000, 10])\n"
     ]
    },
    {
     "name": "stderr",
     "output_type": "stream",
     "text": [
      "\r",
      "  8%|▊         | 3/40 [00:10<02:12,  3.57s/it]"
     ]
    },
    {
     "name": "stdout",
     "output_type": "stream",
     "text": [
      "torch.Size([48000, 10])  --  torch.Size([48000, 10])\n",
      "torch.Size([12000, 10])  --  torch.Size([12000, 10])\n",
      "key: train_loss -- value: 2.2698192596435547\n",
      "key: train_acc -- value: 0.13581250607967377\n",
      "key: val_loss -- value: 2.271375894546509\n",
      "key: val_acc -- value: 0.13491666316986084\n",
      "row_sum: (48000,) -- row_sum_sum: 48000\n",
      "torch.Size([48000, 10])  --  torch.Size([48000, 10])\n"
     ]
    },
    {
     "name": "stderr",
     "output_type": "stream",
     "text": [
      "\r",
      " 10%|█         | 4/40 [00:14<02:09,  3.58s/it]"
     ]
    },
    {
     "name": "stdout",
     "output_type": "stream",
     "text": [
      "torch.Size([48000, 10])  --  torch.Size([48000, 10])\n",
      "torch.Size([12000, 10])  --  torch.Size([12000, 10])\n",
      "key: train_loss -- value: 2.2537612915039062\n",
      "key: train_acc -- value: 0.19075000286102295\n",
      "key: val_loss -- value: 2.2552733421325684\n",
      "key: val_acc -- value: 0.18850000202655792\n",
      "row_sum: (48000,) -- row_sum_sum: 48000\n",
      "torch.Size([48000, 10])  --  torch.Size([48000, 10])\n"
     ]
    },
    {
     "name": "stderr",
     "output_type": "stream",
     "text": [
      "\r",
      " 12%|█▎        | 5/40 [00:18<02:06,  3.60s/it]"
     ]
    },
    {
     "name": "stdout",
     "output_type": "stream",
     "text": [
      "torch.Size([48000, 10])  --  torch.Size([48000, 10])\n",
      "torch.Size([12000, 10])  --  torch.Size([12000, 10])\n",
      "key: train_loss -- value: 2.2361066341400146\n",
      "key: train_acc -- value: 0.26112499833106995\n",
      "key: val_loss -- value: 2.237598419189453\n",
      "key: val_acc -- value: 0.2601666748523712\n",
      "row_sum: (48000,) -- row_sum_sum: 48000\n",
      "torch.Size([48000, 10])  --  torch.Size([48000, 10])\n",
      "torch.Size([48000, 10])  --  torch.Size([48000, 10])\n"
     ]
    },
    {
     "name": "stderr",
     "output_type": "stream",
     "text": [
      "\r",
      " 15%|█▌        | 6/40 [00:21<02:04,  3.65s/it]"
     ]
    },
    {
     "name": "stdout",
     "output_type": "stream",
     "text": [
      "torch.Size([12000, 10])  --  torch.Size([12000, 10])\n",
      "key: train_loss -- value: 2.216449499130249\n",
      "key: train_acc -- value: 0.33397915959358215\n",
      "key: val_loss -- value: 2.217960834503174\n",
      "key: val_acc -- value: 0.33133333921432495\n",
      "row_sum: (48000,) -- row_sum_sum: 48000\n",
      "torch.Size([48000, 10])  --  torch.Size([48000, 10])\n"
     ]
    },
    {
     "name": "stderr",
     "output_type": "stream",
     "text": [
      "\r",
      " 18%|█▊        | 7/40 [00:25<02:00,  3.64s/it]"
     ]
    },
    {
     "name": "stdout",
     "output_type": "stream",
     "text": [
      "torch.Size([48000, 10])  --  torch.Size([48000, 10])\n",
      "torch.Size([12000, 10])  --  torch.Size([12000, 10])\n",
      "key: train_loss -- value: 2.194395065307617\n",
      "key: train_acc -- value: 0.39810416102409363\n",
      "key: val_loss -- value: 2.195953130722046\n",
      "key: val_acc -- value: 0.3943333327770233\n",
      "row_sum: (48000,) -- row_sum_sum: 48000\n",
      "torch.Size([48000, 10])  --  torch.Size([48000, 10])\n",
      "torch.Size([48000, 10])  --  torch.Size([48000, 10])\n"
     ]
    },
    {
     "name": "stderr",
     "output_type": "stream",
     "text": [
      "\r",
      " 20%|██        | 8/40 [00:29<01:57,  3.66s/it]"
     ]
    },
    {
     "name": "stdout",
     "output_type": "stream",
     "text": [
      "torch.Size([12000, 10])  --  torch.Size([12000, 10])\n",
      "key: train_loss -- value: 2.1695303916931152\n",
      "key: train_acc -- value: 0.4638749957084656\n",
      "key: val_loss -- value: 2.1711530685424805\n",
      "key: val_acc -- value: 0.45766666531562805\n",
      "row_sum: (48000,) -- row_sum_sum: 48000\n",
      "torch.Size([48000, 10])  --  torch.Size([48000, 10])\n",
      "torch.Size([48000, 10])  --  torch.Size([48000, 10])\n"
     ]
    },
    {
     "name": "stderr",
     "output_type": "stream",
     "text": [
      "\r",
      " 22%|██▎       | 9/40 [00:32<01:53,  3.67s/it]"
     ]
    },
    {
     "name": "stdout",
     "output_type": "stream",
     "text": [
      "torch.Size([12000, 10])  --  torch.Size([12000, 10])\n",
      "key: train_loss -- value: 2.141368865966797\n",
      "key: train_acc -- value: 0.5346875190734863\n",
      "key: val_loss -- value: 2.1430892944335938\n",
      "key: val_acc -- value: 0.5245000123977661\n",
      "row_sum: (48000,) -- row_sum_sum: 48000\n",
      "torch.Size([48000, 10])  --  torch.Size([48000, 10])\n",
      "torch.Size([48000, 10])  --  torch.Size([48000, 10])\n"
     ]
    },
    {
     "name": "stderr",
     "output_type": "stream",
     "text": [
      "\r",
      " 25%|██▌       | 10/40 [00:36<01:50,  3.68s/it]"
     ]
    },
    {
     "name": "stdout",
     "output_type": "stream",
     "text": [
      "torch.Size([12000, 10])  --  torch.Size([12000, 10])\n",
      "key: train_loss -- value: 2.1093757152557373\n",
      "key: train_acc -- value: 0.5882291793823242\n",
      "key: val_loss -- value: 2.1111814975738525\n",
      "key: val_acc -- value: 0.5763333439826965\n",
      "row_sum: (48000,) -- row_sum_sum: 48000\n",
      "torch.Size([48000, 10])  --  torch.Size([48000, 10])\n",
      "torch.Size([48000, 10])  --  torch.Size([48000, 10])\n"
     ]
    },
    {
     "name": "stderr",
     "output_type": "stream",
     "text": [
      "\r",
      " 28%|██▊       | 11/40 [00:40<01:46,  3.68s/it]"
     ]
    },
    {
     "name": "stdout",
     "output_type": "stream",
     "text": [
      "torch.Size([12000, 10])  --  torch.Size([12000, 10])\n",
      "key: train_loss -- value: 2.072875499725342\n",
      "key: train_acc -- value: 0.6235625147819519\n",
      "key: val_loss -- value: 2.0747687816619873\n",
      "key: val_acc -- value: 0.6129166483879089\n",
      "row_sum: (48000,) -- row_sum_sum: 48000\n",
      "torch.Size([48000, 10])  --  torch.Size([48000, 10])\n",
      "torch.Size([48000, 10])  --  torch.Size([48000, 10])\n"
     ]
    },
    {
     "name": "stderr",
     "output_type": "stream",
     "text": [
      "\r",
      " 30%|███       | 12/40 [00:44<01:42,  3.67s/it]"
     ]
    },
    {
     "name": "stdout",
     "output_type": "stream",
     "text": [
      "torch.Size([12000, 10])  --  torch.Size([12000, 10])\n",
      "key: train_loss -- value: 2.031118154525757\n",
      "key: train_acc -- value: 0.6473958492279053\n",
      "key: val_loss -- value: 2.0331060886383057\n",
      "key: val_acc -- value: 0.6384166479110718\n",
      "row_sum: (48000,) -- row_sum_sum: 48000\n",
      "torch.Size([48000, 10])  --  torch.Size([48000, 10])\n"
     ]
    },
    {
     "name": "stderr",
     "output_type": "stream",
     "text": [
      "\r",
      " 32%|███▎      | 13/40 [00:47<01:38,  3.65s/it]"
     ]
    },
    {
     "name": "stdout",
     "output_type": "stream",
     "text": [
      "torch.Size([48000, 10])  --  torch.Size([48000, 10])\n",
      "torch.Size([12000, 10])  --  torch.Size([12000, 10])\n",
      "key: train_loss -- value: 1.9834139347076416\n",
      "key: train_acc -- value: 0.6617083549499512\n",
      "key: val_loss -- value: 1.9854927062988281\n",
      "key: val_acc -- value: 0.6554999947547913\n",
      "row_sum: (48000,) -- row_sum_sum: 48000\n",
      "torch.Size([48000, 10])  --  torch.Size([48000, 10])\n"
     ]
    },
    {
     "name": "stderr",
     "output_type": "stream",
     "text": [
      "\r",
      " 35%|███▌      | 14/40 [00:50<01:34,  3.63s/it]"
     ]
    },
    {
     "name": "stdout",
     "output_type": "stream",
     "text": [
      "torch.Size([48000, 10])  --  torch.Size([48000, 10])\n",
      "torch.Size([12000, 10])  --  torch.Size([12000, 10])\n",
      "key: train_loss -- value: 1.9292770624160767\n",
      "key: train_acc -- value: 0.6746666431427002\n",
      "key: val_loss -- value: 1.9314850568771362\n",
      "key: val_acc -- value: 0.6675833463668823\n",
      "row_sum: (48000,) -- row_sum_sum: 48000\n",
      "torch.Size([48000, 10])  --  torch.Size([48000, 10])\n"
     ]
    },
    {
     "name": "stderr",
     "output_type": "stream",
     "text": [
      "\r",
      " 38%|███▊      | 15/40 [00:54<01:30,  3.61s/it]"
     ]
    },
    {
     "name": "stdout",
     "output_type": "stream",
     "text": [
      "torch.Size([48000, 10])  --  torch.Size([48000, 10])\n",
      "torch.Size([12000, 10])  --  torch.Size([12000, 10])\n",
      "key: train_loss -- value: 1.8681524991989136\n",
      "key: train_acc -- value: 0.6858749985694885\n",
      "key: val_loss -- value: 1.8705403804779053\n",
      "key: val_acc -- value: 0.6785833239555359\n",
      "row_sum: (48000,) -- row_sum_sum: 48000\n",
      "torch.Size([48000, 10])  --  torch.Size([48000, 10])\n"
     ]
    },
    {
     "name": "stderr",
     "output_type": "stream",
     "text": [
      "\r",
      " 40%|████      | 16/40 [00:57<01:26,  3.59s/it]"
     ]
    },
    {
     "name": "stdout",
     "output_type": "stream",
     "text": [
      "torch.Size([48000, 10])  --  torch.Size([48000, 10])\n",
      "torch.Size([12000, 10])  --  torch.Size([12000, 10])\n",
      "key: train_loss -- value: 1.7995686531066895\n",
      "key: train_acc -- value: 0.6960625052452087\n",
      "key: val_loss -- value: 1.8021743297576904\n",
      "key: val_acc -- value: 0.690666675567627\n",
      "row_sum: (48000,) -- row_sum_sum: 48000\n",
      "torch.Size([48000, 10])  --  torch.Size([48000, 10])\n"
     ]
    },
    {
     "name": "stderr",
     "output_type": "stream",
     "text": [
      "\r",
      " 42%|████▎     | 17/40 [01:00<01:22,  3.57s/it]"
     ]
    },
    {
     "name": "stdout",
     "output_type": "stream",
     "text": [
      "torch.Size([48000, 10])  --  torch.Size([48000, 10])\n",
      "torch.Size([12000, 10])  --  torch.Size([12000, 10])\n",
      "key: train_loss -- value: 1.7237731218338013\n",
      "key: train_acc -- value: 0.7053750157356262\n",
      "key: val_loss -- value: 1.7266769409179688\n",
      "key: val_acc -- value: 0.6993333101272583\n",
      "row_sum: (48000,) -- row_sum_sum: 48000\n",
      "torch.Size([48000, 10])  --  torch.Size([48000, 10])\n"
     ]
    },
    {
     "name": "stderr",
     "output_type": "stream",
     "text": [
      "\r",
      " 45%|████▌     | 18/40 [01:03<01:18,  3.55s/it]"
     ]
    },
    {
     "name": "stdout",
     "output_type": "stream",
     "text": [
      "torch.Size([48000, 10])  --  torch.Size([48000, 10])\n",
      "torch.Size([12000, 10])  --  torch.Size([12000, 10])\n",
      "key: train_loss -- value: 1.6420282125473022\n",
      "key: train_acc -- value: 0.7130833268165588\n",
      "key: val_loss -- value: 1.6452882289886475\n",
      "key: val_acc -- value: 0.7073333263397217\n",
      "row_sum: (48000,) -- row_sum_sum: 48000\n",
      "torch.Size([48000, 10])  --  torch.Size([48000, 10])\n"
     ]
    },
    {
     "name": "stderr",
     "output_type": "stream",
     "text": [
      "\r",
      " 48%|████▊     | 19/40 [01:07<01:14,  3.53s/it]"
     ]
    },
    {
     "name": "stdout",
     "output_type": "stream",
     "text": [
      "torch.Size([48000, 10])  --  torch.Size([48000, 10])\n",
      "torch.Size([12000, 10])  --  torch.Size([12000, 10])\n",
      "key: train_loss -- value: 1.5561065673828125\n",
      "key: train_acc -- value: 0.7208333611488342\n",
      "key: val_loss -- value: 1.559821605682373\n",
      "key: val_acc -- value: 0.7164166569709778\n",
      "row_sum: (48000,) -- row_sum_sum: 48000\n",
      "torch.Size([48000, 10])  --  torch.Size([48000, 10])\n",
      "torch.Size([48000, 10])  --  torch.Size([48000, 10])\n"
     ]
    },
    {
     "name": "stderr",
     "output_type": "stream",
     "text": [
      "\r",
      " 50%|█████     | 20/40 [01:10<01:10,  3.52s/it]"
     ]
    },
    {
     "name": "stdout",
     "output_type": "stream",
     "text": [
      "torch.Size([12000, 10])  --  torch.Size([12000, 10])\n",
      "key: train_loss -- value: 1.4680438041687012\n",
      "key: train_acc -- value: 0.729729175567627\n",
      "key: val_loss -- value: 1.4723224639892578\n",
      "key: val_acc -- value: 0.7260000109672546\n",
      "row_sum: (48000,) -- row_sum_sum: 48000\n",
      "torch.Size([48000, 10])  --  torch.Size([48000, 10])\n"
     ]
    },
    {
     "name": "stderr",
     "output_type": "stream",
     "text": [
      "\r",
      " 52%|█████▎    | 21/40 [01:13<01:06,  3.51s/it]"
     ]
    },
    {
     "name": "stdout",
     "output_type": "stream",
     "text": [
      "torch.Size([48000, 10])  --  torch.Size([48000, 10])\n",
      "torch.Size([12000, 10])  --  torch.Size([12000, 10])\n",
      "key: train_loss -- value: 1.380076289176941\n",
      "key: train_acc -- value: 0.7401250004768372\n",
      "key: val_loss -- value: 1.385015606880188\n",
      "key: val_acc -- value: 0.737333357334137\n",
      "row_sum: (48000,) -- row_sum_sum: 48000\n",
      "torch.Size([48000, 10])  --  torch.Size([48000, 10])\n"
     ]
    },
    {
     "name": "stderr",
     "output_type": "stream",
     "text": [
      "\r",
      " 55%|█████▌    | 22/40 [01:17<01:03,  3.51s/it]"
     ]
    },
    {
     "name": "stdout",
     "output_type": "stream",
     "text": [
      "torch.Size([48000, 10])  --  torch.Size([48000, 10])\n",
      "torch.Size([12000, 10])  --  torch.Size([12000, 10])\n",
      "key: train_loss -- value: 1.2943617105484009\n",
      "key: train_acc -- value: 0.7528958320617676\n",
      "key: val_loss -- value: 1.3000553846359253\n",
      "key: val_acc -- value: 0.750333309173584\n",
      "row_sum: (48000,) -- row_sum_sum: 48000\n",
      "torch.Size([48000, 10])  --  torch.Size([48000, 10])\n"
     ]
    },
    {
     "name": "stderr",
     "output_type": "stream",
     "text": [
      "\r",
      " 57%|█████▊    | 23/40 [01:20<00:59,  3.49s/it]"
     ]
    },
    {
     "name": "stdout",
     "output_type": "stream",
     "text": [
      "torch.Size([48000, 10])  --  torch.Size([48000, 10])\n",
      "torch.Size([12000, 10])  --  torch.Size([12000, 10])\n",
      "key: train_loss -- value: 1.2126805782318115\n",
      "key: train_acc -- value: 0.7678750157356262\n",
      "key: val_loss -- value: 1.2192187309265137\n",
      "key: val_acc -- value: 0.7622500061988831\n",
      "row_sum: (48000,) -- row_sum_sum: 48000\n",
      "torch.Size([48000, 10])  --  torch.Size([48000, 10])\n"
     ]
    },
    {
     "name": "stderr",
     "output_type": "stream",
     "text": [
      "\r",
      " 60%|██████    | 24/40 [01:23<00:55,  3.47s/it]"
     ]
    },
    {
     "name": "stdout",
     "output_type": "stream",
     "text": [
      "torch.Size([48000, 10])  --  torch.Size([48000, 10])\n",
      "torch.Size([12000, 10])  --  torch.Size([12000, 10])\n",
      "key: train_loss -- value: 1.136257290840149\n",
      "key: train_acc -- value: 0.7797291874885559\n",
      "key: val_loss -- value: 1.143671989440918\n",
      "key: val_acc -- value: 0.7735833525657654\n",
      "row_sum: (48000,) -- row_sum_sum: 48000\n",
      "torch.Size([48000, 10])  --  torch.Size([48000, 10])\n"
     ]
    },
    {
     "name": "stderr",
     "output_type": "stream",
     "text": [
      "\r",
      " 62%|██████▎   | 25/40 [01:26<00:51,  3.46s/it]"
     ]
    },
    {
     "name": "stdout",
     "output_type": "stream",
     "text": [
      "torch.Size([48000, 10])  --  torch.Size([48000, 10])\n",
      "torch.Size([12000, 10])  --  torch.Size([12000, 10])\n",
      "key: train_loss -- value: 1.0658680200576782\n",
      "key: train_acc -- value: 0.7918958067893982\n",
      "key: val_loss -- value: 1.0741360187530518\n",
      "key: val_acc -- value: 0.784583330154419\n",
      "row_sum: (48000,) -- row_sum_sum: 48000\n",
      "torch.Size([48000, 10])  --  torch.Size([48000, 10])\n",
      "torch.Size([48000, 10])  --  torch.Size([48000, 10])\n"
     ]
    },
    {
     "name": "stderr",
     "output_type": "stream",
     "text": [
      "\r",
      " 65%|██████▌   | 26/40 [01:29<00:48,  3.45s/it]"
     ]
    },
    {
     "name": "stdout",
     "output_type": "stream",
     "text": [
      "torch.Size([12000, 10])  --  torch.Size([12000, 10])\n",
      "key: train_loss -- value: 1.0018352270126343\n",
      "key: train_acc -- value: 0.8021875023841858\n",
      "key: val_loss -- value: 1.0109111070632935\n",
      "key: val_acc -- value: 0.7951666712760925\n",
      "row_sum: (48000,) -- row_sum_sum: 48000\n",
      "torch.Size([48000, 10])  --  torch.Size([48000, 10])\n"
     ]
    },
    {
     "name": "stderr",
     "output_type": "stream",
     "text": [
      "\r",
      " 68%|██████▊   | 27/40 [01:33<00:44,  3.45s/it]"
     ]
    },
    {
     "name": "stdout",
     "output_type": "stream",
     "text": [
      "torch.Size([48000, 10])  --  torch.Size([48000, 10])\n",
      "torch.Size([12000, 10])  --  torch.Size([12000, 10])\n",
      "key: train_loss -- value: 0.9442101120948792\n",
      "key: train_acc -- value: 0.8096041679382324\n",
      "key: val_loss -- value: 0.9539958238601685\n",
      "key: val_acc -- value: 0.8043333292007446\n",
      "row_sum: (48000,) -- row_sum_sum: 48000\n",
      "torch.Size([48000, 10])  --  torch.Size([48000, 10])\n"
     ]
    },
    {
     "name": "stderr",
     "output_type": "stream",
     "text": [
      "\r",
      " 70%|███████   | 28/40 [01:36<00:41,  3.44s/it]"
     ]
    },
    {
     "name": "stdout",
     "output_type": "stream",
     "text": [
      "torch.Size([48000, 10])  --  torch.Size([48000, 10])\n",
      "torch.Size([12000, 10])  --  torch.Size([12000, 10])\n",
      "key: train_loss -- value: 0.8926324248313904\n",
      "key: train_acc -- value: 0.8161458373069763\n",
      "key: val_loss -- value: 0.9030950665473938\n",
      "key: val_acc -- value: 0.8109166622161865\n",
      "row_sum: (48000,) -- row_sum_sum: 48000\n",
      "torch.Size([48000, 10])  --  torch.Size([48000, 10])\n"
     ]
    },
    {
     "name": "stderr",
     "output_type": "stream",
     "text": [
      "\r",
      " 72%|███████▎  | 29/40 [01:39<00:37,  3.42s/it]"
     ]
    },
    {
     "name": "stdout",
     "output_type": "stream",
     "text": [
      "torch.Size([48000, 10])  --  torch.Size([48000, 10])\n",
      "torch.Size([12000, 10])  --  torch.Size([12000, 10])\n",
      "key: train_loss -- value: 0.8465707302093506\n",
      "key: train_acc -- value: 0.8227708339691162\n",
      "key: val_loss -- value: 0.8576424717903137\n",
      "key: val_acc -- value: 0.8159166574478149\n",
      "row_sum: (48000,) -- row_sum_sum: 48000\n",
      "torch.Size([48000, 10])  --  torch.Size([48000, 10])\n"
     ]
    },
    {
     "name": "stderr",
     "output_type": "stream",
     "text": [
      "\r",
      " 75%|███████▌  | 30/40 [01:42<00:34,  3.41s/it]"
     ]
    },
    {
     "name": "stdout",
     "output_type": "stream",
     "text": [
      "torch.Size([48000, 10])  --  torch.Size([48000, 10])\n",
      "torch.Size([12000, 10])  --  torch.Size([12000, 10])\n",
      "key: train_loss -- value: 0.8054457902908325\n",
      "key: train_acc -- value: 0.8273958563804626\n",
      "key: val_loss -- value: 0.8170971870422363\n",
      "key: val_acc -- value: 0.8217499852180481\n",
      "row_sum: (48000,) -- row_sum_sum: 48000\n",
      "torch.Size([48000, 10])  --  torch.Size([48000, 10])\n"
     ]
    },
    {
     "name": "stderr",
     "output_type": "stream",
     "text": [
      "\r",
      " 78%|███████▊  | 31/40 [01:45<00:30,  3.40s/it]"
     ]
    },
    {
     "name": "stdout",
     "output_type": "stream",
     "text": [
      "torch.Size([48000, 10])  --  torch.Size([48000, 10])\n",
      "torch.Size([12000, 10])  --  torch.Size([12000, 10])\n",
      "key: train_loss -- value: 0.7687119245529175\n",
      "key: train_acc -- value: 0.8325416445732117\n",
      "key: val_loss -- value: 0.7808528542518616\n",
      "key: val_acc -- value: 0.8289166688919067\n",
      "row_sum: (48000,) -- row_sum_sum: 48000\n",
      "torch.Size([48000, 10])  --  torch.Size([48000, 10])\n"
     ]
    },
    {
     "name": "stderr",
     "output_type": "stream",
     "text": [
      "\r",
      " 80%|████████  | 32/40 [01:48<00:27,  3.39s/it]"
     ]
    },
    {
     "name": "stdout",
     "output_type": "stream",
     "text": [
      "torch.Size([48000, 10])  --  torch.Size([48000, 10])\n",
      "torch.Size([12000, 10])  --  torch.Size([12000, 10])\n",
      "key: train_loss -- value: 0.7358376383781433\n",
      "key: train_acc -- value: 0.8362916707992554\n",
      "key: val_loss -- value: 0.7484946846961975\n",
      "key: val_acc -- value: 0.8330000042915344\n",
      "row_sum: (48000,) -- row_sum_sum: 48000\n",
      "torch.Size([48000, 10])  --  torch.Size([48000, 10])\n"
     ]
    },
    {
     "name": "stderr",
     "output_type": "stream",
     "text": [
      "\r",
      " 82%|████████▎ | 33/40 [01:51<00:23,  3.37s/it]"
     ]
    },
    {
     "name": "stdout",
     "output_type": "stream",
     "text": [
      "torch.Size([48000, 10])  --  torch.Size([48000, 10])\n",
      "torch.Size([12000, 10])  --  torch.Size([12000, 10])\n",
      "key: train_loss -- value: 0.7063776254653931\n",
      "key: train_acc -- value: 0.8402083516120911\n",
      "key: val_loss -- value: 0.7193461060523987\n",
      "key: val_acc -- value: 0.8363333344459534\n",
      "row_sum: (48000,) -- row_sum_sum: 48000\n",
      "torch.Size([48000, 10])  --  torch.Size([48000, 10])\n"
     ]
    },
    {
     "name": "stderr",
     "output_type": "stream",
     "text": [
      "\r",
      " 85%|████████▌ | 34/40 [01:54<00:20,  3.36s/it]"
     ]
    },
    {
     "name": "stdout",
     "output_type": "stream",
     "text": [
      "torch.Size([48000, 10])  --  torch.Size([48000, 10])\n",
      "torch.Size([12000, 10])  --  torch.Size([12000, 10])\n",
      "key: train_loss -- value: 0.6800562143325806\n",
      "key: train_acc -- value: 0.8421666622161865\n",
      "key: val_loss -- value: 0.693603515625\n",
      "key: val_acc -- value: 0.8395000100135803\n",
      "row_sum: (48000,) -- row_sum_sum: 48000\n",
      "torch.Size([48000, 10])  --  torch.Size([48000, 10])\n"
     ]
    },
    {
     "name": "stderr",
     "output_type": "stream",
     "text": [
      "\r",
      " 88%|████████▊ | 35/40 [01:57<00:16,  3.35s/it]"
     ]
    },
    {
     "name": "stdout",
     "output_type": "stream",
     "text": [
      "torch.Size([48000, 10])  --  torch.Size([48000, 10])\n",
      "torch.Size([12000, 10])  --  torch.Size([12000, 10])\n",
      "key: train_loss -- value: 0.6572243571281433\n",
      "key: train_acc -- value: 0.8465833067893982\n",
      "key: val_loss -- value: 0.6707032322883606\n",
      "key: val_acc -- value: 0.8447499871253967\n",
      "row_sum: (48000,) -- row_sum_sum: 48000\n",
      "torch.Size([48000, 10])  --  torch.Size([48000, 10])\n"
     ]
    },
    {
     "name": "stderr",
     "output_type": "stream",
     "text": [
      "\r",
      " 90%|█████████ | 36/40 [02:00<00:13,  3.34s/it]"
     ]
    },
    {
     "name": "stdout",
     "output_type": "stream",
     "text": [
      "torch.Size([48000, 10])  --  torch.Size([48000, 10])\n",
      "torch.Size([12000, 10])  --  torch.Size([12000, 10])\n",
      "key: train_loss -- value: 0.6415557265281677\n",
      "key: train_acc -- value: 0.840791642665863\n",
      "key: val_loss -- value: 0.6561262607574463\n",
      "key: val_acc -- value: 0.8374166488647461\n",
      "row_sum: (48000,) -- row_sum_sum: 48000\n",
      "torch.Size([48000, 10])  --  torch.Size([48000, 10])\n"
     ]
    },
    {
     "name": "stderr",
     "output_type": "stream",
     "text": [
      "\r",
      " 92%|█████████▎| 37/40 [02:03<00:10,  3.34s/it]"
     ]
    },
    {
     "name": "stdout",
     "output_type": "stream",
     "text": [
      "torch.Size([48000, 10])  --  torch.Size([48000, 10])\n",
      "torch.Size([12000, 10])  --  torch.Size([12000, 10])\n",
      "key: train_loss -- value: 0.657068133354187\n",
      "key: train_acc -- value: 0.8286250233650208\n",
      "key: val_loss -- value: 0.6697233319282532\n",
      "key: val_acc -- value: 0.8245000243186951\n",
      "row_sum: (48000,) -- row_sum_sum: 48000\n",
      "torch.Size([48000, 10])  --  torch.Size([48000, 10])\n"
     ]
    },
    {
     "name": "stderr",
     "output_type": "stream",
     "text": [
      "\r",
      " 95%|█████████▌| 38/40 [02:06<00:06,  3.33s/it]"
     ]
    },
    {
     "name": "stdout",
     "output_type": "stream",
     "text": [
      "torch.Size([48000, 10])  --  torch.Size([48000, 10])\n",
      "torch.Size([12000, 10])  --  torch.Size([12000, 10])\n",
      "key: train_loss -- value: 0.8445053696632385\n",
      "key: train_acc -- value: 0.7012500166893005\n",
      "key: val_loss -- value: 0.8600537776947021\n",
      "key: val_acc -- value: 0.6997500061988831\n",
      "row_sum: (48000,) -- row_sum_sum: 48000\n",
      "torch.Size([48000, 10])  --  torch.Size([48000, 10])\n"
     ]
    },
    {
     "name": "stderr",
     "output_type": "stream",
     "text": [
      "\r",
      " 98%|█████████▊| 39/40 [02:09<00:03,  3.33s/it]"
     ]
    },
    {
     "name": "stdout",
     "output_type": "stream",
     "text": [
      "torch.Size([48000, 10])  --  torch.Size([48000, 10])\n",
      "torch.Size([12000, 10])  --  torch.Size([12000, 10])\n",
      "key: train_loss -- value: 1.5603723526000977\n",
      "key: train_acc -- value: 0.5284374952316284\n",
      "key: val_loss -- value: 1.5531554222106934\n",
      "key: val_acc -- value: 0.5284166932106018\n",
      "row_sum: (48000,) -- row_sum_sum: 48000\n",
      "torch.Size([48000, 10])  --  torch.Size([48000, 10])\n",
      "torch.Size([48000, 10])  --  torch.Size([48000, 10])\n",
      "torch.Size([12000, 10])"
     ]
    },
    {
     "name": "stderr",
     "output_type": "stream",
     "text": [
      "\r",
      "100%|██████████| 40/40 [02:13<00:00,  3.33s/it]"
     ]
    },
    {
     "name": "stdout",
     "output_type": "stream",
     "text": [
      "  --  torch.Size([12000, 10])\n",
      "key: train_loss -- value: 1.571614384651184\n",
      "key: train_acc -- value: 0.6393125057220459\n",
      "key: val_loss -- value: 1.581348180770874\n",
      "key: val_acc -- value: 0.6353333592414856\n",
      "torch.Size([10000, 10])  --  torch.Size([10000, 10])\n"
     ]
    },
    {
     "name": "stderr",
     "output_type": "stream",
     "text": [
      "\n"
     ]
    }
   ],
   "source": [
    "print(train_input.shape, \" -- \", train_target.shape)\n",
    "\n",
    "model1, train1 = default_net_4(train_input, train_target, num_of_neurons=(784, 500, 200, 100, 10), activation='relu', lr=0.1, momentum_coef=0.0, weight_decay=0.0, p_dropout=0.0, num_of_epochs=40, val_split=0.2, verbose=0)\n",
    "test1 = model1.evaluate(test_input, test_target, return_pred=True)"
   ]
  },
  {
   "cell_type": "code",
   "execution_count": 10,
   "metadata": {},
   "outputs": [
    {
     "data": {
      "image/png": "[encoded data removed]",
      "text/plain": [
       "<matplotlib.figure.Figure at 0x1828b62278>"
      ]
     },
     "execution_count": 10,
     "metadata": {},
     "output_type": "execute_result"
    }
   ],
   "source": [
    "plot_v2(train1, title=\"Model 1\")"
   ]
  },
  {
   "cell_type": "code",
   "execution_count": 38,
   "metadata": {},
   "outputs": [
    {
     "data": {
      "text/plain": [
       "(tensor(0.9332), tensor(0.2282), tensor([ 7,  2,  1,  ...,  4,  5,  6]))"
      ]
     },
     "execution_count": 38,
     "metadata": {},
     "output_type": "execute_result"
    }
   ],
   "source": [
    "test1"
   ]
  },
  {
   "cell_type": "code",
   "execution_count": 40,
   "metadata": {},
   "outputs": [
    {
     "data": {
      "text/plain": [
       "tensor([ 0.,  0.,  0.,  0.,  0.,  0.,  1.,  0.,  0.,  0.])"
      ]
     },
     "execution_count": 40,
     "metadata": {},
     "output_type": "execute_result"
    }
   ],
   "source": [
    "test_target[-1,:]"
   ]
  },
  {
   "cell_type": "code",
   "execution_count": 11,
   "metadata": {},
   "outputs": [
    {
     "name": "stdout",
     "output_type": "stream",
     "text": [
      "Added Module Name: 0_Linear \n",
      "Added Module Name: 1_ReLU \n",
      "Added Module Name: 2_Linear \n",
      "Added Module Name: 3_ReLU \n",
      "Added Module Name: 4_Linear \n",
      "Added Module Name: 5_ReLU \n",
      "Added Module Name: 6_Linear \n",
      "Added Module Name: 7_Softmax \n"
     ]
    },
    {
     "name": "stderr",
     "output_type": "stream",
     "text": [
      "  0%|                                                                                          | 0/100 [00:00<?, ?it/s]C:\\Users\\furkan\\Desktop\\EPFL\\ma\\ma2\\Deep Learning\\project\\project2\\dl-framework-master\\dl-framework-master\\modules\\losses.py:102: UserWarning: invalid index of a 0-dim tensor. This will be an error in PyTorch 0.5. Use tensor.item() to convert a 0-dim tensor to a Python number\n",
      "  return loss_val[0]  # TODO: handle this accordingly with take_avg false\n",
      "100%|████████████████████████████████████████████████████████████████████████████████| 100/100 [01:45<00:00,  1.06s/it]\n"
     ]
    },
    {
     "data": {
      "text/plain": [
       "(tensor(0.9078), tensor(0.3289), tensor([ 7,  2,  1,  ...,  4,  5,  6]))"
      ]
     },
     "execution_count": 11,
     "metadata": {},
     "output_type": "execute_result"
    }
   ],
   "source": [
    "model2, train2 = default_net_2(train_input, train_target, num_of_neurons=(784, 100, 100, 10), lr=0.1, momentum_coef=0.0, num_of_epochs=100)\n",
    "test2 = model2.evaluate(test_input, test_target, return_pred=True)"
   ]
  },
  {
   "cell_type": "code",
   "execution_count": 15,
   "metadata": {},
   "outputs": [
    {
     "name": "stdout",
     "output_type": "stream",
     "text": [
      "prev: 100, current: 784\n",
      "Added Module Name: 0_Linear \n",
      "Added Module Name: 1_ReLU \n",
      "Added Module Name: 2_Dropout \n",
      "prev: 100, current: 100\n",
      "Added Module Name: 3_Linear \n",
      "Added Module Name: 4_ReLU \n",
      "Added Module Name: 5_Dropout \n",
      "prev: 100, current: 100\n",
      "Added Module Name: 6_Linear \n",
      "Added Module Name: 7_ReLU \n",
      "Added Module Name: 8_Dropout \n",
      "prev: 10, current: 100\n",
      "Added Module Name: 9_Linear \n",
      "Added Module Name: 10_ReLU \n"
     ]
    },
    {
     "name": "stderr",
     "output_type": "stream",
     "text": [
      "100%|████████████████████████████████████████████████████████████████████████████████| 100/100 [03:23<00:00,  2.04s/it]\n"
     ]
    },
    {
     "data": {
      "text/plain": [
       "(tensor(1.00000e-02 *\n",
       "        9.8200), tensor(10.), tensor([ 0,  0,  0,  ...,  0,  0,  0]))"
      ]
     },
     "execution_count": 15,
     "metadata": {},
     "output_type": "execute_result"
    }
   ],
   "source": [
    "model3, train3 = default_net_3(train_input_mse, train_target_mse, num_of_neurons=(784, 500, 200, 100, 10), lr=0.1, momentum_coef=0.0, num_of_epochs=100)\n",
    "test3 = model3.evaluate(test_input_mse, test_target_mse, return_pred=True)"
   ]
  },
  {
   "cell_type": "code",
   "execution_count": null,
   "metadata": {
    "collapsed": true
   },
   "outputs": [],
   "source": []
  }
 ],
 "metadata": {
  "kernelspec": {
   "display_name": "Python 3",
   "language": "python",
   "name": "python3"
  },
  "language_info": {
   "codemirror_mode": {
    "name": "ipython",
    "version": 3
   },
   "file_extension": ".py",
   "mimetype": "text/x-python",
   "name": "python",
   "nbconvert_exporter": "python",
   "pygments_lexer": "ipython3",
   "version": "3.6.1"
  }
 },
 "nbformat": 4,
 "nbformat_minor": 1
}
